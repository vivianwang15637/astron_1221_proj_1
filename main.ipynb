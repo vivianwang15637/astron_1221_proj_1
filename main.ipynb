{
 "cells": [
  {
   "cell_type": "markdown",
   "id": "412c8247-b391-4421-bca1-aff5f4149991",
   "metadata": {},
   "source": [
    "## Introduction:  Project 11\n",
    "This notebook creates vacation brochures for 5 destinations across the Universe based on estimated flight distance & time from Earth, temperature, and atmosphere. We will have a list of 30 possible stars and planets you can visit while utilizing LLM API calls to generate 3 activites with date, time, and a 2 sentence brief description. Each brocherure contains the destination name, description of destination that is stored as an attribute of the SpaceDestination class, specs (distance, travel time, etc), and a cheap and expensive version of activities as well as a cost estimate.\n"
   ]
  },
  {
   "cell_type": "code",
   "execution_count": null,
   "id": "8ac60747",
   "metadata": {},
   "outputs": [],
   "source": [
    "#setup and imports (add below, not done)\n",
    "# setup and imports
    "from openai import OpenAI\n",
    "import os\n",
    "from dotenv import load_dotenv\n",
    "# Load the environment variables from the .env file\n",
    "load_dotenv()\n",
    "# Get the API key from the environment variable\n",
    "api_key = os.getenv("OPENAI_API_KEY")\n",
    "# Initialize the OpenAI client with the API key\n",
    "client = OpenAI(api_key=api_key)\n"
   ]
  },
  {
   "cell_type": "markdown",
   "id": "8e3fe211",
   "metadata": {},
   "source": [
   ]
  },
  {
   "cell_type": "markdown",
   "id": "6ddcb42d-f58d-45b8-b1e4-fd4b3ef87be4",
   "metadata": {},
   "source": [
    "### Class Initialization for SpaceDestination and TourPackage"
   ]
  },
  {
   "cell_type": "code",
   "execution_count": 14,
   "id": "6e8b70bc-9511-4f15-8d01-e5c7660f6bcf",
   "metadata": {},
   "outputs": [],
   "source": [
    "class SpaceDestination:\n",
    "    def __init__(self, name, distance, cost, description):\n",
    "        self.name = name\n",
    "        self.distance = distance\n",
    "        self.cost = cost\n",
    "        self.description = description\n",
    "\n",
    "    def __str__(self):\n",
    "        return f\"{self.name}\\n\\nBase Cost:{self.cost}\\tDistance:{self.distance}\\n{self.description}\"\n",
    "\n",
    "\n",
    "class Activity:\n",
    "    def __init__(self, name, date, time, cost, description):\n",
    "        self.name = name\n",
    "        self.date = date\n",
    "        self.time = time\n",
    "        self.cost = cost\n",
    "        self.description = description\n",
    "\n",
    "class TourPackage:\n",
    "    def __init__(self, destination, tier, activity1, activity2, activity3):\n",
    "        self.dest = destination\n",
    "        self.tier = tier\n",
    "        self.act1 = activity1\n",
    "        self.act2 = activity2\n",
    "        self.act3 = activity3\n",
    "        \n",
    "    def __str__(self):\n",
    "        return (f\"Activity 1: {self.act1.name}\\n\\nDate & Time: {self.act1.date}\\t{self.act1.time}\\t\\tCost:{self.act1.cost}\\n{self.act1.description}\"\n",
    "        f\"\\n\\n\\nActivity 2: {self.act2.name}\\n\\nDate & Time: {self.act2.date}\\t{self.act2.time}\\t\\tCost:{self.act2.cost}\\n{self.act2.description}\"\n",
    "        f\"\\n\\n\\nActivity 3: {self.act3.name}\\n\\nDate & Time: {self.act3.date}\\t{self.act3.time}\\t\\tCost:{self.act3.cost}\\n{self.act3.description}\")"
   ]
  },
  {
   "cell_type": "code",
   "execution_count": null,
   "id": "62663d10",
   "metadata": {},
   "outputs": [],
   "source": [
    "#database creation, 5-10 destinations with real data (add below)"
   ]
  },
  {
   "cell_type": "code",
   "execution_count": null,
   "id": "70fc6baa",
   "metadata": {},
   "outputs": [],
   "source": [
    "#Calculations (NumPy arrays for distances/times/costs) (add below)\n"
   ]
  },
  {
   "cell_type": "code",
   "execution_count": null,
   "id": "5bed3fb3",
   "metadata": {},
   "outputs": [],
   "source": [
    "#Visualizations (Matplotlib) (add below)"
   ]
  },
  {
   "cell_type": "code",
   "execution_count": null,
   "id": "b6a89d1b",
   "metadata": {},
   "outputs": [],
   "source": [
    "#brochure generator (string fromatting) (add below)"
   ]
  },
  {
   "cell_type": "code",
   "execution_count": null,
   "id": "70e5fd69",
   "metadata": {},
   "outputs": [],
   "source": [
    "#LLM integration (add below)"
   ]
  },
  {
   "cell_type": "markdown",
   "id": "4551e9e0",
   "metadata": {},
   "source": [
    "results and discussion (add below)"
   ]
  },
  {
   "cell_type": "markdown",
   "id": "59a04af3",
   "metadata": {},
   "source": [
    "individual contribution statement (add below)"
   ]
  },
  {
   "cell_type": "markdown",
   "id": "4c862839",
   "metadata": {},
   "source": [
    "comments (remove this cell later)\n",
    "- where does this run so we can see the final product?"
   ]
  }
 ],
 "metadata": {
  "kernelspec": {
   "display_name": "Python 3 (ipykernel)",
   "language": "python",
   "name": "python3"
  },
  "language_info": {
   "codemirror_mode": {
    "name": "ipython",
    "version": 3
   },
   "file_extension": ".py",
   "mimetype": "text/x-python",
   "name": "python",
   "nbconvert_exporter": "python",
   "pygments_lexer": "ipython3",
   "version": "3.13.5"
  }
 },
 "nbformat": 4,
 "nbformat_minor": 5
}
