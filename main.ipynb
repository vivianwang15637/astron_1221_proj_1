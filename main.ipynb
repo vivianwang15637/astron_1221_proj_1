{
 "cells": [
  {
   "cell_type": "markdown",
   "id": "412c8247-b391-4421-bca1-aff5f4149991",
   "metadata": {},
   "source": [
    "## Introduction:  Project 11\n",
    "This notebook creates vacation brochures for 3 destinations across the Universe based on estimated flight distance & time from Earth, temperature, and atmosphere. We will have a list of 8 possible stars and planets you can visit while utilizing LLM API calls to generate 2 activites with date, time, and a 2 sentence brief description. Each brocherure contains the destination name, description of destination that is stored as an attribute of the SpaceDestination class, specs (distance, travel time, etc), and a cheap and expensive version of activities as well as a cost estimate.\n"
   ]
  },
  {
   "cell_type": "code",
   "execution_count": 38,
   "id": "9a5bef6b",
   "metadata": {},
   "outputs": [
    {
     "name": "stdout",
     "output_type": "stream",
     "text": [
      "Requirement already satisfied: openai in /opt/anaconda3/envs/astron_1221/lib/python3.11/site-packages (1.109.1)\n",
      "Requirement already satisfied: anthropic in /opt/anaconda3/envs/astron_1221/lib/python3.11/site-packages (0.68.0)\n",
      "Requirement already satisfied: python-dotenv in /opt/anaconda3/envs/astron_1221/lib/python3.11/site-packages (1.1.1)\n",
      "Requirement already satisfied: anyio<5,>=3.5.0 in /opt/anaconda3/envs/astron_1221/lib/python3.11/site-packages (from openai) (4.11.0)\n",
      "Requirement already satisfied: distro<2,>=1.7.0 in /opt/anaconda3/envs/astron_1221/lib/python3.11/site-packages (from openai) (1.9.0)\n",
      "Requirement already satisfied: httpx<1,>=0.23.0 in /opt/anaconda3/envs/astron_1221/lib/python3.11/site-packages (from openai) (0.28.1)\n",
      "Requirement already satisfied: jiter<1,>=0.4.0 in /opt/anaconda3/envs/astron_1221/lib/python3.11/site-packages (from openai) (0.11.0)\n",
      "Requirement already satisfied: pydantic<3,>=1.9.0 in /opt/anaconda3/envs/astron_1221/lib/python3.11/site-packages (from openai) (2.11.9)\n",
      "Requirement already satisfied: sniffio in /opt/anaconda3/envs/astron_1221/lib/python3.11/site-packages (from openai) (1.3.1)\n",
      "Requirement already satisfied: tqdm>4 in /opt/anaconda3/envs/astron_1221/lib/python3.11/site-packages (from openai) (4.67.1)\n",
      "Requirement already satisfied: typing-extensions<5,>=4.11 in /opt/anaconda3/envs/astron_1221/lib/python3.11/site-packages (from openai) (4.15.0)\n",
      "Requirement already satisfied: idna>=2.8 in /opt/anaconda3/envs/astron_1221/lib/python3.11/site-packages (from anyio<5,>=3.5.0->openai) (3.10)\n",
      "Requirement already satisfied: certifi in /opt/anaconda3/envs/astron_1221/lib/python3.11/site-packages (from httpx<1,>=0.23.0->openai) (2025.8.3)\n",
      "Requirement already satisfied: httpcore==1.* in /opt/anaconda3/envs/astron_1221/lib/python3.11/site-packages (from httpx<1,>=0.23.0->openai) (1.0.9)\n",
      "Requirement already satisfied: h11>=0.16 in /opt/anaconda3/envs/astron_1221/lib/python3.11/site-packages (from httpcore==1.*->httpx<1,>=0.23.0->openai) (0.16.0)\n",
      "Requirement already satisfied: annotated-types>=0.6.0 in /opt/anaconda3/envs/astron_1221/lib/python3.11/site-packages (from pydantic<3,>=1.9.0->openai) (0.7.0)\n",
      "Requirement already satisfied: pydantic-core==2.33.2 in /opt/anaconda3/envs/astron_1221/lib/python3.11/site-packages (from pydantic<3,>=1.9.0->openai) (2.33.2)\n",
      "Requirement already satisfied: typing-inspection>=0.4.0 in /opt/anaconda3/envs/astron_1221/lib/python3.11/site-packages (from pydantic<3,>=1.9.0->openai) (0.4.1)\n",
      "Requirement already satisfied: docstring-parser<1,>=0.15 in /opt/anaconda3/envs/astron_1221/lib/python3.11/site-packages (from anthropic) (0.17.0)\n",
      "Note: you may need to restart the kernel to use updated packages.\n"
     ]
    }
   ],
   "source": [
    "# pip installs and dependencies (not all of them yet added)\n",
    "\n",
    "%pip install openai anthropic python-dotenv\n"
   ]
  },
  {
   "cell_type": "code",
   "execution_count": 39,
   "id": "8ac60747",
   "metadata": {},
   "outputs": [],
   "source": [
    "#setup and imports (add below, not done)\n",
    "from openai import OpenAI\n",
    "import os\n",
    "from dotenv import load_dotenv\n",
    "\n",
    "# Load environment variables from the .env file\n",
    "load_dotenv()\n",
    "\n",
    "# Get the API key from the environment variable\n",
    "api_key = os.getenv(\"OPENAI_API_KEY\")\n",
    "\n",
    "# Initialize the OpenAI client with the API key\n",
    "client = OpenAI(api_key=os.getenv(\"OPENAI_API_KEY\"))\n",
    "\n",
    "#claude api\n",
    "import os\n",
    "from anthropic import Anthropic\n",
    "\n",
    "claude_api_key = os.getenv(\"CLAUDE_API_KEY\")\n",
    "claude_client = Anthropic(api_key=claude_api_key) if claude_api_key else None\n"
   ]
  },
  {
   "cell_type": "markdown",
   "id": "6ddcb42d-f58d-45b8-b1e4-fd4b3ef87be4",
   "metadata": {},
   "source": [
    "### Class Initialization for SpaceDestination and TourPackage\n",
    "---\n",
    "SpaceDestination\n",
    "- Name: string\n",
    "- Distance: float (furtherest astronomical unit from Earth)\n",
    "- Cost: $100 * (astronomical units)\n",
    "- Description: short paragraph\n",
    "\n",
    "Activity\n",
    "- generated by LLM API call\n",
    "\n",
    "TourPackage\n",
    "- Destination: SpaceDestination object\n",
    "- Tier: VIP or Budget\n",
    "- Activity 1: Activity object\n",
    "- Activitiy 2: Activity object"
   ]
  },
  {
   "cell_type": "code",
<<<<<<< Updated upstream
   "execution_count": 40,
=======
   "execution_count": 2,
>>>>>>> Stashed changes
   "id": "6e8b70bc-9511-4f15-8d01-e5c7660f6bcf",
   "metadata": {},
   "outputs": [],
   "source": [
    "class SpaceDestination:\n",
    "    def __init__(self, name, distance, description):\n",
    "        self.name = name\n",
    "        self.distance = distance\n",
    "        self.cost = round(100 * float(distance), 2)\n",
    "        self.description = description\n",
    "\n",
    "    def __str__(self):\n",
    "        return f\"{self.name}\\n\\nBase Cost:{self.cost}\\tDistance:{self.distance}\\n{self.description}\"\n",
    "\n",
    "\n",
    "class Activity:\n",
    "    def __init__(self, name, date, time, cost, description):\n",
    "        self.name = name\n",
    "        self.date = date\n",
    "        self.time = time\n",
    "        self.cost = cost\n",
    "        self.description = description\n",
    "    def __str__(self):\n",
    "        return f\"{self.name}\\n\\nDate & Time: {self.date}\\t{self.time}\\t\\tCost:{self.cost}\\n{self.description}\"\n",
    "\n",
    "class TourPackage:\n",
    "    def __init__(self, destination, tier, activity1, activity2, activity3, activity4):\n",
    "        self.dest = destination\n",
    "        self.tier1 = 'Budget'\n",
    "        self.act1 = activity1\n",
    "        self.act2 = activity2\n",
    "        self.tier2 = 'VIP'\n",
    "        self.act3 = activity3\n",
    "        self.act4 = activity4\n",
    "    \n",
    "    def __str__(self):\n",
    "        return (f\"Tour Package Tier: {self.tier1}\\n\"\n",
    "        f\"Activity 1: {self.act1}\"\n",
    "        f\"\\n\\n\\nActivity 2: {self.act2}\"\n",
    "        \n",
    "        f\"Tour Package Tier: {self.tier2}\\n\" \n",
    "        f\"Activity 1: {self.act3}\" \n",
    "        f\"\\n\\n\\nActivity 2: {self.act4}\")"
   ]
  },
  {
   "cell_type": "code",
<<<<<<< Updated upstream
   "execution_count": 41,
   "id": "62663d10",
   "metadata": {},
   "outputs": [],
=======
   "execution_count": 5,
   "id": "62663d10",
   "metadata": {},
   "outputs": [
    {
     "name": "stdout",
     "output_type": "stream",
     "text": [
      "1. Mars\n",
      "2. Jupiter\n",
      "3. Uranus\n",
      "4. Pluto\n",
      "5. Mercury\n",
      "6. Saturn\n",
      "7. Ceres\n",
      "8. Orcus\n",
      "\n"
     ]
    },
    {
     "name": "stdin",
     "output_type": "stream",
     "text": [
      "Choose a location between 1-8:  1\n",
      "Choose a location between 1-8:  2\n",
      "Choose a location between 1-8:  3\n"
     ]
    }
   ],
>>>>>>> Stashed changes
   "source": [
    "# List of 8 chooseable destinations.\n",
    "locations = []\n",
    "locations.append(SpaceDestination(\"Mars\", 2.5, \"Desert-like rocky planet with a tenuous atmosphere.\"),)\n",
    "locations.append(SpaceDestination(\"Jupiter\", 6.2, \"Gas giant known for its colorful, swirling cloud bands and the Great Red Spot\"),)\n",
    "locations.append(SpaceDestination(\"Uranus\", 20.1, \"Cold, blue-green, ice giant\"),)\n",
    "locations.append(SpaceDestination(\"Pluto\", 50, \"Dwarf planet in the Kuiper Belt featuring varied terrain\"),)\n",
    "locations.append(SpaceDestination(\"Mercury\", 1.45, \"Features a rocky surface, a large iron core, and extreme temperature variations\"),)\n",
    "locations.append(SpaceDestination(\"Saturn\", 10.07, \"Gas giant with a prominent ring system made of ice and dust and massive gaseous atmosphere\"),)\n",
    "locations.append(SpaceDestination(\"Ceres\", 3.1, \"Dwarf planet known for its high water ice content,\"),)\n",
    "locations.append(SpaceDestination(\"Orcus\", 48.91, \"Dwarf planet in the Kuiper Belt rich in crystalline water ice\"),)\n",
    "\n",
<<<<<<< Updated upstream
    "# User selects locations\n",
    "#selected_locations = []\n",
    "#count = 3\n",
    "\n",
    "#while(count > 0):\n",
    "    #choice = input(\"Choose a location bwtween 1-8: \")\n",
    "    #count-= 1;\n",
    "\n"
=======
    "# User selects locations.\n",
    "selected_locations = []\n",
    "count = 3\n",
    "\n",
    "# Select locations assumes input is between 1-8\n",
    "print(\"1. Mars\\n2. Jupiter\\n3. Uranus\\n4. Pluto\\n5. Mercury\\n6. Saturn\\n7. Ceres\\n8. Orcus\\n\")\n",
    "while(count > 0):\n",
    "    choice = int(input(\"Choose a location between 1-8: \"))\n",
    "    selected_locations.append(choice)\n",
    "    count-= 1\n"
>>>>>>> Stashed changes
   ]
  },
  {
   "cell_type": "code",
<<<<<<< Updated upstream
   "execution_count": 42,
   "id": "70fc6baa",
   "metadata": {},
   "outputs": [],
   "source": [
    "#Calculations (NumPy arrays for distances/times/costs) (add below)\n",
    "# since I think we have the calculations done in the classes already, we might now need this. was numpy a requirment of the project?"
   ]
  },
  {
   "cell_type": "code",
   "execution_count": 43,
=======
   "execution_count": null,
>>>>>>> Stashed changes
   "id": "5bed3fb3",
   "metadata": {},
   "outputs": [],
   "source": [
    "#Visualizations (Matplotlib) (add below)"
   ]
  },
  {
   "cell_type": "code",
<<<<<<< Updated upstream
   "execution_count": 44,
   "id": "9cf7d085",
=======
   "execution_count": null,
   "id": "b6a89d1b",
>>>>>>> Stashed changes
   "metadata": {},
   "outputs": [],
   "source": [
    "#Brochure formatting: make the brochure look polished and put together (possible with color and different text types or sizes)\n",
    "#note(delete note later): currently, the brochure is printed at the bottom of the LLM integration cell, so that might have to be changed"
   ]
  },
  {
   "cell_type": "code",
   "execution_count": null,
   "id": "70e5fd69",
   "metadata": {},
   "outputs": [
    {
     "name": "stdout",
     "output_type": "stream",
     "text": [
      "Welcome to Space Tourism!\n",
      "What are your goals/constraints? (e.g., 'budget-friendly', 'luxury experience', 'adventure', 'relaxation')\n",
      "LLM response for Pluto:\n",
      "\"Activity1: Pluto Scavenger Hunt - Create a scavenger hunt with themed clues and challenges related to Pluto's features and mythology, engaging the whole family in a fun outdoor adventure.  \\nActivity2: Pluto Movie Night - Host a movie night featuring documentaries and films about Pluto and the solar system, complete with themed snacks and cozy blankets for family bonding.  \\nActivity3: Pluto Art Workshop - Organ\"\n",
      "---\n",
      "Parsed: Pluto Scavenger Hunt - Create a scavenger hunt with themed clues and challenges related to Pluto's features and mythology, engaging the whole family in a fun outdoor adventure.\n",
      "Parsed: Pluto Movie Night - Host a movie night featuring documentaries and films about Pluto and the solar system, complete with themed snacks and cozy blankets for family bonding.\n",
      "Parsed: Pluto Art Workshop - Organ\n",
      "Total activities parsed: 3\n",
      "\n",
      "=== Pluto Space Tour ===\n",
      "Distance: 50 AU | Cost: $5000.0\n",
      "1. Pluto Scavenger Hunt ($2500.0): Create a scavenger hunt with themed clues and challenges related to Pluto's features and mythology, engaging the whole family in a fun outdoor adventure.\n",
      "2. Pluto Movie Night ($4000.0): Host a movie night featuring documentaries and films about Pluto and the solar system, complete with themed snacks and cozy blankets for family bonding.\n",
      "3. Pluto Art Workshop ($6000.0): Organ\n",
      "--------------------------------------------------\n",
      "LLM response for Mercury:\n",
      "\"Activity1: Mercury Mini Golf - Enjoy a themed mini golf course designed to mimic the surface of Mercury, complete with crater obstacles and solar flares.  \\nActivity2: Mercury Scavenger Hunt - Participate in a family-friendly scavenger hunt where you search for items related to Mercury's unique features and history.  \\nActivity3: Mercury Movie Night - Host a fun movie night featuring documentaries and films about\"\n",
      "---\n",
      "Parsed: Mercury Mini Golf - Enjoy a themed mini golf course designed to mimic the surface of Mercury, complete with crater obstacles and solar flares.\n",
      "Parsed: Mercury Scavenger Hunt - Participate in a family-friendly scavenger hunt where you search for items related to Mercury's unique features and history.\n",
      "Parsed: Mercury Movie Night - Host a fun movie night featuring documentaries and films about\n",
      "Total activities parsed: 3\n",
      "\n",
      "=== Mercury Space Tour ===\n",
      "Distance: 1.45 AU | Cost: $145.0\n",
      "1. Mercury Mini Golf ($72.5): Enjoy a themed mini golf course designed to mimic the surface of Mercury, complete with crater obstacles and solar flares.\n",
      "2. Mercury Scavenger Hunt ($116.0): Participate in a family-friendly scavenger hunt where you search for items related to Mercury's unique features and history.\n",
      "3. Mercury Movie Night ($174.0): Host a fun movie night featuring documentaries and films about\n",
      "--------------------------------------------------\n",
      "LLM response for Ceres:\n",
      "'Activity1: Ceres Scavenger Hunt - Create a scavenger hunt using Ceres-themed items and clues around your home or yard, encouraging family teamwork and exploration.  \\nActivity2: Ceres Art Day - Host a family art day where everyone creates their own interpretation of Ceres using various art supplies, fostering creativity and fun.  \\nActivity3: Ceres Movie Night - Organize a movie'\n",
      "---\n",
      "Parsed: Ceres Scavenger Hunt - Create a scavenger hunt using Ceres-themed items and clues around your home or yard, encouraging family teamwork and exploration.\n",
      "Parsed: Ceres Art Day - Host a family art day where everyone creates their own interpretation of Ceres using various art supplies, fostering creativity and fun.\n",
      "Parsed: Ceres Movie Night - Organize a movie\n",
      "Total activities parsed: 3\n",
      "\n",
      "=== Ceres Space Tour ===\n",
      "Distance: 3.1 AU | Cost: $310.0\n",
      "1. Ceres Scavenger Hunt ($155.0): Create a scavenger hunt using Ceres-themed items and clues around your home or yard, encouraging family teamwork and exploration.\n",
      "2. Ceres Art Day ($248.0): Host a family art day where everyone creates their own interpretation of Ceres using various art supplies, fostering creativity and fun.\n",
      "3. Ceres Movie Night ($372.0): Organize a movie\n",
      "--------------------------------------------------\n"
     ]
    }
   ],
   "source": [
    "#LLM integration\n",
    "#LLM picks 3 of our 8 destinations and generates 3 activities each based on user input(keywords and constraints, goals)\n",
    "\n",
    "#this function prompts the LLM to pick 3 of the 8 destinations based on user goals\n",
    "def llm_pick_destinations(user_goals, available_destinations):\n",
    "    try:\n",
    "        response = client.chat.completions.create(\n",
    "            model=\"gpt-4o-mini\",\n",
    "            messages=[{\"role\": \"user\", \"content\": f\"From these destinations: {[d.name for d in available_destinations]}, pick 3 that best match these goals: '{user_goals}'. Reply with just the 3 names separated by commas.\"}],\n",
    "            max_tokens=40,\n",
    "        )\n",
    "        return response.choices[0].message.content.strip()\n",
    "    except:\n",
    "        return \"Mars, Jupiter, Saturn\"\n",
    "\n",
    "#prompts the LLM to generate activities based on user goals\n",
    "def llm_generate_activities(destination, user_goals, distance, cost):\n",
    "    try:\n",
    "        response = client.chat.completions.create(\n",
    "            model=\"gpt-4o-mini\",\n",
    "            messages=[{\"role\": \"user\", \"content\": f\"Generate 3 space activities for {destination}. Goals: {user_goals}. Budget: ${cost}. Respond ONLY with these 3 lines, nothing else:\\n\\nActivity1: [name] - [description]\\nActivity2: [name] - [description]\\nActivity3: [name] - [description]\"}],\n",
    "            max_tokens=150, # high enough to allow LLM to provide complete sentence within token limit. if limit exceeded, may output incomplete sentence, but fixing this results in slow code due to repetetive LLM calls.\n",
    "            temperature=0.1,  # Very low temperature for consistency\n",
    "        )\n",
    "        return response.choices[0].message.content.strip()\n",
    "    except:\n",
    "        return f\"Activity1: Surface Walk - Explore {destination} terrain\\nActivity2: Photo Session - Capture {destination} views\\nActivity3: Orbital Tour - See {destination} from space\"\n",
    "        \n",
    "# user input for goals/constraints\n",
    "print(\"Welcome to Space Tourism!\")\n",
    "print(\"What are your goals/constraints? (e.g., 'budget-friendly', 'luxury experience', 'adventure', 'relaxation')\")\n",
    "#print(\"Here is your package with some destinations and activities we think you'd enjoy!\")\n",
    "user_goals = input(\"Your goals: \").strip()\n",
    "\n",
    "# LLM picks 5 destinations from your 8 options\n",
    "selected_names = llm_pick_destinations(user_goals, locations)\n",
    "selected_destinations = [dest for dest in locations if dest.name in selected_names]\n",
    "\n",
    "# Generate brochures for selected destinations\n",
    "for dest in selected_destinations:\n",
    "    # LLM generates 3 activities based on user goals\n",
    "    activities_text = llm_generate_activities(dest.name, user_goals, dest.distance, dest.cost)\n",
    "\n",
    "    # Parse activities\n",
    "    activities = []\n",
    "    for line in activities_text.split('\\n'):\n",
    "        if 'Activity' in line and ':' in line:\n",
    "            try:\n",
    "                name_desc = line.split(':', 1)[1].strip()\n",
    "                name, desc = name_desc.split(' - ', 1)\n",
    "                activities.append((name.strip(), desc.strip()))\n",
    "            except:\n",
    "                pass\n",
    "\n",
    "    #fallback if still not 3\n",
    "    if len(activities) < 3:\n",
    "        fallbacks = [\n",
    "            (\"Surface Walk\", f\"Explore {dest.name} terrain\"),\n",
    "            (\"Photo Session\", f\"Capture {dest.name} views\"),\n",
    "            (\"Orbital Tour\", f\"See {dest.name} from space\")\n",
    "        ]\n",
    "        \n",
    "    while len(activities) < 3:\n",
    "        activities.append(fallbacks[len(activities)])\n",
    "\n",
    "    # Create Activity objects\n",
    "    act1 = Activity(activities[0][0], \"2024-01-15\", \"10:00\", dest.cost * 0.5, activities[0][1])\n",
    "    act2 = Activity(activities[1][0], \"2024-01-16\", \"14:00\", dest.cost * 0.8, activities[1][1])\n",
    "    act3 = Activity(activities[2][0], \"2024-01-17\", \"09:00\", dest.cost * 1.2, activities[2][1])\n",
    "        \n",
    "    # Create package\n",
    "    package = TourPackage(dest, \"Budget/VIP\", act1, act2, act3, act3)\n",
    "        \n",
    "    #print brochure with LLM chosen destinations and activities\n",
    "    print(f\"\\n=== {dest.name} Space Tour ===\")\n",
    "    print(f\"Distance: {dest.distance} AU | Cost: ${dest.cost}\")\n",
    "    print(f\"1. {act1.name} (${act1.cost}): {act1.description}\")\n",
    "    print(f\"2. {act2.name} (${act2.cost}): {act2.description}\")\n",
    "    print(f\"3. {act3.name} (${act3.cost}): {act3.description}\")\n",
    "    print(\"-\" * 50)"
   ]
  },
  {
   "cell_type": "markdown",
   "id": "4551e9e0",
   "metadata": {},
   "source": [
    "results and discussion (add below)"
   ]
  },
  {
   "cell_type": "markdown",
   "id": "59a04af3",
   "metadata": {},
   "source": [
    "individual contribution statement (add below)"
   ]
  }
 ],
 "metadata": {
  "kernelspec": {
   "display_name": "astron_1221",
   "language": "python",
   "name": "python3"
  },
  "language_info": {
   "codemirror_mode": {
    "name": "ipython",
    "version": 3
   },
   "file_extension": ".py",
   "mimetype": "text/x-python",
   "name": "python",
   "nbconvert_exporter": "python",
   "pygments_lexer": "ipython3",
   "version": "3.11.13"
  }
 },
 "nbformat": 4,
 "nbformat_minor": 5
}
