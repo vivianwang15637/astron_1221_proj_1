{
 "cells": [
  {
   "cell_type": "markdown",
   "id": "412c8247-b391-4421-bca1-aff5f4149991",
   "metadata": {},
   "source": [
    "## Introduction:  Project 11\n",
    "This notebook creates vacation brochures for 3 destinations across the Universe based on estimated flight distance & time from Earth, temperature, and atmosphere. We will have a list of 8 possible stars and planets you can visit while utilizing LLM API calls to generate 3 activites, cost, and a sentence brief description. Each brochure contains the destination name, description of destination that is stored as an attribute of the SpaceDestination class, specs (distance, travel time, etc), and a cheap and expensive version of activities as well as a cost estimate.\n"
   ]
  },
  {
   "cell_type": "code",
   "execution_count": 43,
   "id": "9a5bef6b",
   "metadata": {},
   "outputs": [
    {
     "name": "stdout",
     "output_type": "stream",
     "text": [
      "Requirement already satisfied: openai in /opt/anaconda3/envs/astron_1221/lib/python3.11/site-packages (1.109.1)\n",
      "Requirement already satisfied: anthropic in /opt/anaconda3/envs/astron_1221/lib/python3.11/site-packages (0.68.0)\n",
      "Requirement already satisfied: python-dotenv in /opt/anaconda3/envs/astron_1221/lib/python3.11/site-packages (1.1.1)\n",
      "Requirement already satisfied: matplotlib in /opt/anaconda3/envs/astron_1221/lib/python3.11/site-packages (3.10.6)\n",
      "Requirement already satisfied: numpy in /opt/anaconda3/envs/astron_1221/lib/python3.11/site-packages (2.3.3)\n",
      "Requirement already satisfied: anyio<5,>=3.5.0 in /opt/anaconda3/envs/astron_1221/lib/python3.11/site-packages (from openai) (4.11.0)\n",
      "Requirement already satisfied: distro<2,>=1.7.0 in /opt/anaconda3/envs/astron_1221/lib/python3.11/site-packages (from openai) (1.9.0)\n",
      "Requirement already satisfied: httpx<1,>=0.23.0 in /opt/anaconda3/envs/astron_1221/lib/python3.11/site-packages (from openai) (0.28.1)\n",
      "Requirement already satisfied: jiter<1,>=0.4.0 in /opt/anaconda3/envs/astron_1221/lib/python3.11/site-packages (from openai) (0.11.0)\n",
      "Requirement already satisfied: pydantic<3,>=1.9.0 in /opt/anaconda3/envs/astron_1221/lib/python3.11/site-packages (from openai) (2.11.9)\n",
      "Requirement already satisfied: sniffio in /opt/anaconda3/envs/astron_1221/lib/python3.11/site-packages (from openai) (1.3.1)\n",
      "Requirement already satisfied: tqdm>4 in /opt/anaconda3/envs/astron_1221/lib/python3.11/site-packages (from openai) (4.67.1)\n",
      "Requirement already satisfied: typing-extensions<5,>=4.11 in /opt/anaconda3/envs/astron_1221/lib/python3.11/site-packages (from openai) (4.15.0)\n",
      "Requirement already satisfied: idna>=2.8 in /opt/anaconda3/envs/astron_1221/lib/python3.11/site-packages (from anyio<5,>=3.5.0->openai) (3.10)\n",
      "Requirement already satisfied: certifi in /opt/anaconda3/envs/astron_1221/lib/python3.11/site-packages (from httpx<1,>=0.23.0->openai) (2025.8.3)\n",
      "Requirement already satisfied: httpcore==1.* in /opt/anaconda3/envs/astron_1221/lib/python3.11/site-packages (from httpx<1,>=0.23.0->openai) (1.0.9)\n",
      "Requirement already satisfied: h11>=0.16 in /opt/anaconda3/envs/astron_1221/lib/python3.11/site-packages (from httpcore==1.*->httpx<1,>=0.23.0->openai) (0.16.0)\n",
      "Requirement already satisfied: annotated-types>=0.6.0 in /opt/anaconda3/envs/astron_1221/lib/python3.11/site-packages (from pydantic<3,>=1.9.0->openai) (0.7.0)\n",
      "Requirement already satisfied: pydantic-core==2.33.2 in /opt/anaconda3/envs/astron_1221/lib/python3.11/site-packages (from pydantic<3,>=1.9.0->openai) (2.33.2)\n",
      "Requirement already satisfied: typing-inspection>=0.4.0 in /opt/anaconda3/envs/astron_1221/lib/python3.11/site-packages (from pydantic<3,>=1.9.0->openai) (0.4.1)\n",
      "Requirement already satisfied: docstring-parser<1,>=0.15 in /opt/anaconda3/envs/astron_1221/lib/python3.11/site-packages (from anthropic) (0.17.0)\n",
      "Requirement already satisfied: contourpy>=1.0.1 in /opt/anaconda3/envs/astron_1221/lib/python3.11/site-packages (from matplotlib) (1.3.3)\n",
      "Requirement already satisfied: cycler>=0.10 in /opt/anaconda3/envs/astron_1221/lib/python3.11/site-packages (from matplotlib) (0.12.1)\n",
      "Requirement already satisfied: fonttools>=4.22.0 in /opt/anaconda3/envs/astron_1221/lib/python3.11/site-packages (from matplotlib) (4.60.0)\n",
      "Requirement already satisfied: kiwisolver>=1.3.1 in /opt/anaconda3/envs/astron_1221/lib/python3.11/site-packages (from matplotlib) (1.4.9)\n",
      "Requirement already satisfied: packaging>=20.0 in /opt/anaconda3/envs/astron_1221/lib/python3.11/site-packages (from matplotlib) (25.0)\n",
      "Requirement already satisfied: pillow>=8 in /opt/anaconda3/envs/astron_1221/lib/python3.11/site-packages (from matplotlib) (11.3.0)\n",
      "Requirement already satisfied: pyparsing>=2.3.1 in /opt/anaconda3/envs/astron_1221/lib/python3.11/site-packages (from matplotlib) (3.2.5)\n",
      "Requirement already satisfied: python-dateutil>=2.7 in /opt/anaconda3/envs/astron_1221/lib/python3.11/site-packages (from matplotlib) (2.9.0.post0)\n",
      "Requirement already satisfied: six>=1.5 in /opt/anaconda3/envs/astron_1221/lib/python3.11/site-packages (from python-dateutil>=2.7->matplotlib) (1.17.0)\n",
      "Note: you may need to restart the kernel to use updated packages.\n"
     ]
    }
   ],
   "source": [
    "# pip installs and dependencies\n",
    "%pip install openai anthropic python-dotenv matplotlib numpy"
   ]
  },
  {
   "cell_type": "markdown",
   "id": "38de645c",
   "metadata": {},
   "source": [
    "**Set up**\n",
    "\n",
    "Download required libraries, initilize API key, and set up claude client for LLM API calls. "
   ]
  },
  {
   "cell_type": "code",
   "execution_count": 44,
   "id": "8ac60747",
   "metadata": {},
   "outputs": [],
   "source": [
    "from openai import OpenAI\n",
    "import os\n",
    "from dotenv import load_dotenv\n",
    "import matplotlib.pyplot as plt\n",
    "import numpy as np\n",
    "\n",
    "# Load environment variables from the .env file\n",
    "load_dotenv()\n",
    "\n",
    "# # Get the API key from the environment variable\n",
    "# api_key = os.getenv(\"OPENAI_API_KEY\")\n",
    "\n",
    "# # Initialize the OpenAI client with the API key\n",
    "# client = OpenAI(api_key=os.getenv(\"OPENAI_API_KEY\"))\n",
    "\n",
    "#claude api\n",
    "from anthropic import Anthropic\n",
    "\n",
    "claude_api_key = os.getenv(\"ANTHROPIC_API_KEY\")\n",
    "client = Anthropic(api_key=claude_api_key) if claude_api_key else None"
   ]
  },
  {
   "cell_type": "markdown",
   "id": "6ddcb42d-f58d-45b8-b1e4-fd4b3ef87be4",
   "metadata": {},
   "source": [
    "**Class Initialization for SpaceDestination and TourPackage**\n",
    "\n",
    "---\n",
    "\n",
    "SpaceDestination\n",
    "- Name: string\n",
    "- Distance: float (furtherest astronomical unit from Earth)\n",
    "- Cost: $100 * (astronomical units)\n",
    "- Description: short paragraph\n",
    "\n",
    "Activity\n",
    "- generated by LLM API call\n",
    "\n",
    "TourPackage\n",
    "- Destination: SpaceDestination object\n",
    "- Tier: VIP or Budget\n",
    "- Activity 1: Activity object\n",
    "- Activitiy 2: Activity object"
   ]
  },
  {
   "cell_type": "code",
   "execution_count": 45,
   "id": "6e8b70bc-9511-4f15-8d01-e5c7660f6bcf",
   "metadata": {},
   "outputs": [],
   "source": [
    "class SpaceDestination:\n",
    "    def __init__(self, name, distance, description):\n",
    "        self.name = name\n",
    "        self.distance = distance\n",
    "        self.cost = round(100 * float(distance), 2)\n",
    "        self.description = description\n",
    "\n",
    "    def __str__(self):\n",
    "        return f\"Travel to {self.name} Base Cost: ${self.cost}\\tDistance:{self.distance} AU\\n{self.description}\\n\\n\"\n",
    "\n",
    "\n",
    "class Activity:\n",
    "    def __init__(self, name, cost, description):\n",
    "        self.name = name\n",
    "        self.cost = cost\n",
    "        self.description = description\n",
    "    def __str__(self):\n",
    "        return f\"{self.name}\\n\\nCost: ${self.cost}\\n{self.description}\"\n",
    "\n",
    "class TourPackage:\n",
    "    def __init__(self, dest, act1, act2, act3):\n",
    "        self.dest = dest\n",
    "        self.act1 = act1\n",
    "        self.act2 = act2\n",
    "        self.act3 = act3\n",
    "        self.total_cost = round(float(dest.cost) + float(act1.cost) + float(act2.cost) + float(act3.cost), 2)\n",
    "    \n",
    "    def __str__(self):\n",
    "        return (f\"Activity 1: {self.act1}\"\n",
    "        f\"\\n\\nActivity 2: {self.act2}\"\n",
    "        f\"\\n\\nActivity 3: {self.act3}\\n\"\n",
    "        \"--------------------------------------------------------------------------------------------------\"\n",
    "        f\"\\n\\nTotal Costs: ${self.total_cost}\")"
   ]
  },
  {
   "cell_type": "markdown",
   "id": "2049c073",
   "metadata": {},
   "source": [
    "Our \"database\" of possible travel destinations. Not generated with LLM API due to cost constraints."
   ]
  },
  {
   "cell_type": "code",
   "execution_count": 46,
   "id": "a859cd48",
   "metadata": {},
   "outputs": [],
   "source": [
    "#List of 8 chooseable destinations\n",
    "locations = []\n",
    "locations.append(SpaceDestination(\"Mars\", 2.5, \"Desert-like rocky planet with a tenuous atmosphere.\"))\n",
    "locations.append(SpaceDestination(\"Jupiter\", 6.2, \"Gas giant known for its colorful, swirling cloud bands and the Great Red Spot\"))\n",
    "locations.append(SpaceDestination(\"Uranus\", 20.1, \"Cold, blue-green, ice giant\"))\n",
    "locations.append(SpaceDestination(\"Pluto\", 50, \"Dwarf planet in the Kuiper Belt featuring varied terrain\"))\n",
    "locations.append(SpaceDestination(\"Mercury\", 1.45, \"Features a rocky surface, a large iron core, and extreme temperature variations\"))\n",
    "locations.append(SpaceDestination(\"Saturn\", 10.07, \"Gas giant with a prominent ring system made of ice and dust and massive gaseous atmosphere\"))\n",
    "locations.append(SpaceDestination(\"Ceres\", 3.1, \"Dwarf planet known for its high water ice content,\"))\n",
    "locations.append(SpaceDestination(\"Orcus\", 48.91, \"Dwarf planet in the Kuiper Belt rich in crystalline water ice\"))"
   ]
  },
  {
   "cell_type": "markdown",
   "id": "c9e8bb88",
   "metadata": {},
   "source": [
    " **LLM integration**\n",
    "\n",
    "---\n",
    "\n",
    "Use LLM API call to:\n",
    "\n",
    "1. Determine which 3 destinations to make a tour package for based on input from user goals.\n",
    "    - Prompt asks for list of 3 destinations from already made list of 8\n",
    "    - Our idea is for LLM to determine which fits best based on general knowledge of each location since this should be abstract\n",
    "2. Use LLM API call to generate activities based on user goals.\n",
    "    - Prompt asks for list of 3 activities for each destination based on small amount of provided info\n",
    "    - Our idea is for LLM to determine which fits best based on general knowledge since we wanted a non realistic approach. -->\n"
   ]
  },
  {
   "cell_type": "code",
   "execution_count": 47,
   "id": "70e5fd69",
   "metadata": {},
   "outputs": [],
   "source": [
    "def llm_pick_destinations(user_goals, available_destinations):\n",
    "    '''\n",
    "    try:\n",
    "        response = client.chat.completions.create(\n",
    "            model=\"gpt-4o-mini\",\n",
    "            messages=[{\"role\": \"user\", \"content\": f\"From these destinations: {[d.name for d in available_destinations]}, pick 3 that best match these goals: '{user_goals}'. Reply with just the 3 names separated by commas.\"}],\n",
    "            max_tokens=40,\n",
    "        )\n",
    "        return response.choices[0].message.content.strip()\n",
    "    except:\n",
    "        return \"Mars, Jupiter, Saturn\"\n",
    "    ''' \n",
    "\n",
    "    # ''' \n",
    "    try: \n",
    "        response = client.messages.create( \n",
    "            model=\"claude-sonnet-4-20250514\", \n",
    "            messages=[{\"role\": \"user\", \n",
    "                       \"content\": f\"From these destinations: {[d.name for d in available_destinations]}, pick 3 that best match these goals: '{user_goals}'. Reply only with: [choice 1], [choice 2], [choice 3].\"}], \n",
    "            max_tokens=40, \n",
    "        ) \n",
    "        return response.content[0].text.strip() \n",
    "    except: \n",
    "        # In case call fails, return these three. \n",
    "        return \"Mars, Jupiter, Saturn\" \n",
    "    # '''\n",
    "\n",
    "# prompts the LLM to generate activities based on user goals\n",
    "def llm_generate_activities(destination, user_goals, distance, cost):\n",
    "    try:\n",
    "        response = client.messages.create(\n",
    "            model=\"claude-sonnet-4-20250514\",\n",
    "            max_tokens=300,  \n",
    "            temperature=0.5,\n",
    "            messages=[{\n",
    "                \"role\": \"user\",\n",
    "                \"content\": (\n",
    "                    f\"Generate exactly 3 creative unique space tourism activities for {destination}. \"\n",
    "                    f\"User goals: {user_goals}. Budget: ${cost}. \"\n",
    "                    \"You MUST GENERATE 3 ACTIVITIES. \"\n",
    "                    \"Descriptions will be 1-3 complete sentences. \"\n",
    "                    \"MUST use this EXACT format, separating each activity with '###':\\n\"\n",
    "                    \"Activity 1: [Name] | [Cost as a float] | [Description]\\n###\\n\"\n",
    "                    \"Activity 2: [Name] | [Cost as a float] | [Description]\\n###\\n\"\n",
    "                    \"Activity 3: [Name] | [Cost as a float] | [Description]\"\n",
    "                )\n",
    "            }]\n",
    "        )\n",
    "        activities_text = response.content[0].text\n",
    "        print(activities_text)\n",
    "        return activities_text\n",
    "    except Exception as e:\n",
    "        print(f\"Claude API error: {e}\")\n",
    "        # Default with costs calculated directly to avoid errors if API fails\n",
    "        cost_base = cost \n",
    "        return (\n",
    "            f\"Activity 1: Surface Walk | {round(cost_base * 0.3, 2)} | Explore {destination} terrain for half a day.\\n###\\n\"\n",
    "            f\"Activity 2: Photo Session | {round(cost_base * 0.4, 2)} | Capture {destination} views at the highest peak.\\n###\\n\"\n",
    "            f\"Activity 3: Orbital Tour | {round(cost_base * 0.3, 2)} | See {destination} from a low orbit shuttle.\"\n",
    "        )"
   ]
  },
  {
   "cell_type": "code",
   "execution_count": 48,
   "id": "41f9157f",
   "metadata": {},
   "outputs": [
    {
     "name": "stdout",
     "output_type": "stream",
     "text": [
      "Welcome to Space Tourism!\n",
      "What are your goals/constraints? (e.g., 'budget-friendly', 'luxury experience', 'adventure', 'relaxation')\n"
     ]
    }
   ],
   "source": [
    "# User input for goals/constraints.\n",
    "print(\"Welcome to Space Tourism!\")\n",
    "print(\"What are your goals/constraints? (e.g., 'budget-friendly', 'luxury experience', 'adventure', 'relaxation')\")\n",
    "#print(\"Here is your package with some destinations and activities we think you'd enjoy!\")\n",
    "user_goals = input(\"Your goals: \").strip()\n",
    "\n",
    "# LLM picks 3 destinations from your 8 options.\n",
    "selected_names = llm_pick_destinations(user_goals, locations)\n",
    "selected_destinations = [dest for dest in locations if dest.name in selected_names]"
   ]
  },
  {
   "cell_type": "code",
   "execution_count": 49,
   "id": "bb5400e8",
   "metadata": {},
   "outputs": [],
   "source": [
    "'''\n",
    "Functions to plot comparison graphs.\n",
    "'''\n",
    "def plot_travel_costs(selected_destinations, user_goals):\n",
    "   # Simple plots for the 3 destinations LLM chose\n",
    "  \n",
    "   # Get data for selected destinations\n",
    "   names = [dest.name for dest in selected_destinations]\n",
    "   costs = [dest.cost for dest in selected_destinations]\n",
    "   distances = [dest.distance for dest in selected_destinations]\n",
    "  \n",
    "   # Plot 1: bar chart showing travel cost\n",
    "   plt.figure(figsize=(8, 5))\n",
    "   plt.bar(names, costs, color=['#FF6B6B', '#4ECDC4', '#45B7D1'])\n",
    "   plt.title(f'Travel Costs')\n",
    "   plt.ylabel('Cost ($)')\n",
    "   plt.xlabel('Destinations')\n",
    "   plt.show()\n",
    "   #plt.savefig(\"Travel_cost_comparison.pdf\")\n",
    "\n",
    "\n",
    "def plot_total_costs(tour_pkgs):\n",
    "   # Plot 2: scatter plot\n",
    "   plt.figure(figsize=(8, 5))\n",
    "   des = []\n",
    "   costs = []\n",
    "   for tour_pkg in enumerate(tour_pkgs):\n",
    "       des.append(tour_pkg.dest)\n",
    "       costs.append(float(tour_pkg.costs))\n",
    "    \n",
    "   plt.scatter(range(len(costs)), costs, s=100, c=['#FF6B6B', '#4ECDC4', '#45B7D1'])\n",
    "   plt.title('Overall Cost')\n",
    "   plt.xticks(range(len(des)), des, rotation=45)\n",
    "   plt.ylabel('Cost ($)')\n",
    "   plt.grid(True, alpha=0.3)\n",
    "   plt.show()\n",
    "   #plt.savefig(\"Distance_cost_comparison.pdf\")\n"
   ]
  },
  {
   "cell_type": "markdown",
   "id": "80677fae",
   "metadata": {},
   "source": [
    "**LLM API Call**"
   ]
  },
  {
   "cell_type": "code",
   "execution_count": 50,
   "id": "e53a69a1",
   "metadata": {},
   "outputs": [
    {
     "name": "stdout",
     "output_type": "stream",
     "text": [
      "Activity 1: Mars Rover Racing Simulator Challenge | 85.0 | Experience the thrill of navigating the Martian terrain in our family-friendly rover simulators where teens can compete in timed obstacle courses through virtual Martian canyons and craters. Each family member gets their own rover cockpit with realistic controls and stunning 360-degree visuals of the Red Planet's landscape.\n",
      "\n",
      "###\n",
      "\n",
      "Activity 2: Martian Geology Rock Hounding Adventure | 75.0 | Join a guided expedition to collect and analyze authentic Martian mineral samples using professional geological tools in a designated family exploration zone. Teens will love using spectrometers and microscopes to identify iron oxide formations and ancient water deposits while building their own Mars rock collection to take home.\n",
      "\n",
      "###\n",
      "\n",
      "Activity 3: Zero-G Martian Sports Tournament | 90.0 | Participate in an exciting low-gravity sports competition featuring modified versions of basketball, soccer, and dodgeball adapted for Mars' reduced gravitational field. Teams of families compete in a climate-controlled dome facility where teens can experience superhuman jumping abilities and learn physics principles through active play.\n",
      "Activity 1: Mercury Sunrise/Sunset Photography Safari | 45.0 | Experience the most dramatic sunrise and sunset in the solar system as Mercury's extreme day-night cycle creates spectacular lighting effects across the cratered landscape. Teens will love capturing Instagram-worthy shots of the sun appearing 2.5 times larger than on Earth while learning about planetary rotation and orbital mechanics.\n",
      "\n",
      "###\n",
      "\n",
      "Activity 2: Caloris Basin Crater Hiking Adventure | 55.0 | Explore Mercury's largest impact crater, stretching over 960 miles across, with guided family-friendly hiking trails that showcase the planet's geological history. The low gravity makes this an exciting bouncing adventure for teens while discovering how ancient asteroid impacts shaped the planet's surface.\n",
      "\n",
      "###\n",
      "\n",
      "Activity 3: Mercury's Ice Cave Discovery Tour | 45.0 | Venture into the permanently shadowed polar craters where water ice has been preserved for billions of years, creating stunning frozen caverns despite Mercury's scorching daytime temperatures. This unique underground experience offers a cool respite and teaches families about the surprising presence of water on our solar system's innermost planet.\n",
      "Activity 1: Ceres Ice Mining Adventure | 95.0 | Families can explore authentic dwarf planet ice mining tunnels with headlamps and safety gear, learning how water extraction works in low gravity. Teens will love the interactive mineral identification stations and the chance to keep small ice crystal samples as souvenirs.\n",
      "###\n",
      "Activity 2: Low-Gravity Crater Hopping Tour | 108.0 | Experience Ceres' unique 0.27 Earth gravity by bouncing between famous craters like Occator with its mysterious bright spots. The guided tour includes special low-gravity boots and allows families to leap distances impossible on Earth while learning about asteroid belt geology.\n",
      "###\n",
      "Activity 3: Ceres Observatory Stargazing Session | 107.0 | Take advantage of Ceres' thin atmosphere and distant location for incredible views of Jupiter, Saturn, and deep space objects through professional telescopes. Teen astronomers will be amazed by the crystal-clear views of nebulae and galaxies invisible from Earth's surface.\n"
     ]
    }
   ],
   "source": [
    "packages = []\n",
    "texts = []\n",
    "# Generate brochures for selected destinations\n",
    "for dest in selected_destinations:\n",
    "    # LLM generates 3 activities based on user goals\n",
    "    activities_text = llm_generate_activities(dest.name, user_goals, dest.distance, dest.cost)\n",
    "    texts.append(activities_text)"
   ]
  },
  {
   "cell_type": "markdown",
   "id": "f507e7c9",
   "metadata": {},
   "source": [
    "**make_brochure**\n",
    "---\n",
    "Purpose is to take in destination name and activities to make a tourpackage in a seperate file showcasing destination, activities. and costs."
   ]
  },
  {
   "cell_type": "code",
   "execution_count": 51,
   "id": "96029531",
   "metadata": {},
   "outputs": [],
   "source": [
    "def make_brochure(dest, activities_text):\n",
    "    # Create file for each location chosen\n",
    "    filename = f\"{dest.name}_brochure.txt\"\n",
    "    with open(filename, 'w') as file:\n",
    "        activities = []\n",
    "        \n",
    "        # Split the entire text block by the unique separator '###'\n",
    "        activity_blocks = activities_text.split('###')\n",
    "        \n",
    "        # Iterate over the three expected blocks\n",
    "        for block in activity_blocks:\n",
    "            # Clean up block by splitting off the Activity number prefix and stripping whitespace\n",
    "            if ':' in block and '|' in block:\n",
    "                try:\n",
    "                    # Isolate the content after the 'Activity X:' part (e.g., \"Name | Cost | Description\")\n",
    "                    content = block.split(':', 1)[1].strip()\n",
    "                    parts = content.split('|', 2) # Only split 2 times to ensure the description is the final, third part\n",
    "                        \n",
    "                    if len(parts) == 3:\n",
    "                        name = parts[0].strip()\n",
    "                        cost = float(parts[1].strip())\n",
    "                        description = parts[2].strip()\n",
    "                        activities.append(Activity(name, cost, description))\n",
    "                except (ValueError, IndexError) as e:\n",
    "                    print(f\"Skipping activity due to parsing error in block: {e}\")\n",
    "                    continue\n",
    "\n",
    "        # Ensure 3 activities were successfully parsed\n",
    "        if len(activities) < 3:\n",
    "            print(f\"Error: Could only parse {len(activities)} activities for {dest.name}. Aborting package creation and writing a default file.\")\n",
    "            \n",
    "            # Write a simple error message to the file instead of crashing, and is helpful for debugging\n",
    "            file.write(f\"\\n=== {dest.name} Space Tour ===\\n\")\n",
    "            file.write(f\"ERROR: Failed to generate 3 activities in the correct format. {len(activities)} activities were found.\\n\")\n",
    "            return\n",
    "            \n",
    "        # Create TourPackage object\n",
    "        package = TourPackage(dest, activities[0], activities[1], activities[2])\n",
    "        packages.append(package)\n",
    "        \n",
    "        # Print brochure with LLM chosen destinations and activities\n",
    "        file.write(f\"\\n=== {dest.name} Space Tour ===\\n\"\n",
    "        f\"{str(dest)}\"\n",
    "        f\"{str(package)}\")"
   ]
  },
  {
   "cell_type": "markdown",
   "id": "563bceb2",
   "metadata": {},
   "source": [
    "Call make_brochure to produce files showcasing all tour package info."
   ]
  },
  {
   "cell_type": "code",
   "execution_count": 52,
   "id": "4355bd58",
   "metadata": {},
   "outputs": [],
   "source": [
    "make_brochure(selected_destinations[0], texts[0])\n",
    "\n",
    "make_brochure(selected_destinations[1],texts[1])\n",
    "\n",
    "make_brochure(selected_destinations[2],texts[2])"
   ]
  },
  {
   "cell_type": "markdown",
   "id": "c1e167db",
   "metadata": {},
   "source": [
    "**Plotting Comparison Figures**\n",
    "\n",
    "---\n",
    "\n",
    "Call plot_travel_costs to plot prices of traveling for trip.\n",
    "\n",
    "Call plot_total_costs to plot total cost of tour packages."
   ]
  },
  {
   "cell_type": "code",
   "execution_count": 53,
   "id": "40c7c5df",
   "metadata": {},
   "outputs": [
    {
     "data": {
      "image/png": "[encoded data removed]",
      "text/plain": [
       "<Figure size 800x500 with 1 Axes>"
      ]
     },
     "metadata": {},
     "output_type": "display_data"
    }
   ],
   "source": [
    "plot_travel_costs(selected_destinations, user_goals)\n",
    "\n",
    "# plot_total_costs(packages)"
   ]
  },
  {
   "cell_type": "markdown",
   "id": "59a04af3",
   "metadata": {},
   "source": [
    "### Individual Contribution Statements\n",
    "---\n",
    "Vivian Wang debugged code, added Markdown text sections, fixed coding errors.\n",
    "Anshula Agolla worked on LLM integration and debugging.\n",
    "Rory Conrad worked on MatPlot and graphs.\n"
   ]
  }
 ],
 "metadata": {
  "kernelspec": {
   "display_name": "astron_1221",
   "language": "python",
   "name": "python3"
  },
  "language_info": {
   "codemirror_mode": {
    "name": "ipython",
    "version": 3
   },
   "file_extension": ".py",
   "mimetype": "text/x-python",
   "name": "python",
   "nbconvert_exporter": "python",
   "pygments_lexer": "ipython3",
   "version": "3.11.13"
  }
 },
 "nbformat": 4,
 "nbformat_minor": 5
}
