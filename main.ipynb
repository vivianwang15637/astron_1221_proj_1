{
 "cells": [
  {
   "cell_type": "code",
   "execution_count": null,
   "id": "ff9ffe39-8ad2-427b-95cc-1e38141f02f6",
   "metadata": {},
   "outputs": [],
   "source": []
  }
 ],
 "metadata": {
  "kernelspec": {
   "display_name": "",
   "name": ""
  },
  "language_info": {
   "name": ""
  }
 },
 "nbformat": 4,
 "nbformat_minor": 5
}
