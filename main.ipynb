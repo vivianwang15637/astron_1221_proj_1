{
 "cells": [
  {
   "cell_type": "markdown",
   "id": "412c8247-b391-4421-bca1-aff5f4149991",
   "metadata": {},
   "source": [
    "## Introduction:  Project 11\n",
    "This notebook creates vacation brochures for 3 destinations across the Universe based on estimated flight distance & time from Earth, temperature, and atmosphere. We will have a list of 8 possible stars and planets you can visit while utilizing LLM API calls to generate 2 activites with date, time, and a 2 sentence brief description. Each brocherure contains the destination name, description of destination that is stored as an attribute of the SpaceDestination class, specs (distance, travel time, etc), and a cheap and expensive version of activities as well as a cost estimate.\n"
   ]
  },
  {
   "cell_type": "code",
   "execution_count": 77,
   "id": "9a5bef6b",
   "metadata": {},
   "outputs": [
    {
     "name": "stdout",
     "output_type": "stream",
     "text": [
      "Requirement already satisfied: openai in /opt/anaconda3/envs/astron_1221/lib/python3.11/site-packages (1.109.1)\n",
      "Requirement already satisfied: anthropic in /opt/anaconda3/envs/astron_1221/lib/python3.11/site-packages (0.68.0)\n",
      "Requirement already satisfied: python-dotenv in /opt/anaconda3/envs/astron_1221/lib/python3.11/site-packages (1.1.1)\n",
      "Requirement already satisfied: anyio<5,>=3.5.0 in /opt/anaconda3/envs/astron_1221/lib/python3.11/site-packages (from openai) (4.11.0)\n",
      "Requirement already satisfied: distro<2,>=1.7.0 in /opt/anaconda3/envs/astron_1221/lib/python3.11/site-packages (from openai) (1.9.0)\n",
      "Requirement already satisfied: httpx<1,>=0.23.0 in /opt/anaconda3/envs/astron_1221/lib/python3.11/site-packages (from openai) (0.28.1)\n",
      "Requirement already satisfied: jiter<1,>=0.4.0 in /opt/anaconda3/envs/astron_1221/lib/python3.11/site-packages (from openai) (0.11.0)\n",
      "Requirement already satisfied: pydantic<3,>=1.9.0 in /opt/anaconda3/envs/astron_1221/lib/python3.11/site-packages (from openai) (2.11.9)\n",
      "Requirement already satisfied: sniffio in /opt/anaconda3/envs/astron_1221/lib/python3.11/site-packages (from openai) (1.3.1)\n",
      "Requirement already satisfied: tqdm>4 in /opt/anaconda3/envs/astron_1221/lib/python3.11/site-packages (from openai) (4.67.1)\n",
      "Requirement already satisfied: typing-extensions<5,>=4.11 in /opt/anaconda3/envs/astron_1221/lib/python3.11/site-packages (from openai) (4.15.0)\n",
      "Requirement already satisfied: idna>=2.8 in /opt/anaconda3/envs/astron_1221/lib/python3.11/site-packages (from anyio<5,>=3.5.0->openai) (3.10)\n",
      "Requirement already satisfied: certifi in /opt/anaconda3/envs/astron_1221/lib/python3.11/site-packages (from httpx<1,>=0.23.0->openai) (2025.8.3)\n",
      "Requirement already satisfied: httpcore==1.* in /opt/anaconda3/envs/astron_1221/lib/python3.11/site-packages (from httpx<1,>=0.23.0->openai) (1.0.9)\n",
      "Requirement already satisfied: h11>=0.16 in /opt/anaconda3/envs/astron_1221/lib/python3.11/site-packages (from httpcore==1.*->httpx<1,>=0.23.0->openai) (0.16.0)\n",
      "Requirement already satisfied: annotated-types>=0.6.0 in /opt/anaconda3/envs/astron_1221/lib/python3.11/site-packages (from pydantic<3,>=1.9.0->openai) (0.7.0)\n",
      "Requirement already satisfied: pydantic-core==2.33.2 in /opt/anaconda3/envs/astron_1221/lib/python3.11/site-packages (from pydantic<3,>=1.9.0->openai) (2.33.2)\n",
      "Requirement already satisfied: typing-inspection>=0.4.0 in /opt/anaconda3/envs/astron_1221/lib/python3.11/site-packages (from pydantic<3,>=1.9.0->openai) (0.4.1)\n",
      "Requirement already satisfied: docstring-parser<1,>=0.15 in /opt/anaconda3/envs/astron_1221/lib/python3.11/site-packages (from anthropic) (0.17.0)\n",
      "Note: you may need to restart the kernel to use updated packages.\n"
     ]
    }
   ],
   "source": [
    "# pip installs and dependencies (not all of them yet added)\n",
    "\n",
    "%pip install openai anthropic python-dotenv\n"
   ]
  },
  {
   "cell_type": "code",
   "execution_count": 78,
   "id": "8ac60747",
   "metadata": {},
   "outputs": [],
   "source": [
    "#setup and imports (add below, not done)\n",
    "from openai import OpenAI\n",
    "import os\n",
    "from dotenv import load_dotenv\n",
    "\n",
    "# Load environment variables from the .env file\n",
    "load_dotenv()\n",
    "\n",
    "# Get the API key from the environment variable\n",
    "api_key = os.getenv(\"OPENAI_API_KEY\")\n",
    "\n",
    "# Initialize the OpenAI client with the API key\n",
    "client = OpenAI(api_key=os.getenv(\"OPENAI_API_KEY\"))\n",
    "\n",
    "#claude api\n",
    "import os\n",
    "from anthropic import Anthropic\n",
    "\n",
    "claude_api_key = os.getenv(\"CLAUDE_API_KEY\")\n",
    "claude_client = Anthropic(api_key=claude_api_key) if claude_api_key else None\n"
   ]
  },
  {
   "cell_type": "markdown",
   "id": "6ddcb42d-f58d-45b8-b1e4-fd4b3ef87be4",
   "metadata": {},
   "source": [
    "### Class Initialization for SpaceDestination and TourPackage\n",
    "---\n",
    "SpaceDestination\n",
    "- Name: string\n",
    "- Distance: float (furtherest astronomical unit from Earth)\n",
    "- Cost: $100 * (astronomical units)\n",
    "- Description: short paragraph\n",
    "\n",
    "Activity\n",
    "- generated by LLM API call\n",
    "\n",
    "TourPackage\n",
    "- Destination: SpaceDestination object\n",
    "- Tier: VIP or Budget\n",
    "- Activity 1: Activity object\n",
    "- Activitiy 2: Activity object"
   ]
  },
  {
   "cell_type": "code",
   "execution_count": 79,
   "id": "6e8b70bc-9511-4f15-8d01-e5c7660f6bcf",
   "metadata": {},
   "outputs": [],
   "source": [
    "class SpaceDestination:\n",
    "    def __init__(self, name, distance, description):\n",
    "        self.name = name\n",
    "        self.distance = distance\n",
    "        self.cost = round(100 * float(distance), 2)\n",
    "        self.description = description\n",
    "\n",
    "    def __str__(self):\n",
    "        return f\"{self.name}\\n\\nBase Cost:{self.cost}\\tDistance:{self.distance}\\n{self.description}\"\n",
    "\n",
    "\n",
    "class Activity:\n",
    "    def __init__(self, name, date, time, cost, description):\n",
    "        self.name = name\n",
    "        self.date = date\n",
    "        self.time = time\n",
    "        self.cost = cost\n",
    "        self.description = description\n",
    "    def __str__(self):\n",
    "        return f\"{self.name}\\n\\nDate & Time: {self.date}\\t{self.time}\\t\\tCost:{self.cost}\\n{self.description}\"\n",
    "\n",
    "class TourPackage:\n",
    "    def __init__(self, destination, tier, activity1, activity2, activity3, activity4):\n",
    "        self.dest = destination\n",
    "        self.tier1 = 'Budget'\n",
    "        self.act1 = activity1\n",
    "        self.act2 = activity2\n",
    "        self.tier2 = 'VIP'\n",
    "        self.act3 = activity3\n",
    "        self.act4 = activity4\n",
    "    \n",
    "    def __str__(self):\n",
    "        return (f\"Tour Package Tier: {self.tier1}\\n\"\n",
    "        f\"Activity 1: {self.act1}\"\n",
    "        f\"\\n\\n\\nActivity 2: {self.act2}\"\n",
    "        \n",
    "        f\"Tour Package Tier: {self.tier2}\\n\" \n",
    "        f\"Activity 1: {self.act3}\" \n",
    "        f\"\\n\\n\\nActivity 2: {self.act4}\")"
   ]
  },
  {
   "cell_type": "code",
   "execution_count": 80,
   "id": "62663d10",
   "metadata": {},
   "outputs": [],
   "source": [
    "#List of 8 chooseable destinations\n",
    "locations = []\n",
    "locations.append(SpaceDestination(\"Mars\", 2.5, \"Desert-like rocky planet with a tenuous atmosphere.\"),)\n",
    "locations.append(SpaceDestination(\"Jupiter\", 6.2, \"Gas giant known for its colorful, swirling cloud bands and the Great Red Spot\"),)\n",
    "locations.append(SpaceDestination(\"Uranus\", 20.1, \"Cold, blue-green, ice giant\"),)\n",
    "locations.append(SpaceDestination(\"Pluto\", 50, \"Dwarf planet in the Kuiper Belt featuring varied terrain\"),)\n",
    "locations.append(SpaceDestination(\"Mercury\", 1.45, \"Features a rocky surface, a large iron core, and extreme temperature variations\"),)\n",
    "locations.append(SpaceDestination(\"Saturn\", 10.07, \"Gas giant with a prominent ring system made of ice and dust and massive gaseous atmosphere\"),)\n",
    "locations.append(SpaceDestination(\"Ceres\", 3.1, \"Dwarf planet known for its high water ice content,\"),)\n",
    "locations.append(SpaceDestination(\"Orcus\", 48.91, \"Dwarf planet in the Kuiper Belt rich in crystalline water ice\"),)\n",
    "\n",
    "# List of indexes in locations that you are adding TourPackage to\n",
    "#selected_locations = []\n",
    "#count = 3\n",
    "\n",
    "# User selects 3 locations to make tour packages for\n",
    "#while(count > 0):\n",
    "    #choice = input(\"Choose a location between 1-8: \")\n",
    "    #selected_locations.append(float(choice)-1)\n",
    "    #count-= 1\n",
    "\n"
   ]
  },
  {
   "cell_type": "code",
   "execution_count": 81,
   "id": "70fc6baa",
   "metadata": {},
   "outputs": [],
   "source": [
    "#Calculations (NumPy arrays for distances/times/costs) (add below)\n",
    "# since I think we have the calculations done in the classes already, we might now need this. was numpy a requirment of the project?"
   ]
  },
  {
   "cell_type": "code",
   "execution_count": 82,
   "id": "5bed3fb3",
   "metadata": {},
   "outputs": [],
   "source": [
    "# MatPlotLib: plotting function for LLM-selected destinations\n",
    "\n",
    "import matplotlib.pyplot as plt\n",
    "import numpy as np\n",
    "\n",
    "def plot_selected_destinations(selected_destinations, user_goals):\n",
    "    \"\"\"Simple plots for the 3 destinations LLM chose\"\"\"\n",
    "    \n",
    "    # Get data for selected destinations\n",
    "    names = [dest.name for dest in selected_destinations]\n",
    "    costs = [dest.cost for dest in selected_destinations]\n",
    "    distances = [dest.distance for dest in selected_destinations]\n",
    "    \n",
    "    # Plot 1: bar chart\n",
    "    plt.figure(figsize=(8, 5))\n",
    "    plt.bar(names, costs, color=['#FF6B6B', '#4ECDC4', '#45B7D1'])\n",
    "    plt.title(f'Costs for Your Tour')\n",
    "    plt.ylabel('Cost ($)')\n",
    "    plt.xlabel('Destinations')\n",
    "    plt.show()\n",
    "    \n",
    "    # Plot 2: scatter plot\n",
    "    plt.figure(figsize=(8, 5))\n",
    "    plt.scatter(distances, costs, s=100, c=['#FF6B6B', '#4ECDC4', '#45B7D1'])\n",
    "    for i, name in enumerate(names):\n",
    "        plt.annotate(name, (distances[i], costs[i]), xytext=(5, 5), textcoords='offset points')\n",
    "    plt.title('Distance vs Cost')\n",
    "    plt.xlabel('Distance (AU)')\n",
    "    plt.ylabel('Cost ($)')\n",
    "    plt.grid(True, alpha=0.3)\n",
    "    plt.show()\n",
    "    \n",
    "    #print(f\"Your tour: {', '.join(names)}\")"
   ]
  },
  {
   "cell_type": "code",
   "execution_count": 83,
   "id": "9cf7d085",
   "metadata": {},
   "outputs": [],
   "source": [
    "#Brochure formatting: make the brochure look polished and put together (possible with color and different text types or sizes)\n",
    "#note(delete note later): currently, the brochure is printed at the bottom of the LLM integration cell, so that might have to be changed"
   ]
  },
  {
   "cell_type": "code",
   "execution_count": 84,
   "id": "70e5fd69",
   "metadata": {},
   "outputs": [
    {
     "name": "stdout",
     "output_type": "stream",
     "text": [
      "Welcome to Space Tourism!\n",
      "What are your goals/constraints? (e.g., 'budget-friendly', 'luxury experience', 'adventure', 'relaxation')\n",
      "\n",
      "=== Jupiter Space Tour ===\n",
      "Distance: 6.2 AU | Cost: $620.0\n",
      "1. Celestial Spa Retreat ($310.0): Indulge in a zero-gravity massage experience while floating in a luxurious spa pod, surrounded by holographic views of Jupiter's swirling clouds.\n",
      "2. Jovian Gourmet Dinner ($496.0): Savor a multi-course meal crafted by top intergalactic chefs, featuring exotic ingredients sourced from Jupiter's moons, all while dining in a transparent dome with panoramic views of the Great Red Spot.\n",
      "3. Aurora Borealis Balloon Ride ($744.0): Take a romantic hot air balloon ride above Jupiter's atmosphere, witnessing breathtaking auroras and vibrant storms, complete with a champagne toast as you float among the clouds.\n",
      "--------------------------------------------------\n",
      "\n",
      "=== Uranus Space Tour ===\n",
      "Distance: 20.1 AU | Cost: $2010.0\n",
      "1. Celestial Spa Retreat ($1005.0): Indulge in a zero-gravity massage experience using rare Uranian crystals, designed to rejuvenate your body and mind while floating in a luxurious, heated chamber.\n",
      "2. Aurora Dining Experience ($1608.0): Enjoy a gourmet meal under the mesmerizing glow of Uranus' stunning auroras, with a private chef preparing a feast of intergalactic delicacies served in a transparent dome.\n",
      "3. Ringside Romance ($2412.0): Take a private hovercraft tour around Uranus' rings, complete with a champagne toast and a breathtaking view of the planet's unique atmosphere, creating unforgettable memories together.\n",
      "--------------------------------------------------\n",
      "\n",
      "=== Saturn Space Tour ===\n",
      "Distance: 10.07 AU | Cost: $1007.0\n",
      "1. Celestial Spa Retreat ($503.5): Indulge in a luxurious spa experience aboard a floating resort, featuring Saturn's rings as your backdrop, with treatments using rare cosmic minerals.\n",
      "2. Starlit Ring Dinner ($805.6): Enjoy a gourmet dinner under the shimmering rings of Saturn, served by a private chef in a transparent dome, allowing for breathtaking views of the cosmos.\n",
      "3. Moonlight Exploration ($1208.3999999999999): Take a guided hovercraft tour of Titan, Saturn's largest moon, exploring its ethereal landscapes and enjoying a romantic picnic on its shores.\n",
      "--------------------------------------------------\n"
     ]
    },
    {
     "data": {
      "image/png": "[encoded data removed]",
      "text/plain": [
       "<Figure size 800x500 with 1 Axes>"
      ]
     },
     "metadata": {},
     "output_type": "display_data"
    },
    {
     "data": {
      "image/png": "[encoded data removed]",
      "text/plain": [
       "<Figure size 800x500 with 1 Axes>"
      ]
     },
     "metadata": {},
     "output_type": "display_data"
    },
    {
     "name": "stdout",
     "output_type": "stream",
     "text": [
      "We hope you enjoy these and return to plan your next trip with us too!\n"
     ]
    }
   ],
   "source": [
    "#LLM integration\n",
    "#LLM picks 3 of our 8 destinations and generates 3 activities each based on user input(keywords and constraints, goals)\n",
    "\n",
    "#this function prompts the LLM to pick 3 of the 8 destinations based on user goals\n",
    "def llm_pick_destinations(user_goals, available_destinations):\n",
    "    try:\n",
    "        response = client.chat.completions.create(\n",
    "            model=\"gpt-4o-mini\",\n",
    "            messages=[{\"role\": \"user\", \"content\": f\"From these destinations: {[d.name for d in available_destinations]}, pick 3 that best match these goals: '{user_goals}'. Reply with just the 3 names separated by commas.\"}],\n",
    "            max_tokens=40,\n",
    "        )\n",
    "        return response.choices[0].message.content.strip()\n",
    "    except:\n",
    "        return \"Mars, Jupiter, Saturn\"\n",
    "\n",
    "#prompts the LLM to generate activities based on user goals\n",
    "def llm_generate_activities(destination, user_goals, distance, cost):\n",
    "    try:\n",
    "        response = client.chat.completions.create(\n",
    "            model=\"gpt-4o-mini\",\n",
    "            messages=[{\"role\": \"user\", \"content\": f\"Generate 3 activities to be completed on the planet {destination}. Goals: {user_goals}. Budget: ${cost}. Be creative and unique with your activities, but consistent in formatting. Respond ONLY with these 3 lines, no less, nothing else:\\n\\nActivity1: [name] - [description]\\nActivity2: [name] - [description]\\nActivity3: [name] - [description]\"}],\n",
    "            max_tokens=150, # high enough to allow LLM to provide complete sentence within token limit. if limit exceeded, may output incomplete sentence, but fixing this results in slow code due to repetetive LLM calls.\n",
    "            temperature=0.1,  # Very low temperature for consistency\n",
    "        )\n",
    "        return response.choices[0].message.content.strip()\n",
    "    except:\n",
    "        return f\"Activity1: Surface Walk - Explore {destination} terrain\\nActivity2: Photo Session - Capture {destination} views\\nActivity3: Orbital Tour - See {destination} from space\"\n",
    "        \n",
    "# user input for goals/constraints\n",
    "print(\"Welcome to Space Tourism!\")\n",
    "print(\"What are your goals/constraints? (e.g., 'budget-friendly', 'luxury experience', 'adventure', 'relaxation')\")\n",
    "#print(\"Here is your package with some destinations and activities we think you'd enjoy!\")\n",
    "user_goals = input(\"Your goals: \").strip()\n",
    "\n",
    "# LLM picks 5 destinations from your 8 options\n",
    "selected_names = llm_pick_destinations(user_goals, locations)\n",
    "selected_destinations = [dest for dest in locations if dest.name in selected_names]\n",
    "\n",
    "# Generate brochures for selected destinations\n",
    "for dest in selected_destinations:\n",
    "    # LLM generates 3 activities based on user goals\n",
    "    activities_text = llm_generate_activities(dest.name, user_goals, dest.distance, dest.cost)\n",
    "\n",
    "    # Parse activities\n",
    "    activities = []\n",
    "    for line in activities_text.split('\\n'):\n",
    "        if 'Activity' in line and ':' in line:\n",
    "            try:\n",
    "                name_desc = line.split(':', 1)[1].strip()\n",
    "                name, desc = name_desc.split(' - ', 1)\n",
    "                activities.append((name.strip(), desc.strip()))\n",
    "            except:\n",
    "                pass\n",
    "\n",
    "    #fallback if still not 3\n",
    "    if len(activities) < 3:\n",
    "        fallbacks = [\n",
    "            (\"Surface Walk\", f\"Explore {dest.name} terrain\"),\n",
    "            (\"Photo Session\", f\"Capture {dest.name} views\"),\n",
    "            (\"Orbital Tour\", f\"See {dest.name} from space\")\n",
    "        ]\n",
    "        \n",
    "    while len(activities) < 3:\n",
    "        activities.append(fallbacks[len(activities)])\n",
    "\n",
    "    # Create Activity objects\n",
    "    act1 = Activity(activities[0][0], \"2024-01-15\", \"10:00\", dest.cost * 0.5, activities[0][1])\n",
    "    act2 = Activity(activities[1][0], \"2024-01-16\", \"14:00\", dest.cost * 0.8, activities[1][1])\n",
    "    act3 = Activity(activities[2][0], \"2024-01-17\", \"09:00\", dest.cost * 1.2, activities[2][1])\n",
    "        \n",
    "    # Create package\n",
    "    package = TourPackage(dest, \"Budget/VIP\", act1, act2, act3, act3)\n",
    "        \n",
    "    #print brochure with LLM chosen destinations and activities\n",
    "    print(f\"\\n=== {dest.name} Space Tour ===\")\n",
    "    print(f\"Distance: {dest.distance} AU | Cost: ${dest.cost}\")\n",
    "    print(f\"1. {act1.name} (${act1.cost}): {act1.description}\")\n",
    "    print(f\"2. {act2.name} (${act2.cost}): {act2.description}\")\n",
    "    print(f\"3. {act3.name} (${act3.cost}): {act3.description}\")\n",
    "    print(\"-\" * 50)\n",
    "# Execute the visualization with whatever data is available\n",
    "plot_selected_destinations(selected_destinations, user_goals)\n",
    "\n",
    "# print closing sentence\n",
    "print(\"We hope you enjoy these and return to plan your next trip with us too!\")"
   ]
  },
  {
   "cell_type": "markdown",
   "id": "4551e9e0",
   "metadata": {},
   "source": [
    "results and discussion (add below)"
   ]
  },
  {
   "cell_type": "markdown",
   "id": "59a04af3",
   "metadata": {},
   "source": [
    "individual contribution statement (add below)"
   ]
  }
 ],
 "metadata": {
  "kernelspec": {
   "display_name": "1221",
   "language": "python",
   "name": "python3"
  },
  "language_info": {
   "codemirror_mode": {
    "name": "ipython",
    "version": 3
   },
   "file_extension": ".py",
   "mimetype": "text/x-python",
   "name": "python",
   "nbconvert_exporter": "python",
   "pygments_lexer": "ipython3",
   "version": "3.13.5"
  }
 },
 "nbformat": 4,
 "nbformat_minor": 5
}
