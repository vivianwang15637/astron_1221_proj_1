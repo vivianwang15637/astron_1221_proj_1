{
 "cells": [
  {
   "cell_type": "markdown",
   "id": "2e3a47d8",
   "metadata": {},
   "source": [
    "# NumPy\n",
    "\n",
    "*Tutorial by Yuan-Sen Ting*\n",
    "\n",
    "*Part of Astron 1221: Astronomical Data Analysis*\n",
    "\n",
    "## Introduction\n",
    "\n",
    "In astronomy, we work with vast amounts of numerical data. Think about a single telescope image from a modern CCD camera - it might contain 4096×4096 pixels, giving us over 16 million brightness values to analyze. Or consider a spectroscopic survey that measures thousands of wavelength points for millions of stars. Even a \"simple\" star catalog might list positions, brightnesses, colors, and proper motions for billions of objects.\n",
    "\n",
    "Python lists can store these numbers, but they have a fundamental problem: they're painfully slow when we need to perform mathematical operations on thousands or millions of values. This slowness comes from Python checking the type of each element and handling each operation individually.\n",
    "\n",
    "NumPy (Numerical Python) solves this problem elegantly. It's a library that provides a powerful N-dimensional array object and tools for working with these arrays. NumPy arrays store data in contiguous memory and perform operations in compiled C code, making them orders of magnitude faster than Python lists.\n",
    "\n",
    "## Getting Started\n",
    "\n",
    "Let's import NumPy. We'll use the nickname 'np' which is the universal convention in the astronomy community - you'll see this in almost every astronomical Python script:\n",
    " \n",
    "The `import numpy as np` syntax means we're importing the entire numpy library but giving it a shorter alias 'np'. This allows us to access all NumPy functions by typing `np.function_name()` instead of the longer `numpy.function_name()`. The 'np' abbreviation is so standard that it's considered the official convention - using anything else would confuse other astronomers reading your code!"
   ]
  },
  {
   "cell_type": "code",
   "execution_count": 1,
   "id": "33e86dd2",
   "metadata": {},
   "outputs": [],
   "source": [
    "import numpy as np"
   ]
  },
  {
   "cell_type": "markdown",
   "id": "312b500d",
   "metadata": {},
   "source": [
    "We'll also import the time module to measure and demonstrate just how much faster NumPy really is:"
   ]
  },
  {
   "cell_type": "code",
   "execution_count": 2,
   "id": "0f0638ba",
   "metadata": {},
   "outputs": [],
   "source": [
    "import time"
   ]
  },
  {
   "cell_type": "markdown",
   "id": "6f8d1761",
   "metadata": {},
   "source": [
    "Let's verify everything is working and check what version we have:"
   ]
  },
  {
   "cell_type": "code",
   "execution_count": 3,
   "id": "5f9b2617",
   "metadata": {},
   "outputs": [
    {
     "name": "stdout",
     "output_type": "stream",
     "text": [
      "NumPy version: 2.1.3\n"
     ]
    }
   ],
   "source": [
    "print(f\"NumPy version: {np.__version__}\")"
   ]
  },
  {
   "cell_type": "markdown",
   "id": "0cb9c6fd",
   "metadata": {},
   "source": [
    "## Why NumPy? A Speed Comparison\n",
    "\n",
    "To understand why NumPy is essential for astronomy, let's work through a realistic example. Imagine we have brightness measurements for 10,000 stars from a photometric survey. We want to convert these brightnesses (called magnitudes in astronomy) to another unit called flux.\n",
    "\n",
    "A quick primer on the magnitude system: In astronomy, the magnitude scale is logarithmic and runs backwards - brighter stars have smaller magnitude numbers! A magnitude 1 star is about 100 times brighter than a magnitude 6 star (the faintest visible to the naked eye). The relationship between magnitude (m) and flux (F) is:\n",
    "$F = 10^{-0.4 \\times m}$\n",
    "\n",
    "This backwards, logarithmic scale has historical roots dating back to ancient Greek astronomers, but it remains the standard in modern astronomy.\n",
    "\n",
    "First, let's create some fake star magnitude data using a Python list:"
   ]
  },
  {
   "cell_type": "code",
   "execution_count": 4,
   "id": "a2633234",
   "metadata": {},
   "outputs": [],
   "source": [
    "n_stars = 10000\n",
    "magnitudes_list = [12.5 + i*0.001 for i in range(n_stars)]"
   ]
  },
  {
   "cell_type": "markdown",
   "id": "7eb4469b",
   "metadata": {},
   "source": [
    "Now let's convert magnitudes to fluxes the traditional Python way, using a loop:"
   ]
  },
  {
   "cell_type": "code",
   "execution_count": 5,
   "id": "e5d92863",
   "metadata": {},
   "outputs": [],
   "source": [
    "start_time = time.time()\n",
    "fluxes_list = []\n",
    "for mag in magnitudes_list:\n",
    "    flux = 10**(-0.4 * mag)\n",
    "    fluxes_list.append(flux)\n",
    "list_time = time.time() - start_time"
   ]
  },
  {
   "cell_type": "markdown",
   "id": "fff6f3a1",
   "metadata": {},
   "source": [
    "Let's see how long that took:"
   ]
  },
  {
   "cell_type": "code",
   "execution_count": 6,
   "id": "b73c4192",
   "metadata": {},
   "outputs": [
    {
     "name": "stdout",
     "output_type": "stream",
     "text": [
      "Python list took: 0.0025 seconds\n"
     ]
    }
   ],
   "source": [
    "print(f\"Python list took: {list_time:.4f} seconds\")"
   ]
  },
  {
   "cell_type": "markdown",
   "id": "7605e687",
   "metadata": {},
   "source": [
    "Now let's try the same calculation with NumPy. First, we convert our list to a NumPy array:"
   ]
  },
  {
   "cell_type": "code",
   "execution_count": 7,
   "id": "30e82f54",
   "metadata": {},
   "outputs": [],
   "source": [
    "magnitudes_array = np.array(magnitudes_list)"
   ]
  },
  {
   "cell_type": "markdown",
   "id": "9c88a46f",
   "metadata": {},
   "source": [
    "Now perform the calculation - notice there's no loop! NumPy operates on the entire array at once:"
   ]
  },
  {
   "cell_type": "code",
   "execution_count": 8,
   "id": "29cc8e21",
   "metadata": {},
   "outputs": [],
   "source": [
    "start_time = time.time()\n",
    "fluxes_array = 10**(-0.4 * magnitudes_array)\n",
    "numpy_time = time.time() - start_time"
   ]
  },
  {
   "cell_type": "markdown",
   "id": "58ca9e23",
   "metadata": {},
   "source": [
    "Compare the execution times:"
   ]
  },
  {
   "cell_type": "code",
   "execution_count": 9,
   "id": "73ed8fec",
   "metadata": {},
   "outputs": [
    {
     "name": "stdout",
     "output_type": "stream",
     "text": [
      "NumPy took: 0.0003 seconds\n",
      "NumPy is 7.5x faster!\n"
     ]
    }
   ],
   "source": [
    "print(f\"NumPy took: {numpy_time:.4f} seconds\")\n",
    "print(f\"NumPy is {list_time/numpy_time:.1f}x faster!\")"
   ]
  },
  {
   "cell_type": "markdown",
   "id": "b5178a01",
   "metadata": {},
   "source": [
    "NumPy is much faster for this kind of operation! This speed difference becomes crucial when processing telescope images with millions of pixels or analyzing time series data from surveys monitoring the sky continuously for years. The key insight is that NumPy performs the operation in compiled C code on contiguous memory, while Python lists require interpreted Python code with type checking at each step.\n",
    "\n",
    "## Creating NumPy Arrays\n",
    "\n",
    "NumPy provides many ways to create arrays, each optimized for different scenarios you'll encounter in astronomical data analysis.\n",
    "\n",
    "### From Python Lists\n",
    "\n",
    "The most straightforward way to create an array is from a Python list. The `np.array()` function takes a list (or list of lists) as input and returns a NumPy array:"
   ]
  },
  {
   "cell_type": "code",
   "execution_count": 10,
   "id": "bf2b1ca5",
   "metadata": {},
   "outputs": [],
   "source": [
    "brightness_list = [100.5, 89.2, 156.7, 45.3, 78.9]"
   ]
  },
  {
   "cell_type": "markdown",
   "id": "a5bc631d",
   "metadata": {},
   "source": [
    "Convert it to a NumPy array:"
   ]
  },
  {
   "cell_type": "code",
   "execution_count": 11,
   "id": "a659c1fd",
   "metadata": {},
   "outputs": [],
   "source": [
    "brightness_array = np.array(brightness_list)"
   ]
  },
  {
   "cell_type": "markdown",
   "id": "ee78ce77",
   "metadata": {},
   "source": [
    "Let's examine what we created:"
   ]
  },
  {
   "cell_type": "code",
   "execution_count": 12,
   "id": "12f2513b",
   "metadata": {},
   "outputs": [
    {
     "name": "stdout",
     "output_type": "stream",
     "text": [
      "List: [100.5, 89.2, 156.7, 45.3, 78.9]\n",
      "Array: [100.5  89.2 156.7  45.3  78.9]\n"
     ]
    }
   ],
   "source": [
    "print(\"List:\", brightness_list)\n",
    "print(\"Array:\", brightness_array)"
   ]
  },
  {
   "cell_type": "markdown",
   "id": "5a67839e",
   "metadata": {},
   "source": [
    "They look similar when printed, but they're fundamentally different objects in memory:"
   ]
  },
  {
   "cell_type": "code",
   "execution_count": 13,
   "id": "6d62c6e0",
   "metadata": {},
   "outputs": [
    {
     "name": "stdout",
     "output_type": "stream",
     "text": [
      "List type: <class 'list'>\n",
      "Array type: <class 'numpy.ndarray'>\n"
     ]
    }
   ],
   "source": [
    "print(\"List type:\", type(brightness_list))\n",
    "print(\"Array type:\", type(brightness_array))"
   ]
  },
  {
   "cell_type": "markdown",
   "id": "eb7d9123",
   "metadata": {},
   "source": [
    "The list stores references to Python objects scattered in memory, while the array stores raw numbers in a contiguous block - this is why arrays are so much faster.\n",
    "\n",
    "### Creating Arrays of Zeros\n",
    "\n",
    "When processing telescope images, we often need to start with an empty frame to accumulate data - for example, when co-adding multiple exposures or creating master calibration frames. The `np.zeros()` function creates an array filled with zeros:"
   ]
  },
  {
   "cell_type": "code",
   "execution_count": 14,
   "id": "3e46ab59",
   "metadata": {},
   "outputs": [],
   "source": [
    "empty_data = np.zeros(5)"
   ]
  },
  {
   "cell_type": "markdown",
   "id": "a303f244",
   "metadata": {},
   "source": [
    "This creates a 1D array with 5 zeros:"
   ]
  },
  {
   "cell_type": "code",
   "execution_count": 15,
   "id": "d35c79e3",
   "metadata": {},
   "outputs": [
    {
     "name": "stdout",
     "output_type": "stream",
     "text": [
      "[0. 0. 0. 0. 0.]\n"
     ]
    }
   ],
   "source": [
    "print(empty_data)"
   ]
  },
  {
   "cell_type": "markdown",
   "id": "0b6ab2b6",
   "metadata": {},
   "source": [
    "For 2D arrays (like images), pass a tuple specifying (rows, columns). Let's create a small mock CCD frame. A CCD (Charge-Coupled Device) is the electronic sensor in astronomical cameras that converts photons from stars into digital numbers:"
   ]
  },
  {
   "cell_type": "code",
   "execution_count": 16,
   "id": "08a62ea6",
   "metadata": {},
   "outputs": [],
   "source": [
    "small_image = np.zeros((3, 4))  # 3 rows, 4 columns"
   ]
  },
  {
   "cell_type": "code",
   "execution_count": 17,
   "id": "740134fb",
   "metadata": {},
   "outputs": [
    {
     "name": "stdout",
     "output_type": "stream",
     "text": [
      "3x4 CCD frame:\n",
      "[[0. 0. 0. 0.]\n",
      " [0. 0. 0. 0.]\n",
      " [0. 0. 0. 0.]]\n"
     ]
    }
   ],
   "source": [
    "print(\"3x4 CCD frame:\")\n",
    "print(small_image)"
   ]
  },
  {
   "cell_type": "markdown",
   "id": "6ccd0f4e",
   "metadata": {},
   "source": [
    "Note the double parentheses - we're passing a single tuple argument (3, 4), not two separate arguments.\n",
    "\n",
    "### Creating Arrays of Ones\n",
    "\n",
    "The `np.ones()` function works identically to `np.zeros()` but fills the array with ones. This is particularly useful for creating weight arrays when combining multiple observations - for instance, when all observations have equal quality:"
   ]
  },
  {
   "cell_type": "code",
   "execution_count": 18,
   "id": "5352783b",
   "metadata": {},
   "outputs": [
    {
     "name": "stdout",
     "output_type": "stream",
     "text": [
      "[1. 1. 1. 1. 1.]\n"
     ]
    }
   ],
   "source": [
    "weights = np.ones(5)\n",
    "print(weights)"
   ]
  },
  {
   "cell_type": "markdown",
   "id": "3a529771",
   "metadata": {},
   "source": [
    "### Arrays with Specific Values\n",
    "\n",
    "The `np.full()` function creates an array filled with a specific value you choose. It takes two arguments: the size (or shape) and the fill value.\n",
    "\n",
    "For example, CCD detectors have a \"bias level\" - a constant electronic offset added to all pixel values to ensure the analog-to-digital converter never receives negative values:"
   ]
  },
  {
   "cell_type": "code",
   "execution_count": 19,
   "id": "fc1dc49d",
   "metadata": {},
   "outputs": [],
   "source": [
    "bias_level = np.full(5, 1000.0)"
   ]
  },
  {
   "cell_type": "markdown",
   "id": "adef191c",
   "metadata": {},
   "source": [
    "This creates 5 elements, all with value 1000.0:"
   ]
  },
  {
   "cell_type": "code",
   "execution_count": 20,
   "id": "b54c4e42",
   "metadata": {},
   "outputs": [
    {
     "name": "stdout",
     "output_type": "stream",
     "text": [
      "Bias level array: [1000. 1000. 1000. 1000. 1000.]\n"
     ]
    }
   ],
   "source": [
    "print(\"Bias level array:\", bias_level)"
   ]
  },
  {
   "cell_type": "markdown",
   "id": "4b24c7a3",
   "metadata": {},
   "source": [
    "### Creating Sequences of Numbers\n",
    "\n",
    "NumPy's `np.arange()` function is like Python's `range()`, but creates an array directly. It's perfect for creating pixel indices or time stamps:"
   ]
  },
  {
   "cell_type": "code",
   "execution_count": 21,
   "id": "1f004a87",
   "metadata": {},
   "outputs": [],
   "source": [
    "pixel_numbers = np.arange(5) "
   ]
  },
  {
   "cell_type": "markdown",
   "id": "b8846dc4",
   "metadata": {},
   "source": [
    "or equivalently,"
   ]
  },
  {
   "cell_type": "code",
   "execution_count": 22,
   "id": "21f3f78f",
   "metadata": {},
   "outputs": [],
   "source": [
    "pixel_numbers = np.arange(0, 5)  # Start at 0, stop before 5\n"
   ]
  },
  {
   "cell_type": "code",
   "execution_count": 23,
   "id": "a5879306",
   "metadata": {},
   "outputs": [
    {
     "name": "stdout",
     "output_type": "stream",
     "text": [
      "Pixel indices: [0 1 2 3 4]\n"
     ]
    }
   ],
   "source": [
    "print(\"Pixel indices:\", pixel_numbers)"
   ]
  },
  {
   "cell_type": "markdown",
   "id": "68731f35",
   "metadata": {},
   "source": [
    "You can specify a step size - useful for selecting every Nth observation or creating regularly spaced samples:"
   ]
  },
  {
   "cell_type": "code",
   "execution_count": 24,
   "id": "e99ea045",
   "metadata": {},
   "outputs": [],
   "source": [
    "every_third = np.arange(0, 10, 3)  # Start 0, stop before 10, step by 3"
   ]
  },
  {
   "cell_type": "code",
   "execution_count": 25,
   "id": "efcb85f7",
   "metadata": {},
   "outputs": [
    {
     "name": "stdout",
     "output_type": "stream",
     "text": [
      "Every third value: [0 3 6 9]\n"
     ]
    }
   ],
   "source": [
    "print(\"Every third value:\", every_third)"
   ]
  },
  {
   "cell_type": "markdown",
   "id": "5aa3aaad",
   "metadata": {},
   "source": [
    "This is useful when you want to subsample data, perhaps taking every 3rd frame from a time series to reduce data volume while maintaining temporal coverage.\n",
    "\n",
    "### Creating Evenly Spaced Numbers\n",
    "\n",
    "The `np.linspace()` function creates an exact number of evenly spaced points between a start and stop value. Unlike `arange` where you specify the step size, with `linspace` you specify how many points you want.\n",
    "\n",
    "This is particularly useful for creating wavelength grids for spectra:"
   ]
  },
  {
   "cell_type": "code",
   "execution_count": 26,
   "id": "72efb6c2",
   "metadata": {},
   "outputs": [],
   "source": [
    "wavelengths = np.linspace(4000, 5000, 5)"
   ]
  },
  {
   "cell_type": "markdown",
   "id": "4a737acc",
   "metadata": {},
   "source": [
    "This creates exactly 5 wavelengths from 4000 to 5000 Angstroms (inclusive of both endpoints):"
   ]
  },
  {
   "cell_type": "code",
   "execution_count": 27,
   "id": "99ae1a3c",
   "metadata": {},
   "outputs": [
    {
     "name": "stdout",
     "output_type": "stream",
     "text": [
      "Wavelengths: [4000. 4250. 4500. 4750. 5000.]\n"
     ]
    }
   ],
   "source": [
    "print(\"Wavelengths:\", wavelengths)"
   ]
  },
  {
   "cell_type": "markdown",
   "id": "2a7b2dab",
   "metadata": {},
   "source": [
    "Notice the spacing between points is automatically calculated to be uniform:"
   ]
  },
  {
   "cell_type": "code",
   "execution_count": 28,
   "id": "f1d30e04",
   "metadata": {},
   "outputs": [
    {
     "name": "stdout",
     "output_type": "stream",
     "text": [
      "Wavelength spacing: 250.0 Angstroms\n"
     ]
    }
   ],
   "source": [
    "spacing = wavelengths[1] - wavelengths[0]\n",
    "print(f\"Wavelength spacing: {spacing} Angstroms\")"
   ]
  },
  {
   "cell_type": "markdown",
   "id": "e4e3ed53",
   "metadata": {},
   "source": [
    "### Logarithmic Spacing\n",
    "\n",
    "The `np.logspace()` function creates points evenly spaced on a logarithmic scale. The arguments are the log₁₀ of the start value, the log₁₀ of the stop value, and the number of points.\n",
    "\n",
    "This is invaluable when studying objects that span vast scales - like stellar masses that range from 0.08 solar masses (the minimum for hydrogen fusion) to over 100 solar masses:"
   ]
  },
  {
   "cell_type": "code",
   "execution_count": 29,
   "id": "35f822ff",
   "metadata": {},
   "outputs": [],
   "source": [
    "masses = np.logspace(-1, 2, 5)  # From 10^-1 to 10^2"
   ]
  },
  {
   "cell_type": "code",
   "execution_count": 30,
   "id": "4941dbb7",
   "metadata": {},
   "outputs": [
    {
     "name": "stdout",
     "output_type": "stream",
     "text": [
      "Stellar masses (solar units): [  0.1          0.56234133   3.16227766  17.7827941  100.        ]\n"
     ]
    }
   ],
   "source": [
    "print(\"Stellar masses (solar units):\", masses)"
   ]
  },
  {
   "cell_type": "markdown",
   "id": "f476f80a",
   "metadata": {},
   "source": [
    "This creates 5 points from 0.1 to 100 solar masses, evenly distributed in log space. This logarithmic spacing is natural for many astronomical quantities that span orders of magnitude.\n",
    "\n",
    "## Understanding Data Types and Memory\n",
    "\n",
    "One of NumPy's key advantages is explicit control over how numbers are stored in memory. This becomes crucial when working with large astronomical datasets where memory efficiency matters.\n",
    "\n",
    "### Data Types (dtype)\n",
    "\n",
    "Every NumPy array has a data type (dtype) that specifies how its numbers are stored in memory. Unlike Python lists where each element can be a different type, all elements in a NumPy array must have the same type:"
   ]
  },
  {
   "cell_type": "code",
   "execution_count": 31,
   "id": "3a4875b2",
   "metadata": {},
   "outputs": [],
   "source": [
    "# Let's create arrays with different data types\n",
    "integers = np.array([1, 2, 3, 4, 5])\n",
    "floats = np.array([1.0, 2.0, 3.0, 4.0, 5.0])"
   ]
  },
  {
   "cell_type": "code",
   "execution_count": 32,
   "id": "6ee3a0ea",
   "metadata": {},
   "outputs": [
    {
     "name": "stdout",
     "output_type": "stream",
     "text": [
      "Integer array dtype: int64\n",
      "Float array dtype: float64\n"
     ]
    }
   ],
   "source": [
    "print(f\"Integer array dtype: {integers.dtype}\")\n",
    "print(f\"Float array dtype: {floats.dtype}\")"
   ]
  },
  {
   "cell_type": "markdown",
   "id": "5bd06d1a",
   "metadata": {},
   "source": [
    "The default integer type is usually `int64` (64-bit integer) and the default float type is `float64` (64-bit floating point, also called \"double precision\").\n",
    "\n",
    "### Specifying Data Types\n",
    "\n",
    "You can explicitly specify the data type when creating an array. This is important for memory efficiency:"
   ]
  },
  {
   "cell_type": "code",
   "execution_count": 33,
   "id": "0d5f0685",
   "metadata": {},
   "outputs": [],
   "source": [
    "# Create arrays with specific data types\n",
    "small_ints = np.array([1, 2, 3], dtype=np.int8)  # 8-bit integers\n",
    "big_ints = np.array([1, 2, 3], dtype=np.int64)   # 64-bit integers"
   ]
  },
  {
   "cell_type": "code",
   "execution_count": 34,
   "id": "8b8b6a22",
   "metadata": {},
   "outputs": [
    {
     "name": "stdout",
     "output_type": "stream",
     "text": [
      "8-bit integers: [1 2 3], dtype: int8\n",
      "64-bit integers: [1 2 3], dtype: int64\n"
     ]
    }
   ],
   "source": [
    "print(f\"8-bit integers: {small_ints}, dtype: {small_ints.dtype}\")\n",
    "print(f\"64-bit integers: {big_ints}, dtype: {big_ints.dtype}\")"
   ]
  },
  {
   "cell_type": "markdown",
   "id": "b5ccc1c3",
   "metadata": {},
   "source": [
    "### Common Data Types in Astronomy\n",
    "\n",
    "Here are the most commonly used dtypes in astronomical applications:"
   ]
  },
  {
   "cell_type": "code",
   "execution_count": 35,
   "id": "e3f56ccf",
   "metadata": {},
   "outputs": [
    {
     "name": "stdout",
     "output_type": "stream",
     "text": [
      "CCD data (uint16): [32000 32100 31950]\n"
     ]
    }
   ],
   "source": [
    "# For CCD data (often 16-bit integers from the ADC)\n",
    "ccd_data = np.array([32000, 32100, 31950], dtype=np.uint16)\n",
    "print(f\"CCD data (uint16): {ccd_data}\")"
   ]
  },
  {
   "cell_type": "code",
   "execution_count": 36,
   "id": "7a939f69",
   "metadata": {},
   "outputs": [
    {
     "name": "stdout",
     "output_type": "stream",
     "text": [
      "Processed data (float32): [1.523 1.524 1.522]\n"
     ]
    }
   ],
   "source": [
    "# For processed images (usually 32-bit floats for memory efficiency)\n",
    "processed = np.array([1.523, 1.524, 1.522], dtype=np.float32)\n",
    "print(f\"Processed data (float32): {processed}\")"
   ]
  },
  {
   "cell_type": "code",
   "execution_count": 37,
   "id": "bbd60c17",
   "metadata": {},
   "outputs": [
    {
     "name": "stdout",
     "output_type": "stream",
     "text": [
      "High precision (float64): [1.523 1.524 1.522]\n"
     ]
    }
   ],
   "source": [
    "# For high-precision calculations (64-bit floats)\n",
    "precise = np.array([1.523, 1.524, 1.522], dtype=np.float64)\n",
    "print(f\"High precision (float64): {precise}\")"
   ]
  },
  {
   "cell_type": "markdown",
   "id": "484fb553",
   "metadata": {},
   "source": [
    "### Checking Precision Limits\n",
    "\n",
    "Different dtypes have different precision and range limits:"
   ]
  },
  {
   "cell_type": "code",
   "execution_count": 38,
   "id": "caabf03c",
   "metadata": {},
   "outputs": [
    {
     "name": "stdout",
     "output_type": "stream",
     "text": [
      "int8 can store: -128 to 127\n",
      "int16 can store: -32768 to 32767\n",
      "uint16 can store: 0 to 65535\n"
     ]
    }
   ],
   "source": [
    "# See the limits of different integer types\n",
    "print(f\"int8 can store: {np.iinfo(np.int8).min} to {np.iinfo(np.int8).max}\")\n",
    "print(f\"int16 can store: {np.iinfo(np.int16).min} to {np.iinfo(np.int16).max}\")\n",
    "print(f\"uint16 can store: {np.iinfo(np.uint16).min} to {np.iinfo(np.uint16).max}\")"
   ]
  },
  {
   "cell_type": "markdown",
   "id": "3cd48e25",
   "metadata": {},
   "source": [
    "For floating point types, we care about precision:"
   ]
  },
  {
   "cell_type": "code",
   "execution_count": 39,
   "id": "4b913ac4",
   "metadata": {},
   "outputs": [
    {
     "name": "stdout",
     "output_type": "stream",
     "text": [
      "float32 precision: ~6 decimal digits\n",
      "float64 precision: ~15 decimal digits\n"
     ]
    }
   ],
   "source": [
    "print(f\"float32 precision: ~{np.finfo(np.float32).precision} decimal digits\")\n",
    "print(f\"float64 precision: ~{np.finfo(np.float64).precision} decimal digits\")"
   ]
  },
  {
   "cell_type": "markdown",
   "id": "1d881ef0",
   "metadata": {},
   "source": [
    "This matters for photometry! If you're measuring stellar brightnesses to 1% accuracy, float32 is fine. But for high-precision measurements, you need float64.\n",
    "\n",
    "### Type Casting\n",
    "\n",
    "You can convert between types using the `.astype()` method:"
   ]
  },
  {
   "cell_type": "code",
   "execution_count": 40,
   "id": "2e87afa0",
   "metadata": {},
   "outputs": [
    {
     "name": "stdout",
     "output_type": "stream",
     "text": [
      "Original integers: [100 200 300], dtype: int32\n"
     ]
    }
   ],
   "source": [
    "# Start with integers\n",
    "pixel_values = np.array([100, 200, 300], dtype=np.int32)\n",
    "print(f\"Original integers: {pixel_values}, dtype: {pixel_values.dtype}\")"
   ]
  },
  {
   "cell_type": "code",
   "execution_count": 41,
   "id": "62a2cead",
   "metadata": {},
   "outputs": [
    {
     "name": "stdout",
     "output_type": "stream",
     "text": [
      "Converted to float: [100. 200. 300.], dtype: float32\n"
     ]
    }
   ],
   "source": [
    "# Convert to float for processing\n",
    "pixel_float = pixel_values.astype(np.float32)\n",
    "print(f\"Converted to float: {pixel_float}, dtype: {pixel_float.dtype}\")"
   ]
  },
  {
   "cell_type": "markdown",
   "id": "d025d405",
   "metadata": {},
   "source": [
    "Be careful when converting from float to integer - NumPy truncates (rounds toward zero):"
   ]
  },
  {
   "cell_type": "code",
   "execution_count": 42,
   "id": "16df95ab",
   "metadata": {},
   "outputs": [
    {
     "name": "stdout",
     "output_type": "stream",
     "text": [
      "Float [1.7 2.3 3.9] becomes int [1 2 3]\n"
     ]
    }
   ],
   "source": [
    "measurements = np.array([1.7, 2.3, 3.9])\n",
    "as_integers = measurements.astype(np.int32)\n",
    "print(f\"Float {measurements} becomes int {as_integers}\")"
   ]
  },
  {
   "cell_type": "markdown",
   "id": "d3d39830",
   "metadata": {},
   "source": [
    "## Array Properties\n",
    "\n",
    "Every NumPy array has properties that describe its structure. These properties are essential for understanding your data and debugging code.\n",
    "\n",
    "### Size Property\n",
    "\n",
    "The `.size` property tells us the total number of elements in the array:"
   ]
  },
  {
   "cell_type": "code",
   "execution_count": 43,
   "id": "5a61bb50",
   "metadata": {},
   "outputs": [],
   "source": [
    "data = np.array([1.5, 2.3, 3.7, 4.1])"
   ]
  },
  {
   "cell_type": "code",
   "execution_count": 44,
   "id": "002114c0",
   "metadata": {},
   "outputs": [
    {
     "name": "stdout",
     "output_type": "stream",
     "text": [
      "Number of elements: 4\n"
     ]
    }
   ],
   "source": [
    "print(f\"Number of elements: {data.size}\")"
   ]
  },
  {
   "cell_type": "markdown",
   "id": "010ef48e",
   "metadata": {},
   "source": [
    "For a 2D array, size is the total count of all elements:"
   ]
  },
  {
   "cell_type": "code",
   "execution_count": 45,
   "id": "1ea32b2d",
   "metadata": {},
   "outputs": [
    {
     "name": "stdout",
     "output_type": "stream",
     "text": [
      "100x100 image has 10000 pixels total\n"
     ]
    }
   ],
   "source": [
    "image = np.zeros((100, 100))\n",
    "print(f\"100x100 image has {image.size} pixels total\")"
   ]
  },
  {
   "cell_type": "markdown",
   "id": "6c4b27f9",
   "metadata": {},
   "source": [
    "### Shape Property\n",
    "\n",
    "The `.shape` property tells us the dimensions of the array as a tuple. This is probably the most important property you'll use:"
   ]
  },
  {
   "cell_type": "code",
   "execution_count": 46,
   "id": "7786c8eb",
   "metadata": {},
   "outputs": [
    {
     "name": "stdout",
     "output_type": "stream",
     "text": [
      "Shape of 1D array: (4,)\n"
     ]
    }
   ],
   "source": [
    "print(f\"Shape of 1D array: {data.shape}\")"
   ]
  },
  {
   "cell_type": "markdown",
   "id": "0db371b8",
   "metadata": {},
   "source": [
    "For a 1D array, shape is `(n,)` where n is the number of elements. Note the comma - it's a tuple with one element.\n",
    "\n",
    "Let's examine a 2D array representing a small star catalog:"
   ]
  },
  {
   "cell_type": "code",
   "execution_count": 47,
   "id": "af138c54",
   "metadata": {},
   "outputs": [],
   "source": [
    "star_catalog = np.array([[25.3, 1.2, 10.5],   # Star 1: RA, Dec, Mag\n",
    "                         [48.7, -5.3, 11.2]])  # Star 2: RA, Dec, Mag"
   ]
  },
  {
   "cell_type": "code",
   "execution_count": 48,
   "id": "cb615842",
   "metadata": {},
   "outputs": [
    {
     "name": "stdout",
     "output_type": "stream",
     "text": [
      "Shape of catalog: (2, 3)\n"
     ]
    }
   ],
   "source": [
    "print(f\"Shape of catalog: {star_catalog.shape}\")"
   ]
  },
  {
   "cell_type": "markdown",
   "id": "7da332a4",
   "metadata": {},
   "source": [
    "The shape `(2, 3)` means 2 rows (stars) and 3 columns (properties per star). In astronomy, we often think of the first axis as the \"object axis\" and the second as the \"property axis.\"\n",
    "\n",
    "### Number of Dimensions\n",
    "\n",
    "The `.ndim` property tells us how many dimensions (axes) the array has:"
   ]
  },
  {
   "cell_type": "code",
   "execution_count": 49,
   "id": "8c3560bf",
   "metadata": {},
   "outputs": [
    {
     "name": "stdout",
     "output_type": "stream",
     "text": [
      "1D array dimensions: 1\n",
      "2D catalog dimensions: 2\n"
     ]
    }
   ],
   "source": [
    "print(f\"1D array dimensions: {data.ndim}\")\n",
    "print(f\"2D catalog dimensions: {star_catalog.ndim}\")"
   ]
  },
  {
   "cell_type": "markdown",
   "id": "f98509bc",
   "metadata": {},
   "source": [
    "You'll typically work with:\n",
    "- 1D arrays (spectra, time series)\n",
    "- 2D arrays (images, catalogs)\n",
    "- 3D arrays (spectral cubes, multiple images)\n",
    "\n",
    "### Data Type Property\n",
    "\n",
    "We've already seen `.dtype`, but it's worth emphasizing its importance:"
   ]
  },
  {
   "cell_type": "code",
   "execution_count": 50,
   "id": "1e11805f",
   "metadata": {},
   "outputs": [
    {
     "name": "stdout",
     "output_type": "stream",
     "text": [
      "Data type: float64\n"
     ]
    }
   ],
   "source": [
    "print(f\"Data type: {data.dtype}\")"
   ]
  },
  {
   "cell_type": "markdown",
   "id": "9e97c49d",
   "metadata": {},
   "source": [
    "Always check dtype when debugging - many errors come from unexpected type conversions.\n",
    "\n",
    "## Broadcasting\n",
    "\n",
    "Broadcasting is NumPy's \"magic\" that allows operations between arrays of different shapes. Understanding broadcasting is essential because it's what enables NumPy to perform operations on entire arrays without loops. This fundamental concept underlies all the mathematical operations we'll explore next.\n",
    "\n",
    "### Scalar Broadcasting\n",
    "\n",
    "When you combine a scalar (single number) with an array, NumPy \"broadcasts\" the scalar to match the array's shape:"
   ]
  },
  {
   "cell_type": "code",
   "execution_count": 51,
   "id": "f1c65420",
   "metadata": {},
   "outputs": [],
   "source": [
    "mags = np.array([10.5, 11.2, 9.8])\n",
    "extinction = 0.3  # Atmospheric extinction in magnitudes"
   ]
  },
  {
   "cell_type": "code",
   "execution_count": 52,
   "id": "c81484cc",
   "metadata": {},
   "outputs": [
    {
     "name": "stdout",
     "output_type": "stream",
     "text": [
      "Original: [10.5 11.2  9.8]\n",
      "Add 0.3 to each: [10.8 11.5 10.1]\n"
     ]
    }
   ],
   "source": [
    "corrected = mags + extinction\n",
    "print(\"Original:\", mags)\n",
    "print(\"Add\", extinction, \"to each:\", corrected)"
   ]
  },
  {
   "cell_type": "markdown",
   "id": "065aaced",
   "metadata": {},
   "source": [
    "Behind the scenes, NumPy treats this as if extinction were `[0.3, 0.3, 0.3]`, but without actually creating that array in memory. This is why you can perform mathematical operations on entire arrays without writing loops!\n",
    "\n",
    "### Broadcasting Rules\n",
    "\n",
    "NumPy's broadcasting follows specific rules that determine whether arrays can be operated on together:\n",
    "\n",
    "**Rule 1: Dimension Padding** - When arrays have different numbers of dimensions, NumPy conceptually pads the smaller-dimensional array with dimensions of size 1 on the **left** (not the right).\n",
    "\n",
    "**Rule 2: Dimension Compatibility** - After padding, NumPy compares the dimensions of both arrays element by element. Two dimensions are compatible when:\n",
    "- They are equal, OR\n",
    "- One of them is 1 (in which case that dimension will be broadcast/stretched to match the other)\n",
    "   \n",
    "What does \"broadcast/stretched\" mean? When NumPy encounters a dimension of size 1, it conceptually repeats that dimension's data to match the larger dimension. For example, if you have shapes (3, 1) and (3, 4), the dimension of size 1 gets \"stretched\" by repeating its single value 4 times to create an effective shape of (3, 4). Importantly, NumPy doesn't actually copy the data in memory - it just acts as if the data were repeated, making this operation very memory efficient.\n",
    "\n",
    "If any dimension pair doesn't satisfy these conditions, you get an error.\n",
    "\n",
    "Let's see this in action with a practical example:"
   ]
  },
  {
   "cell_type": "code",
   "execution_count": 53,
   "id": "49014e1f",
   "metadata": {},
   "outputs": [
    {
     "name": "stdout",
     "output_type": "stream",
     "text": [
      "observations.shape: (2, 3)\n",
      "zero_points.shape: (3,)\n",
      "Calibrated shape: (2, 3)\n",
      "Calibrated values:\n",
      "[[10.4  10.6  10.15]\n",
      " [11.1  11.3  10.85]]\n"
     ]
    }
   ],
   "source": [
    "# 2 stars observed in 3 filters (g, r, i bands)\n",
    "observations = np.array([[10.5, 10.8, 10.3],  # Star 1\n",
    "                        [11.2, 11.5, 11.0]])   # Star 2\n",
    "print(\"observations.shape:\", observations.shape)  # (2, 3)\n",
    "\n",
    "# Each filter has a different zero-point correction\n",
    "zero_points = np.array([0.1, 0.2, 0.15])\n",
    "print(\"zero_points.shape:\", zero_points.shape)    # (3,)\n",
    "\n",
    "# Broadcasting applies each correction to its column\n",
    "calibrated = observations - zero_points\n",
    "print(\"Calibrated shape:\", calibrated.shape)      # (2, 3)\n",
    "print(\"Calibrated values:\")\n",
    "print(calibrated)"
   ]
  },
  {
   "cell_type": "markdown",
   "id": "a5e6cbf2",
   "metadata": {},
   "source": [
    "Why does this work? Let's trace through NumPy's thought process:\n",
    "1. NumPy sees arrays with shapes (2, 3) and (3,)\n",
    "2. It pads the smaller-dimensional array on the left: (3,) becomes (1, 3)\n",
    "3. Now it compares dimensions element by element: (2, 3) vs (1, 3)\n",
    "   - First dimension: 2 vs 1 → dimension of 1 broadcasts to 2 ✓\n",
    "   - Second dimension: 3 vs 3 → equal, compatible ✓\n",
    "4. Result has shape (2, 3)\n",
    "\n",
    "The 1D array `zero_points` is broadcast across each row of the 2D array. This is exactly what you want - each filter's correction applied to all stars.\n",
    "\n",
    "### When Broadcasting Fails\n",
    "\n",
    "Let's explore what happens when broadcasting rules aren't satisfied:"
   ]
  },
  {
   "cell_type": "code",
   "execution_count": 54,
   "id": "8e23b50c",
   "metadata": {},
   "outputs": [],
   "source": [
    "# This won't work:\n",
    "obs = np.array([[1, 2], [3, 4], [5, 6]])  # Shape (3, 2)\n",
    "correction = np.array([0.1, 0.2, 0.3])     # Shape (3,)\n",
    "\n",
    "# If we try: obs - correction\n",
    "# NumPy pads the 1D array on the left: (3,) becomes (1, 3)\n",
    "# Now comparing: (3, 2) vs (1, 3)\n",
    "# First dimension: 3 vs 1 → 1 would broadcast to 3 ✓\n",
    "# Second dimension: 2 vs 3, neither is 1 → ERROR!"
   ]
  },
  {
   "cell_type": "markdown",
   "id": "8313aa80",
   "metadata": {},
   "source": [
    "The error message will say something like \"operands could not be broadcast together with shapes (3,2) (3,)\". This is NumPy telling you the dimensions don't align properly.\n",
    "\n",
    "### Using np.newaxis to Fix Broadcasting\n",
    "\n",
    "The `np.newaxis` (which is actually `None`) adds a dimension of size 1, making broadcasting possible in cases where it wouldn't work otherwise:"
   ]
  },
  {
   "cell_type": "code",
   "execution_count": 55,
   "id": "4ab00954",
   "metadata": {},
   "outputs": [
    {
     "name": "stdout",
     "output_type": "stream",
     "text": [
      "correction_col shape: (3, 1)\n",
      "Result shape: (3, 2)\n",
      "Result:\n",
      "[[0.9 1.9]\n",
      " [2.8 3.8]\n",
      " [4.7 5.7]]\n"
     ]
    }
   ],
   "source": [
    "# Fix the broadcasting problem:\n",
    "obs = np.array([[1, 2], [3, 4], [5, 6]])  # Shape (3, 2)\n",
    "correction = np.array([0.1, 0.2, 0.3])     # Shape (3,)\n",
    "\n",
    "# Add newaxis to make correction a column vector\n",
    "correction_col = correction[:, np.newaxis]  # Shape becomes (3, 1)\n",
    "print(\"correction_col shape:\", correction_col.shape)\n",
    "\n",
    "# Now it works!\n",
    "result = obs - correction_col  # (3, 2) - (3, 1) works\n",
    "print(\"Result shape:\", result.shape)\n",
    "print(\"Result:\")\n",
    "print(result)"
   ]
  },
  {
   "cell_type": "markdown",
   "id": "cf1c57f5",
   "metadata": {},
   "source": [
    "Now the comparison works:\n",
    "- (3, 2) and (3, 1)\n",
    "- First dimension: 3 = 3 ✓\n",
    "- Second dimension: 2 vs 1 → 1 broadcasts to 2 ✓\n",
    "\n",
    "This technique is essential when you need to apply per-star corrections (along rows) rather than per-filter corrections (along columns).\n",
    "\n",
    "### Broadcasting with Different Shapes\n",
    "\n",
    "Let's explore what happens when we combine a row array with a column array:"
   ]
  },
  {
   "cell_type": "code",
   "execution_count": 56,
   "id": "da383cd8",
   "metadata": {},
   "outputs": [
    {
     "name": "stdout",
     "output_type": "stream",
     "text": [
      "x shape: (3,)\n",
      "x: [0 1 2]\n"
     ]
    }
   ],
   "source": [
    "x = np.array([0, 1, 2])  # Shape (3,)\n",
    "print(\"x shape:\", x.shape)\n",
    "print(\"x:\", x)"
   ]
  },
  {
   "cell_type": "code",
   "execution_count": 57,
   "id": "9b45f780",
   "metadata": {},
   "outputs": [
    {
     "name": "stdout",
     "output_type": "stream",
     "text": [
      "y_column shape: (3, 1)\n",
      "y_column:\n",
      "[[ 0]\n",
      " [10]\n",
      " [20]]\n"
     ]
    }
   ],
   "source": [
    "y = np.array([0, 10, 20])\n",
    "y_column = y[:, np.newaxis]  # Convert to column vector\n",
    "print(\"y_column shape:\", y_column.shape)\n",
    "print(\"y_column:\")\n",
    "print(y_column)"
   ]
  },
  {
   "cell_type": "code",
   "execution_count": 58,
   "id": "d26603a7",
   "metadata": {},
   "outputs": [
    {
     "name": "stdout",
     "output_type": "stream",
     "text": [
      "Result of broadcasting (x + y_column):\n",
      "[[ 0  1  2]\n",
      " [10 11 12]\n",
      " [20 21 22]]\n"
     ]
    }
   ],
   "source": [
    "# Broadcasting creates a 2D grid\n",
    "grid = x + y_column\n",
    "print(\"Result of broadcasting (x + y_column):\")\n",
    "print(grid)"
   ]
  },
  {
   "cell_type": "markdown",
   "id": "8752209f",
   "metadata": {},
   "source": [
    "NumPy effectively extends x to match each row and y-column to match each column, creating all pairwise sums. Let's trace through why this works using the broadcasting rules:\n",
    " \n",
    "- We have x with shape (3,) and y_column with shape (3, 1)\n",
    "- NumPy pads the smaller-dimensional array on the left: x becomes (1, 3)\n",
    "- Now comparing dimensions: (1, 3) vs (3, 1)\n",
    "    - First dimension: 1 vs 3 → 1 broadcasts to 3 ✓\n",
    "    - Second dimension: 3 vs 1 → 1 broadcasts to 3 ✓\n",
    "- Result has shape (3, 3)\n",
    "\n",
    "The broadcasting creates a 3×3 grid where:\n",
    "- x is repeated across 3 rows: [[0, 1, 2], [0, 1, 2], [0, 1, 2]]\n",
    "- y_column is repeated across 3 columns: [[0, 0, 0], [10, 10, 10], [20, 20, 20]]\n",
    "- The addition gives all pairwise sums\n",
    " \n",
    "This technique is useful for creating coordinate grids or computing all pairwise combinations.\n",
    "\n",
    "## Math with Arrays - No Loops Needed!\n",
    "\n",
    "Now that we understand broadcasting, we can fully appreciate NumPy's vectorized operations. These operations apply to entire arrays at once, leveraging broadcasting when needed, and run in compiled C code for maximum speed.\n",
    "\n",
    "### Adding a Number to Every Element\n",
    "\n",
    "Thanks to scalar broadcasting, operations between arrays and single numbers apply to every element:"
   ]
  },
  {
   "cell_type": "code",
   "execution_count": 59,
   "id": "d762382a",
   "metadata": {},
   "outputs": [],
   "source": [
    "magnitudes = np.array([10.5, 11.2, 9.8, 12.3])"
   ]
  },
  {
   "cell_type": "markdown",
   "id": "bac10f23",
   "metadata": {},
   "source": [
    "Let's correct for atmospheric extinction. When starlight passes through Earth's atmosphere, it gets dimmed by about 0.3 magnitudes at sea level (more for stars near the horizon):"
   ]
  },
  {
   "cell_type": "code",
   "execution_count": 60,
   "id": "d77c346e",
   "metadata": {},
   "outputs": [],
   "source": [
    "corrected = magnitudes + 0.3"
   ]
  },
  {
   "cell_type": "code",
   "execution_count": 61,
   "id": "8e460a65",
   "metadata": {},
   "outputs": [
    {
     "name": "stdout",
     "output_type": "stream",
     "text": [
      "Original: [10.5 11.2  9.8 12.3]\n",
      "After extinction: [10.8 11.5 10.1 12.6]\n"
     ]
    }
   ],
   "source": [
    "print(\"Original:\", magnitudes)\n",
    "print(\"After extinction:\", corrected)"
   ]
  },
  {
   "cell_type": "markdown",
   "id": "292418d5",
   "metadata": {},
   "source": [
    "No loop needed! Broadcasting automatically applies 0.3 to each element.\n",
    "\n",
    "### All Basic Math Operations Work\n",
    "\n",
    "Every arithmetic operation works element-wise, with broadcasting handling any shape mismatches:"
   ]
  },
  {
   "cell_type": "code",
   "execution_count": 62,
   "id": "dd8b5d33",
   "metadata": {},
   "outputs": [
    {
     "name": "stdout",
     "output_type": "stream",
     "text": [
      "Multiplied by 2: [21.  22.4 19.6 24.6]\n"
     ]
    }
   ],
   "source": [
    "doubled = magnitudes * 2\n",
    "print(\"Multiplied by 2:\", doubled)"
   ]
  },
  {
   "cell_type": "code",
   "execution_count": 63,
   "id": "1c98d73b",
   "metadata": {},
   "outputs": [
    {
     "name": "stdout",
     "output_type": "stream",
     "text": [
      "Divided by 2: [5.25 5.6  4.9  6.15]\n"
     ]
    }
   ],
   "source": [
    "halved = magnitudes / 2\n",
    "print(\"Divided by 2:\", halved)"
   ]
  },
  {
   "cell_type": "code",
   "execution_count": 64,
   "id": "fe83ff05",
   "metadata": {},
   "outputs": [
    {
     "name": "stdout",
     "output_type": "stream",
     "text": [
      "Squared: [110.25 125.44  96.04 151.29]\n"
     ]
    }
   ],
   "source": [
    "squared = magnitudes ** 2\n",
    "print(\"Squared:\", squared)"
   ]
  },
  {
   "cell_type": "markdown",
   "id": "f5414917",
   "metadata": {},
   "source": [
    "### Complex Calculations\n",
    "\n",
    "Real astronomical calculations often involve multiple operations. The magnitude system is logarithmic, and to convert to linear flux units, we use:\n",
    "flux = 10^(-0.4 × magnitude)\n",
    "\n",
    "This formula comes from the definition that a difference of 5 magnitudes corresponds to a factor of 100 in flux."
   ]
  },
  {
   "cell_type": "code",
   "execution_count": 65,
   "id": "18a441d0",
   "metadata": {},
   "outputs": [],
   "source": [
    "fluxes = 10**(-0.4 * magnitudes)"
   ]
  },
  {
   "cell_type": "code",
   "execution_count": 66,
   "id": "00af51d5",
   "metadata": {},
   "outputs": [
    {
     "name": "stdout",
     "output_type": "stream",
     "text": [
      "Magnitudes: [10.5 11.2  9.8 12.3]\n",
      "Fluxes: [6.30957344e-05 3.31131121e-05 1.20226443e-04 1.20226443e-05]\n"
     ]
    }
   ],
   "source": [
    "print(\"Magnitudes:\", magnitudes)\n",
    "print(\"Fluxes:\", fluxes)"
   ]
  },
  {
   "cell_type": "markdown",
   "id": "772eedf5",
   "metadata": {},
   "source": [
    "Notice how smaller magnitude numbers give larger flux values - the magnitude scale runs backwards! Vega (magnitude 0) is much brighter than a magnitude 15 galaxy. Broadcasting ensures the scalar -0.4 multiplies every element, then 10 is raised to each resulting power.\n",
    "\n",
    "### Math Between Two Arrays\n",
    "\n",
    "When you perform operations between arrays of the same size, NumPy operates element-by-element:"
   ]
  },
  {
   "cell_type": "code",
   "execution_count": 67,
   "id": "bc6a5ef1",
   "metadata": {},
   "outputs": [],
   "source": [
    "v_band = np.array([10.5, 11.2, 9.8])   # Visual band magnitudes\n",
    "b_band = np.array([10.8, 11.5, 10.1])  # Blue band magnitudes"
   ]
  },
  {
   "cell_type": "markdown",
   "id": "cb527f60",
   "metadata": {},
   "source": [
    "The color index (B-V) tells us about a star's temperature. Blue stars are hot, red stars are cool:"
   ]
  },
  {
   "cell_type": "code",
   "execution_count": 68,
   "id": "576b53e1",
   "metadata": {},
   "outputs": [],
   "source": [
    "color = b_band - v_band"
   ]
  },
  {
   "cell_type": "code",
   "execution_count": 69,
   "id": "51b19485",
   "metadata": {},
   "outputs": [
    {
     "name": "stdout",
     "output_type": "stream",
     "text": [
      "B-V color: [0.3 0.3 0.3]\n"
     ]
    }
   ],
   "source": [
    "print(\"B-V color:\", color)"
   ]
  },
  {
   "cell_type": "markdown",
   "id": "8e8cb5cd",
   "metadata": {},
   "source": [
    "Positive B-V means the star is redder (cooler), like our Sun with B-V ≈ 0.65. Negative B-V indicates a hot, blue star like Rigel with B-V ≈ -0.03.\n",
    "\n",
    "### NumPy Math Functions\n",
    "\n",
    "NumPy provides optimized versions of all common mathematical functions that work on entire arrays.\n",
    "\n",
    "For example, parallax is the tiny apparent shift in a star's position as Earth orbits the Sun. The Gaia satellite measures parallaxes in milliarcseconds, and we convert to distance using:\n",
    "distance (parsecs) = 1000 / parallax (milliarcseconds)"
   ]
  },
  {
   "cell_type": "code",
   "execution_count": 70,
   "id": "4eed7bac",
   "metadata": {},
   "outputs": [],
   "source": [
    "parallaxes = np.array([10, 5, 2, 1])  # in milliarcseconds"
   ]
  },
  {
   "cell_type": "code",
   "execution_count": 71,
   "id": "2d3bbb66",
   "metadata": {},
   "outputs": [],
   "source": [
    "distances = 1000 / parallaxes  # Distance in parsecs"
   ]
  },
  {
   "cell_type": "code",
   "execution_count": 72,
   "id": "abc31b92",
   "metadata": {},
   "outputs": [
    {
     "name": "stdout",
     "output_type": "stream",
     "text": [
      "Parallaxes (mas): [10  5  2  1]\n",
      "Distances (pc): [ 100.  200.  500. 1000.]\n"
     ]
    }
   ],
   "source": [
    "print(\"Parallaxes (mas):\", parallaxes)\n",
    "print(\"Distances (pc):\", distances)"
   ]
  },
  {
   "cell_type": "markdown",
   "id": "0e5d30bf",
   "metadata": {},
   "source": [
    "A parallax of 1 milliarcsecond corresponds to 1000 parsecs (about 3260 light-years). Here, broadcasting divides the scalar 1000 by each array element.\n",
    "\n",
    "For trigonometry, NumPy provides sin, cos, tan, and more. These functions expect angles in radians, not degrees:"
   ]
  },
  {
   "cell_type": "code",
   "execution_count": 73,
   "id": "5c40e501",
   "metadata": {},
   "outputs": [],
   "source": [
    "angles_deg = np.array([0, 30, 45, 60, 90])"
   ]
  },
  {
   "cell_type": "markdown",
   "id": "4ce163cf",
   "metadata": {},
   "source": [
    "Convert degrees to radians using `np.deg2rad()`:"
   ]
  },
  {
   "cell_type": "code",
   "execution_count": 74,
   "id": "00eef679",
   "metadata": {},
   "outputs": [],
   "source": [
    "angles_rad = np.deg2rad(angles_deg)"
   ]
  },
  {
   "cell_type": "markdown",
   "id": "dfbd3229",
   "metadata": {},
   "source": [
    "Now calculate trigonometric functions:"
   ]
  },
  {
   "cell_type": "code",
   "execution_count": 75,
   "id": "6e77a250",
   "metadata": {},
   "outputs": [],
   "source": [
    "sines = np.sin(angles_rad)\n",
    "cosines = np.cos(angles_rad)"
   ]
  },
  {
   "cell_type": "code",
   "execution_count": 76,
   "id": "343dc818",
   "metadata": {},
   "outputs": [
    {
     "name": "stdout",
     "output_type": "stream",
     "text": [
      "Angles (degrees): [ 0 30 45 60 90]\n",
      "Sines: [0.         0.5        0.70710678 0.8660254  1.        ]\n",
      "Cosines: [1.00000000e+00 8.66025404e-01 7.07106781e-01 5.00000000e-01\n",
      " 6.12323400e-17]\n"
     ]
    }
   ],
   "source": [
    "print(\"Angles (degrees):\", angles_deg)\n",
    "print(\"Sines:\", sines)\n",
    "print(\"Cosines:\", cosines)"
   ]
  },
  {
   "cell_type": "markdown",
   "id": "39db8e1c",
   "metadata": {},
   "source": [
    "These trigonometric functions are essential for coordinate transformations, calculating angular separations, and many other astronomical calculations.\n",
    "\n",
    "## Array Indexing and Slicing\n",
    "\n",
    "Accessing and extracting data from arrays is fundamental to data analysis. NumPy provides powerful and flexible indexing.\n",
    "\n",
    "### Basic Indexing\n",
    "\n",
    "Arrays use zero-based indexing just like Python lists:"
   ]
  },
  {
   "cell_type": "code",
   "execution_count": 77,
   "id": "0e0eadfb",
   "metadata": {},
   "outputs": [],
   "source": [
    "data = np.array([10.5, 11.2, 9.8, 12.3, 10.9])"
   ]
  },
  {
   "cell_type": "code",
   "execution_count": 78,
   "id": "46b83435",
   "metadata": {},
   "outputs": [
    {
     "name": "stdout",
     "output_type": "stream",
     "text": [
      "First element (index 0): 10.5\n",
      "Third element (index 2): 9.8\n",
      "Last element (index -1): 10.9\n"
     ]
    }
   ],
   "source": [
    "print(f\"First element (index 0): {data[0]}\")\n",
    "print(f\"Third element (index 2): {data[2]}\")\n",
    "print(f\"Last element (index -1): {data[-1]}\")"
   ]
  },
  {
   "cell_type": "markdown",
   "id": "770ff97d",
   "metadata": {},
   "source": [
    "Remember: Python counts from 0, and negative indices count backwards from the end.\n",
    "\n",
    "### Slicing with Start:Stop:Step\n",
    "\n",
    "Array slicing uses the syntax `[start:stop:step]`. This extracts a portion of the array:"
   ]
  },
  {
   "cell_type": "code",
   "execution_count": 79,
   "id": "65e40660",
   "metadata": {},
   "outputs": [
    {
     "name": "stdout",
     "output_type": "stream",
     "text": [
      "First three: [10.5 11.2  9.8]\n",
      "From index 1 to 4: [11.2  9.8 12.3]\n",
      "Every other element: [10.5  9.8 10.9]\n",
      "Reversed: [10.9 12.3  9.8 11.2 10.5]\n"
     ]
    }
   ],
   "source": [
    "print(\"First three:\", data[:3])       # Start=0, stop=3, step=1 (defaults)\n",
    "print(\"From index 1 to 4:\", data[1:4])   # Elements at indices 1, 2, 3\n",
    "print(\"Every other element:\", data[::2]) # Step=2 skips elements\n",
    "print(\"Reversed:\", data[::-1])        # Step=-1 reverses the array"
   ]
  },
  {
   "cell_type": "markdown",
   "id": "54812de3",
   "metadata": {},
   "source": [
    "The stop index is exclusive - we get elements up to but not including the stop position.\n",
    "\n",
    "### 2D Array Indexing\n",
    "\n",
    "For 2D arrays, use a comma to separate dimensions. Think of it as [row, column]:"
   ]
  },
  {
   "cell_type": "code",
   "execution_count": 80,
   "id": "246fd6ec",
   "metadata": {},
   "outputs": [],
   "source": [
    "catalog = np.array([[25.3, 1.2, 10.5],   # Star 1: RA, Dec, Mag\n",
    "                    [48.7, -5.3, 11.2],   # Star 2: RA, Dec, Mag\n",
    "                    [102.4, 15.6, 9.8]])  # Star 3: RA, Dec, Mag"
   ]
  },
  {
   "cell_type": "markdown",
   "id": "83daaf13",
   "metadata": {},
   "source": [
    "Get a single element with [row, column]:"
   ]
  },
  {
   "cell_type": "code",
   "execution_count": 81,
   "id": "99564746",
   "metadata": {},
   "outputs": [
    {
     "name": "stdout",
     "output_type": "stream",
     "text": [
      "Star 2 declination: -5.3\n"
     ]
    }
   ],
   "source": [
    "star2_dec = catalog[1, 1]  # Row 1 (second star), column 1 (declination)\n",
    "print(f\"Star 2 declination: {star2_dec}\")"
   ]
  },
  {
   "cell_type": "markdown",
   "id": "7590ae8e",
   "metadata": {},
   "source": [
    "Get an entire row (all data for one star):"
   ]
  },
  {
   "cell_type": "code",
   "execution_count": 82,
   "id": "a4d6bdb8",
   "metadata": {},
   "outputs": [
    {
     "name": "stdout",
     "output_type": "stream",
     "text": [
      "First star data: [25.3  1.2 10.5]\n"
     ]
    }
   ],
   "source": [
    "star_1 = catalog[0]  # Could also write catalog[0, :]\n",
    "print(\"First star data:\", star_1)"
   ]
  },
  {
   "cell_type": "markdown",
   "id": "5b996dd5",
   "metadata": {},
   "source": [
    "Get an entire column (one property for all stars):"
   ]
  },
  {
   "cell_type": "code",
   "execution_count": 83,
   "id": "13d65b77",
   "metadata": {},
   "outputs": [
    {
     "name": "stdout",
     "output_type": "stream",
     "text": [
      "All magnitudes: [10.5 11.2  9.8]\n"
     ]
    }
   ],
   "source": [
    "all_mags = catalog[:, 2]  # All rows, column 2 (magnitude)\n",
    "print(\"All magnitudes:\", all_mags)"
   ]
  },
  {
   "cell_type": "markdown",
   "id": "3e005997",
   "metadata": {},
   "source": [
    "The colon `:` means \"all elements along this dimension.\"\n",
    "\n",
    "### Advanced Indexing with Integer Arrays\n",
    "\n",
    "You can select specific elements using an array of indices. This is powerful for selecting subsets of data:"
   ]
  },
  {
   "cell_type": "code",
   "execution_count": 84,
   "id": "4f81b44f",
   "metadata": {},
   "outputs": [],
   "source": [
    "indices = np.array([0, 2])  # Want 1st and 3rd stars\n",
    "selected = catalog[indices]"
   ]
  },
  {
   "cell_type": "code",
   "execution_count": 85,
   "id": "836f7238",
   "metadata": {},
   "outputs": [
    {
     "name": "stdout",
     "output_type": "stream",
     "text": [
      "Selected stars:\n",
      " [[ 25.3   1.2  10.5]\n",
      " [102.4  15.6   9.8]]\n"
     ]
    }
   ],
   "source": [
    "print(\"Selected stars:\\n\", selected)"
   ]
  },
  {
   "cell_type": "markdown",
   "id": "6e0407a8",
   "metadata": {},
   "source": [
    "This is extremely useful when you have a list of interesting objects to extract from a larger catalog.\n",
    "\n",
    "## Selecting Data with Conditions\n",
    "\n",
    "One of NumPy's most powerful features is boolean indexing - selecting data based on conditions. This is how you filter astronomical catalogs.\n",
    "\n",
    "### Boolean Masks\n",
    "\n",
    "A boolean mask is an array of True/False values. When used as an index, it selects only the True elements:"
   ]
  },
  {
   "cell_type": "code",
   "execution_count": 86,
   "id": "349240c6",
   "metadata": {},
   "outputs": [],
   "source": [
    "mags = np.array([10.5, 11.2, 9.8, 12.3, 10.9])"
   ]
  },
  {
   "cell_type": "markdown",
   "id": "5ad5cd69",
   "metadata": {},
   "source": [
    "Create a condition (remember: smaller magnitude = brighter star):"
   ]
  },
  {
   "cell_type": "code",
   "execution_count": 87,
   "id": "2f38ae46",
   "metadata": {},
   "outputs": [],
   "source": [
    "is_bright = mags < 11.0"
   ]
  },
  {
   "cell_type": "code",
   "execution_count": 88,
   "id": "8f321541",
   "metadata": {},
   "outputs": [
    {
     "name": "stdout",
     "output_type": "stream",
     "text": [
      "Magnitudes: [10.5 11.2  9.8 12.3 10.9]\n",
      "Is bright?: [ True False  True False  True]\n",
      "Type: <class 'numpy.ndarray'>\n"
     ]
    }
   ],
   "source": [
    "print(\"Magnitudes:\", mags)\n",
    "print(\"Is bright?:\", is_bright)\n",
    "print(\"Type:\", type(is_bright))"
   ]
  },
  {
   "cell_type": "markdown",
   "id": "4ed1a7e7",
   "metadata": {},
   "source": [
    "Use the boolean mask to select only the bright stars:"
   ]
  },
  {
   "cell_type": "code",
   "execution_count": 89,
   "id": "a3fccf0d",
   "metadata": {},
   "outputs": [
    {
     "name": "stdout",
     "output_type": "stream",
     "text": [
      "Bright stars only: [10.5  9.8 10.9]\n"
     ]
    }
   ],
   "source": [
    "bright_stars = mags[is_bright]\n",
    "print(\"Bright stars only:\", bright_stars)"
   ]
  },
  {
   "cell_type": "markdown",
   "id": "c2cd3a6c",
   "metadata": {},
   "source": [
    "Count how many stars meet the condition: `np.sum()` works because Python treats True as 1 and False as 0 in arithmetic operations. So summing a boolean array counts the `True` values - an elegant way to count!"
   ]
  },
  {
   "cell_type": "code",
   "execution_count": 90,
   "id": "a9a100b2",
   "metadata": {},
   "outputs": [
    {
     "name": "stdout",
     "output_type": "stream",
     "text": [
      "Number of bright stars: 3\n"
     ]
    }
   ],
   "source": [
    "n_bright = np.sum(is_bright)  # True=1, False=0 in arithmetic\n",
    "print(f\"Number of bright stars: {n_bright}\")"
   ]
  },
  {
   "cell_type": "markdown",
   "id": "8962911b",
   "metadata": {},
   "source": [
    "This is how you'd select all stars brighter than a certain limit for follow-up observations!\n",
    "\n",
    "### Combining Multiple Conditions\n",
    "\n",
    "Use `&` for AND, `|` for OR. Important: Don't use the Python keywords 'and'/'or' - they don't work with arrays!\n"
   ]
  },
  {
   "cell_type": "code",
   "execution_count": 91,
   "id": "61130b51",
   "metadata": {},
   "outputs": [],
   "source": [
    "# Find stars with magnitude between 10 and 11\n",
    "moderate = (mags > 10.0) & (mags < 11.0)"
   ]
  },
  {
   "cell_type": "code",
   "execution_count": 92,
   "id": "bec4ce95",
   "metadata": {},
   "outputs": [
    {
     "name": "stdout",
     "output_type": "stream",
     "text": [
      "Between 10 and 11: [10.5 10.9]\n"
     ]
    }
   ],
   "source": [
    "print(\"Between 10 and 11:\", mags[moderate])"
   ]
  },
  {
   "cell_type": "markdown",
   "id": "06d33cc6",
   "metadata": {},
   "source": [
    "Always use parentheses around each condition to ensure proper precedence."
   ]
  },
  {
   "cell_type": "code",
   "execution_count": 93,
   "id": "cb24edc9",
   "metadata": {},
   "outputs": [
    {
     "name": "stdout",
     "output_type": "stream",
     "text": [
      "Extreme brightness: [ 9.8 12.3]\n"
     ]
    }
   ],
   "source": [
    "# Find very bright OR very faint stars\n",
    "extreme = (mags < 10.0) | (mags > 12.0)\n",
    "print(\"Extreme brightness:\", mags[extreme])"
   ]
  },
  {
   "cell_type": "markdown",
   "id": "ae463f39",
   "metadata": {},
   "source": [
    "This is how you'd select outliers or interesting objects from a catalog."
   ]
  },
  {
   "cell_type": "markdown",
   "id": "a8b8c7a3",
   "metadata": {},
   "source": [
    "\n",
    "\n",
    "### The np.where() Function\n",
    "\n",
    "The `np.where()` function is used to find indices where a condition is True"
   ]
  },
  {
   "cell_type": "code",
   "execution_count": 94,
   "id": "3f5134d0",
   "metadata": {},
   "outputs": [],
   "source": [
    "bright_indices = np.where(mags < 11.0)"
   ]
  },
  {
   "cell_type": "code",
   "execution_count": 95,
   "id": "fa56e03a",
   "metadata": {},
   "outputs": [
    {
     "name": "stdout",
     "output_type": "stream",
     "text": [
      "Indices tuple: (array([0, 2, 4]),)\n",
      "Actual indices: [0 2 4]\n"
     ]
    }
   ],
   "source": [
    "print(\"Indices tuple:\", bright_indices)\n",
    "print(\"Actual indices:\", bright_indices[0])"
   ]
  },
  {
   "cell_type": "markdown",
   "id": "e04cb328",
   "metadata": {},
   "source": [
    "Note that `np.where` returns a tuple (to handle multi-dimensional arrays), so we use [0] to get the actual indices for a 1D array. For a 2D array, it would return (row_indices, col_indices).\n"
   ]
  },
  {
   "cell_type": "markdown",
   "id": "e37a03c7",
   "metadata": {},
   "source": [
    "## Arrays: Copies vs Views\n",
    "\n",
    "Understanding when NumPy creates a copy of data versus a \"view\" that shares memory with the original is crucial. This concept prevents subtle bugs and helps you write memory-efficient code.\n",
    "\n",
    "### What is a View?\n",
    "\n",
    "A view is similar to the concept of \"reference\" we discussed with Python lists, but with some distinctions that are not particularly important for our purposes. While a reference is simply another name pointing to the same object, a NumPy view is actually a **new array object** that looks at the same underlying data. Think of it as a different window into the same data buffer - it can have its own shape, its own slicing. But like reference for a python list, any changes to the data through either the view or the original will affect both.\n",
    "\n",
    "### Views Share Memory\n",
    "\n",
    "When you slice an array, NumPy creates a view rather than copying the data. This is efficient but can lead to surprises:"
   ]
  },
  {
   "cell_type": "code",
   "execution_count": 96,
   "id": "64b72316",
   "metadata": {},
   "outputs": [],
   "source": [
    "original = np.array([1, 2, 3, 4])"
   ]
  },
  {
   "cell_type": "code",
   "execution_count": 97,
   "id": "1cc8b5ad",
   "metadata": {},
   "outputs": [
    {
     "name": "stdout",
     "output_type": "stream",
     "text": [
      "View: [2 3]\n"
     ]
    }
   ],
   "source": [
    "view = original[1:3]  # This is a view, not a copy\n",
    "print(\"View:\", view)"
   ]
  },
  {
   "cell_type": "markdown",
   "id": "43074db9",
   "metadata": {},
   "source": [
    "If we modify the view, it changes the original array too:"
   ]
  },
  {
   "cell_type": "code",
   "execution_count": 98,
   "id": "cb71046e",
   "metadata": {},
   "outputs": [
    {
     "name": "stdout",
     "output_type": "stream",
     "text": [
      "View after change: [999   3]\n",
      "Original also changed: [  1 999   3   4]\n"
     ]
    }
   ],
   "source": [
    "view[0] = 999\n",
    "print(\"View after change:\", view)\n",
    "print(\"Original also changed:\", original)"
   ]
  },
  {
   "cell_type": "markdown",
   "id": "d67ea8bb",
   "metadata": {},
   "source": [
    "This behavior is actually useful when you want to modify a portion of a large image without duplicating memory. But it can cause bugs if you're not expecting it!\n",
    "\n",
    "### Copies are Independent\n",
    "\n",
    "To create an independent copy that won't affect the original, use the `.copy()` method explicitly:"
   ]
  },
  {
   "cell_type": "code",
   "execution_count": 99,
   "id": "1ec91b86",
   "metadata": {},
   "outputs": [],
   "source": [
    "original = np.array([1, 2, 3, 4])\n",
    "copy = original[1:3].copy()  # Explicit copy"
   ]
  },
  {
   "cell_type": "code",
   "execution_count": 100,
   "id": "143ec8d3",
   "metadata": {},
   "outputs": [
    {
     "name": "stdout",
     "output_type": "stream",
     "text": [
      "Copy after change: [999   3]\n",
      "Original unchanged: [1 2 3 4]\n"
     ]
    }
   ],
   "source": [
    "copy[0] = 999\n",
    "print(\"Copy after change:\", copy)\n",
    "print(\"Original unchanged:\", original)"
   ]
  },
  {
   "cell_type": "markdown",
   "id": "1d71b51e",
   "metadata": {},
   "source": [
    "When working with large astronomical images, be mindful of whether you need a copy (independent data) or if a view (shared memory) is sufficient.\n",
    "\n",
    "## Array Reshaping (Creates View)\n",
    "\n",
    "Sometimes we need to reorganize our data without changing the values themselves. NumPy provides several methods for reshaping arrays.\n",
    "\n",
    "The `reshape()` method changes an array's dimensions while keeping all the same elements. The total number of elements must remain constant:"
   ]
  },
  {
   "cell_type": "code",
   "execution_count": 101,
   "id": "b0132a18",
   "metadata": {},
   "outputs": [
    {
     "name": "stdout",
     "output_type": "stream",
     "text": [
      "Original 1D array: [1 2 3 4 5 6]\n"
     ]
    }
   ],
   "source": [
    "data_1d = np.array([1, 2, 3, 4, 5, 6])\n",
    "print(\"Original 1D array:\", data_1d)"
   ]
  },
  {
   "cell_type": "markdown",
   "id": "f7b8ecf4",
   "metadata": {},
   "source": [
    "Reshape to 2 rows and 3 columns:"
   ]
  },
  {
   "cell_type": "code",
   "execution_count": 102,
   "id": "b9826e2d",
   "metadata": {},
   "outputs": [],
   "source": [
    "data_2d = data_1d.reshape(2, 3)"
   ]
  },
  {
   "cell_type": "code",
   "execution_count": 103,
   "id": "db790c36",
   "metadata": {},
   "outputs": [
    {
     "name": "stdout",
     "output_type": "stream",
     "text": [
      "Reshaped to 2D:\n",
      "[[1 2 3]\n",
      " [4 5 6]]\n"
     ]
    }
   ],
   "source": [
    "print(\"Reshaped to 2D:\")\n",
    "print(data_2d)"
   ]
  },
  {
   "cell_type": "markdown",
   "id": "6df5ae80",
   "metadata": {},
   "source": [
    "**Important:** Reshaping creates a VIEW, not a copy! This means the reshaped array shares memory with the original:"
   ]
  },
  {
   "cell_type": "code",
   "execution_count": 104,
   "id": "296d1270",
   "metadata": {},
   "outputs": [
    {
     "name": "stdout",
     "output_type": "stream",
     "text": [
      "Modified reshaped array:\n",
      "[[99  2  3]\n",
      " [ 4  5  6]]\n",
      "Original also changed: [99  2  3  4  5  6]\n"
     ]
    }
   ],
   "source": [
    "data_2d[0, 0] = 99\n",
    "print(\"Modified reshaped array:\")\n",
    "print(data_2d)\n",
    "print(\"Original also changed:\", data_1d)"
   ]
  },
  {
   "cell_type": "markdown",
   "id": "05ab0099",
   "metadata": {},
   "source": [
    "This is useful when reading data from files - often data comes in as a 1D stream that you need to reshape into an image. Since it's a view, no memory is wasted on copies.\n",
    "\n",
    "You can use -1 to have NumPy automatically calculate one dimension:"
   ]
  },
  {
   "cell_type": "code",
   "execution_count": 105,
   "id": "5f81dbcc",
   "metadata": {},
   "outputs": [
    {
     "name": "stdout",
     "output_type": "stream",
     "text": [
      "Auto-calculated shape:\n",
      "[[1 2]\n",
      " [3 4]\n",
      " [5 6]]\n"
     ]
    }
   ],
   "source": [
    "data_1d = np.array([1, 2, 3, 4, 5, 6])\n",
    "auto_reshape = data_1d.reshape(-1, 2)  # Auto-calculates rows\n",
    "print(\"Auto-calculated shape:\")\n",
    "print(auto_reshape)"
   ]
  },
  {
   "cell_type": "markdown",
   "id": "d44f4cc8",
   "metadata": {},
   "source": [
    "## Flattening Arrays (Creates Copy or View)\n",
    "\n",
    "Sometimes you need to convert a multi-dimensional array back to 1D. NumPy provides two methods with different memory behaviors.\n",
    "\n",
    "The `flatten()` method **always creates a copy**:"
   ]
  },
  {
   "cell_type": "code",
   "execution_count": 106,
   "id": "0749efa2",
   "metadata": {},
   "outputs": [],
   "source": [
    "image = np.array([[1, 2, 3], \n",
    "                  [4, 5, 6]])"
   ]
  },
  {
   "cell_type": "code",
   "execution_count": 107,
   "id": "df6a0af6",
   "metadata": {},
   "outputs": [
    {
     "name": "stdout",
     "output_type": "stream",
     "text": [
      "Flattened: [1 2 3 4 5 6]\n"
     ]
    }
   ],
   "source": [
    "flat = image.flatten()\n",
    "print(\"Flattened:\", flat)"
   ]
  },
  {
   "cell_type": "markdown",
   "id": "7831bfce",
   "metadata": {},
   "source": [
    "Since it's a copy, modifying it doesn't affect the original:"
   ]
  },
  {
   "cell_type": "code",
   "execution_count": 108,
   "id": "9f01ea44",
   "metadata": {},
   "outputs": [
    {
     "name": "stdout",
     "output_type": "stream",
     "text": [
      "Modified flat: [99  2  3  4  5  6]\n",
      "Original unchanged: [[1 2 3]\n",
      " [4 5 6]]\n"
     ]
    }
   ],
   "source": [
    "flat[0] = 99\n",
    "print(\"Modified flat:\", flat)\n",
    "print(\"Original unchanged:\", image)"
   ]
  },
  {
   "cell_type": "markdown",
   "id": "6064869e",
   "metadata": {},
   "source": [
    "The `ravel()` method also flattens but **might return a view** instead of a copy (more memory efficient):"
   ]
  },
  {
   "cell_type": "code",
   "execution_count": 109,
   "id": "86eda2cc",
   "metadata": {},
   "outputs": [
    {
     "name": "stdout",
     "output_type": "stream",
     "text": [
      "Raveled: [1 2 3 4 5 6]\n"
     ]
    }
   ],
   "source": [
    "raveled = image.ravel()\n",
    "print(\"Raveled:\", raveled)"
   ]
  },
  {
   "cell_type": "markdown",
   "id": "9d509c52",
   "metadata": {},
   "source": [
    "Use `flatten()` when you need to ensure the result is independent of the original. Use `ravel()` when you want to be memory-efficient and don't mind if it's a view.\n",
    "\n",
    "## Transpose (Creates View)\n",
    "\n",
    "The `.T` attribute swaps rows and columns - essentially rotating the array by 90 degrees:"
   ]
  },
  {
   "cell_type": "code",
   "execution_count": 110,
   "id": "b46be03f",
   "metadata": {},
   "outputs": [],
   "source": [
    "matrix = np.array([[1, 2, 3],\n",
    "                   [4, 5, 6]])"
   ]
  },
  {
   "cell_type": "code",
   "execution_count": 111,
   "id": "4b918034",
   "metadata": {},
   "outputs": [
    {
     "name": "stdout",
     "output_type": "stream",
     "text": [
      "Original shape: (2, 3)\n",
      "Original:\n",
      " [[1 2 3]\n",
      " [4 5 6]]\n"
     ]
    }
   ],
   "source": [
    "print(\"Original shape:\", matrix.shape)\n",
    "print(\"Original:\\n\", matrix)"
   ]
  },
  {
   "cell_type": "code",
   "execution_count": 112,
   "id": "ac85e3ed",
   "metadata": {},
   "outputs": [
    {
     "name": "stdout",
     "output_type": "stream",
     "text": [
      "\n",
      "Transposed shape: (3, 2)\n",
      "Transposed:\n",
      " [[1 4]\n",
      " [2 5]\n",
      " [3 6]]\n"
     ]
    }
   ],
   "source": [
    "transposed = matrix.T\n",
    "print(\"\\nTransposed shape:\", transposed.shape)\n",
    "print(\"Transposed:\\n\", transposed)"
   ]
  },
  {
   "cell_type": "markdown",
   "id": "e2ad4ab2",
   "metadata": {},
   "source": [
    "**Important:** Transpose creates a VIEW:"
   ]
  },
  {
   "cell_type": "code",
   "execution_count": 113,
   "id": "10712a42",
   "metadata": {},
   "outputs": [
    {
     "name": "stdout",
     "output_type": "stream",
     "text": [
      "Modified transpose:\n",
      " [[99  4]\n",
      " [ 2  5]\n",
      " [ 3  6]]\n",
      "Original also changed:\n",
      " [[99  2  3]\n",
      " [ 4  5  6]]\n"
     ]
    }
   ],
   "source": [
    "transposed[0, 0] = 99\n",
    "print(\"Modified transpose:\\n\", transposed)\n",
    "print(\"Original also changed:\\n\", matrix)"
   ]
  },
  {
   "cell_type": "markdown",
   "id": "09654686",
   "metadata": {},
   "source": [
    "This is particularly useful when you need to switch between \"stars × properties\" and \"properties × stars\" organizations of your data. Just remember that modifications will affect the original array!\n",
    "\n",
    "## Array Stacking and Combining (Creates Copy)\n",
    "\n",
    "When working with multiple observations or datasets, you often need to combine arrays. Unlike reshaping operations, stacking creates new arrays with copies of the data.\n",
    "\n",
    "### Vertical Stacking\n",
    "\n",
    "The `np.vstack()` function stacks arrays vertically (adds rows):"
   ]
  },
  {
   "cell_type": "code",
   "execution_count": 114,
   "id": "88f5080d",
   "metadata": {},
   "outputs": [],
   "source": [
    "night1 = np.array([10.5, 11.2, 9.8])  # 3 stars on night 1\n",
    "night2 = np.array([10.6, 11.1, 9.9])  # Same 3 stars on night 2"
   ]
  },
  {
   "cell_type": "code",
   "execution_count": 115,
   "id": "41146c73",
   "metadata": {},
   "outputs": [],
   "source": [
    "both_nights = np.vstack([night1, night2])"
   ]
  },
  {
   "cell_type": "code",
   "execution_count": 116,
   "id": "cc175144",
   "metadata": {},
   "outputs": [
    {
     "name": "stdout",
     "output_type": "stream",
     "text": [
      "Combined observations:\n",
      "[[10.5 11.2  9.8]\n",
      " [10.6 11.1  9.9]]\n",
      "Shape: (2, 3)\n"
     ]
    }
   ],
   "source": [
    "print(\"Combined observations:\")\n",
    "print(both_nights)\n",
    "print(\"Shape:\", both_nights.shape)"
   ]
  },
  {
   "cell_type": "markdown",
   "id": "c98df6e6",
   "metadata": {},
   "source": [
    "Now you have a 2D array where each row is a night of observations. Since this creates a copy, modifying `both_nights` won't affect the original arrays.\n",
    "\n",
    "### Column Stacking\n",
    "\n",
    "The `np.column_stack()` function combines arrays as columns:"
   ]
  },
  {
   "cell_type": "code",
   "execution_count": 117,
   "id": "d0e796ed",
   "metadata": {},
   "outputs": [],
   "source": [
    "mags = np.array([10.5, 11.2, 9.8])\n",
    "colors = np.array([0.3, 0.5, 0.2])  # B-V color indices"
   ]
  },
  {
   "cell_type": "code",
   "execution_count": 118,
   "id": "97673aa6",
   "metadata": {},
   "outputs": [],
   "source": [
    "star_data = np.column_stack([mags, colors])"
   ]
  },
  {
   "cell_type": "code",
   "execution_count": 119,
   "id": "a4c268b0",
   "metadata": {},
   "outputs": [
    {
     "name": "stdout",
     "output_type": "stream",
     "text": [
      "Magnitudes and colors:\n",
      "[[10.5  0.3]\n",
      " [11.2  0.5]\n",
      " [ 9.8  0.2]]\n"
     ]
    }
   ],
   "source": [
    "print(\"Magnitudes and colors:\")\n",
    "print(star_data)"
   ]
  },
  {
   "cell_type": "markdown",
   "id": "4ab25685",
   "metadata": {},
   "source": [
    "Each row now represents a star with multiple properties. This is perfect for building catalogs from separate measurements.\n",
    "\n",
    "### Concatenate\n",
    "\n",
    "The `np.concatenate()` function is the most general combining function. It joins arrays along any axis you specify:"
   ]
  },
  {
   "cell_type": "code",
   "execution_count": 120,
   "id": "1f42f13f",
   "metadata": {},
   "outputs": [],
   "source": [
    "batch1 = np.array([1, 2, 3])\n",
    "batch2 = np.array([4, 5, 6])"
   ]
  },
  {
   "cell_type": "code",
   "execution_count": 121,
   "id": "0dad1df1",
   "metadata": {},
   "outputs": [
    {
     "name": "stdout",
     "output_type": "stream",
     "text": [
      "Joined: [1 2 3 4 5 6]\n"
     ]
    }
   ],
   "source": [
    "# Join along axis 0 (default for 1D arrays)\n",
    "joined = np.concatenate([batch1, batch2])\n",
    "print(\"Joined:\", joined)"
   ]
  },
  {
   "cell_type": "markdown",
   "id": "60ffa05e",
   "metadata": {},
   "source": [
    "For 2D arrays, you can specify the axis:\n",
    "- `axis=0` concatenates vertically (adds rows)\n",
    "- `axis=1` concatenates horizontally (adds columns)\n",
    "\n",
    "This is useful when you're accumulating data from multiple sources or building up a dataset incrementally.\n",
    "\n",
    "## Sorting Arrays\n",
    "\n",
    "Sorting is essential for finding extremes, computing percentiles, and organizing data.\n",
    "\n",
    "### Basic Sorting\n",
    "\n",
    "The `np.sort()` function returns a sorted copy of the array:"
   ]
  },
  {
   "cell_type": "code",
   "execution_count": 122,
   "id": "3722133b",
   "metadata": {},
   "outputs": [],
   "source": [
    "mags = np.array([11.2, 9.8, 12.3, 10.5])"
   ]
  },
  {
   "cell_type": "code",
   "execution_count": 123,
   "id": "fbded4dc",
   "metadata": {},
   "outputs": [
    {
     "name": "stdout",
     "output_type": "stream",
     "text": [
      "Original: [11.2  9.8 12.3 10.5]\n",
      "Sorted (bright to faint): [ 9.8 10.5 11.2 12.3]\n"
     ]
    }
   ],
   "source": [
    "sorted_mags = np.sort(mags)\n",
    "print(\"Original:\", mags)\n",
    "print(\"Sorted (bright to faint):\", sorted_mags)"
   ]
  },
  {
   "cell_type": "markdown",
   "id": "cc53fb71",
   "metadata": {},
   "source": [
    "The original array is unchanged. If you want to sort in-place, use the `.sort()` method instead.\n",
    "\n",
    "### Getting Sort Indices\n",
    "\n",
    "Often you don't just want to sort one array - you want to reorder multiple related arrays the same way. The `np.argsort()` function returns the indices that would sort the array:"
   ]
  },
  {
   "cell_type": "code",
   "execution_count": 124,
   "id": "e17dacd4",
   "metadata": {},
   "outputs": [],
   "source": [
    "sort_indices = np.argsort(mags)"
   ]
  },
  {
   "cell_type": "code",
   "execution_count": 125,
   "id": "dda12069",
   "metadata": {},
   "outputs": [
    {
     "name": "stdout",
     "output_type": "stream",
     "text": [
      "Original magnitudes: [11.2  9.8 12.3 10.5]\n",
      "Sort indices: [1 3 0 2]\n",
      "This means:\n",
      "  Brightest star is at index 1 with mag 9.8\n"
     ]
    }
   ],
   "source": [
    "print(\"Original magnitudes:\", mags)\n",
    "print(\"Sort indices:\", sort_indices)\n",
    "print(\"This means:\")\n",
    "print(f\"  Brightest star is at index {sort_indices[0]} with mag {mags[sort_indices[0]]}\")"
   ]
  },
  {
   "cell_type": "markdown",
   "id": "3a5a09df",
   "metadata": {},
   "source": [
    "Now use these indices to sort related data:"
   ]
  },
  {
   "cell_type": "code",
   "execution_count": 126,
   "id": "19789a1f",
   "metadata": {},
   "outputs": [],
   "source": [
    "star_names = np.array(['Alpha', 'Beta', 'Gamma', 'Delta'])\n",
    "sorted_names = star_names[sort_indices]"
   ]
  },
  {
   "cell_type": "code",
   "execution_count": 127,
   "id": "e9d2a03c",
   "metadata": {},
   "outputs": [
    {
     "name": "stdout",
     "output_type": "stream",
     "text": [
      "Stars from brightest to faintest: ['Beta' 'Delta' 'Alpha' 'Gamma']\n"
     ]
    }
   ],
   "source": [
    "print(\"Stars from brightest to faintest:\", sorted_names)"
   ]
  },
  {
   "cell_type": "markdown",
   "id": "1dbc0a65",
   "metadata": {},
   "source": [
    "This is how you'd create a ranked list of targets for observation, sorted by brightness.\n",
    "\n",
    "### Finding Extrema Indices\n",
    "\n",
    "NumPy provides direct functions to find the indices of minimum and maximum values:"
   ]
  },
  {
   "cell_type": "code",
   "execution_count": 128,
   "id": "3fcbe4f5",
   "metadata": {},
   "outputs": [
    {
     "name": "stdout",
     "output_type": "stream",
     "text": [
      "Brightest star at index 1: magnitude 9.8\n",
      "Faintest star at index 2: magnitude 12.3\n"
     ]
    }
   ],
   "source": [
    "mags = np.array([11.2, 9.8, 12.3, 10.5])\n",
    "\n",
    "brightest_idx = np.argmin(mags)  # Index of minimum (brightest)\n",
    "faintest_idx = np.argmax(mags)   # Index of maximum (faintest)\n",
    "\n",
    "print(f\"Brightest star at index {brightest_idx}: magnitude {mags[brightest_idx]}\")\n",
    "print(f\"Faintest star at index {faintest_idx}: magnitude {mags[faintest_idx]}\")"
   ]
  },
  {
   "cell_type": "markdown",
   "id": "f05b7243",
   "metadata": {},
   "source": [
    "Note: if there are multiple occurrences of the minimum/maximum, `argmin` and `argmax` return the index of the first occurrence.\n",
    "\n",
    "### Finding Unique Values\n",
    "\n",
    "The `np.unique()` function finds all unique values in an array and optionally returns additional information:"
   ]
  },
  {
   "cell_type": "code",
   "execution_count": 129,
   "id": "7281a65c",
   "metadata": {},
   "outputs": [
    {
     "name": "stdout",
     "output_type": "stream",
     "text": [
      "Unique magnitudes (sorted): [ 9.8 10.5 11.2]\n"
     ]
    }
   ],
   "source": [
    "obs = np.array([10.5, 11.2, 10.5, 9.8, 11.2, 10.5])\n",
    "\n",
    "# Just get unique values\n",
    "unique_mags = np.unique(obs)\n",
    "print(\"Unique magnitudes (sorted):\", unique_mags)"
   ]
  },
  {
   "cell_type": "markdown",
   "id": "022c33e8",
   "metadata": {},
   "source": [
    "Get counts of each unique value:"
   ]
  },
  {
   "cell_type": "code",
   "execution_count": 130,
   "id": "616d1fd7",
   "metadata": {},
   "outputs": [
    {
     "name": "stdout",
     "output_type": "stream",
     "text": [
      "Values: [ 9.8 10.5 11.2]\n",
      "Counts: [1 3 2]\n",
      "Mode: 10.5 appears 3 times\n"
     ]
    }
   ],
   "source": [
    "unique, counts = np.unique(obs, return_counts=True)\n",
    "print(\"Values:\", unique)\n",
    "print(\"Counts:\", counts)\n",
    "\n",
    "# Find the most common value (mode)\n",
    "most_common_idx = np.argmax(counts)\n",
    "print(f\"Mode: {unique[most_common_idx]} appears {counts[most_common_idx]} times\")"
   ]
  },
  {
   "cell_type": "markdown",
   "id": "b257496a",
   "metadata": {},
   "source": [
    "This is useful for understanding the distribution of discrete values in your data, like finding the most common spectral type in a stellar sample.\n",
    " \n",
    "## Matrix Operations\n",
    " \n",
    "For linear algebra operations like coordinate transformations or least-squares fitting, NumPy provides specialized matrix operations.\n",
    " \n",
    "### Matrix Multiplication vs Element-wise Multiplication\n",
    " \n",
    "It's crucial to understand the difference between matrix multiplication and element-wise multiplication:\n",
    " \n",
    "- `*` performs **element-wise** multiplication (multiplies corresponding elements at the same positions in arrays, like [a,b] * [c,d] = [a*c, b*d]).\n",
    "\n"
   ]
  },
  {
   "cell_type": "code",
   "execution_count": 131,
   "id": "1e58cfcb",
   "metadata": {},
   "outputs": [
    {
     "name": "stdout",
     "output_type": "stream",
     "text": [
      "Array a: [2 3 4]\n",
      "Array b: [5 6 7]\n",
      "Element-wise (a * b): [10 18 28]\n",
      "\n",
      "Matrix A:\n",
      " [[1 2]\n",
      " [3 4]]\n",
      "Matrix B:\n",
      " [[5 6]\n",
      " [7 8]]\n",
      "Element-wise multiplication:\n",
      " [[ 5 12]\n",
      " [21 32]]\n"
     ]
    }
   ],
   "source": [
    "# Element-wise multiplication example\n",
    "a = np.array([2, 3, 4])\n",
    "b = np.array([5, 6, 7])\n",
    "\n",
    "# Element-wise multiplication (*)\n",
    "element_wise = a * b\n",
    "print(\"Array a:\", a)\n",
    "print(\"Array b:\", b)\n",
    "print(\"Element-wise (a * b):\", element_wise)  # [2*5, 3*6, 4*7] = [10, 18, 28]\n",
    "\n",
    "# This also works with 2D arrays\n",
    "matrix_a = np.array([[1, 2], [3, 4]])\n",
    "matrix_b = np.array([[5, 6], [7, 8]])\n",
    "\n",
    "element_wise_2d = matrix_a * matrix_b\n",
    "print(\"\\nMatrix A:\\n\", matrix_a)\n",
    "print(\"Matrix B:\\n\", matrix_b)\n",
    "print(\"Element-wise multiplication:\\n\", element_wise_2d)\n"
   ]
  },
  {
   "cell_type": "markdown",
   "id": "46bd1f3d",
   "metadata": {},
   "source": [
    "- `@` performs **matrix** multiplication (dot product), which follows the mathematical rules of linear algebra where the number of columns in the first matrix must equal the number of rows in the second matrix. This is essential for operations like coordinate transformations, solving systems of equations, and computing projections."
   ]
  },
  {
   "cell_type": "code",
   "execution_count": 132,
   "id": "b79a3252",
   "metadata": {},
   "outputs": [],
   "source": [
    "# Rotation matrix for 30 degrees\n",
    "angle = np.deg2rad(30)\n",
    "rotation = np.array([[np.cos(angle), -np.sin(angle)],\n",
    "                    [np.sin(angle),  np.cos(angle)]])"
   ]
  },
  {
   "cell_type": "code",
   "execution_count": 133,
   "id": "d0d64755",
   "metadata": {},
   "outputs": [],
   "source": [
    "# Initial position vector\n",
    "position = np.array([1, 0])"
   ]
  },
  {
   "cell_type": "code",
   "execution_count": 134,
   "id": "b46f62d4",
   "metadata": {},
   "outputs": [
    {
     "name": "stdout",
     "output_type": "stream",
     "text": [
      "Original position: [1 0]\n",
      "Rotated position: [0.8660254 0.5      ]\n"
     ]
    }
   ],
   "source": [
    "# Apply rotation\n",
    "new_position = rotation @ position\n",
    "print(\"Original position:\", position)\n",
    "print(\"Rotated position:\", new_position)"
   ]
  },
  {
   "cell_type": "markdown",
   "id": "c22e5b87",
   "metadata": {},
   "source": [
    "You can also use `np.matmul()` or `np.dot()` for matrix multiplication:"
   ]
  },
  {
   "cell_type": "code",
   "execution_count": 135,
   "id": "37798ab0",
   "metadata": {},
   "outputs": [
    {
     "name": "stdout",
     "output_type": "stream",
     "text": [
      "Using matmul: [0.8660254 0.5      ]\n"
     ]
    }
   ],
   "source": [
    "same_result = np.matmul(rotation, position)\n",
    "print(\"Using matmul:\", same_result)"
   ]
  },
  {
   "cell_type": "markdown",
   "id": "d4ecbc7b",
   "metadata": {},
   "source": [
    "The `@` operator is preferred for clarity in modern code.\n",
    "\n",
    "## Random Numbers for Simulations\n",
    "\n",
    "Simulations are crucial in astronomy for understanding instruments, testing pipelines, and making predictions. NumPy's random module provides all the tools you need.\n",
    "\n",
    "### The Random Seed\n",
    "\n",
    "Setting a seed makes random numbers reproducible - essential for debugging and sharing results:"
   ]
  },
  {
   "cell_type": "code",
   "execution_count": 136,
   "id": "67598ec9",
   "metadata": {},
   "outputs": [
    {
     "name": "stdout",
     "output_type": "stream",
     "text": [
      "First random number: 0.3745401188473625\n",
      "Second random number: 0.9507143064099162\n"
     ]
    }
   ],
   "source": [
    "np.random.seed(42)\n",
    "print(\"First random number:\", np.random.random())\n",
    "print(\"Second random number:\", np.random.random())"
   ]
  },
  {
   "cell_type": "markdown",
   "id": "69991453",
   "metadata": {},
   "source": [
    "Reset the seed to get the same sequence again:"
   ]
  },
  {
   "cell_type": "code",
   "execution_count": 137,
   "id": "f1e6c9a1",
   "metadata": {},
   "outputs": [
    {
     "name": "stdout",
     "output_type": "stream",
     "text": [
      "First random number again: 0.3745401188473625\n",
      "Second random number again: 0.9507143064099162\n"
     ]
    }
   ],
   "source": [
    "np.random.seed(42)\n",
    "print(\"First random number again:\", np.random.random())\n",
    "print(\"Second random number again:\", np.random.random())"
   ]
  },
  {
   "cell_type": "markdown",
   "id": "2cb997b2",
   "metadata": {},
   "source": [
    "Without setting a seed, you get different numbers each time:"
   ]
  },
  {
   "cell_type": "code",
   "execution_count": 138,
   "id": "278a16d4",
   "metadata": {},
   "outputs": [
    {
     "name": "stdout",
     "output_type": "stream",
     "text": [
      "Without seed: 0.7319939418114051\n",
      "Different each time: 0.5986584841970366\n"
     ]
    }
   ],
   "source": [
    "print(\"Without seed:\", np.random.random())\n",
    "print(\"Different each time:\", np.random.random())"
   ]
  },
  {
   "cell_type": "markdown",
   "id": "c6043392",
   "metadata": {},
   "source": [
    "Always set a seed at the beginning of simulations to ensure reproducibility! This is crucial for:\n",
    "- Debugging your code\n",
    "- Sharing results with collaborators\n",
    "- Publishing reproducible research\n",
    "\n",
    "### Uniform Distribution\n",
    "\n",
    "The `np.random.uniform()` function generates random numbers uniformly distributed between two values. Perfect for generating random positions:"
   ]
  },
  {
   "cell_type": "code",
   "execution_count": 139,
   "id": "3bb73b00",
   "metadata": {},
   "outputs": [
    {
     "name": "stdout",
     "output_type": "stream",
     "text": [
      "Random RA values: [ 56.16671056  56.15802732  20.91010038 311.82341248 216.40140423]\n"
     ]
    }
   ],
   "source": [
    "# Generate 5 random RA values between 0 and 360 degrees\n",
    "ra = np.random.uniform(0, 360, 5)\n",
    "print(\"Random RA values:\", ra)"
   ]
  },
  {
   "cell_type": "code",
   "execution_count": 140,
   "id": "1a5072c2",
   "metadata": {},
   "outputs": [
    {
     "name": "stdout",
     "output_type": "stream",
     "text": [
      "Random Dec values: [ 37.453064   -86.29479103  84.58377339  59.83967534 -51.77896008]\n"
     ]
    }
   ],
   "source": [
    "# Generate 5 random Dec values between -90 and +90 degrees\n",
    "dec = np.random.uniform(-90, 90, 5)\n",
    "print(\"Random Dec values:\", dec)"
   ]
  },
  {
   "cell_type": "markdown",
   "id": "0a6b3023",
   "metadata": {},
   "source": [
    "Note that this isn't quite right for simulating uniform sky coverage - you need to account for the spherical geometry. Points near the poles are overrepresented because the area of a spherical cap decreases toward the poles.\n",
    "\n",
    "### Normal (Gaussian) Distribution\n",
    "\n",
    "Most measurement errors in astronomy follow a Gaussian (normal) distribution. The `np.random.normal()` function generates these:"
   ]
  },
  {
   "cell_type": "code",
   "execution_count": 141,
   "id": "cfd06215",
   "metadata": {},
   "outputs": [],
   "source": [
    "# Simulate measuring a star's magnitude 5 times\n",
    "true_mag = 10.5\n",
    "measurement_error = 0.1  # Standard deviation of 0.1 magnitudes\n",
    "\n",
    "observed = np.random.normal(true_mag, measurement_error, 5)"
   ]
  },
  {
   "cell_type": "code",
   "execution_count": 142,
   "id": "95c12a66",
   "metadata": {},
   "outputs": [
    {
     "name": "stdout",
     "output_type": "stream",
     "text": [
      "True magnitude: 10.5\n",
      "5 measurements: [10.45365823 10.45342702 10.52419623 10.30867198 10.32750822]\n",
      "Mean of measurements: 10.413\n"
     ]
    }
   ],
   "source": [
    "print(f\"True magnitude: {true_mag}\")\n",
    "print(f\"5 measurements: {observed}\")\n",
    "print(f\"Mean of measurements: {np.mean(observed):.3f}\")"
   ]
  },
  {
   "cell_type": "markdown",
   "id": "328ae222",
   "metadata": {},
   "source": [
    "The mean of many measurements approaches the true value - this is why we take multiple observations! This is the foundation of observational astronomy:\n",
    "- Multiple exposures reduce random noise\n",
    "- Combining observations improves precision\n",
    "- Statistical analysis reveals true values"
   ]
  },
  {
   "cell_type": "code",
   "execution_count": 143,
   "id": "95edd8db",
   "metadata": {},
   "outputs": [],
   "source": [
    "# Generate sample magnitudes from a stellar population\n",
    "np.random.seed(42)\n",
    "mags = np.random.normal(12, 2, 1000)  # 1000 stars with mean mag 12"
   ]
  },
  {
   "cell_type": "code",
   "execution_count": 144,
   "id": "08c986b5",
   "metadata": {},
   "outputs": [],
   "source": [
    "# Compute histogram with 10 bins\n",
    "counts, bins = np.histogram(mags, bins=10)"
   ]
  },
  {
   "cell_type": "code",
   "execution_count": 145,
   "id": "af16c185",
   "metadata": {},
   "outputs": [
    {
     "name": "stdout",
     "output_type": "stream",
     "text": [
      "We have 11 bin edges and 10 counts\n",
      "First bin: 5.5 to 6.9 contains 4 stars\n"
     ]
    }
   ],
   "source": [
    "print(f\"We have {len(bins)} bin edges and {len(counts)} counts\")\n",
    "print(f\"First bin: {bins[0]:.1f} to {bins[1]:.1f} contains {counts[0]} stars\")"
   ]
  },
  {
   "cell_type": "markdown",
   "id": "14b01c53",
   "metadata": {},
   "source": [
    "Note that `bins` has one more element than `counts` - it contains the edges of all bins. This makes sense: for 10 bins, you need 11 edges (think of fence posts and fence panels).\n",
    "\n",
    "Find the peak of the distribution:"
   ]
  },
  {
   "cell_type": "code",
   "execution_count": 146,
   "id": "c6b14bdc",
   "metadata": {},
   "outputs": [
    {
     "name": "stdout",
     "output_type": "stream",
     "text": [
      "Most stars (272) are in bin 4\n",
      "This corresponds to magnitude range 11.2 to 12.6\n"
     ]
    }
   ],
   "source": [
    "peak_bin = np.argmax(counts)\n",
    "print(f\"Most stars ({counts[peak_bin]}) are in bin {peak_bin}\")\n",
    "print(f\"This corresponds to magnitude range {bins[peak_bin]:.1f} to {bins[peak_bin+1]:.1f}\")"
   ]
  },
  {
   "cell_type": "markdown",
   "id": "3aa77cba",
   "metadata": {},
   "source": [
    "## Computing Statistics\n",
    "\n",
    "NumPy provides a comprehensive suite of statistical functions optimized for array operations. These are the workhorses of astronomical data analysis.\n",
    "\n",
    "### Basic Statistics Functions\n",
    "\n",
    "Let's analyze magnitudes from a star cluster:"
   ]
  },
  {
   "cell_type": "code",
   "execution_count": 147,
   "id": "7316d158",
   "metadata": {},
   "outputs": [],
   "source": [
    "cluster_mags = np.array([10.2, 11.5, 9.8, 12.1, 10.7])"
   ]
  },
  {
   "cell_type": "code",
   "execution_count": 148,
   "id": "825ea0b0",
   "metadata": {},
   "outputs": [
    {
     "name": "stdout",
     "output_type": "stream",
     "text": [
      "Mean (average): 10.86\n",
      "Median (middle value): 10.70\n",
      "Standard deviation (spread): 0.84\n",
      "Minimum (brightest): 9.80\n",
      "Maximum (faintest): 12.10\n"
     ]
    }
   ],
   "source": [
    "print(f\"Mean (average): {np.mean(cluster_mags):.2f}\")\n",
    "print(f\"Median (middle value): {np.median(cluster_mags):.2f}\")\n",
    "print(f\"Standard deviation (spread): {np.std(cluster_mags):.2f}\")\n",
    "print(f\"Minimum (brightest): {np.min(cluster_mags):.2f}\")\n",
    "print(f\"Maximum (faintest): {np.max(cluster_mags):.2f}\")"
   ]
  },
  {
   "cell_type": "markdown",
   "id": "f0ce7e9e",
   "metadata": {},
   "source": [
    "### Percentiles\n",
    "\n",
    "The `np.percentile()` function finds the value below which a given percentage of data falls. This is useful for understanding data distributions:"
   ]
  },
  {
   "cell_type": "code",
   "execution_count": 149,
   "id": "b588f50c",
   "metadata": {},
   "outputs": [],
   "source": [
    "percentile_25 = np.percentile(cluster_mags, 25)\n",
    "percentile_75 = np.percentile(cluster_mags, 75)"
   ]
  },
  {
   "cell_type": "code",
   "execution_count": 150,
   "id": "b68d68e3",
   "metadata": {},
   "outputs": [
    {
     "name": "stdout",
     "output_type": "stream",
     "text": [
      "25th percentile: 10.20\n",
      "75th percentile: 11.50\n",
      "This means 25% of stars are brighter than 10.2\n"
     ]
    }
   ],
   "source": [
    "print(f\"25th percentile: {percentile_25:.2f}\")\n",
    "print(f\"75th percentile: {percentile_75:.2f}\")\n",
    "print(\"This means 25% of stars are brighter than\", percentile_25)"
   ]
  },
  {
   "cell_type": "markdown",
   "id": "a9dfeb6b",
   "metadata": {},
   "source": [
    "The range from 25th to 75th percentile (the interquartile range) is a robust measure of spread that's less sensitive to outliers than standard deviation.\n",
    "\n",
    "### The Crucial Axis Parameter\n",
    "\n",
    "For multi-dimensional arrays, you often want statistics along specific dimensions. The `axis` parameter is crucial for controlling this.\n",
    "\n",
    "Consider a realistic scenario: monitoring variable stars over multiple nights:"
   ]
  },
  {
   "cell_type": "code",
   "execution_count": 151,
   "id": "7789b26f",
   "metadata": {},
   "outputs": [],
   "source": [
    "observations = np.array([[10.5, 10.6, 10.4, 10.5],  # Star 1 over 4 nights\n",
    "                        [11.2, 11.3, 11.1, 11.2],   # Star 2 over 4 nights\n",
    "                        [9.8,  9.9,  9.7,  9.8]])    # Star 3 over 4 nights"
   ]
  },
  {
   "cell_type": "code",
   "execution_count": 152,
   "id": "a18f21b9",
   "metadata": {},
   "outputs": [
    {
     "name": "stdout",
     "output_type": "stream",
     "text": [
      "Data shape: (3, 4)\n",
      "This is 3 stars (rows) × 4 nights (columns)\n"
     ]
    }
   ],
   "source": [
    "print(\"Data shape:\", observations.shape)\n",
    "print(\"This is 3 stars (rows) × 4 nights (columns)\")"
   ]
  },
  {
   "cell_type": "markdown",
   "id": "b6c4d131",
   "metadata": {},
   "source": [
    "To get the mean magnitude for each star (averaging across all nights), use `axis=1`:"
   ]
  },
  {
   "cell_type": "code",
   "execution_count": 153,
   "id": "324e770d",
   "metadata": {},
   "outputs": [
    {
     "name": "stdout",
     "output_type": "stream",
     "text": [
      "Mean per star: [10.5 11.2  9.8]\n"
     ]
    }
   ],
   "source": [
    "mean_per_star = np.mean(observations, axis=1)\n",
    "print(\"Mean per star:\", mean_per_star)"
   ]
  },
  {
   "cell_type": "markdown",
   "id": "752b3540",
   "metadata": {},
   "source": [
    "To get the mean for each night (averaging across all stars), use `axis=0`:"
   ]
  },
  {
   "cell_type": "code",
   "execution_count": 154,
   "id": "aee0a0ac",
   "metadata": {},
   "outputs": [
    {
     "name": "stdout",
     "output_type": "stream",
     "text": [
      "Mean per night: [10.5 10.6 10.4 10.5]\n"
     ]
    }
   ],
   "source": [
    "mean_per_night = np.mean(observations, axis=0)\n",
    "print(\"Mean per night:\", mean_per_night)"
   ]
  },
  {
   "cell_type": "markdown",
   "id": "95e23380",
   "metadata": {},
   "source": [
    "Remember the axis convention:\n",
    "- `axis=0` operates down columns (across rows) - collapses the row dimension\n",
    "- `axis=1` operates across columns (along rows) - collapses the column dimension\n",
    "\n",
    "This can be confusing at first! Think of it this way: the axis you specify is the one that disappears. When you use `axis=0`, you're collapsing along the first dimension (rows), leaving you with one value per column.\n",
    "\n",
    "## Handling Missing Data\n",
    "\n",
    "Real astronomical observations are messy. Weather happens, instruments fail, cosmic rays hit detectors. NumPy uses NaN (Not a Number) to represent missing or invalid data:"
   ]
  },
  {
   "cell_type": "code",
   "execution_count": 155,
   "id": "d3a8b546",
   "metadata": {},
   "outputs": [
    {
     "name": "stdout",
     "output_type": "stream",
     "text": [
      "Observations with bad data: [10.5  nan 11.2 10.8  nan]\n"
     ]
    }
   ],
   "source": [
    "obs = np.array([10.5, np.nan, 11.2, 10.8, np.nan])\n",
    "print(\"Observations with bad data:\", obs)"
   ]
  },
  {
   "cell_type": "markdown",
   "id": "162056e5",
   "metadata": {},
   "source": [
    "### Check for NaN\n",
    "\n",
    "The `np.isnan()` function returns True where values are NaN:"
   ]
  },
  {
   "cell_type": "code",
   "execution_count": 156,
   "id": "3a60101b",
   "metadata": {},
   "outputs": [
    {
     "name": "stdout",
     "output_type": "stream",
     "text": [
      "Bad data mask: [False  True False False  True]\n"
     ]
    }
   ],
   "source": [
    "is_bad = np.isnan(obs)\n",
    "print(\"Bad data mask:\", is_bad)"
   ]
  },
  {
   "cell_type": "markdown",
   "id": "466bff34",
   "metadata": {},
   "source": [
    "### Count Good Data\n",
    "\n",
    "Use `~` (tilde) to invert a boolean array - True becomes False and vice versa. This is the same as `not` that we've seen with boolean variables, but for multiple entries in an array, NumPy uses `~`:"
   ]
  },
  {
   "cell_type": "code",
   "execution_count": 157,
   "id": "da9f2820",
   "metadata": {},
   "outputs": [
    {
     "name": "stdout",
     "output_type": "stream",
     "text": [
      "Good observations: 3 out of 5\n"
     ]
    }
   ],
   "source": [
    "is_good = ~is_bad\n",
    "n_good = np.sum(is_good)\n",
    "print(f\"Good observations: {n_good} out of {len(obs)}\")"
   ]
  },
  {
   "cell_type": "markdown",
   "id": "df05d03b",
   "metadata": {},
   "source": [
    "This tells you your data completeness - crucial for understanding the quality of your dataset.\n",
    "\n",
    "### Statistics Ignoring NaN\n",
    "\n",
    "Regular statistical functions fail when arrays contain NaN - they return NaN as the result:"
   ]
  },
  {
   "cell_type": "code",
   "execution_count": 158,
   "id": "b0239b5e",
   "metadata": {},
   "outputs": [
    {
     "name": "stdout",
     "output_type": "stream",
     "text": [
      "Regular mean: nan\n",
      "NaN-aware mean: 10.83\n",
      "NaN-aware std: 0.29\n"
     ]
    }
   ],
   "source": [
    "print(f\"Regular mean: {np.mean(obs)}\")  # Returns nan - not helpful!\n",
    "print(f\"NaN-aware mean: {np.nanmean(obs):.2f}\")  # Ignores NaN values\n",
    "print(f\"NaN-aware std: {np.nanstd(obs):.2f}\")"
   ]
  },
  {
   "cell_type": "markdown",
   "id": "9bfb51e7",
   "metadata": {},
   "source": [
    "NumPy provides `nan`-versions of most statistical functions: `nanmean`, `nanmedian`, `nanstd`, `nanmin`, `nanmax`, etc. These compute statistics using only the valid data points.\n",
    "\n",
    "## Saving and Loading Arrays\n",
    "\n",
    "NumPy provides efficient binary formats for saving arrays. These formats preserve the exact data type and shape of your arrays, and are much faster than text files.\n",
    "\n",
    "### Single Arrays (.npy format)\n",
    "\n",
    "The `.npy` format is perfect for saving individual arrays:"
   ]
  },
  {
   "cell_type": "code",
   "execution_count": 159,
   "id": "e9731dc7",
   "metadata": {},
   "outputs": [
    {
     "name": "stdout",
     "output_type": "stream",
     "text": [
      "Loaded array: [10.5 11.2  9.8 12.3]\n",
      "Preserved dtype: float64\n"
     ]
    }
   ],
   "source": [
    "# Save a single array\n",
    "photometry = np.array([10.5, 11.2, 9.8, 12.3])\n",
    "np.save('photometry.npy', photometry)\n",
    "\n",
    "# Load it back\n",
    "loaded = np.load('photometry.npy')\n",
    "print(\"Loaded array:\", loaded)\n",
    "print(\"Preserved dtype:\", loaded.dtype)"
   ]
  },
  {
   "cell_type": "markdown",
   "id": "4021a6ed",
   "metadata": {},
   "source": [
    "The `.npy` format:\n",
    "- Preserves the exact data type (float64, int32, etc.)\n",
    "- Maintains array shape\n",
    "- Is much smaller than text files\n",
    "- Loads much faster than parsing text\n",
    "\n",
    "### Multiple Arrays (.npz format)\n",
    "\n",
    "When you have multiple related arrays, use the `.npz` format to save them together:"
   ]
  },
  {
   "cell_type": "code",
   "execution_count": 160,
   "id": "209c6bce",
   "metadata": {},
   "outputs": [
    {
     "name": "stdout",
     "output_type": "stream",
     "text": [
      "Magnitudes: [10.5 11.2  9.8]\n",
      "Errors: [0.1  0.15 0.08]\n",
      "Names: ['Star1' 'Star2' 'Star3']\n"
     ]
    }
   ],
   "source": [
    "# Save multiple related arrays\n",
    "mags = np.array([10.5, 11.2, 9.8])\n",
    "errors = np.array([0.1, 0.15, 0.08])\n",
    "names = np.array(['Star1', 'Star2', 'Star3'])\n",
    "\n",
    "np.savez('observations.npz', \n",
    "         mags=mags, errors=errors, names=names)\n",
    "\n",
    "# Load them back\n",
    "data = np.load('observations.npz')\n",
    "print(\"Magnitudes:\", data['mags'])\n",
    "print(\"Errors:\", data['errors'])\n",
    "print(\"Names:\", data['names'])"
   ]
  },
  {
   "cell_type": "markdown",
   "id": "ffdecb28",
   "metadata": {},
   "source": [
    "The `.npz` format is perfect for:\n",
    "- Saving complete observational datasets\n",
    "- Storing related arrays together\n",
    "- Creating checkpoint files in long computations\n",
    "- Sharing processed data with collaborators\n",
    "\n",
    "You can also use `np.savez_compressed()` for compressed storage, which is useful for large arrays that compress well.\n"
   ]
  },
  {
   "cell_type": "markdown",
   "id": "d465710d",
   "metadata": {},
   "source": [
    "## Practical Example: Complete Star Cluster Analysis\n",
    "\n",
    "Let's combine everything we've learned to analyze a simulated globular cluster observation. This example mimics a real analysis pipeline.\n",
    "\n",
    "### Generate Realistic Data"
   ]
  },
  {
   "cell_type": "code",
   "execution_count": 161,
   "id": "edeb90ca",
   "metadata": {},
   "outputs": [],
   "source": [
    "np.random.seed(42)  # For reproducibility"
   ]
  },
  {
   "cell_type": "markdown",
   "id": "9f331484",
   "metadata": {},
   "source": [
    "Create cluster member positions with a concentrated core:"
   ]
  },
  {
   "cell_type": "code",
   "execution_count": 162,
   "id": "93e84a33",
   "metadata": {},
   "outputs": [],
   "source": [
    "n_cluster = 200\n",
    "# Cluster centered at RA=150°, Dec=2°\n",
    "# Normal distribution gives concentrated core (King profile approximation)\n",
    "cluster_ra = 150.0 + np.random.normal(0, 0.1, n_cluster)\n",
    "cluster_dec = 2.0 + np.random.normal(0, 0.1, n_cluster)"
   ]
  },
  {
   "cell_type": "markdown",
   "id": "7d923d59",
   "metadata": {},
   "source": [
    "Add field stars uniformly distributed across the field:"
   ]
  },
  {
   "cell_type": "code",
   "execution_count": 163,
   "id": "441293d8",
   "metadata": {},
   "outputs": [],
   "source": [
    "n_field = 50\n",
    "# Field stars spread uniformly across 1° × 1° region\n",
    "field_ra = np.random.uniform(149.5, 150.5, n_field)\n",
    "field_dec = np.random.uniform(1.5, 2.5, n_field)"
   ]
  },
  {
   "cell_type": "markdown",
   "id": "d0d1c542",
   "metadata": {},
   "source": [
    "Combine all stars into one catalog:"
   ]
  },
  {
   "cell_type": "code",
   "execution_count": 164,
   "id": "04905bc0",
   "metadata": {},
   "outputs": [
    {
     "name": "stdout",
     "output_type": "stream",
     "text": [
      "Total stars: 250\n"
     ]
    }
   ],
   "source": [
    "all_ra = np.concatenate([cluster_ra, field_ra])\n",
    "all_dec = np.concatenate([cluster_dec, field_dec])\n",
    "print(f\"Total stars: {len(all_ra)}\")"
   ]
  },
  {
   "cell_type": "markdown",
   "id": "703e4e61",
   "metadata": {},
   "source": [
    "Generate realistic magnitudes. In stellar clusters, the brightest stars evolve and die first, leaving a characteristic \"main sequence turnoff\" where stars are just beginning to exhaust their hydrogen fuel:"
   ]
  },
  {
   "cell_type": "code",
   "execution_count": 165,
   "id": "596efebc",
   "metadata": {},
   "outputs": [],
   "source": [
    "# Cluster: main sequence turnoff at mag 14, fainter stars follow exponential\n",
    "cluster_mags = 14 + np.random.exponential(1, n_cluster)\n",
    "\n",
    "# Field: random brightnesses across full range\n",
    "field_mags = np.random.uniform(12, 18, n_field)\n",
    "\n",
    "# Combine\n",
    "all_mags = np.concatenate([cluster_mags, field_mags])"
   ]
  },
  {
   "cell_type": "markdown",
   "id": "3ef4f536",
   "metadata": {},
   "source": [
    "Add realistic observational effects:"
   ]
  },
  {
   "cell_type": "code",
   "execution_count": 166,
   "id": "6588854f",
   "metadata": {},
   "outputs": [],
   "source": [
    "# Measurement errors (Gaussian noise)\n",
    "mag_errors = np.random.normal(0, 0.05, len(all_mags))\n",
    "observed_mags = all_mags + mag_errors"
   ]
  },
  {
   "cell_type": "code",
   "execution_count": 167,
   "id": "ce36b606",
   "metadata": {},
   "outputs": [
    {
     "name": "stdout",
     "output_type": "stream",
     "text": [
      "Bad observations: 16\n"
     ]
    }
   ],
   "source": [
    "# Some observations fail (weather, cosmic rays, etc.)\n",
    "bad_fraction = 0.05  # 5% failure rate typical for ground-based obs\n",
    "bad_obs = np.random.random(len(all_mags)) < bad_fraction\n",
    "observed_mags[bad_obs] = np.nan\n",
    "print(f\"Bad observations: {np.sum(bad_obs)}\")"
   ]
  },
  {
   "cell_type": "markdown",
   "id": "254c9ddc",
   "metadata": {},
   "source": [
    "### Clean and Analyze the Data\n",
    "\n",
    "First, remove bad observations:"
   ]
  },
  {
   "cell_type": "code",
   "execution_count": 168,
   "id": "4c31ac56",
   "metadata": {},
   "outputs": [],
   "source": [
    "good_mask = ~np.isnan(observed_mags)\n",
    "clean_ra = all_ra[good_mask]\n",
    "clean_dec = all_dec[good_mask]\n",
    "clean_mags = observed_mags[good_mask]"
   ]
  },
  {
   "cell_type": "code",
   "execution_count": 169,
   "id": "4f908060",
   "metadata": {},
   "outputs": [
    {
     "name": "stdout",
     "output_type": "stream",
     "text": [
      "Started with 250 stars\n",
      "Have 234 good observations\n"
     ]
    }
   ],
   "source": [
    "print(f\"Started with {len(all_mags)} stars\")\n",
    "print(f\"Have {len(clean_mags)} good observations\")"
   ]
  },
  {
   "cell_type": "markdown",
   "id": "3719831b",
   "metadata": {},
   "source": [
    "Find the cluster center using median (more robust than mean against outliers):"
   ]
  },
  {
   "cell_type": "code",
   "execution_count": 170,
   "id": "6370da10",
   "metadata": {},
   "outputs": [
    {
     "name": "stdout",
     "output_type": "stream",
     "text": [
      "Cluster center: RA=150.008°, Dec=2.002°\n"
     ]
    }
   ],
   "source": [
    "center_ra = np.median(clean_ra)\n",
    "center_dec = np.median(clean_dec)\n",
    "print(f\"Cluster center: RA={center_ra:.3f}°, Dec={center_dec:.3f}°\")"
   ]
  },
  {
   "cell_type": "markdown",
   "id": "8249ef21",
   "metadata": {},
   "source": [
    "Calculate angular distance from center. For small angles, we can use the flat-sky approximation:"
   ]
  },
  {
   "cell_type": "code",
   "execution_count": 171,
   "id": "a0eea821",
   "metadata": {},
   "outputs": [],
   "source": [
    "# Angular separation in degrees (flat-sky approximation)\n",
    "delta_ra = clean_ra - center_ra\n",
    "delta_dec = clean_dec - center_dec\n",
    "distances_deg = np.sqrt(delta_ra**2 + delta_dec**2)\n",
    "\n",
    "# Convert to arcseconds (3600 arcsec = 1 degree)\n",
    "distances_arcsec = distances_deg * 3600"
   ]
  },
  {
   "cell_type": "markdown",
   "id": "f2bc6df0",
   "metadata": {},
   "source": [
    "Define cluster membership based on distance (typical cluster radius ~200 arcsec):"
   ]
  },
  {
   "cell_type": "code",
   "execution_count": 172,
   "id": "33a8f9fa",
   "metadata": {},
   "outputs": [],
   "source": [
    "cluster_mask = distances_arcsec < 200\n",
    "n_cluster_region = np.sum(cluster_mask)\n",
    "n_field_region = np.sum(~cluster_mask)"
   ]
  },
  {
   "cell_type": "code",
   "execution_count": 173,
   "id": "84c7298c",
   "metadata": {},
   "outputs": [
    {
     "name": "stdout",
     "output_type": "stream",
     "text": [
      "Stars in cluster region: 28\n",
      "Stars in field region: 206\n"
     ]
    }
   ],
   "source": [
    "print(f\"Stars in cluster region: {n_cluster_region}\")\n",
    "print(f\"Stars in field region: {n_field_region}\")"
   ]
  },
  {
   "cell_type": "markdown",
   "id": "86b8dc04",
   "metadata": {},
   "source": [
    "### Statistical Comparison\n",
    "\n",
    "Compare the stellar populations:"
   ]
  },
  {
   "cell_type": "code",
   "execution_count": 174,
   "id": "9a65d48e",
   "metadata": {},
   "outputs": [],
   "source": [
    "cluster_mags_region = clean_mags[cluster_mask]\n",
    "field_mags_region = clean_mags[~cluster_mask]"
   ]
  },
  {
   "cell_type": "code",
   "execution_count": 175,
   "id": "98221c89",
   "metadata": {},
   "outputs": [
    {
     "name": "stdout",
     "output_type": "stream",
     "text": [
      "Cluster region statistics:\n",
      "  Mean magnitude: 14.77\n",
      "  Std deviation: 0.69\n",
      "  Brightest: 14.03\n",
      "  Faintest: 16.66\n"
     ]
    }
   ],
   "source": [
    "print(\"Cluster region statistics:\")\n",
    "print(f\"  Mean magnitude: {np.mean(cluster_mags_region):.2f}\")\n",
    "print(f\"  Std deviation: {np.std(cluster_mags_region):.2f}\")\n",
    "print(f\"  Brightest: {np.min(cluster_mags_region):.2f}\")\n",
    "print(f\"  Faintest: {np.max(cluster_mags_region):.2f}\")"
   ]
  },
  {
   "cell_type": "code",
   "execution_count": 176,
   "id": "9a5d734f",
   "metadata": {},
   "outputs": [
    {
     "name": "stdout",
     "output_type": "stream",
     "text": [
      "\n",
      "Field region statistics:\n",
      "  Mean magnitude: 14.93\n",
      "  Std deviation: 1.17\n"
     ]
    }
   ],
   "source": [
    "print(\"\\nField region statistics:\")\n",
    "print(f\"  Mean magnitude: {np.mean(field_mags_region):.2f}\")\n",
    "print(f\"  Std deviation: {np.std(field_mags_region):.2f}\")"
   ]
  },
  {
   "cell_type": "markdown",
   "id": "9196ce15",
   "metadata": {},
   "source": [
    "The cluster should show a distinct magnitude distribution compared to the field.\n",
    "\n",
    "### Find the Main Sequence Turnoff\n",
    "\n",
    "The magnitude distribution of cluster stars peaks at the main sequence turnoff:"
   ]
  },
  {
   "cell_type": "code",
   "execution_count": 177,
   "id": "5c4fc117",
   "metadata": {},
   "outputs": [],
   "source": [
    "# Create magnitude histogram for cluster region\n",
    "mag_hist, mag_bins = np.histogram(cluster_mags_region, bins=20)"
   ]
  },
  {
   "cell_type": "code",
   "execution_count": 178,
   "id": "582aea33",
   "metadata": {},
   "outputs": [],
   "source": [
    "# Find peak\n",
    "turnoff_bin = np.argmax(mag_hist)\n",
    "turnoff_mag = (mag_bins[turnoff_bin] + mag_bins[turnoff_bin+1]) / 2"
   ]
  },
  {
   "cell_type": "code",
   "execution_count": 179,
   "id": "5d5af82d",
   "metadata": {},
   "outputs": [
    {
     "name": "stdout",
     "output_type": "stream",
     "text": [
      "Main sequence turnoff at magnitude 14.2\n",
      "This can be used to estimate the cluster's age!\n"
     ]
    }
   ],
   "source": [
    "print(f\"Main sequence turnoff at magnitude {turnoff_mag:.1f}\")\n",
    "print(\"This can be used to estimate the cluster's age!\")"
   ]
  },
  {
   "cell_type": "markdown",
   "id": "cfe5045a",
   "metadata": {},
   "source": [
    "The turnoff magnitude is a powerful age indicator - more massive stars evolve faster, so older clusters have fainter turnoffs.\n",
    "\n",
    "### Identify Brightest Stars for Follow-up"
   ]
  },
  {
   "cell_type": "code",
   "execution_count": 180,
   "id": "c0a371d0",
   "metadata": {},
   "outputs": [],
   "source": [
    "# Sort all stars by brightness\n",
    "sort_idx = np.argsort(clean_mags)\n",
    "brightest_5 = sort_idx[:5]"
   ]
  },
  {
   "cell_type": "code",
   "execution_count": 181,
   "id": "98eb0268",
   "metadata": {},
   "outputs": [
    {
     "name": "stdout",
     "output_type": "stream",
     "text": [
      "5 Brightest stars in field:\n",
      "  1. RA=150.362°, Dec=2.118°, Mag=12.12\n",
      "  2. RA=150.454°, Dec=1.639°, Mag=12.13\n",
      "  3. RA=149.634°, Dec=1.706°, Mag=12.25\n",
      "  4. RA=150.020°, Dec=1.669°, Mag=12.40\n",
      "  5. RA=150.120°, Dec=2.190°, Mag=12.41\n"
     ]
    }
   ],
   "source": [
    "print(\"5 Brightest stars in field:\")\n",
    "for i, idx in enumerate(brightest_5):\n",
    "    print(f\"  {i+1}. RA={clean_ra[idx]:.3f}°, Dec={clean_dec[idx]:.3f}°, Mag={clean_mags[idx]:.2f}\")"
   ]
  },
  {
   "cell_type": "markdown",
   "id": "64b5e732",
   "metadata": {},
   "source": [
    "Check if they're cluster members or field stars:"
   ]
  },
  {
   "cell_type": "code",
   "execution_count": 182,
   "id": "de3e211b",
   "metadata": {},
   "outputs": [
    {
     "name": "stdout",
     "output_type": "stream",
     "text": [
      "  Star 1 is a field star (1343.7 arcsec from center)\n",
      "  Star 2 is a field star (2070.6 arcsec from center)\n",
      "  Star 3 is a field star (1714.9 arcsec from center)\n",
      "  Star 4 is a field star (1198.7 arcsec from center)\n",
      "  Star 5 is a field star (791.0 arcsec from center)\n"
     ]
    }
   ],
   "source": [
    "for i, idx in enumerate(brightest_5):\n",
    "    dist = distances_arcsec[idx]\n",
    "    if cluster_mask[idx]:\n",
    "        print(f\"  Star {i+1} is a cluster member ({dist:.1f} arcsec from center)\")\n",
    "    else:\n",
    "        print(f\"  Star {i+1} is a field star ({dist:.1f} arcsec from center)\")"
   ]
  },
  {
   "cell_type": "markdown",
   "id": "45001235",
   "metadata": {},
   "source": [
    "Bright cluster members might be blue stragglers or horizontal branch stars - interesting targets for spectroscopy!\n",
    "\n",
    "## Summary\n",
    "\n",
    "You've mastered the complete NumPy toolkit for astronomical data analysis:\n",
    "\n",
    "### Core Array Operations\n",
    "- **Array creation** - Multiple methods optimized for different scenarios\n",
    "- **Data types** - Control memory usage and precision with dtype\n",
    "- **Broadcasting** - Smart handling of operations between different shaped arrays\n",
    "- **Array math** - Vectorized operations that are 10-100× faster than loops\n",
    "- **Indexing & slicing** - Powerful and flexible data selection\n",
    "\n",
    "### Data Analysis Tools\n",
    "- **Statistics** - Complete suite of statistical functions with axis control\n",
    "- **Boolean masks** - Conditional selection for filtering catalogs\n",
    "- **Missing data** - Proper handling of NaN values in real observations\n",
    "- **Sorting** - Organizing and ranking astronomical objects\n",
    "- **Histograms** - Understanding data distributions\n",
    "\n",
    "### Advanced Features\n",
    "- **Reshaping** - Reorganizing data without copying (creates views)\n",
    "- **Stacking** - Combining multiple observations or datasets (creates copies)\n",
    "- **Matrix operations** - Linear algebra for coordinate transforms and fitting\n",
    "- **Views vs copies** - Memory-efficient operations on large datasets\n",
    "- **Random numbers** - Simulating observations with realistic noise\n",
    "- **File I/O** - Efficient saving/loading with .npy and .npz formats\n",
    "\n",
    "These tools form the foundation for all astronomical data analysis in Python. Combined with domain-specific libraries like Astropy, you can tackle any astronomical data challenge efficiently.\n",
    "\n",
    "Remember: Think in arrays, not loops. NumPy makes your code both faster and cleaner! The key to mastering NumPy is practice - try to solve problems without writing any explicit loops.\n",
    "\n",
    "\n"
   ]
  }
 ],
 "metadata": {
  "jupytext": {
   "cell_metadata_filter": "-all",
   "main_language": "python",
   "notebook_metadata_filter": "-all"
  },
  "kernelspec": {
   "display_name": "base",
   "language": "python",
   "name": "python3"
  },
  "language_info": {
   "codemirror_mode": {
    "name": "ipython",
    "version": 3
   },
   "file_extension": ".py",
   "mimetype": "text/x-python",
   "name": "python",
   "nbconvert_exporter": "python",
   "pygments_lexer": "ipython3",
   "version": "3.13.5"
  }
 },
 "nbformat": 4,
 "nbformat_minor": 5
}
