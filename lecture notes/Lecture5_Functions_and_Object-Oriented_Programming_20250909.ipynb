{
 "cells": [
  {
   "cell_type": "markdown",
   "id": "88591338",
   "metadata": {},
   "source": [
    "# Functions and Object-Oriented Programming\n",
    "\n",
    "*Tutorial by Yuan-Sen Ting*\n",
    "\n",
    "*Part of Astron 1221: Astronomical Data Analysis*\n",
    "\n",
    "## Introduction\n",
    "\n",
    "In astronomy, we perform the same calculations repeatedly. Converting magnitudes to fluxes, calculating distances, correcting for atmospheric effects - these operations appear dozens of times in a typical analysis script. Copy-pasting formulas is dangerous: when you need to fix a bug or update a formula, you have to hunt down every copy.\n",
    "\n",
    "Today we'll learn Python's two main tools for organizing code: **functions** and **classes**. Functions package calculations into reusable units. Classes go further, bundling data and functions together to model objects like stars, observations, or instruments.\n",
    "\n",
    "## Part 1: Functions - Packaging Reusable Code\n",
    "\n",
    "### The Problem with Repetition\n",
    "\n",
    "Let's start with a real scenario. You're analyzing three stars and need to calculate their absolute magnitudes (how bright they would appear at a standard distance of 10 parsecs).\n",
    "\n",
    "First, we need to import NumPy for mathematical functions:"
   ]
  },
  {
   "cell_type": "code",
   "execution_count": 88,
   "id": "199ffa3d",
   "metadata": {},
   "outputs": [],
   "source": [
    "import numpy as np  # NumPy provides mathematical functions like log10"
   ]
  },
  {
   "cell_type": "markdown",
   "id": "d8ffb314",
   "metadata": {},
   "source": [
    "Now let's calculate absolute magnitudes for our stars:"
   ]
  },
  {
   "cell_type": "code",
   "execution_count": 89,
   "id": "27d8905f",
   "metadata": {},
   "outputs": [
    {
     "name": "stdout",
     "output_type": "stream",
     "text": [
      "Vega: apparent=0.03, absolute=0.60\n"
     ]
    }
   ],
   "source": [
    "# Star 1: Vega\n",
    "app_mag_1 = 0.03  # Apparent magnitude (how bright it looks from Earth)\n",
    "distance_1 = 7.68  # Distance in parsecs\n",
    "\n",
    "# The distance modulus formula\n",
    "abs_mag_1 = app_mag_1 - 5 * np.log10(distance_1) + 5\n",
    "\n",
    "print(f\"Vega: apparent={app_mag_1:.2f}, absolute={abs_mag_1:.2f}\")"
   ]
  },
  {
   "cell_type": "markdown",
   "id": "5e676e88",
   "metadata": {},
   "source": [
    "Now for the second star:"
   ]
  },
  {
   "cell_type": "code",
   "execution_count": 90,
   "id": "7e68e6a7",
   "metadata": {},
   "outputs": [
    {
     "name": "stdout",
     "output_type": "stream",
     "text": [
      "Proxima Cen: apparent=11.13, absolute=15.56\n"
     ]
    }
   ],
   "source": [
    "# Star 2: Proxima Centauri\n",
    "app_mag_2 = 11.13  # Much fainter in our sky\n",
    "distance_2 = 1.30  # But much closer!\n",
    "\n",
    "abs_mag_2 = app_mag_2 - 5 * np.log10(distance_2) + 5\n",
    "\n",
    "print(f\"Proxima Cen: apparent={app_mag_2:.2f}, absolute={abs_mag_2:.2f}\")"
   ]
  },
  {
   "cell_type": "markdown",
   "id": "b3c9e917",
   "metadata": {},
   "source": [
    "And the third:"
   ]
  },
  {
   "cell_type": "code",
   "execution_count": 91,
   "id": "c5d334fd",
   "metadata": {},
   "outputs": [
    {
     "name": "stdout",
     "output_type": "stream",
     "text": [
      "Betelgeuse: apparent=0.42, absolute=-5.71\n"
     ]
    }
   ],
   "source": [
    "# Star 3: Betelgeuse\n",
    "app_mag_3 = 0.42\n",
    "distance_3 = 168  # Much farther away\n",
    "\n",
    "abs_mag_3 = app_mag_3 - 5 * np.log10(distance_3) + 5\n",
    "\n",
    "print(f\"Betelgeuse: apparent={app_mag_3:.2f}, absolute={abs_mag_3:.2f}\")"
   ]
  },
  {
   "cell_type": "markdown",
   "id": "b4a31820",
   "metadata": {},
   "source": [
    "We typed the same formula three times. What if we made a typo in one? What if we need to modify the formula later? We'd have to find and change all three copies.\n",
    "\n",
    "### Creating Your First Function\n",
    "\n",
    "A function packages code into a reusable unit. Let's understand every part:"
   ]
  },
  {
   "cell_type": "code",
   "execution_count": 92,
   "id": "9dc7b01d",
   "metadata": {},
   "outputs": [],
   "source": [
    "def apparent_to_absolute(app_mag, distance):\n",
    "    \"\"\"Convert apparent magnitude to absolute magnitude.\"\"\"\n",
    "    abs_mag = app_mag - 5 * np.log10(distance) + 5\n",
    "    return abs_mag"
   ]
  },
  {
   "cell_type": "markdown",
   "id": "434992ea",
   "metadata": {},
   "source": [
    "Let's break down each keyword and symbol:\n",
    "- `def` - Short for \"define\". This keyword tells Python we're creating a function\n",
    "- `apparent_to_absolute` - The function's name. We choose this name. Use descriptive names!\n",
    "- `(app_mag, distance)` - Parameters inside parentheses. These are the inputs the function needs\n",
    "- `:` - The colon marks the end of the function header. Everything after must be indented\n",
    "- `\"\"\"...\"\"\"` - Triple quotes create a docstring that explains what the function does\n",
    "- `abs_mag = ...` - The calculation happens inside the function\n",
    "- `return` - This keyword sends the result back to whoever called the function\n",
    "\n",
    "### Important: Parameters vs Arguments\n",
    "\n",
    "These terms are often confused:\n",
    "- **Parameters** are the variable names in the function definition (`app_mag`, `distance`)\n",
    "- **Arguments** are the actual values you pass when calling the function (`0.03`, `7.68`)"
   ]
  },
  {
   "cell_type": "code",
   "execution_count": 93,
   "id": "3c70c788",
   "metadata": {},
   "outputs": [],
   "source": [
    "# Parameters are in the definition\n",
    "def apparent_to_absolute(app_mag, distance):  # app_mag and distance are PARAMETERS\n",
    "    abs_mag = app_mag - 5 * np.log10(distance) + 5\n",
    "    return abs_mag\n",
    "\n",
    "# Arguments are the actual values\n",
    "vega_abs = apparent_to_absolute(0.03, 7.68)  # 0.03 and 7.68 are ARGUMENTS"
   ]
  },
  {
   "cell_type": "markdown",
   "id": "fe47d2fb",
   "metadata": {},
   "source": [
    "### Using Your Function\n",
    "\n",
    "Now we can call our function just like Python's built-in functions:"
   ]
  },
  {
   "cell_type": "code",
   "execution_count": 94,
   "id": "0ebb2244",
   "metadata": {},
   "outputs": [
    {
     "name": "stdout",
     "output_type": "stream",
     "text": [
      "Vega: 0.60\n"
     ]
    }
   ],
   "source": [
    "# Call the function for each star\n",
    "vega_abs = apparent_to_absolute(0.03, 7.68)\n",
    "print(f\"Vega: {vega_abs:.2f}\")"
   ]
  },
  {
   "cell_type": "code",
   "execution_count": 95,
   "id": "d3de0ddd",
   "metadata": {},
   "outputs": [
    {
     "name": "stdout",
     "output_type": "stream",
     "text": [
      "Proxima Cen: 15.56\n"
     ]
    }
   ],
   "source": [
    "proxima_abs = apparent_to_absolute(11.13, 1.30)\n",
    "print(f\"Proxima Cen: {proxima_abs:.2f}\")"
   ]
  },
  {
   "cell_type": "code",
   "execution_count": 96,
   "id": "0e324376",
   "metadata": {},
   "outputs": [
    {
     "name": "stdout",
     "output_type": "stream",
     "text": [
      "Betelgeuse: -5.71\n"
     ]
    }
   ],
   "source": [
    "betelgeuse_abs = apparent_to_absolute(0.42, 168)\n",
    "print(f\"Betelgeuse: {betelgeuse_abs:.2f}\")"
   ]
  },
  {
   "cell_type": "markdown",
   "id": "a5f0792d",
   "metadata": {},
   "source": [
    "If we need to fix the formula, we change it in ONE place - inside the function definition.\n",
    "\n",
    "### Understanding `return`\n",
    "\n",
    "The `return` keyword is crucial. It's different from `print`:"
   ]
  },
  {
   "cell_type": "code",
   "execution_count": 97,
   "id": "e94a83ea",
   "metadata": {},
   "outputs": [],
   "source": [
    "def function_with_print(x):\n",
    "    \"\"\"This function only prints.\"\"\"\n",
    "    result = x * 2\n",
    "    print(result)  # Shows on screen but doesn't send back\n",
    "\n",
    "def function_with_return(x):\n",
    "    \"\"\"This function returns a value.\"\"\"\n",
    "    result = x * 2\n",
    "    return result  # Sends the value back"
   ]
  },
  {
   "cell_type": "markdown",
   "id": "c0bdd067",
   "metadata": {},
   "source": [
    "Let's see the difference:"
   ]
  },
  {
   "cell_type": "code",
   "execution_count": 98,
   "id": "e115afe9",
   "metadata": {},
   "outputs": [
    {
     "name": "stdout",
     "output_type": "stream",
     "text": [
      "10\n",
      "value1 is: None\n"
     ]
    }
   ],
   "source": [
    "# With print - can't use the result\n",
    "value1 = function_with_print(5)  # Prints 10\n",
    "print(f\"value1 is: {value1}\")  # value1 is None!"
   ]
  },
  {
   "cell_type": "code",
   "execution_count": 99,
   "id": "99cc7e3d",
   "metadata": {},
   "outputs": [
    {
     "name": "stdout",
     "output_type": "stream",
     "text": [
      "value2 is: 10\n"
     ]
    }
   ],
   "source": [
    "# With return - can use the result\n",
    "value2 = function_with_return(5)  # Doesn't print anything\n",
    "print(f\"value2 is: {value2}\")  # value2 is 10"
   ]
  },
  {
   "cell_type": "markdown",
   "id": "e8924b10",
   "metadata": {},
   "source": [
    "### Common Mistake: Forgetting to Return\n",
    "\n",
    "This is one of the most common beginner errors:"
   ]
  },
  {
   "cell_type": "code",
   "execution_count": 100,
   "id": "08a614d0",
   "metadata": {},
   "outputs": [
    {
     "name": "stdout",
     "output_type": "stream",
     "text": [
      "Answer: None\n"
     ]
    }
   ],
   "source": [
    "def broken_function(x):\n",
    "    \"\"\"Forgot to return!\"\"\"\n",
    "    result = x * 2\n",
    "    # Oops, no return statement!\n",
    "\n",
    "answer = broken_function(5)\n",
    "print(f\"Answer: {answer}\")  # Answer is None!"
   ]
  },
  {
   "cell_type": "markdown",
   "id": "7f6d9de7",
   "metadata": {},
   "source": [
    "Always remember: if you want a value back from a function, you must `return` it!\n",
    "\n",
    "### Functions Can Return Multiple Values\n",
    "\n",
    "Sometimes we need to calculate several things at once. Python lets us return multiple values:"
   ]
  },
  {
   "cell_type": "code",
   "execution_count": 101,
   "id": "983742a0",
   "metadata": {},
   "outputs": [],
   "source": [
    "def analyze_color(b_mag, v_mag):\n",
    "    \"\"\"\n",
    "    Calculate color index and estimate temperature.\n",
    "    \n",
    "    B-V color tells us about stellar temperature:\n",
    "    negative = hot blue stars, positive = cooler red stars\n",
    "    \"\"\"\n",
    "    b_v = b_mag - v_mag\n",
    "    \n",
    "    # Approximate temperature (simplified formula)\n",
    "    temp = 7000 - 1000 * b_v  # Very rough approximation\n",
    "    \n",
    "    return b_v, temp  # Return TWO values separated by comma"
   ]
  },
  {
   "cell_type": "markdown",
   "id": "c81b4960",
   "metadata": {},
   "source": [
    "When calling a function that returns multiple values:"
   ]
  },
  {
   "cell_type": "code",
   "execution_count": 102,
   "id": "29afe5bd",
   "metadata": {},
   "outputs": [
    {
     "name": "stdout",
     "output_type": "stream",
     "text": [
      "Sun: B-V = 0.65, Temperature ≈ 6350 K\n"
     ]
    }
   ],
   "source": [
    "# Capture both values\n",
    "color, temperature = analyze_color(5.48, 4.83)\n",
    "print(f\"Sun: B-V = {color:.2f}, Temperature ≈ {temperature:.0f} K\")"
   ]
  },
  {
   "cell_type": "markdown",
   "id": "231346e5",
   "metadata": {},
   "source": [
    "You can also capture them as a tuple:"
   ]
  },
  {
   "cell_type": "code",
   "execution_count": 103,
   "id": "33b962ed",
   "metadata": {},
   "outputs": [
    {
     "name": "stdout",
     "output_type": "stream",
     "text": [
      "Result tuple: (0.6500000000000004, 6350.0)\n",
      "Color: 0.6500000000000004, Temperature: 6350.0\n"
     ]
    }
   ],
   "source": [
    "# Returns a tuple (pair of values)\n",
    "result = analyze_color(5.48, 4.83)\n",
    "print(f\"Result tuple: {result}\")\n",
    "print(f\"Color: {result[0]}, Temperature: {result[1]}\")"
   ]
  },
  {
   "cell_type": "markdown",
   "id": "93936717",
   "metadata": {},
   "source": [
    "### Default Parameters\n",
    "\n",
    "Sometimes parameters have typical values. We can set defaults using the `=` sign:"
   ]
  },
  {
   "cell_type": "code",
   "execution_count": 104,
   "id": "e6c08265",
   "metadata": {},
   "outputs": [],
   "source": [
    "def apparent_to_absolute(app_mag, distance, extinction=0.0):\n",
    "    \"\"\"\n",
    "    Convert apparent to absolute magnitude.\n",
    "    \n",
    "    extinction: absorption by dust (default: 0.0 = no dust)\n",
    "    \"\"\"\n",
    "    # Correct for extinction first\n",
    "    corrected_mag = app_mag - extinction\n",
    "    \n",
    "    # Then apply distance modulus\n",
    "    abs_mag = corrected_mag - 5 * np.log10(distance) + 5\n",
    "    \n",
    "    return abs_mag"
   ]
  },
  {
   "cell_type": "markdown",
   "id": "92868dbf",
   "metadata": {},
   "source": [
    "The `extinction=0.0` means: \"If no third argument is given, use 0.0\". This gives us flexibility:"
   ]
  },
  {
   "cell_type": "code",
   "execution_count": 105,
   "id": "7127cb23",
   "metadata": {},
   "outputs": [
    {
     "name": "stdout",
     "output_type": "stream",
     "text": [
      "Clear (default): 5.50\n"
     ]
    }
   ],
   "source": [
    "# Two arguments - extinction uses default of 0.0\n",
    "abs_mag_clear = apparent_to_absolute(10.5, 100)\n",
    "print(f\"Clear (default): {abs_mag_clear:.2f}\")"
   ]
  },
  {
   "cell_type": "code",
   "execution_count": 106,
   "id": "cbfb5f71",
   "metadata": {},
   "outputs": [
    {
     "name": "stdout",
     "output_type": "stream",
     "text": [
      "With extinction: 4.30\n"
     ]
    }
   ],
   "source": [
    "# Three arguments - we specify extinction\n",
    "abs_mag_dusty = apparent_to_absolute(10.5, 100, 1.2)\n",
    "print(f\"With extinction: {abs_mag_dusty:.2f}\")"
   ]
  },
  {
   "cell_type": "markdown",
   "id": "a15574ef",
   "metadata": {},
   "source": [
    "### Keyword Arguments\n",
    "\n",
    "When calling a function, you can use the parameter names for clarity:"
   ]
  },
  {
   "cell_type": "code",
   "execution_count": 107,
   "id": "178ddfd0",
   "metadata": {},
   "outputs": [
    {
     "name": "stdout",
     "output_type": "stream",
     "text": [
      "Positional: 5.20\n"
     ]
    }
   ],
   "source": [
    "# Positional arguments (order matters!)\n",
    "result1 = apparent_to_absolute(10.5, 100, 0.3)\n",
    "print(f\"Positional: {result1:.2f}\")"
   ]
  },
  {
   "cell_type": "code",
   "execution_count": 108,
   "id": "094568d5",
   "metadata": {},
   "outputs": [
    {
     "name": "stdout",
     "output_type": "stream",
     "text": [
      "With keywords: 5.20\n"
     ]
    }
   ],
   "source": [
    "# Keyword arguments (names make it clear)\n",
    "result2 = apparent_to_absolute(\n",
    "    app_mag=10.5,\n",
    "    distance=100,\n",
    "    extinction=0.3\n",
    ")\n",
    "print(f\"With keywords: {result2:.2f}\")"
   ]
  },
  {
   "cell_type": "code",
   "execution_count": 109,
   "id": "12d057bf",
   "metadata": {},
   "outputs": [
    {
     "name": "stdout",
     "output_type": "stream",
     "text": [
      "Mixed: 5.20\n"
     ]
    }
   ],
   "source": [
    "# You can mix, but positional must come first\n",
    "result3 = apparent_to_absolute(10.5, 100, extinction=0.3)\n",
    "print(f\"Mixed: {result3:.2f}\")"
   ]
  },
  {
   "cell_type": "markdown",
   "id": "d7249298",
   "metadata": {},
   "source": [
    "### Common Mistake: Arguments in Wrong Order\n",
    "\n",
    "This is a subtle but dangerous error:"
   ]
  },
  {
   "cell_type": "code",
   "execution_count": 110,
   "id": "34702a1a",
   "metadata": {},
   "outputs": [
    {
     "name": "stdout",
     "output_type": "stream",
     "text": [
      "Wrong order: 99.89\n",
      "Keywords prevent mistakes: 5.50\n"
     ]
    }
   ],
   "source": [
    "# WRONG - arguments reversed!\n",
    "# This treats 100 as magnitude and 10.5 as distance\n",
    "wrong = apparent_to_absolute(100, 10.5)  \n",
    "print(f\"Wrong order: {wrong:.2f}\")\n",
    "\n",
    "# Using keywords prevents this mistake\n",
    "right = apparent_to_absolute(distance=100, app_mag=10.5)\n",
    "print(f\"Keywords prevent mistakes: {right:.2f}\")"
   ]
  },
  {
   "cell_type": "markdown",
   "id": "a4d0eb6b",
   "metadata": {},
   "source": [
    "Using keyword arguments makes your code clearer and prevents order mistakes!\n",
    "\n",
    "### Understanding Variable Scope\n",
    "\n",
    "Variables inside functions are **local** - they exist only within the function:"
   ]
  },
  {
   "cell_type": "code",
   "execution_count": 111,
   "id": "a1d2ff0e",
   "metadata": {},
   "outputs": [
    {
     "name": "stdout",
     "output_type": "stream",
     "text": [
      "Inside function: 42\n"
     ]
    }
   ],
   "source": [
    "def demonstrate_scope():\n",
    "    \"\"\"Variables created inside are local.\"\"\"\n",
    "    local_variable = 42\n",
    "    print(f\"Inside function: {local_variable}\")\n",
    "    return local_variable * 2\n",
    "\n",
    "result = demonstrate_scope()"
   ]
  },
  {
   "cell_type": "markdown",
   "id": "66ff87ff",
   "metadata": {},
   "source": [
    "Now try to access the local variable outside:"
   ]
  },
  {
   "cell_type": "code",
   "execution_count": 112,
   "id": "d948d39a",
   "metadata": {},
   "outputs": [
    {
     "name": "stdout",
     "output_type": "stream",
     "text": [
      "Error: local_variable is not defined outside the function\n"
     ]
    }
   ],
   "source": [
    "# This will cause an error!\n",
    "try:\n",
    "    print(local_variable)  # local_variable doesn't exist here!\n",
    "except NameError:\n",
    "    print(\"Error: local_variable is not defined outside the function\")"
   ]
  },
  {
   "cell_type": "markdown",
   "id": "d7100c29",
   "metadata": {},
   "source": [
    "### Global Variables and Functions\n",
    "\n",
    "Variables outside functions are **global**. Functions can read global variables:"
   ]
  },
  {
   "cell_type": "code",
   "execution_count": 113,
   "id": "a3616e8d",
   "metadata": {},
   "outputs": [
    {
     "name": "stdout",
     "output_type": "stream",
     "text": [
      "Function sees global: 100\n",
      "Result: 200\n"
     ]
    }
   ],
   "source": [
    "# Global variable\n",
    "global_value = 100\n",
    "\n",
    "def use_global():\n",
    "    \"\"\"Functions can READ global variables.\"\"\"\n",
    "    print(f\"Function sees global: {global_value}\")\n",
    "    return global_value * 2\n",
    "\n",
    "result = use_global()\n",
    "print(f\"Result: {result}\")"
   ]
  },
  {
   "cell_type": "markdown",
   "id": "f3464f7f",
   "metadata": {},
   "source": [
    "However, when you try to assign to a variable name inside a function, Python creates a NEW local variable instead of modifying the global:"
   ]
  },
  {
   "cell_type": "code",
   "execution_count": 114,
   "id": "742abad8",
   "metadata": {},
   "outputs": [
    {
     "name": "stdout",
     "output_type": "stream",
     "text": [
      "Global extinction starts as: 2.0\n",
      "Inside function, extinction = 0.5\n",
      "Global extinction still: 2.0\n"
     ]
    }
   ],
   "source": [
    "# Global variable\n",
    "extinction = 2.0\n",
    "print(f\"Global extinction starts as: {extinction}\")\n",
    "\n",
    "def process_magnitude(mag):\n",
    "    # This creates a NEW local variable called extinction\n",
    "    extinction = 0.5  # This is LOCAL, not the global one\n",
    "    corrected = mag - extinction\n",
    "    print(f\"Inside function, extinction = {extinction}\")\n",
    "    return corrected\n",
    "\n",
    "result = process_magnitude(10.0)\n",
    "print(f\"Global extinction still: {extinction}\")  # Unchanged!"
   ]
  },
  {
   "cell_type": "markdown",
   "id": "ec7dda1d",
   "metadata": {},
   "source": [
    "This isolation is actually good - it prevents functions from accidentally messing up your main program's variables! If you really need to modify a global variable (rarely a good idea), you must use the `global` keyword:"
   ]
  },
  {
   "cell_type": "code",
   "execution_count": 115,
   "id": "694d2764",
   "metadata": {},
   "outputs": [
    {
     "name": "stdout",
     "output_type": "stream",
     "text": [
      "Counter before: 0\n",
      "Counter after: 1\n"
     ]
    }
   ],
   "source": [
    "counter = 0\n",
    "\n",
    "def increment():\n",
    "    global counter  # Tell Python to use the global variable\n",
    "    counter += 1\n",
    "\n",
    "print(f\"Counter before: {counter}\")\n",
    "increment()\n",
    "print(f\"Counter after: {counter}\")"
   ]
  },
  {
   "cell_type": "markdown",
   "id": "5b692c2b",
   "metadata": {},
   "source": [
    "But it's better to avoid modifying global variables - return values instead!\n",
    "\n",
    "### Documentation and the help() Function\n",
    "\n",
    "Every function should have a docstring explaining what it does:"
   ]
  },
  {
   "cell_type": "code",
   "execution_count": 116,
   "id": "8f54b1d7",
   "metadata": {},
   "outputs": [],
   "source": [
    "def airmass_from_altitude(altitude):\n",
    "    \"\"\"\n",
    "    Calculate airmass from altitude.\n",
    "    \n",
    "    Higher altitude = less atmosphere = lower airmass.\n",
    "    Airmass of 1 means looking straight up (zenith).\n",
    "    \"\"\"\n",
    "    zenith_angle = 90 - altitude\n",
    "    airmass = 1 / np.cos(np.deg2rad(zenith_angle))\n",
    "    return airmass"
   ]
  },
  {
   "cell_type": "markdown",
   "id": "f67d827c",
   "metadata": {},
   "source": [
    "The docstring helps users understand the function. You can view docstrings using the `help()` function:"
   ]
  },
  {
   "cell_type": "code",
   "execution_count": 117,
   "id": "5997ee7b",
   "metadata": {},
   "outputs": [
    {
     "name": "stdout",
     "output_type": "stream",
     "text": [
      "Help on function airmass_from_altitude in module __main__:\n",
      "\n",
      "airmass_from_altitude(altitude)\n",
      "    Calculate airmass from altitude.\n",
      "\n",
      "    Higher altitude = less atmosphere = lower airmass.\n",
      "    Airmass of 1 means looking straight up (zenith).\n",
      "\n"
     ]
    }
   ],
   "source": [
    "# To see the docstring:\n",
    "help(airmass_from_altitude)"
   ]
  },
  {
   "cell_type": "markdown",
   "id": "4c97379d",
   "metadata": {},
   "source": [
    "The `help()` function works on many things in Python:"
   ]
  },
  {
   "cell_type": "code",
   "execution_count": 118,
   "id": "9bf93a07",
   "metadata": {},
   "outputs": [
    {
     "name": "stdout",
     "output_type": "stream",
     "text": [
      "Help on built-in function print in module builtins:\n",
      "\n",
      "print(*args, sep=' ', end='\\n', file=None, flush=False)\n",
      "    Prints the values to a stream, or to sys.stdout by default.\n",
      "\n",
      "    sep\n",
      "      string inserted between values, default a space.\n",
      "    end\n",
      "      string appended after the last value, default a newline.\n",
      "    file\n",
      "      a file-like object (stream); defaults to the current sys.stdout.\n",
      "    flush\n",
      "      whether to forcibly flush the stream.\n",
      "\n",
      "Help on built-in function cos in module math:\n",
      "\n",
      "cos(x, /)\n",
      "    Return the cosine of x (measured in radians).\n",
      "\n"
     ]
    }
   ],
   "source": [
    "# Works on built-in functions\n",
    "help(print)  # Shows how print() works\n",
    "\n",
    "# Works on modules (we'll learn about these next!)\n",
    "import math\n",
    "help(math.cos)  # Shows how cosine function works\n",
    "\n",
    "# We'll see later it also works on classes and objects!"
   ]
  },
  {
   "cell_type": "markdown",
   "id": "47bc1821",
   "metadata": {},
   "source": [
    "### Importing and Organizing Functions\n",
    "\n",
    "As your projects grow, putting all functions in one file becomes unwieldy. Python lets you organize functions into separate files called **modules**. A module is simply a `.py` file containing Python code.\n",
    "\n",
    "#### Creating Your Own Module\n",
    "\n",
    "Let's say you have several astronomy calculations you use frequently. You can save them in a file called `astro_tools.py`:"
   ]
  },
  {
   "cell_type": "code",
   "execution_count": 119,
   "id": "208bc607",
   "metadata": {},
   "outputs": [],
   "source": [
    "# # File: astro_tools.py\n",
    "# import numpy as np\n",
    "\n",
    "# def apparent_to_absolute(app_mag, distance, extinction=0.0):\n",
    "#     \"\"\"Convert apparent magnitude to absolute magnitude.\"\"\"\n",
    "#     corrected_mag = app_mag - extinction\n",
    "#     abs_mag = corrected_mag - 5 * np.log10(distance) + 5\n",
    "#     return abs_mag\n",
    "\n",
    "# def flux_from_magnitude(magnitude):\n",
    "#     \"\"\"Calculate relative flux from magnitude.\"\"\"\n",
    "#     return 10**(-0.4 * magnitude)\n",
    "\n",
    "# def airmass_from_altitude(altitude):\n",
    "#     \"\"\"Calculate airmass from altitude in degrees.\"\"\"\n",
    "#     zenith_angle = 90 - altitude\n",
    "#     airmass = 1 / np.cos(np.deg2rad(zenith_angle))\n",
    "#     return airmass"
   ]
  },
  {
   "cell_type": "markdown",
   "id": "716f2e58",
   "metadata": {},
   "source": [
    "#### Importing Your Module\n",
    "\n",
    "Now in your main analysis file (or Jupyter notebook), you can import and use these functions:"
   ]
  },
  {
   "cell_type": "code",
   "execution_count": 120,
   "id": "9cf4aa9f",
   "metadata": {},
   "outputs": [
    {
     "name": "stdout",
     "output_type": "stream",
     "text": [
      "Absolute magnitude: 5.50\n",
      "Flux: 0.0100\n"
     ]
    }
   ],
   "source": [
    "# Import the entire module\n",
    "import astro_tools\n",
    "\n",
    "# Use functions with module name prefix\n",
    "abs_mag = astro_tools.apparent_to_absolute(10.5, 100)\n",
    "flux = astro_tools.flux_from_magnitude(5.0)\n",
    "print(f\"Absolute magnitude: {abs_mag:.2f}\")\n",
    "print(f\"Flux: {flux:.4f}\")"
   ]
  },
  {
   "cell_type": "markdown",
   "id": "ddc60f52",
   "metadata": {},
   "source": [
    "#### Different Ways to Import\n",
    "\n",
    "Python offers several import styles:"
   ]
  },
  {
   "cell_type": "code",
   "execution_count": null,
   "id": "8ef6afda",
   "metadata": {},
   "outputs": [],
   "source": [
    "# Method 1: Import entire module\n",
    "import astro_tools\n",
    "result = astro_tools.flux_from_magnitude(5.0)"
   ]
  },
  {
   "cell_type": "code",
   "execution_count": 122,
   "id": "53cc28f3",
   "metadata": {},
   "outputs": [],
   "source": [
    "# Method 2: Import with alias (shorter name)\n",
    "import astro_tools as astro\n",
    "result = astro.flux_from_magnitude(5.0)"
   ]
  },
  {
   "cell_type": "code",
   "execution_count": 123,
   "id": "9e6a98ef",
   "metadata": {},
   "outputs": [],
   "source": [
    "# Method 3: Import specific functions\n",
    "from astro_tools import flux_from_magnitude, airmass_from_altitude\n",
    "result = flux_from_magnitude(5.0)  # No module prefix needed"
   ]
  },
  {
   "cell_type": "markdown",
   "id": "85d5dcb2",
   "metadata": {},
   "source": [
    "It's important to understand that in all three import methods above, Python reads the entire module into memory. The differences are only in how you access the functions afterward. Method 1 has the advantage of being simple and straightforward - you always know exactly which module a function comes from when you see `astro_tools.function_name()` in your code. Method 2 works exactly the same way, but becomes useful when the module filename is long and you want something shorter and easier to type repeatedly in your code.\n",
    " \n",
    "Method 3 might appear to only load specific functions, but Python still reads the entire module behind the scenes. We choose to import only certain function names for different reasons: sometimes the module contains many functions and we only want to use a few of them, or we want to avoid function name conflicts and confusion that could arise if multiple modules have functions with the same names. This approach also makes our code cleaner since we don't need to use the module prefix every time. Even though Python reads the entire module regardless of which import method we use, Method 3 gives us more control over our namespace and can make our code more readable.\n",
    "\n",
    "\n"
   ]
  },
  {
   "cell_type": "markdown",
   "id": "06c1e9f4",
   "metadata": {},
   "source": [
    "#### Why Use Modules?\n",
    "\n",
    "Modules provide several benefits:\n",
    "1. **Organization** - Group related functions together\n",
    "2. **Reusability** - Use the same functions across multiple projects\n",
    "3. **Maintainability** - Update functions in one place\n",
    "4. **Namespace** - Avoid naming conflicts (you can have `astro_tools.calculate()` and `math_tools.calculate()`)\n",
    "\n",
    "#### Module Search Path\n",
    "\n",
    "When you write `import astro_tools`, Python looks for `astro_tools.py` in:\n",
    "1. The current directory (where your script/notebook is)\n",
    "2. Python's standard library directories\n",
    "3. Installed packages (like NumPy, matplotlib, etc.)\n",
    "\n",
    "If your module is in the same folder as your notebook, it will be found automatically!\n"
   ]
  },
  {
   "cell_type": "markdown",
   "id": "761eff9d",
   "metadata": {},
   "source": [
    "### Lambda Functions (Anonymous Functions)\n",
    "\n",
    "Sometimes you need a tiny function for one quick use. **Lambda functions** provide a shortcut. They're called \"lambda\" after the Greek letter λ (lambda) used in mathematical logic to denote functions. \n",
    "\n",
    "They're also called **anonymous functions** because they don't have a name - you don't use `def function_name`, you just write the function directly where you need it."
   ]
  },
  {
   "cell_type": "code",
   "execution_count": 125,
   "id": "1f69b8d9",
   "metadata": {},
   "outputs": [
    {
     "name": "stdout",
     "output_type": "stream",
     "text": [
      "Traditional: 25\n",
      "Lambda: 25\n"
     ]
    }
   ],
   "source": [
    "# Traditional named function\n",
    "def square(x):\n",
    "    return x**2\n",
    "\n",
    "# Lambda (anonymous) function - no name!\n",
    "square_lambda = lambda x: x**2\n",
    "\n",
    "print(f\"Traditional: {square(5)}\")\n",
    "print(f\"Lambda: {square_lambda(5)}\")"
   ]
  },
  {
   "cell_type": "markdown",
   "id": "0b0b22a9",
   "metadata": {},
   "source": [
    "The syntax is: `lambda parameters: expression`\n",
    "\n",
    "The word \"lambda\" is just a keyword (like \"def\") that tells Python \"here comes a function\". After the colon, you write what the function returns. The lambda automatically returns whatever the expression evaluates to."
   ]
  },
  {
   "cell_type": "code",
   "execution_count": 126,
   "id": "3526091f",
   "metadata": {},
   "outputs": [
    {
     "name": "stdout",
     "output_type": "stream",
     "text": [
      "Add: 7\n",
      "Is mag 5 bright? True\n",
      "Is mag 10 bright? False\n"
     ]
    }
   ],
   "source": [
    "# More lambda examples\n",
    "add = lambda x, y: x + y\n",
    "is_bright = lambda mag: mag < 6.0\n",
    "\n",
    "print(f\"Add: {add(3, 4)}\")\n",
    "print(f\"Is mag 5 bright? {is_bright(5.0)}\")\n",
    "print(f\"Is mag 10 bright? {is_bright(10.0)}\")"
   ]
  },
  {
   "cell_type": "markdown",
   "id": "72db97ef",
   "metadata": {},
   "source": [
    "Why use lambda functions? They're perfect when you need a simple function just once and don't want to write a full `def` statement. However, they're limited - you can only write a single expression, not multiple statements."
   ]
  },
  {
   "cell_type": "markdown",
   "id": "4c47b013",
   "metadata": {},
   "source": [
    "## Part 2: Object-Oriented Programming\n",
    "\n",
    "### You've Already Been Using Objects!\n",
    "\n",
    "Every time you use the dot (`.`) notation, you're working with objects. Let's think about strings for a moment:"
   ]
  },
  {
   "cell_type": "code",
   "execution_count": null,
   "id": "6176deaa",
   "metadata": {},
   "outputs": [
    {
     "name": "stdout",
     "output_type": "stream",
     "text": [
      "BETELGEUSE\n",
      "4\n",
      "b*t*lg*us*\n"
     ]
    }
   ],
   "source": [
    "# Strings are objects\n",
    "star_name = \"betelgeuse\"\n",
    "print(star_name.upper())  # .upper() is a method of the string object\n",
    "print(star_name.replace('e', '*'))  # .replace() is another method"
   ]
  },
  {
   "cell_type": "markdown",
   "id": "1f96597c",
   "metadata": {},
   "source": [
    "Why is this convenient? The string object bundles the data (the actual text) with functions (methods) that know how to work with that data. You don't need separate functions like `make_uppercase(star_name)` - the string knows how to uppercase itself!\n",
    "\n",
    "Have you ever wondered why `print()` works with so many different things?"
   ]
  },
  {
   "cell_type": "code",
   "execution_count": 129,
   "id": "a220db98",
   "metadata": {},
   "outputs": [
    {
     "name": "stdout",
     "output_type": "stream",
     "text": [
      "Hello\n",
      "42\n",
      "[1, 2, 3]\n"
     ]
    }
   ],
   "source": [
    "print(\"Hello\")  # Prints a string\n",
    "print(42)       # Prints a number\n",
    "print([1, 2, 3])  # Prints a list"
   ]
  },
  {
   "cell_type": "markdown",
   "id": "aa24bd2c",
   "metadata": {},
   "source": [
    "This works because each type of object knows how to convert itself to a string for printing. This lecture explains how to create your own objects that work just as smoothly!\n",
    "\n",
    "### Why Object-Oriented Programming?\n",
    " \n",
    "Object-Oriented Programming (OOP) is a powerful way to organize code. While beginners often just use functions (which is fine!), understanding OOP will help you read and debug other people's code (most Python libraries use OOP), create more organized and reusable code, and model real-world things naturally.\n",
    " \n",
    "Think of objects as containers that store both data (called attributes) and functions that work on that data (called methods). This bundling of related data and functionality makes code more intuitive and easier to work with.\n",
    " \n",
    "Let's explore more built-in objects:"
   ]
  },
  {
   "cell_type": "code",
   "execution_count": 130,
   "id": "34210039",
   "metadata": {},
   "outputs": [
    {
     "name": "stdout",
     "output_type": "stream",
     "text": [
      "[9.8, 10.5, 11.2, 12.1]\n"
     ]
    }
   ],
   "source": [
    "# Lists are objects with useful methods\n",
    "magnitudes = [10.5, 11.2, 9.8]\n",
    "magnitudes.append(12.1)  # The list knows how to add items to itself\n",
    "magnitudes.sort()  # The list knows how to sort itself\n",
    "print(magnitudes)"
   ]
  },
  {
   "cell_type": "code",
   "execution_count": 131,
   "id": "a88978e7",
   "metadata": {},
   "outputs": [
    {
     "name": "stdout",
     "output_type": "stream",
     "text": [
      "False\n",
      "10\n"
     ]
    }
   ],
   "source": [
    "# Numbers have methods too\n",
    "magnitude = 10.567\n",
    "print(magnitude.is_integer())  # False\n",
    "print(int(magnitude))  # Convert to integer"
   ]
  },
  {
   "cell_type": "markdown",
   "id": "d5d3175b",
   "metadata": {},
   "source": [
    "### Creating Your Own Objects with Classes\n",
    "\n",
    "A **class** is a blueprint for creating objects. Think of it like a form or template:"
   ]
  },
  {
   "cell_type": "code",
   "execution_count": 132,
   "id": "e188fef0",
   "metadata": {},
   "outputs": [],
   "source": [
    "class Star:\n",
    "    \"\"\"A simple star class.\"\"\"\n",
    "    \n",
    "    def __init__(self, name, magnitude):\n",
    "        \"\"\"Initialize a new star.\"\"\"\n",
    "        self.name = name\n",
    "        self.magnitude = magnitude"
   ]
  },
  {
   "cell_type": "markdown",
   "id": "0093636c",
   "metadata": {},
   "source": [
    "Let's understand every part:\n",
    "- `class` - Keyword that starts a class definition\n",
    "- `Star` - The class name (use CapitalCase for classes)\n",
    "- `:` - Colon, then everything indented belongs to the class\n",
    "- `def __init__(self, ...)` - Magic method that runs when creating a new object\n",
    "- `self` - Refers to the object being created (required first parameter)\n",
    "- `self.name = name` - Stores the name in the object\n",
    "\n",
    "### Understanding `self`\n",
    "\n",
    "The `self` parameter is probably the most confusing part of classes for beginners. Let's break it down step by step.\n",
    "\n",
    "#### What is `self`?\n",
    "\n",
    "`self` is a reference to the current object - the specific star you're working with. Think of it like \"this particular star\" or \"my\":"
   ]
  },
  {
   "cell_type": "code",
   "execution_count": 133,
   "id": "3ecbb4b9",
   "metadata": {},
   "outputs": [],
   "source": [
    "class Star:\n",
    "    def __init__(self, name, magnitude):\n",
    "        # self = the specific star being created\n",
    "        self.name = name  # THIS star's name\n",
    "        self.magnitude = magnitude  # THIS star's magnitude"
   ]
  },
  {
   "cell_type": "markdown",
   "id": "a440787a",
   "metadata": {},
   "source": [
    "#### Why do we need `self`?\n",
    "\n",
    "Without `self`, Python wouldn't know which star's data to use:"
   ]
  },
  {
   "cell_type": "code",
   "execution_count": 134,
   "id": "57ac6831",
   "metadata": {},
   "outputs": [],
   "source": [
    "# Imagine we have two stars\n",
    "vega = Star(\"Vega\", 0.03)\n",
    "sirius = Star(\"Sirius\", -1.46)\n",
    "\n",
    "# When we access vega.name, Python needs to know we want VEGA's name, not Sirius's\n",
    "# That's what self does - it refers to the specific object"
   ]
  },
  {
   "cell_type": "markdown",
   "id": "8c8a6bb5",
   "metadata": {},
   "source": [
    "#### How `self` works when creating objects\n",
    "\n",
    "Let's trace through what happens step by step:"
   ]
  },
  {
   "cell_type": "code",
   "execution_count": 135,
   "id": "aeab32f4",
   "metadata": {},
   "outputs": [],
   "source": [
    "class Star:\n",
    "    def __init__(self, name, magnitude):\n",
    "        print(f\"Creating star: {name}\")\n",
    "        self.name = name\n",
    "        self.magnitude = magnitude"
   ]
  },
  {
   "cell_type": "code",
   "execution_count": 136,
   "id": "b76d5123",
   "metadata": {},
   "outputs": [
    {
     "name": "stdout",
     "output_type": "stream",
     "text": [
      "Creating star: Vega\n"
     ]
    }
   ],
   "source": [
    "# When we write this:\n",
    "vega = Star(\"Vega\", 0.03)\n",
    "\n",
    "# Python does this behind the scenes:\n",
    "# 1. Creates a new empty Star object\n",
    "# 2. Calls Star.__init__(new_object, \"Vega\", 0.03)\n",
    "# 3. Inside __init__, self = new_object\n",
    "# 4. Stores \"Vega\" in new_object.name\n",
    "# 5. Stores 0.03 in new_object.magnitude\n",
    "# 6. Returns new_object, which gets stored in vega"
   ]
  },
  {
   "cell_type": "markdown",
   "id": "93cd498a",
   "metadata": {},
   "source": [
    "#### `self` in methods\n",
    "\n",
    "Every method needs `self` as its first parameter. This is how the method knows which object's data to use:"
   ]
  },
  {
   "cell_type": "code",
   "execution_count": 137,
   "id": "a29e74c8",
   "metadata": {},
   "outputs": [],
   "source": [
    "class Star:\n",
    "    def __init__(self, name, magnitude):\n",
    "        self.name = name\n",
    "        self.magnitude = magnitude\n",
    "    \n",
    "    def describe(self):\n",
    "        # self lets us access THIS star's data\n",
    "        print(f\"{self.name} has magnitude {self.magnitude}\")"
   ]
  },
  {
   "cell_type": "markdown",
   "id": "65cfd107",
   "metadata": {},
   "source": [
    "When you call a method, Python automatically passes the object as `self`:"
   ]
  },
  {
   "cell_type": "code",
   "execution_count": 138,
   "id": "e30eebed",
   "metadata": {},
   "outputs": [
    {
     "name": "stdout",
     "output_type": "stream",
     "text": [
      "Vega has magnitude 0.03\n"
     ]
    }
   ],
   "source": [
    "vega = Star(\"Vega\", 0.03)\n",
    "\n",
    "# When you write:\n",
    "vega.describe()"
   ]
  },
  {
   "cell_type": "markdown",
   "id": "f601cd9e",
   "metadata": {},
   "source": [
    "What actually happens behind the scenes:"
   ]
  },
  {
   "cell_type": "code",
   "execution_count": 139,
   "id": "54d9112b",
   "metadata": {},
   "outputs": [
    {
     "name": "stdout",
     "output_type": "stream",
     "text": [
      "Vega has magnitude 0.03\n"
     ]
    }
   ],
   "source": [
    "# Python actually calls:\n",
    "Star.describe(vega)  # vega becomes self inside the describe method"
   ]
  },
  {
   "cell_type": "markdown",
   "id": "dc957f46",
   "metadata": {},
   "source": [
    "This is why every method needs `self` - it's how the method receives the object to work on!\n",
    "\n",
    "### Common Mistake: Forgetting `self`\n",
    "\n",
    "This is the most common error when learning classes. Let's see what goes wrong:"
   ]
  },
  {
   "cell_type": "code",
   "execution_count": 140,
   "id": "982da808",
   "metadata": {},
   "outputs": [],
   "source": [
    "# WRONG VERSION - Missing self\n",
    "class BrokenStar:\n",
    "    def __init__(self, name, magnitude):\n",
    "        name = name  # This just assigns name to itself!\n",
    "        magnitude = magnitude  # Same problem\n",
    "    \n",
    "    def show(self):\n",
    "        print(name)  # Error! What's name?"
   ]
  },
  {
   "cell_type": "markdown",
   "id": "aece6a56",
   "metadata": {},
   "source": [
    "The problem: without `self`, we're just creating local variables that disappear!"
   ]
  },
  {
   "cell_type": "code",
   "execution_count": 141,
   "id": "ec25db77",
   "metadata": {},
   "outputs": [
    {
     "name": "stdout",
     "output_type": "stream",
     "text": [
      "Betelgeuse\n"
     ]
    }
   ],
   "source": [
    "# Let's see the error:\n",
    "try:\n",
    "    broken = BrokenStar(\"Test\", 10.0)\n",
    "    broken.show()\n",
    "except NameError as e:\n",
    "    print(f\"Error: {e}\")"
   ]
  },
  {
   "cell_type": "markdown",
   "id": "ce04cf52",
   "metadata": {},
   "source": [
    "Here's the correct version:"
   ]
  },
  {
   "cell_type": "code",
   "execution_count": 142,
   "id": "e10080fc",
   "metadata": {},
   "outputs": [
    {
     "name": "stdout",
     "output_type": "stream",
     "text": [
      "Test: 10.0\n"
     ]
    }
   ],
   "source": [
    "# CORRECT VERSION - Using self\n",
    "class WorkingStar:\n",
    "    def __init__(self, name, magnitude):\n",
    "        self.name = name  # Store in the object\n",
    "        self.magnitude = magnitude  # Store in the object\n",
    "    \n",
    "    def show(self):\n",
    "        print(f\"{self.name}: {self.magnitude}\")  # Access from the object\n",
    "\n",
    "# This works!\n",
    "working = WorkingStar(\"Test\", 10.0)\n",
    "working.show()"
   ]
  },
  {
   "cell_type": "markdown",
   "id": "e3443482",
   "metadata": {},
   "source": [
    "### Creating and Using Objects\n",
    "\n",
    "To create an object, call the class like a function:"
   ]
  },
  {
   "cell_type": "code",
   "execution_count": 143,
   "id": "648a6fc1",
   "metadata": {},
   "outputs": [],
   "source": [
    "# Create star objects (instances of the Star class)\n",
    "vega = Star(\"Vega\", 0.03)\n",
    "sirius = Star(\"Sirius\", -1.46)"
   ]
  },
  {
   "cell_type": "markdown",
   "id": "f703ae76",
   "metadata": {},
   "source": [
    "Each object is independent - they each have their own separate data:"
   ]
  },
  {
   "cell_type": "code",
   "execution_count": 144,
   "id": "b705cc3e",
   "metadata": {},
   "outputs": [
    {
     "name": "stdout",
     "output_type": "stream",
     "text": [
      "Vega has magnitude 0.03\n",
      "Sirius has magnitude -1.46\n"
     ]
    }
   ],
   "source": [
    "print(f\"{vega.name} has magnitude {vega.magnitude}\")\n",
    "print(f\"{sirius.name} has magnitude {sirius.magnitude}\")"
   ]
  },
  {
   "cell_type": "markdown",
   "id": "e86fc1ab",
   "metadata": {},
   "source": [
    "You can modify one without affecting the other, just like with strings:"
   ]
  },
  {
   "cell_type": "code",
   "execution_count": 145,
   "id": "bfd64c7d",
   "metadata": {},
   "outputs": [
    {
     "name": "stdout",
     "output_type": "stream",
     "text": [
      "Vega: 0.0\n",
      "Sirius: -1.46\n"
     ]
    }
   ],
   "source": [
    "# Our objects work similarly\n",
    "vega.magnitude = 0.00  # Change Vega's magnitude\n",
    "print(f\"Vega: {vega.magnitude}\")\n",
    "print(f\"Sirius: {sirius.magnitude}\")  # Unchanged!"
   ]
  },
  {
   "cell_type": "markdown",
   "id": "8d13b364",
   "metadata": {},
   "source": [
    "### Adding Methods (Functions in Classes)\n",
    "\n",
    "Methods are functions that belong to objects. They always take `self` as the first parameter so they can access the object's data.\n",
    "\n",
    "Why are methods useful? Think about strings again - having `star_name.upper()` is much more natural than `make_uppercase(star_name)`. The same principle applies to our custom objects:"
   ]
  },
  {
   "cell_type": "code",
   "execution_count": 146,
   "id": "576ce7f9",
   "metadata": {},
   "outputs": [],
   "source": [
    "class Star:\n",
    "    def __init__(self, name, magnitude):\n",
    "        self.name = name\n",
    "        self.magnitude = magnitude\n",
    "    \n",
    "    def flux(self):\n",
    "        \"\"\"Calculate relative flux from magnitude.\"\"\"\n",
    "        # Use self to access this star's magnitude\n",
    "        return 10**(-0.4 * self.magnitude)\n",
    "    \n",
    "    def info(self):\n",
    "        \"\"\"Return information string.\"\"\"\n",
    "        return f\"{self.name}: magnitude {self.magnitude}\""
   ]
  },
  {
   "cell_type": "markdown",
   "id": "7b053498",
   "metadata": {},
   "source": [
    "Using methods:"
   ]
  },
  {
   "cell_type": "code",
   "execution_count": 147,
   "id": "f133bd04",
   "metadata": {},
   "outputs": [
    {
     "name": "stdout",
     "output_type": "stream",
     "text": [
      "Vega: magnitude 0.03\n",
      "Flux: 0.97\n"
     ]
    }
   ],
   "source": [
    "vega = Star(\"Vega\", 0.03)\n",
    "\n",
    "# Call methods with dot notation\n",
    "print(vega.info())\n",
    "print(f\"Flux: {vega.flux():.2f}\")"
   ]
  },
  {
   "cell_type": "markdown",
   "id": "045a34e8",
   "metadata": {},
   "source": [
    "When you call `vega.flux()`, Python automatically passes `vega` as the `self` parameter to the `flux` method.\n",
    "\n",
    "### Building a Class Step by Step\n",
    "\n",
    "Let's build a more complex class gradually to understand how pieces fit together:\n",
    "\n",
    "#### Step 1: Basic storage\n",
    "\n",
    "Start with just storing data:"
   ]
  },
  {
   "cell_type": "code",
   "execution_count": 148,
   "id": "95c47e5b",
   "metadata": {},
   "outputs": [],
   "source": [
    "class Observation:\n",
    "    def __init__(self, target, magnitude):\n",
    "        self.target = target\n",
    "        self.magnitude = magnitude"
   ]
  },
  {
   "cell_type": "markdown",
   "id": "d780190d",
   "metadata": {},
   "source": [
    "Test what we have:"
   ]
  },
  {
   "cell_type": "code",
   "execution_count": 149,
   "id": "3ef8c807",
   "metadata": {},
   "outputs": [
    {
     "name": "stdout",
     "output_type": "stream",
     "text": [
      "Observed Jupiter at magnitude -2.5\n"
     ]
    }
   ],
   "source": [
    "obs = Observation(\"Jupiter\", -2.5)\n",
    "print(f\"Observed {obs.target} at magnitude {obs.magnitude}\")"
   ]
  },
  {
   "cell_type": "markdown",
   "id": "73a062a3",
   "metadata": {},
   "source": [
    "#### Step 2: Add a simple method\n",
    "\n",
    "Now let's add functionality:"
   ]
  },
  {
   "cell_type": "code",
   "execution_count": 150,
   "id": "c214b35e",
   "metadata": {},
   "outputs": [],
   "source": [
    "class Observation:\n",
    "    def __init__(self, target, magnitude):\n",
    "        self.target = target\n",
    "        self.magnitude = magnitude\n",
    "    \n",
    "    def is_bright(self):\n",
    "        \"\"\"Check if brighter than magnitude 6 (naked eye limit).\"\"\"\n",
    "        return self.magnitude < 6.0"
   ]
  },
  {
   "cell_type": "markdown",
   "id": "f991cbd3",
   "metadata": {},
   "source": [
    "Test the new method:"
   ]
  },
  {
   "cell_type": "code",
   "execution_count": 151,
   "id": "59293d19",
   "metadata": {},
   "outputs": [
    {
     "name": "stdout",
     "output_type": "stream",
     "text": [
      "Jupiter visible? True\n",
      "Vesta visible? False\n"
     ]
    }
   ],
   "source": [
    "jupiter = Observation(\"Jupiter\", -2.5)\n",
    "asteroid = Observation(\"Vesta\", 7.2)\n",
    "\n",
    "print(f\"Jupiter visible? {jupiter.is_bright()}\")\n",
    "print(f\"Vesta visible? {asteroid.is_bright()}\")"
   ]
  },
  {
   "cell_type": "markdown",
   "id": "c357c478",
   "metadata": {},
   "source": [
    "#### Step 3: Add more attributes and methods\n",
    "\n",
    "Continue building up functionality:"
   ]
  },
  {
   "cell_type": "code",
   "execution_count": 152,
   "id": "3009c0d4",
   "metadata": {},
   "outputs": [],
   "source": [
    "class Observation:\n",
    "    def __init__(self, target, magnitude, time):\n",
    "        self.target = target\n",
    "        self.magnitude = magnitude\n",
    "        self.time = time  # New attribute\n",
    "    \n",
    "    def is_bright(self):\n",
    "        return self.magnitude < 6.0\n",
    "    \n",
    "    def summary(self):\n",
    "        \"\"\"Create a summary string.\"\"\"\n",
    "        visibility = \"visible\" if self.is_bright() else \"telescopic\"\n",
    "        return f\"{self.time}: {self.target} (mag {self.magnitude}, {visibility})\""
   ]
  },
  {
   "cell_type": "markdown",
   "id": "269e59c0",
   "metadata": {},
   "source": [
    "Test the expanded class:"
   ]
  },
  {
   "cell_type": "code",
   "execution_count": 153,
   "id": "98e7681a",
   "metadata": {},
   "outputs": [
    {
     "name": "stdout",
     "output_type": "stream",
     "text": [
      "21:30: Saturn (mag 0.5, visible)\n",
      "22:15: Neptune (mag 7.8, telescopic)\n"
     ]
    }
   ],
   "source": [
    "obs1 = Observation(\"Saturn\", 0.5, \"21:30\")\n",
    "obs2 = Observation(\"Neptune\", 7.8, \"22:15\")\n",
    "\n",
    "print(obs1.summary())\n",
    "print(obs2.summary())"
   ]
  },
  {
   "cell_type": "markdown",
   "id": "9178afc8",
   "metadata": {},
   "source": [
    "Notice how each method can use `self` to access all the object's data and even call other methods!\n",
    "\n",
    "### Using help() with Classes\n",
    "\n",
    "The `help()` function works with our custom classes too:"
   ]
  },
  {
   "cell_type": "code",
   "execution_count": 154,
   "id": "820743ef",
   "metadata": {},
   "outputs": [
    {
     "name": "stdout",
     "output_type": "stream",
     "text": [
      "Help on class Observation in module __main__:\n",
      "\n",
      "class Observation(builtins.object)\n",
      " |  Observation(target, magnitude, time)\n",
      " |\n",
      " |  Methods defined here:\n",
      " |\n",
      " |  __init__(self, target, magnitude, time)\n",
      " |      Initialize self.  See help(type(self)) for accurate signature.\n",
      " |\n",
      " |  is_bright(self)\n",
      " |\n",
      " |  summary(self)\n",
      " |      Create a summary string.\n",
      " |\n",
      " |  ----------------------------------------------------------------------\n",
      " |  Data descriptors defined here:\n",
      " |\n",
      " |  __dict__\n",
      " |      dictionary for instance variables\n",
      " |\n",
      " |  __weakref__\n",
      " |      list of weak references to the object\n",
      "\n",
      "Help on function is_bright in module __main__:\n",
      "\n",
      "is_bright(self)\n",
      "\n"
     ]
    }
   ],
   "source": [
    "# Get help on the class\n",
    "help(Observation)\n",
    "\n",
    "# Get help on a specific method\n",
    "help(Observation.is_bright)"
   ]
  },
  {
   "cell_type": "markdown",
   "id": "48560de0",
   "metadata": {},
   "source": [
    "### Magic Methods: Customizing Object Behavior\n",
    "\n",
    "Python has magic methods (also called \"dunder methods\" for \"double underscore\") that customize how objects work with Python's built-in operations. They always start and end with double underscores.\n",
    "\n",
    "#### The `__str__` Method - Controlling print()\n",
    "\n",
    "Without `__str__`, printing an object shows something unhelpful:"
   ]
  },
  {
   "cell_type": "code",
   "execution_count": 155,
   "id": "055b6f59",
   "metadata": {},
   "outputs": [
    {
     "name": "stdout",
     "output_type": "stream",
     "text": [
      "<__main__.StarWithoutStr object at 0x105f42660>\n"
     ]
    }
   ],
   "source": [
    "class StarWithoutStr:\n",
    "    def __init__(self, name):\n",
    "        self.name = name\n",
    "\n",
    "star = StarWithoutStr(\"Vega\")\n",
    "print(star)  # <__main__.StarWithoutStr object at 0x...>"
   ]
  },
  {
   "cell_type": "markdown",
   "id": "33932dc0",
   "metadata": {},
   "source": [
    "The `__str__` method defines what `print()` shows. When Python needs to convert your object to a string (like when printing), it calls this method:"
   ]
  },
  {
   "cell_type": "code",
   "execution_count": 156,
   "id": "6f2e69fb",
   "metadata": {},
   "outputs": [],
   "source": [
    "class Star:\n",
    "    def __init__(self, name, magnitude):\n",
    "        self.name = name\n",
    "        self.magnitude = magnitude\n",
    "    \n",
    "    def __str__(self):\n",
    "        \"\"\"This method is called when you print the object.\"\"\"\n",
    "        return f\"{self.name} (magnitude {self.magnitude:.2f})\""
   ]
  },
  {
   "cell_type": "markdown",
   "id": "9a39fa41",
   "metadata": {},
   "source": [
    "Now printing is much more useful:"
   ]
  },
  {
   "cell_type": "code",
   "execution_count": 157,
   "id": "a4833d9b",
   "metadata": {},
   "outputs": [
    {
     "name": "stdout",
     "output_type": "stream",
     "text": [
      "Vega (magnitude 0.03)\n",
      "String representation: Vega (magnitude 0.03)\n"
     ]
    }
   ],
   "source": [
    "vega = Star(\"Vega\", 0.03)\n",
    "print(vega)  # Vega (magnitude 0.03)\n",
    "\n",
    "# You can also call str() explicitly\n",
    "star_string = str(vega)\n",
    "print(f\"String representation: {star_string}\")"
   ]
  },
  {
   "cell_type": "markdown",
   "id": "03e52298",
   "metadata": {},
   "source": [
    "#### The `__len__` Method - Making len() work\n",
    "\n",
    "The `__len__` method tells Python what to return when someone calls `len()` on your object:"
   ]
  },
  {
   "cell_type": "code",
   "execution_count": 158,
   "id": "45454691",
   "metadata": {},
   "outputs": [],
   "source": [
    "class ObservationSession:\n",
    "    def __init__(self, date):\n",
    "        self.date = date\n",
    "        self.targets = []  # List of targets observed\n",
    "    \n",
    "    def add_target(self, target):\n",
    "        \"\"\"Add a target to the session.\"\"\"\n",
    "        self.targets.append(target)\n",
    "    \n",
    "    def __len__(self):\n",
    "        \"\"\"Return the number of targets when len() is called.\"\"\"\n",
    "        return len(self.targets)\n",
    "    \n",
    "    def __str__(self):\n",
    "        return f\"Session on {self.date}: {len(self)} targets\""
   ]
  },
  {
   "cell_type": "markdown",
   "id": "f8139e70",
   "metadata": {},
   "source": [
    "Now `len()` works naturally with our objects:"
   ]
  },
  {
   "cell_type": "code",
   "execution_count": 159,
   "id": "c6c352e7",
   "metadata": {},
   "outputs": [
    {
     "name": "stdout",
     "output_type": "stream",
     "text": [
      "Session on 2024-03-15: 3 targets\n",
      "Number of targets: 3\n"
     ]
    }
   ],
   "source": [
    "session = ObservationSession(\"2024-03-15\")\n",
    "session.add_target(\"Jupiter\")\n",
    "session.add_target(\"Saturn\")\n",
    "session.add_target(\"M42\")\n",
    "\n",
    "print(session)  # Uses __str__\n",
    "print(f\"Number of targets: {len(session)}\")  # Uses __len__"
   ]
  },
  {
   "cell_type": "markdown",
   "id": "2d240f9b",
   "metadata": {},
   "source": [
    "Python calls `session.__len__()` when you write `len(session)`.\n",
    "\n",
    "#### The `__eq__` Method - Defining Equality\n",
    "\n",
    "By default, Python checks if two variables refer to the exact same object in memory:"
   ]
  },
  {
   "cell_type": "code",
   "execution_count": 160,
   "id": "9d2fb858",
   "metadata": {},
   "outputs": [
    {
     "name": "stdout",
     "output_type": "stream",
     "text": [
      "False\n"
     ]
    }
   ],
   "source": [
    "class StarWithoutEq:\n",
    "    def __init__(self, name):\n",
    "        self.name = name\n",
    "\n",
    "star1 = StarWithoutEq(\"Vega\")\n",
    "star2 = StarWithoutEq(\"Vega\")\n",
    "\n",
    "print(star1 == star2)  # False! Different objects in memory"
   ]
  },
  {
   "cell_type": "markdown",
   "id": "18a4e44f",
   "metadata": {},
   "source": [
    "Even though both stars have the name \"Vega\", they're different objects in memory, so Python says they're not equal.\n",
    "\n",
    "The `__eq__` method lets you define what equality means for your objects:"
   ]
  },
  {
   "cell_type": "code",
   "execution_count": 161,
   "id": "290165d6",
   "metadata": {},
   "outputs": [],
   "source": [
    "class Star:\n",
    "    def __init__(self, name, magnitude):\n",
    "        self.name = name\n",
    "        self.magnitude = magnitude\n",
    "    \n",
    "    def __eq__(self, other):\n",
    "        \"\"\"Two stars are equal if they have the same name.\"\"\"\n",
    "        return self.name == other.name\n",
    "    \n",
    "    def __str__(self):\n",
    "        return self.name"
   ]
  },
  {
   "cell_type": "markdown",
   "id": "e29b3264",
   "metadata": {},
   "source": [
    "Now equality works the way we want:"
   ]
  },
  {
   "cell_type": "code",
   "execution_count": 162,
   "id": "c48c5138",
   "metadata": {},
   "outputs": [
    {
     "name": "stdout",
     "output_type": "stream",
     "text": [
      "Vega == Vega? True\n",
      "Vega == Sirius? False\n"
     ]
    }
   ],
   "source": [
    "star1 = Star(\"Vega\", 0.03)\n",
    "star2 = Star(\"Vega\", 0.03)\n",
    "star3 = Star(\"Sirius\", -1.46)\n",
    "\n",
    "print(f\"{star1} == {star2}? {star1 == star2}\")  # True - same name\n",
    "print(f\"{star1} == {star3}? {star1 == star3}\")  # False - different names"
   ]
  },
  {
   "cell_type": "markdown",
   "id": "66b1431f",
   "metadata": {},
   "source": [
    "#### The `__lt__` Method - Enabling Sorting\n",
    "\n",
    "The `__lt__` (less than) method tells Python how to compare objects with `<`. Once Python knows how to use `<`, it can automatically figure out sorting:"
   ]
  },
  {
   "cell_type": "code",
   "execution_count": 163,
   "id": "a419b208",
   "metadata": {},
   "outputs": [],
   "source": [
    "class Star:\n",
    "    def __init__(self, name, magnitude):\n",
    "        self.name = name\n",
    "        self.magnitude = magnitude\n",
    "    \n",
    "    def __str__(self):\n",
    "        return f\"{self.name} ({self.magnitude:.1f})\"\n",
    "    \n",
    "    def __lt__(self, other):\n",
    "        \"\"\"For sorting: remember smaller magnitude = brighter!\"\"\"\n",
    "        return self.magnitude < other.magnitude"
   ]
  },
  {
   "cell_type": "markdown",
   "id": "4c32012e",
   "metadata": {},
   "source": [
    "Now we can sort stars by brightness:"
   ]
  },
  {
   "cell_type": "code",
   "execution_count": 164,
   "id": "258d65e9",
   "metadata": {},
   "outputs": [
    {
     "name": "stdout",
     "output_type": "stream",
     "text": [
      "Stars from brightest to faintest:\n",
      "  Sirius (-1.5)\n",
      "  Vega (0.0)\n",
      "  Betelgeuse (0.4)\n",
      "  Proxima (11.1)\n"
     ]
    }
   ],
   "source": [
    "stars = [\n",
    "    Star(\"Sirius\", -1.46),\n",
    "    Star(\"Betelgeuse\", 0.42),\n",
    "    Star(\"Vega\", 0.03),\n",
    "    Star(\"Proxima\", 11.13)\n",
    "]\n",
    "\n",
    "# Sort uses __lt__ to compare stars\n",
    "stars.sort()\n",
    "\n",
    "print(\"Stars from brightest to faintest:\")\n",
    "for star in stars:\n",
    "    print(f\"  {star}\")"
   ]
  },
  {
   "cell_type": "markdown",
   "id": "b7b091f8",
   "metadata": {},
   "source": [
    "Python calls `star1.__lt__(star2)` when it needs to know if `star1 < star2` during sorting.\n",
    "\n",
    "#### The `__contains__` Method - The `in` Operator\n",
    "\n",
    "The `__contains__` method lets you use the `in` operator with your objects:"
   ]
  },
  {
   "cell_type": "code",
   "execution_count": 165,
   "id": "031a26e3",
   "metadata": {},
   "outputs": [],
   "source": [
    "class Constellation:\n",
    "    def __init__(self, name):\n",
    "        self.name = name\n",
    "        self.stars = []\n",
    "    \n",
    "    def add_star(self, star_name):\n",
    "        self.stars.append(star_name)\n",
    "    \n",
    "    def __contains__(self, star_name):\n",
    "        \"\"\"Check if a star is in this constellation.\"\"\"\n",
    "        return star_name in self.stars\n",
    "    \n",
    "    def __str__(self):\n",
    "        return f\"{self.name} with {len(self.stars)} stars\""
   ]
  },
  {
   "cell_type": "markdown",
   "id": "b15dcf33",
   "metadata": {},
   "source": [
    "Now we can use `in` naturally:"
   ]
  },
  {
   "cell_type": "code",
   "execution_count": 166,
   "id": "73db68b6",
   "metadata": {},
   "outputs": [
    {
     "name": "stdout",
     "output_type": "stream",
     "text": [
      "True\n",
      "False\n",
      "Rigel is in Orion!\n"
     ]
    }
   ],
   "source": [
    "orion = Constellation(\"Orion\")\n",
    "orion.add_star(\"Betelgeuse\")\n",
    "orion.add_star(\"Rigel\")\n",
    "orion.add_star(\"Bellatrix\")\n",
    "\n",
    "# Uses __contains__\n",
    "print(\"Betelgeuse\" in orion)  # True\n",
    "print(\"Vega\" in orion)  # False\n",
    "\n",
    "if \"Rigel\" in orion:\n",
    "    print(\"Rigel is in Orion!\")"
   ]
  },
  {
   "cell_type": "markdown",
   "id": "fee156f2",
   "metadata": {},
   "source": [
    "When Python sees `\"Rigel\" in orion`, it calls `orion.__contains__(\"Rigel\")`.\n",
    "\n",
    "### Combining Everything: A Practical Example\n",
    "\n",
    "Let's build a simple but complete class that uses everything we've learned. We'll create a star catalog that can store and search for stars:"
   ]
  },
  {
   "cell_type": "code",
   "execution_count": 167,
   "id": "46e6c5c5",
   "metadata": {},
   "outputs": [],
   "source": [
    "class StarCatalog:\n",
    "    \"\"\"A catalog of stars with search capabilities.\"\"\"\n",
    "    \n",
    "    def __init__(self, name):\n",
    "        \"\"\"Initialize an empty catalog.\"\"\"\n",
    "        self.name = name\n",
    "        self.stars = {}  # Dictionary: star name -> magnitude\n",
    "    \n",
    "    def add_star(self, name, magnitude):\n",
    "        \"\"\"Add a star to the catalog.\"\"\"\n",
    "        self.stars[name] = magnitude\n",
    "        print(f\"Added {name} to {self.name}\")\n",
    "    \n",
    "    def get_magnitude(self, name):\n",
    "        \"\"\"Get a star's magnitude.\"\"\"\n",
    "        if name in self.stars:\n",
    "            return self.stars[name]\n",
    "        else:\n",
    "            return None\n",
    "    \n",
    "    def brightest_star(self):\n",
    "        \"\"\"Find the brightest star in the catalog.\"\"\"\n",
    "        if len(self.stars) == 0:\n",
    "            return None\n",
    "        \n",
    "        # Find minimum magnitude (remember: smaller = brighter)\n",
    "        brightest_name = None\n",
    "        brightest_mag = float('inf')  # Start with infinity\n",
    "        \n",
    "        for name, mag in self.stars.items():\n",
    "            if mag < brightest_mag:\n",
    "                brightest_mag = mag\n",
    "                brightest_name = name\n",
    "        \n",
    "        return brightest_name, brightest_mag\n",
    "    \n",
    "    def visible_stars(self):\n",
    "        \"\"\"Return list of stars visible to naked eye (mag < 6).\"\"\"\n",
    "        visible = []\n",
    "        for name, mag in self.stars.items():\n",
    "            if mag < 6.0:\n",
    "                visible.append(name)\n",
    "        return visible\n",
    "    \n",
    "    def __len__(self):\n",
    "        \"\"\"Number of stars in catalog.\"\"\"\n",
    "        return len(self.stars)\n",
    "    \n",
    "    def __contains__(self, star_name):\n",
    "        \"\"\"Check if a star is in the catalog.\"\"\"\n",
    "        return star_name in self.stars\n",
    "    \n",
    "    def __str__(self):\n",
    "        \"\"\"String representation.\"\"\"\n",
    "        return f\"{self.name}: {len(self)} stars\""
   ]
  },
  {
   "cell_type": "markdown",
   "id": "023b6a64",
   "metadata": {},
   "source": [
    "Let's use our catalog class:"
   ]
  },
  {
   "cell_type": "code",
   "execution_count": 168,
   "id": "0b12afe8",
   "metadata": {},
   "outputs": [
    {
     "name": "stdout",
     "output_type": "stream",
     "text": [
      "Added Sirius to Bright Stars\n",
      "Added Vega to Bright Stars\n",
      "Added Betelgeuse to Bright Stars\n",
      "Added Proxima Centauri to Bright Stars\n",
      "\n",
      "Bright Stars: 4 stars\n"
     ]
    }
   ],
   "source": [
    "# Create a catalog\n",
    "catalog = StarCatalog(\"Bright Stars\")\n",
    "\n",
    "# Add some stars\n",
    "catalog.add_star(\"Sirius\", -1.46)\n",
    "catalog.add_star(\"Vega\", 0.03)\n",
    "catalog.add_star(\"Betelgeuse\", 0.42)\n",
    "catalog.add_star(\"Proxima Centauri\", 11.13)\n",
    "\n",
    "print(f\"\\n{catalog}\")  # Uses __str__"
   ]
  },
  {
   "cell_type": "markdown",
   "id": "c8c876b7",
   "metadata": {},
   "source": [
    "Test searching for stars:"
   ]
  },
  {
   "cell_type": "code",
   "execution_count": 169,
   "id": "45c8d83d",
   "metadata": {},
   "outputs": [
    {
     "name": "stdout",
     "output_type": "stream",
     "text": [
      "Vega magnitude: 0.03\n",
      "Mars is not in the catalog (it's a planet!)\n"
     ]
    }
   ],
   "source": [
    "# Search using 'in' operator\n",
    "if \"Vega\" in catalog:  # Uses __contains__\n",
    "    mag = catalog.get_magnitude(\"Vega\")\n",
    "    print(f\"Vega magnitude: {mag}\")\n",
    "\n",
    "if \"Mars\" not in catalog:\n",
    "    print(\"Mars is not in the catalog (it's a planet!)\")"
   ]
  },
  {
   "cell_type": "markdown",
   "id": "0ff27bd6",
   "metadata": {},
   "source": [
    "Find the brightest star:"
   ]
  },
  {
   "cell_type": "code",
   "execution_count": 170,
   "id": "df4b1367",
   "metadata": {},
   "outputs": [
    {
     "name": "stdout",
     "output_type": "stream",
     "text": [
      "Brightest star: Sirius at magnitude -1.46\n"
     ]
    }
   ],
   "source": [
    "# Find brightest\n",
    "name, mag = catalog.brightest_star()\n",
    "print(f\"Brightest star: {name} at magnitude {mag}\")"
   ]
  },
  {
   "cell_type": "markdown",
   "id": "e1dda843",
   "metadata": {},
   "source": [
    "Find all visible stars:"
   ]
  },
  {
   "cell_type": "code",
   "execution_count": 171,
   "id": "238b47d6",
   "metadata": {},
   "outputs": [
    {
     "name": "stdout",
     "output_type": "stream",
     "text": [
      "Visible to naked eye: ['Sirius', 'Vega', 'Betelgeuse']\n",
      "That's 3 out of 4 stars\n"
     ]
    }
   ],
   "source": [
    "# Find visible stars\n",
    "visible = catalog.visible_stars()\n",
    "print(f\"Visible to naked eye: {visible}\")\n",
    "print(f\"That's {len(visible)} out of {len(catalog)} stars\")  # Uses __len__"
   ]
  },
  {
   "cell_type": "markdown",
   "id": "86a52e6f",
   "metadata": {},
   "source": [
    "## Summary\n",
    "\n",
    "You've now mastered the fundamental tools for organizing astronomical code:\n",
    "\n",
    "### Functions provide:\n",
    "- **Reusability** - Write once, use many times\n",
    "- **Modularity** - Break complex problems into manageable pieces  \n",
    "- **Clear interfaces** - Parameters go in, return values come out\n",
    "- **Local scope** - Variables inside don't affect outside code\n",
    "- **Documentation** - Docstrings explain what functions do\n",
    "\n",
    "### Modules enable:\n",
    "- **Organization** - Group related functions in separate files\n",
    "- **Sharing** - Use the same functions across multiple projects\n",
    "- **Easy maintenance** - Update functions in one central location\n",
    "\n",
    "### Classes and Objects offer:\n",
    "- **Data + behavior** - Bundle attributes with methods that operate on them\n",
    "- **The `self` concept** - How objects refer to their own data\n",
    "- **Magic methods** - Customize how objects work with Python (`__str__`, `__len__`, etc.)\n",
    "- **Multiple instances** - Create many independent objects from one class blueprint\n",
    "- **Natural syntax** - Use dot notation to access attributes and methods\n",
    "\n",
    "### Key Concepts:\n",
    "- **Functions** transform inputs to outputs without remembering state\n",
    "- **Modules** organize functions into reusable files\n",
    "- **Objects** maintain state and provide methods to work with that state\n",
    "- **Lambda functions** provide quick, anonymous functions for simple operations\n",
    "- **Magic methods** let your objects work with Python's built-in operations\n",
    "\n",
    "Whether you're converting magnitudes, tracking observations, or organizing stellar data, these tools help you write code that's clear, reliable, and reusable. Functions handle calculations and transformations. Modules organize related functions. Classes model real-world astronomical objects and concepts.\n",
    "\n",
    "Remember: Start simple. Use functions for calculations, modules to organize them, and classes for things with multiple properties. Good code isn't just about getting the right answer - it's about getting it in a way that you and others can understand and build upon.\n",
    "\n",
    "Next week, we'll explore data visualization with Matplotlib, learning to create publication-quality plots of your astronomical data. For now, practice creating functions for your common calculations, organizing them into modules, and try modeling some astronomical objects as classes."
   ]
  }
 ],
 "metadata": {
  "jupytext": {
   "cell_metadata_filter": "-all",
   "main_language": "python",
   "notebook_metadata_filter": "-all"
  },
  "kernelspec": {
   "display_name": "base",
   "language": "python",
   "name": "python3"
  },
  "language_info": {
   "codemirror_mode": {
    "name": "ipython",
    "version": 3
   },
   "file_extension": ".py",
   "mimetype": "text/x-python",
   "name": "python",
   "nbconvert_exporter": "python",
   "pygments_lexer": "ipython3",
   "version": "3.13.5"
  }
 },
 "nbformat": 4,
 "nbformat_minor": 5
}
