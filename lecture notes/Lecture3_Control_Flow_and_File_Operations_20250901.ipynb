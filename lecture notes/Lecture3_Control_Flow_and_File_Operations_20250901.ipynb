{
 "cells": [
  {
   "cell_type": "markdown",
   "id": "07599f4b",
   "metadata": {},
   "source": [
    "# Control Flow and File Operations\n",
    "\n",
    "*Tutorial by Yuan-Sen Ting*\n",
    "\n",
    "*Astron 1221: Lecture 3*\n",
    "\n",
    "## Introduction\n",
    "\n",
    "In astronomical research, we rarely work with single measurements or isolated calculations. Instead, we process thousands of images from a night's observations, analyze time series spanning years, or search through millions of stars to find rare objects. These tasks require programs that can make decisions and repeat operations efficiently.\n",
    "\n",
    "This tutorial introduces the control structures that give your programs intelligence: the ability to make decisions with if/elif/else statements and repeat tasks with loops. You'll also learn to work with files - reading observational data and saving your results. Throughout, we'll develop essential debugging techniques that will save you hours of frustration when working with real astronomical data.\n",
    "\n",
    "By the end of this lecture, you'll be able to write programs that can automatically process entire directories of observations, make intelligent decisions about data quality, and save results in formats that other astronomers can use.\n",
    "\n",
    "## Control Flow: Making Decisions\n",
    "\n",
    "### The if Statement\n",
    "\n",
    "Programs need to make decisions based on data. In astronomy, we constantly ask questions: Is this star bright enough to observe? Is the seeing good enough for spectroscopy? Has this object moved since the last observation?\n",
    "\n",
    "The `if` statement lets Python make these decisions. It works like a gatekeeper - only letting code run when a condition is met:"
   ]
  },
  {
   "cell_type": "code",
   "execution_count": 1,
   "id": "4e5ad7dc",
   "metadata": {},
   "outputs": [
    {
     "name": "stdout",
     "output_type": "stream",
     "text": [
      "Star with mag 15.3 is observable\n"
     ]
    }
   ],
   "source": [
    "magnitude = 15.3\n",
    "limiting_magnitude = 18.0\n",
    "\n",
    "if magnitude < limiting_magnitude:\n",
    "    print(f\"Star with mag {magnitude} is observable\")"
   ]
  },
  {
   "cell_type": "markdown",
   "id": "978fece0",
   "metadata": {},
   "source": [
    "The code inside the `if` block only runs when the condition is True. Notice two crucial syntax elements:\n",
    "- The colon `:` at the end of the if line - this tells Python \"here comes a code block\"\n",
    "- The indentation (typically 4 spaces) - this shows Python which code belongs to the if statement\n",
    "\n",
    "These aren't optional - Python uses indentation to define code blocks, unlike languages like C or Java that use curly braces `{}`. This makes Python code visually clean but requires careful attention to spacing.\n",
    "\n",
    "### Adding else for Alternative Actions\n",
    "\n",
    "Often we want to do one thing if a condition is true and something different if it's false. The `else` clause provides this alternative path:"
   ]
  },
  {
   "cell_type": "code",
   "execution_count": 2,
   "id": "57ac6c44",
   "metadata": {},
   "outputs": [],
   "source": [
    "seeing_arcsec = 2.1  # Atmospheric seeing in arcseconds"
   ]
  },
  {
   "cell_type": "markdown",
   "id": "7c3ea671",
   "metadata": {},
   "source": [
    "Seeing measures how much stars twinkle due to atmospheric turbulence. Smaller numbers mean steadier air and sharper star images. Values below 1 arcsecond are excellent, while above 2 arcseconds makes detailed observations difficult."
   ]
  },
  {
   "cell_type": "code",
   "execution_count": 3,
   "id": "a04a7dfd",
   "metadata": {},
   "outputs": [
    {
     "name": "stdout",
     "output_type": "stream",
     "text": [
      "Conditions only suitable for photometry\n"
     ]
    }
   ],
   "source": [
    "if seeing_arcsec < 1.5:\n",
    "    print(\"Good conditions for high-resolution imaging\")\n",
    "else:\n",
    "    print(\"Conditions only suitable for photometry\")"
   ]
  },
  {
   "cell_type": "markdown",
   "id": "0b61e0cd",
   "metadata": {},
   "source": [
    "The `else` block runs when the `if` condition is False. Think of it as \"otherwise\" - if the condition isn't met, do this instead.\n",
    "\n",
    "### Multiple Conditions with elif\n",
    "\n",
    "Real decisions often have multiple possibilities. The `elif` (short for \"else if\") lets us check multiple conditions in sequence:"
   ]
  },
  {
   "cell_type": "code",
   "execution_count": 4,
   "id": "4ad5bc21",
   "metadata": {},
   "outputs": [],
   "source": [
    "airmass = 1.8  # Atmospheric path length relative to zenith"
   ]
  },
  {
   "cell_type": "markdown",
   "id": "1e27f85e",
   "metadata": {},
   "source": [
    "Airmass measures how much atmosphere starlight passes through. At zenith (directly overhead), airmass = 1.0. As objects get lower in the sky, light passes through more air, increasing extinction and blurring."
   ]
  },
  {
   "cell_type": "code",
   "execution_count": 5,
   "id": "e1c8d01e",
   "metadata": {},
   "outputs": [
    {
     "name": "stdout",
     "output_type": "stream",
     "text": [
      "Airmass 1.8: Fair\n"
     ]
    }
   ],
   "source": [
    "if airmass < 1.2:\n",
    "    quality = \"Excellent - near zenith\"\n",
    "elif airmass < 1.5:\n",
    "    quality = \"Good - acceptable for most observations\"\n",
    "elif airmass < 2.0:\n",
    "    quality = \"Fair\"\n",
    "else:\n",
    "    quality = \"Poor - only bright objects\"\n",
    "\n",
    "print(f\"Airmass {airmass}: {quality}\")"
   ]
  },
  {
   "cell_type": "markdown",
   "id": "3416c8c2",
   "metadata": {},
   "source": [
    "Python checks each condition in order, like going down a checklist. It runs the first block where the condition is True, then skips the rest. If none are True, the `else` block runs (if present).\n",
    "\n",
    "### Combining Conditions with Logical Operators\n",
    "\n",
    "Real-world decisions often depend on multiple factors. Python's logical operators let us combine conditions:"
   ]
  },
  {
   "cell_type": "code",
   "execution_count": 6,
   "id": "3c23316f",
   "metadata": {},
   "outputs": [],
   "source": [
    "ra_hours = 14.5  # Right ascension in hours\n",
    "dec_deg = 45.0   # Declination in degrees\n",
    "magnitude = 8.5"
   ]
  },
  {
   "cell_type": "markdown",
   "id": "e7c362ca",
   "metadata": {},
   "source": [
    "Right Ascension (RA) and Declination (Dec) are celestial coordinates - like longitude and latitude on Earth, but projected onto the sky. RA is measured in hours (0-24) because the sky rotates once per day. Dec is measured in degrees (-90 to +90) from the celestial equator."
   ]
  },
  {
   "cell_type": "code",
   "execution_count": 7,
   "id": "e13d4955",
   "metadata": {},
   "outputs": [],
   "source": [
    "# Check if observable from northern hemisphere with small telescope\n",
    "is_northern = dec_deg > 0\n",
    "is_bright_enough = magnitude < 10\n",
    "is_evening = 18 <= ra_hours or ra_hours <= 6  # Evening sky"
   ]
  },
  {
   "cell_type": "markdown",
   "id": "234a6b7d",
   "metadata": {},
   "source": [
    "Now combine these conditions:"
   ]
  },
  {
   "cell_type": "code",
   "execution_count": 8,
   "id": "2ec23c30",
   "metadata": {},
   "outputs": [],
   "source": [
    "if is_northern and is_bright_enough and is_evening:\n",
    "    print(\"Good target for tonight's public observing session\")"
   ]
  },
  {
   "cell_type": "markdown",
   "id": "79b5cc78",
   "metadata": {},
   "source": [
    "The logical operators work like English:\n",
    "- `and` - both/all conditions must be True\n",
    "- `or` - at least one condition must be True  \n",
    "- `not` - reverses True to False (and vice versa)\n",
    "\n",
    "### The in Operator for Membership Testing\n",
    "\n",
    "Python provides the `in` operator to check if a value exists in a collection. This is extremely useful for validation:"
   ]
  },
  {
   "cell_type": "code",
   "execution_count": 9,
   "id": "7fd9671e",
   "metadata": {},
   "outputs": [
    {
     "name": "stdout",
     "output_type": "stream",
     "text": [
      "U filter not available\n"
     ]
    }
   ],
   "source": [
    "# Check if filter is available\n",
    "available_filters = ['B', 'V', 'R', 'I']\n",
    "requested_filter = 'U'\n",
    "\n",
    "if requested_filter in available_filters:\n",
    "    print(f\"Using {requested_filter} filter\")\n",
    "else:\n",
    "    print(f\"{requested_filter} filter not available\")"
   ]
  },
  {
   "cell_type": "markdown",
   "id": "d464cdca",
   "metadata": {},
   "source": [
    "The `in` operator also works with strings to check for substrings:"
   ]
  },
  {
   "cell_type": "code",
   "execution_count": 10,
   "id": "f6aa9459",
   "metadata": {},
   "outputs": [
    {
     "name": "stdout",
     "output_type": "stream",
     "text": [
      "Warning: Weather issues noted\n"
     ]
    }
   ],
   "source": [
    "observation_notes = \"Clouds developing, seeing deteriorating\"\n",
    "\n",
    "if \"cloud\" in observation_notes.lower():\n",
    "    print(\"Warning: Weather issues noted\")"
   ]
  },
  {
   "cell_type": "markdown",
   "id": "9b13008a",
   "metadata": {},
   "source": [
    "### Nested Conditions\n",
    "\n",
    "Sometimes we need to make decisions within decisions. We can nest if statements inside each other:"
   ]
  },
  {
   "cell_type": "code",
   "execution_count": 11,
   "id": "580aa8a3",
   "metadata": {},
   "outputs": [],
   "source": [
    "is_variable = True\n",
    "period_days = 0.5\n",
    "amplitude = 0.15"
   ]
  },
  {
   "cell_type": "markdown",
   "id": "fa14d1c7",
   "metadata": {},
   "source": [
    "Variable stars change brightness over time. The period tells us how long one cycle takes, and amplitude measures how much the brightness changes."
   ]
  },
  {
   "cell_type": "code",
   "execution_count": 12,
   "id": "04690ad3",
   "metadata": {},
   "outputs": [
    {
     "name": "stdout",
     "output_type": "stream",
     "text": [
      "Classification: High-amplitude short-period variable\n"
     ]
    }
   ],
   "source": [
    "if is_variable:\n",
    "    if period_days < 1.0:\n",
    "        if amplitude > 0.1:\n",
    "            star_type = \"High-amplitude short-period variable\"\n",
    "        else:\n",
    "            star_type = \"Low-amplitude short-period variable\"\n",
    "    else:\n",
    "        star_type = \"Long-period variable\"\n",
    "else:\n",
    "    star_type = \"Non-variable star\"\n",
    "\n",
    "print(f\"Classification: {star_type}\")"
   ]
  },
  {
   "cell_type": "markdown",
   "id": "7b947a10",
   "metadata": {},
   "source": [
    "Think of nested conditions like a decision tree - each level asks a more specific question. However, too many levels make code hard to read. Often it's clearer to combine conditions with `and`/`or`.\n",
    "\n",
    "### Ternary Operator (Conditional Expressions)\n",
    "\n",
    "Python provides a concise way to assign values based on conditions. The ternary operator puts a simple if/else on one line:"
   ]
  },
  {
   "cell_type": "code",
   "execution_count": 13,
   "id": "7a2a1477",
   "metadata": {},
   "outputs": [
    {
     "name": "stdout",
     "output_type": "stream",
     "text": [
      "Star is bright\n"
     ]
    }
   ],
   "source": [
    "magnitude = 8.5\n",
    "\n",
    "# Long form\n",
    "if magnitude < 10:\n",
    "    classification = \"bright\"\n",
    "else:\n",
    "    classification = \"faint\"\n",
    "\n",
    "# Ternary operator - same result in one line\n",
    "classification = \"bright\" if magnitude < 10 else \"faint\"\n",
    "print(f\"Star is {classification}\")"
   ]
  },
  {
   "cell_type": "markdown",
   "id": "a14d22ea",
   "metadata": {},
   "source": [
    "This is especially useful for setting parameters:"
   ]
  },
  {
   "cell_type": "code",
   "execution_count": 14,
   "id": "54d5ff9f",
   "metadata": {},
   "outputs": [
    {
     "name": "stdout",
     "output_type": "stream",
     "text": [
      "Exposure time: 120 seconds\n"
     ]
    }
   ],
   "source": [
    "# Set exposure time based on brightness\n",
    "magnitude = 14.5\n",
    "exposure_time = 30 if magnitude < 12 else 120\n",
    "print(f\"Exposure time: {exposure_time} seconds\")"
   ]
  },
  {
   "cell_type": "markdown",
   "id": "f89bbf3f",
   "metadata": {},
   "source": [
    "## Loops: Repeating Operations\n",
    "\n",
    "### The for Loop\n",
    "\n",
    "Astronomical data often comes in collections - multiple images, many stars, time series of measurements. The `for` loop lets us process each item without writing repetitive code:"
   ]
  },
  {
   "cell_type": "code",
   "execution_count": 15,
   "id": "20b0744f",
   "metadata": {},
   "outputs": [],
   "source": [
    "# List of filters used in photometry\n",
    "filters = ['U', 'B', 'V', 'R', 'I']"
   ]
  },
  {
   "cell_type": "markdown",
   "id": "5e6aea39",
   "metadata": {},
   "source": [
    "These letters represent different colored filters astronomers place in front of detectors. U is ultraviolet, B is blue, V is visual (green), R is red, and I is infrared. Each reveals different stellar properties."
   ]
  },
  {
   "cell_type": "code",
   "execution_count": 16,
   "id": "fd87ad5d",
   "metadata": {},
   "outputs": [
    {
     "name": "stdout",
     "output_type": "stream",
     "text": [
      "Johnson-Cousins photometric system:\n",
      "  Filter U\n",
      "  Filter B\n",
      "  Filter V\n",
      "  Filter R\n",
      "  Filter I\n"
     ]
    }
   ],
   "source": [
    "print(\"Johnson-Cousins photometric system:\")\n",
    "for filter_name in filters:\n",
    "    print(f\"  Filter {filter_name}\")"
   ]
  },
  {
   "cell_type": "markdown",
   "id": "b4f22fff",
   "metadata": {},
   "source": [
    "The loop variable (`filter_name`) acts like a pointer that moves through the list, taking on each value in turn. Python automatically handles moving to the next item.\n",
    "\n",
    "### Looping with Indices using range()\n",
    "\n",
    "Sometimes you need to know not just the value but also its position in the sequence. The `range()` function generates a sequence of numbers:"
   ]
  },
  {
   "cell_type": "code",
   "execution_count": 17,
   "id": "9ac8088c",
   "metadata": {},
   "outputs": [
    {
     "name": "stdout",
     "output_type": "stream",
     "text": [
      "Index 0\n",
      "Index 1\n",
      "Index 2\n",
      "Index 3\n",
      "Index 4\n"
     ]
    }
   ],
   "source": [
    "for i in range(5):\n",
    "    print(f\"Index {i}\")"
   ]
  },
  {
   "cell_type": "markdown",
   "id": "247019dc",
   "metadata": {},
   "source": [
    "Important: `range(5)` produces 0, 1, 2, 3, 4 - it stops before reaching 5. This matches Python's zero-based indexing where the first item is at position 0, not 1.\n",
    "\n",
    "You can specify where to start and stop, and how much to step:"
   ]
  },
  {
   "cell_type": "code",
   "execution_count": 18,
   "id": "656c25df",
   "metadata": {},
   "outputs": [
    {
     "name": "stdout",
     "output_type": "stream",
     "text": [
      "20:00 UT\n",
      "21:00 UT\n",
      "22:00 UT\n",
      "23:00 UT\n"
     ]
    }
   ],
   "source": [
    "for hour in range(20, 24):  # Start at 20, stop before 24\n",
    "    print(f\"{hour}:00 UT\")"
   ]
  },
  {
   "cell_type": "markdown",
   "id": "0f4ad46e",
   "metadata": {},
   "source": [
    "UT (Universal Time) is the time at Greenwich, England - astronomers worldwide use it to coordinate observations.\n",
    "\n",
    "### Better Iteration with enumerate()\n",
    "\n",
    "Python provides `enumerate()` to elegantly get both position and value:"
   ]
  },
  {
   "cell_type": "code",
   "execution_count": 19,
   "id": "c84d448c",
   "metadata": {},
   "outputs": [
    {
     "name": "stdout",
     "output_type": "stream",
     "text": [
      "Observation 1: magnitude = 15.32\n",
      "Observation 2: magnitude = 15.28\n",
      "Observation 3: magnitude = 15.35\n"
     ]
    }
   ],
   "source": [
    "observations = [15.32, 15.28, 15.35]\n",
    "\n",
    "for i, mag in enumerate(observations):\n",
    "    print(f\"Observation {i+1}: magnitude = {mag}\")"
   ]
  },
  {
   "cell_type": "markdown",
   "id": "7045f545",
   "metadata": {},
   "source": [
    "The `enumerate()` function returns pairs like (0, 15.32), (1, 15.28), etc. We unpack each pair into two variables: `i` gets the index, `mag` gets the value. We add 1 to `i` when printing because humans count from 1, not 0.\n",
    "\n",
    "### Looping Over Multiple Lists with zip()\n",
    "\n",
    "Often we have related data in separate lists that belong together:"
   ]
  },
  {
   "cell_type": "code",
   "execution_count": 20,
   "id": "99b33623",
   "metadata": {},
   "outputs": [],
   "source": [
    "star_names = ['Sirius', 'Vega', 'Arcturus']\n",
    "magnitudes = [-1.46, 0.03, -0.05]"
   ]
  },
  {
   "cell_type": "markdown",
   "id": "1ff43b8d",
   "metadata": {},
   "source": [
    "Remember: in astronomy, smaller (more negative) magnitudes mean brighter stars. Sirius at -1.46 is the brightest star in the night sky."
   ]
  },
  {
   "cell_type": "code",
   "execution_count": 21,
   "id": "b1807238",
   "metadata": {},
   "outputs": [
    {
     "name": "stdout",
     "output_type": "stream",
     "text": [
      "Sirius: V = -1.46\n",
      "Vega: V = 0.03\n",
      "Arcturus: V = -0.05\n"
     ]
    }
   ],
   "source": [
    "for name, mag in zip(star_names, magnitudes):\n",
    "    print(f\"{name}: V = {mag:.2f}\")"
   ]
  },
  {
   "cell_type": "markdown",
   "id": "c5949291",
   "metadata": {},
   "source": [
    "The `zip()` function is like a zipper - it pairs up corresponding elements from multiple sequences. If lists have different lengths, it stops at the shortest:"
   ]
  },
  {
   "cell_type": "code",
   "execution_count": 22,
   "id": "d1dffe46",
   "metadata": {},
   "outputs": [
    {
     "name": "stdout",
     "output_type": "stream",
     "text": [
      "Star1: 10.5\n",
      "Star2: 11.2\n"
     ]
    }
   ],
   "source": [
    "# Example with different lengths\n",
    "names = ['Star1', 'Star2', 'Star3']\n",
    "mags = [10.5, 11.2]  # Only 2 values\n",
    "\n",
    "for name, mag in zip(names, mags):\n",
    "    print(f\"{name}: {mag}\")\n",
    "# Only prints 2 pairs, stops at shortest list"
   ]
  },
  {
   "cell_type": "markdown",
   "id": "4d07d573",
   "metadata": {},
   "source": [
    "### The while Loop\n",
    "\n",
    "Use `while` when you don't know in advance how many repetitions you need. The loop continues as long as its condition remains True:"
   ]
  },
  {
   "cell_type": "code",
   "execution_count": 23,
   "id": "cf970d18",
   "metadata": {},
   "outputs": [],
   "source": [
    "# Simulate iterative convergence\n",
    "position_change = 100.0  # Initial large value in arcseconds\n",
    "iteration = 0\n",
    "tolerance = 0.001  # Stop when change is less than this"
   ]
  },
  {
   "cell_type": "markdown",
   "id": "62931721",
   "metadata": {},
   "source": [
    "Many astronomical calculations require iteration - repeatedly improving an answer until it's accurate enough. For example, calculating precise planetary orbits requires solving equations that can't be solved directly.\n",
    " \n",
    "Note: The `+=` operator is a shorthand for incrementing. `iteration += 1` means `iteration = iteration + 1`. This is very common in loops for counting iterations."
   ]
  },
  {
   "cell_type": "code",
   "execution_count": 24,
   "id": "e32b49fd",
   "metadata": {},
   "outputs": [
    {
     "name": "stdout",
     "output_type": "stream",
     "text": [
      "Iteration 1: change = 70.000000 arcsec\n",
      "Iteration 2: change = 49.000000 arcsec\n",
      "Iteration 3: change = 34.300000 arcsec\n",
      "Iteration 4: change = 24.010000 arcsec\n",
      "Iteration 5: change = 16.807000 arcsec\n",
      "Iteration 6: change = 11.764900 arcsec\n",
      "Iteration 7: change = 8.235430 arcsec\n",
      "Iteration 8: change = 5.764801 arcsec\n",
      "Iteration 9: change = 4.035361 arcsec\n",
      "Iteration 10: change = 2.824752 arcsec\n",
      "Iteration 11: change = 1.977327 arcsec\n",
      "Iteration 12: change = 1.384129 arcsec\n",
      "Iteration 13: change = 0.968890 arcsec\n",
      "Iteration 14: change = 0.678223 arcsec\n",
      "Iteration 15: change = 0.474756 arcsec\n",
      "Iteration 16: change = 0.332329 arcsec\n",
      "Iteration 17: change = 0.232631 arcsec\n",
      "Iteration 18: change = 0.162841 arcsec\n",
      "Iteration 19: change = 0.113989 arcsec\n",
      "Iteration 20: change = 0.079792 arcsec\n",
      "Iteration 21: change = 0.055855 arcsec\n",
      "Iteration 22: change = 0.039098 arcsec\n",
      "Iteration 23: change = 0.027369 arcsec\n",
      "Iteration 24: change = 0.019158 arcsec\n",
      "Iteration 25: change = 0.013411 arcsec\n",
      "Iteration 26: change = 0.009387 arcsec\n",
      "Iteration 27: change = 0.006571 arcsec\n",
      "Iteration 28: change = 0.004600 arcsec\n",
      "Iteration 29: change = 0.003220 arcsec\n",
      "Iteration 30: change = 0.002254 arcsec\n",
      "Iteration 31: change = 0.001578 arcsec\n",
      "Iteration 32: change = 0.001104 arcsec\n",
      "Iteration 33: change = 0.000773 arcsec\n"
     ]
    }
   ],
   "source": [
    "while position_change > tolerance:\n",
    "    iteration += 1\n",
    "    # Simulate convergence - each iteration reduces error by 30%\n",
    "    # In real code, this would be a complex orbital calculation\n",
    "    position_change = position_change * 0.7\n",
    "    print(f\"Iteration {iteration}: change = {position_change:.6f} arcsec\")"
   ]
  },
  {
   "cell_type": "markdown",
   "id": "8e51a610",
   "metadata": {},
   "source": [
    "The factor 0.7 simulates how iterative methods converge - each step gets us 30% closer to the true answer. Real astronomical calculations might use more advanced algorithms.\n",
    "\n",
    "Warning: Always ensure your while loop can eventually end. If the condition never becomes False, you get an infinite loop that runs forever!\n",
    "\n",
    "### Loop Control: break and continue\n",
    "\n",
    "Sometimes you need finer control over loop execution.\n",
    "\n",
    "The `break` statement immediately exits the entire loop:"
   ]
  },
  {
   "cell_type": "code",
   "execution_count": 25,
   "id": "70af98a7",
   "metadata": {},
   "outputs": [
    {
     "name": "stdout",
     "output_type": "stream",
     "text": [
      "Detection at index 3!\n"
     ]
    }
   ],
   "source": [
    "# Search for first detection above threshold\n",
    "measurements = [0.5, 0.8, 1.2, 5.6, 2.3]\n",
    "detection_threshold = 3.0\n",
    "\n",
    "for i, flux in enumerate(measurements):\n",
    "    if flux > detection_threshold:\n",
    "        print(f\"Detection at index {i}!\")\n",
    "        break  # Stop searching once found"
   ]
  },
  {
   "cell_type": "markdown",
   "id": "4eea820a",
   "metadata": {},
   "source": [
    "The `continue` statement skips the rest of the current iteration and jumps to the next:"
   ]
  },
  {
   "cell_type": "code",
   "execution_count": 26,
   "id": "89f46771",
   "metadata": {},
   "outputs": [
    {
     "name": "stdout",
     "output_type": "stream",
     "text": [
      "Processing: 1.5\n",
      "Processing: 2.1\n",
      "Processing: 3.2\n"
     ]
    }
   ],
   "source": [
    "# Process only positive values\n",
    "values = [1.5, -0.3, 2.1, -0.8, 3.2]\n",
    "\n",
    "for val in values:\n",
    "    if val < 0:\n",
    "        continue  # Skip to next value\n",
    "    print(f\"Processing: {val}\")"
   ]
  },
  {
   "cell_type": "markdown",
   "id": "9f752368",
   "metadata": {},
   "source": [
    "### List Comprehensions\n",
    "\n",
    "Python offers a concise way to create lists based on existing sequences. List comprehensions pack a loop and optional condition into a single line.\n",
    "\n",
    "Traditional approach with a loop:"
   ]
  },
  {
   "cell_type": "code",
   "execution_count": 27,
   "id": "fcc39125",
   "metadata": {},
   "outputs": [
    {
     "name": "stdout",
     "output_type": "stream",
     "text": [
      "[14.8, 13.9]\n"
     ]
    }
   ],
   "source": [
    "magnitudes = [15.2, 14.8, 16.1, 13.9, 15.5]\n",
    "\n",
    "bright_stars = []\n",
    "for mag in magnitudes:\n",
    "    if mag < 15.0:\n",
    "        bright_stars.append(mag)\n",
    "print(bright_stars)"
   ]
  },
  {
   "cell_type": "markdown",
   "id": "d8c5778a",
   "metadata": {},
   "source": [
    "The same operation as a list comprehension - it creates a new list by filtering the original:"
   ]
  },
  {
   "cell_type": "code",
   "execution_count": 28,
   "id": "eb1ed769",
   "metadata": {},
   "outputs": [
    {
     "name": "stdout",
     "output_type": "stream",
     "text": [
      "Bright stars: [14.8, 13.9]\n"
     ]
    }
   ],
   "source": [
    "bright_stars = [mag for mag in magnitudes if mag < 15.0]\n",
    "print(f\"Bright stars: {bright_stars}\")"
   ]
  },
  {
   "cell_type": "markdown",
   "id": "b62c1160",
   "metadata": {},
   "source": [
    "Read it as: \"Give me mag for each mag in magnitudes, but only if mag is less than 15.0\"\n",
    "\n",
    "You can also transform values:"
   ]
  },
  {
   "cell_type": "code",
   "execution_count": 29,
   "id": "9d90f486",
   "metadata": {},
   "outputs": [
    {
     "name": "stdout",
     "output_type": "stream",
     "text": [
      "Corrected magnitudes: [14.899999999999999, 14.5, 15.8, 13.6, 15.2]\n"
     ]
    }
   ],
   "source": [
    "# Apply extinction correction (0.3 magnitudes)\n",
    "corrected = [mag - 0.3 for mag in magnitudes]\n",
    "print(f\"Corrected magnitudes: {corrected}\")"
   ]
  },
  {
   "cell_type": "markdown",
   "id": "603bca6d",
   "metadata": {},
   "source": [
    "Extinction is the dimming of starlight by Earth's atmosphere. We subtract a correction factor to get the true brightness above the atmosphere.\n",
    "\n",
    "## Understanding Truthy and Falsy Values\n",
    "\n",
    "Python has a concept of \"truthiness\" - values that act as True or False in conditions. This is important for writing clean, Pythonic code:"
   ]
  },
  {
   "cell_type": "code",
   "execution_count": 30,
   "id": "c7ad09e6",
   "metadata": {},
   "outputs": [
    {
     "name": "stdout",
     "output_type": "stream",
     "text": [
      "No observations to process\n"
     ]
    }
   ],
   "source": [
    "# Empty collections are \"falsy\"\n",
    "observations = []\n",
    "\n",
    "if observations:  # Empty list evaluates as False\n",
    "    print(\"Processing observations\")\n",
    "else:\n",
    "    print(\"No observations to process\")"
   ]
  },
  {
   "cell_type": "markdown",
   "id": "33cc0f66",
   "metadata": {},
   "source": [
    "This is cleaner than checking `len(observations) > 0`. Common falsy values:"
   ]
  },
  {
   "cell_type": "code",
   "execution_count": 31,
   "id": "52ea53a1",
   "metadata": {},
   "outputs": [
    {
     "name": "stdout",
     "output_type": "stream",
     "text": [
      "No data loaded yet\n"
     ]
    }
   ],
   "source": [
    "# All of these are falsy\n",
    "empty_list = []\n",
    "empty_string = \"\"\n",
    "zero = 0\n",
    "none_value = None\n",
    "\n",
    "# Check if data exists\n",
    "data = None\n",
    "if not data:\n",
    "    print(\"No data loaded yet\")"
   ]
  },
  {
   "cell_type": "markdown",
   "id": "426457b3",
   "metadata": {},
   "source": [
    "Non-empty collections, non-zero numbers, and non-empty strings are truthy:"
   ]
  },
  {
   "cell_type": "code",
   "execution_count": 32,
   "id": "f2954b1a",
   "metadata": {},
   "outputs": [
    {
     "name": "stdout",
     "output_type": "stream",
     "text": [
      "Processing 1 measurements\n"
     ]
    }
   ],
   "source": [
    "measurements = [15.3]  # Has one element\n",
    "\n",
    "if measurements:  # Truthy - list has content\n",
    "    print(f\"Processing {len(measurements)} measurements\")"
   ]
  },
  {
   "cell_type": "markdown",
   "id": "93394dc1",
   "metadata": {},
   "source": [
    "## Exception Handling\n",
    "\n",
    "### Understanding Exceptions\n",
    "\n",
    "Real-world programs encounter problems: users enter invalid data, calculations produce impossible results, or we try to access data that doesn't exist. When Python encounters an error it can't handle, it \"raises an exception\" - essentially saying \"I don't know what to do!\"\n",
    "\n",
    "Without exception handling, your program crashes:"
   ]
  },
  {
   "cell_type": "code",
   "execution_count": 33,
   "id": "1d5031fb",
   "metadata": {},
   "outputs": [],
   "source": [
    "# # This will crash if user enters text instead of a number\n",
    "# user_input = \"bright\"\n",
    "# magnitude = float(user_input)  # Raises ValueError"
   ]
  },
  {
   "cell_type": "markdown",
   "id": "fa484487",
   "metadata": {},
   "source": [
    "### Try and Except Blocks\n",
    "\n",
    "Exception handling lets your program recover gracefully from errors instead of crashing. The `try/except` structure acts as a safety net:"
   ]
  },
  {
   "cell_type": "code",
   "execution_count": 1,
   "id": "0f298c3e",
   "metadata": {},
   "outputs": [
    {
     "name": "stdout",
     "output_type": "stream",
     "text": [
      "Magnitude: 15.3\n"
     ]
    }
   ],
   "source": [
    "user_input = \"15.3\"  # Valid number string\n",
    "\n",
    "try:\n",
    "    magnitude = float(user_input)\n",
    "    print(f\"Magnitude: {magnitude}\")\n",
    "except:\n",
    "    print(f\"'{user_input}' is not a valid number\")\n",
    "    magnitude = None"
   ]
  },
  {
   "cell_type": "markdown",
   "id": "b1fcf719",
   "metadata": {},
   "source": [
    "Think of `try/except` as \"try to do this, but if it fails, do this instead.\" The `try` block contains code that might fail. If an exception occurs, Python jumps to the matching `except` block.\n",
    "\n",
    "When the conversion fails, the except block takes over:"
   ]
  },
  {
   "cell_type": "code",
   "execution_count": 2,
   "id": "82a425d6",
   "metadata": {},
   "outputs": [
    {
     "name": "stdout",
     "output_type": "stream",
     "text": [
      "'bright' is not a valid number\n"
     ]
    }
   ],
   "source": [
    "user_input = \"bright\"  # Not a number!\n",
    "\n",
    "try:\n",
    "    magnitude = float(user_input)  # This raises ValueError\n",
    "    print(f\"Success!\")  # Never reached!\n",
    "except:\n",
    "    print(f\"'{user_input}' is not a valid number\")\n",
    "    # Program continues instead of crashing"
   ]
  },
  {
   "cell_type": "markdown",
   "id": "62eeaa3c",
   "metadata": {},
   "source": [
    "### Catching Specific Exception Types\n",
    " \n",
    "In the basic `try/except` examples above, we used a bare `except:` clause that catches any error. However, it's often better to catch specific exception types because different errors may need different handling:\n"
   ]
  },
  {
   "cell_type": "code",
   "execution_count": 4,
   "id": "f924a12d",
   "metadata": {},
   "outputs": [
    {
     "name": "stdout",
     "output_type": "stream",
     "text": [
      "That's not a valid number!\n"
     ]
    }
   ],
   "source": [
    "try:\n",
    "    magnitude = float(user_input)\n",
    "except ValueError:\n",
    "    print(\"That's not a valid number!\")\n"
   ]
  },
  {
   "cell_type": "markdown",
   "id": "b21553a7",
   "metadata": {},
   "source": [
    "Different problems raise different exceptions. Each type tells you what went wrong:\n",
    "\n",
    "- **ValueError** - Invalid conversion\n",
    "  ```python\n",
    "  float(\"abc\")  # Can't convert text to number\n",
    "  ```\n",
    "\n",
    "- **TypeError** - Wrong type operation  \n",
    "  ```python\n",
    "  \"5\" + 10  # Can't add string and number\n",
    "  ```\n",
    "\n",
    "- **IndexError** - List index out of range\n",
    "  ```python\n",
    "  data = [1, 2, 3]\n",
    "  data[10]  # No item at position 10\n",
    "  ```\n",
    "\n",
    "- **KeyError** - Dictionary key doesn't exist\n",
    "  ```python\n",
    "  star = {\"name\": \"Vega\"}\n",
    "  star[\"distance\"]  # Key not found\n",
    "  ```\n",
    "\n",
    "- **ZeroDivisionError** - Division by zero\n",
    "  ```python\n",
    "  result = 10 / 0  # Mathematical impossibility\n",
    "  ```\n",
    "\n",
    "- **NameError** - Using undefined variable\n",
    "  ```python\n",
    "  print(unknown_variable)  # Variable doesn't exist\n",
    "  ```\n",
    "\n",
    "- **AttributeError** - Calling non-existent method\n",
    "  ```python\n",
    "  my_list = [1, 2, 3]\n",
    "  my_list.uppercase()  # Lists don't have this method\n",
    "  ```\n",
    "\n",
    "Different errors often require different responses. You can catch multiple exception types:"
   ]
  },
  {
   "cell_type": "code",
   "execution_count": 5,
   "id": "866ca250",
   "metadata": {},
   "outputs": [
    {
     "name": "stdout",
     "output_type": "stream",
     "text": [
      "Cannot divide by zero - check your calculation\n"
     ]
    }
   ],
   "source": [
    "data = [10, 20, 30]\n",
    "index = 2\n",
    "divisor = 0\n",
    "\n",
    "try:\n",
    "    result = data[index] / divisor\n",
    "except IndexError:\n",
    "    print(\"Index out of range - check your data size\")\n",
    "    result = None\n",
    "except ZeroDivisionError:\n",
    "    print(\"Cannot divide by zero - check your calculation\")\n",
    "    result = float('inf')  # Or handle it another way"
   ]
  },
  {
   "cell_type": "markdown",
   "id": "c44e88fd",
   "metadata": {},
   "source": [
    "Python checks exceptions in order - the first matching handler runs. This lets you provide specific responses to different problems.\n",
    "\n",
    "You can also catch multiple exceptions with the same handler:"
   ]
  },
  {
   "cell_type": "code",
   "execution_count": 37,
   "id": "db67475e",
   "metadata": {},
   "outputs": [
    {
     "name": "stdout",
     "output_type": "stream",
     "text": [
      "Invalid data type for calculation\n"
     ]
    }
   ],
   "source": [
    "try:\n",
    "    # Some risky operation that could raise ValueError or TypeError\n",
    "    magnitude = float(\"15.abc\")  # This will raise ValueError\n",
    "    result = \"star\" + magnitude   # This would raise TypeError if magnitude was a number\n",
    "except (ValueError, TypeError):\n",
    "    print(\"Invalid data type for calculation\")\n",
    "    result = None"
   ]
  },
  {
   "cell_type": "markdown",
   "id": "8367410e",
   "metadata": {},
   "source": [
    "### The Finally Block\n",
    "\n",
    "The `finally` block always runs, whether an exception occurred or not. It's perfect for cleanup tasks:"
   ]
  },
  {
   "cell_type": "code",
   "execution_count": 38,
   "id": "52cc7fe7",
   "metadata": {},
   "outputs": [
    {
     "name": "stdout",
     "output_type": "stream",
     "text": [
      "Invalid data encountered\n",
      "Analysis complete - cleaning up resources\n"
     ]
    }
   ],
   "source": [
    "try:\n",
    "    # Simulate processing observation data\n",
    "    raw_data = \"15.2,invalid,15.8\"  # Some data with an invalid value\n",
    "    data = [float(x) for x in raw_data.split(',')]  # This will raise ValueError on \"invalid\"\n",
    "    result = sum(data) / len(data)  # Calculate average magnitude\n",
    "    print(f\"Average magnitude: {result:.2f}\")\n",
    "except ValueError:\n",
    "    print(\"Invalid data encountered\")\n",
    "    result = None\n",
    "finally:\n",
    "    print(\"Analysis complete - cleaning up resources\")\n",
    "    # This runs regardless of success or failure"
   ]
  },
  {
   "cell_type": "markdown",
   "id": "2c0fcb58",
   "metadata": {},
   "source": [
    "The finally block ensures important cleanup always happens, even if an error occurs.\n",
    "\n",
    "### Using Assertions\n",
    "\n",
    "Assertions are like safety checks - they verify your assumptions are true:"
   ]
  },
  {
   "cell_type": "code",
   "execution_count": 39,
   "id": "fe1c79b1",
   "metadata": {},
   "outputs": [
    {
     "name": "stdout",
     "output_type": "stream",
     "text": [
      "Valid altitude: 45.0°\n"
     ]
    }
   ],
   "source": [
    "altitude_deg = 45.0\n",
    "\n",
    "# Check data validity\n",
    "assert altitude_deg >= 0, \"Altitude cannot be negative\"\n",
    "assert altitude_deg <= 90, \"Altitude cannot exceed 90°\"\n",
    "\n",
    "print(f\"Valid altitude: {altitude_deg}°\")"
   ]
  },
  {
   "cell_type": "markdown",
   "id": "a6224551",
   "metadata": {},
   "source": [
    "Test with invalid data to see the assertion error:"
   ]
  },
  {
   "cell_type": "code",
   "execution_count": 40,
   "id": "96a3594a",
   "metadata": {},
   "outputs": [],
   "source": [
    "# This will stop the program with an error message\n",
    "altitude_deg = -10.0\n",
    "# assert altitude_deg >= 0, \"Altitude cannot be negative\"\n",
    "# AssertionError: Altitude cannot be negative"
   ]
  },
  {
   "cell_type": "markdown",
   "id": "24c12d09",
   "metadata": {},
   "source": [
    "Assertions catch bugs early, before they cause confusing problems later.\n",
    "\n",
    "## File Input/Output\n",
    "\n",
    "### Understanding File Operations\n",
    "\n",
    "Files are how we save data permanently. Without files, all our calculations disappear when the program ends. In astronomy, we constantly read observation files and write analysis results.\n",
    "\n",
    "The `with` statement is Python's recommended way to work with files. It automatically handles opening and closing files, even if errors occur:"
   ]
  },
  {
   "cell_type": "code",
   "execution_count": 41,
   "id": "4f010a95",
   "metadata": {},
   "outputs": [],
   "source": [
    "# Create some observation data\n",
    "times = [20.0, 20.5, 21.0]  # Hours in UT\n",
    "magnitudes = [15.32, 15.28, 15.35]  # Brightness measurements"
   ]
  },
  {
   "cell_type": "markdown",
   "id": "706b7568",
   "metadata": {},
   "source": [
    "### Writing to Text Files\n",
    "\n",
    "Save data to a file using different modes:\n",
    "- `'w'` - Write mode (creates new file or overwrites existing)\n",
    "- `'r'` - Read mode (default, file must exist)\n",
    "- `'a'` - Append mode (adds to end of existing file)"
   ]
  },
  {
   "cell_type": "code",
   "execution_count": 42,
   "id": "de7e92a3",
   "metadata": {},
   "outputs": [
    {
     "name": "stdout",
     "output_type": "stream",
     "text": [
      "Saved 3 observations to photometry.txt\n"
     ]
    }
   ],
   "source": [
    "filename = \"photometry.txt\"\n",
    "\n",
    "with open(filename, 'w') as f:  # 'w' creates/overwrites file\n",
    "    # Write header comments\n",
    "    f.write(\"# Photometry Data\\n\")\n",
    "    f.write(\"# Time(UT)  Magnitude\\n\")\n",
    "    \n",
    "    # Write each observation\n",
    "    for i in range(len(times)):\n",
    "        f.write(f\"{times[i]:5.1f}  {magnitudes[i]:7.3f}\\n\")\n",
    "\n",
    "print(f\"Saved {len(times)} observations to {filename}\")"
   ]
  },
  {
   "cell_type": "markdown",
   "id": "53476a73",
   "metadata": {},
   "source": [
    "The `with` statement creates a context - when the indented block ends, Python automatically closes the file, even if an error occurs. This prevents file corruption and resource leaks. The `\\n` creates a new line - like pressing Enter.\n",
    "\n",
    "### Reading from Text Files\n",
    "\n",
    "Read data back from files:"
   ]
  },
  {
   "cell_type": "code",
   "execution_count": 43,
   "id": "21edfa49",
   "metadata": {},
   "outputs": [
    {
     "name": "stdout",
     "output_type": "stream",
     "text": [
      "Read 5 lines from file\n"
     ]
    }
   ],
   "source": [
    "filename = \"photometry.txt\"\n",
    "\n",
    "with open(filename, 'r') as f:  # 'r' means read mode\n",
    "    lines = f.readlines()\n",
    "    \n",
    "print(f\"Read {len(lines)} lines from file\")"
   ]
  },
  {
   "cell_type": "markdown",
   "id": "c3e29697",
   "metadata": {},
   "source": [
    "The `readlines()` method returns a list where each element is one line from the file.\n",
    "\n",
    "Process the lines to extract data:"
   ]
  },
  {
   "cell_type": "code",
   "execution_count": 44,
   "id": "8c84bee0",
   "metadata": {},
   "outputs": [
    {
     "name": "stdout",
     "output_type": "stream",
     "text": [
      "Extracted 3 measurements\n"
     ]
    }
   ],
   "source": [
    "times_read = []\n",
    "mags_read = []\n",
    "\n",
    "for line in lines:\n",
    "    # Skip comments (lines starting with #)\n",
    "    if line.startswith('#'):\n",
    "        continue\n",
    "    \n",
    "    # Split line into words (we learned this in Lecture 2)\n",
    "    parts = line.split()\n",
    "    if len(parts) >= 2:\n",
    "        times_read.append(float(parts[0]))\n",
    "        mags_read.append(float(parts[1]))\n",
    "\n",
    "print(f\"Extracted {len(times_read)} measurements\")"
   ]
  },
  {
   "cell_type": "markdown",
   "id": "dd7b0ccc",
   "metadata": {},
   "source": [
    "Remember from Lecture 2: the `split()` method breaks a string into a list of words, splitting at spaces by default.\n",
    "\n",
    "### Appending to Files\n",
    "\n",
    "Sometimes you want to add to existing files rather than overwriting:"
   ]
  },
  {
   "cell_type": "code",
   "execution_count": 45,
   "id": "55b7be72",
   "metadata": {},
   "outputs": [],
   "source": [
    "log_file = \"observation_log.txt\"\n",
    "\n",
    "# Create initial log\n",
    "with open(log_file, 'w') as f:\n",
    "    f.write(\"Observation Log\\n\")\n",
    "    f.write(\"===============\\n\")"
   ]
  },
  {
   "cell_type": "markdown",
   "id": "00ac8b6b",
   "metadata": {},
   "source": [
    "Add entries using append mode:"
   ]
  },
  {
   "cell_type": "code",
   "execution_count": 46,
   "id": "8811fbbd",
   "metadata": {},
   "outputs": [],
   "source": [
    "with open(log_file, 'a') as f:  # 'a' means append\n",
    "    f.write(\"21:00 - Started observations\\n\")"
   ]
  },
  {
   "cell_type": "code",
   "execution_count": 47,
   "id": "954a1275",
   "metadata": {},
   "outputs": [],
   "source": [
    "with open(log_file, 'a') as f:\n",
    "    f.write(\"21:15 - Changed to V filter\\n\")"
   ]
  },
  {
   "cell_type": "markdown",
   "id": "7850438a",
   "metadata": {},
   "source": [
    "Each append adds to the end without erasing existing content.\n",
    "\n",
    "### Working with CSV Files\n",
    "\n",
    "CSV stands for \"Comma-Separated Values\" - a simple format where data is organized in rows and columns, with commas between values. It's like a simplified spreadsheet that any program can read."
   ]
  },
  {
   "cell_type": "code",
   "execution_count": 48,
   "id": "5125f984",
   "metadata": {},
   "outputs": [],
   "source": [
    "import csv\n",
    "\n",
    "# Sample star data\n",
    "star_data = [\n",
    "    ['HD 209458', '330.795', '18.884', '7.65'],\n",
    "    ['HD 189733', '300.178', '22.711', '7.67'],\n",
    "]"
   ]
  },
  {
   "cell_type": "markdown",
   "id": "a7becdb1",
   "metadata": {},
   "source": [
    "\"HD\" stands for Henry Draper catalog - a list of over 200,000 stars with measured spectra.\n",
    "\n",
    "Write CSV file:"
   ]
  },
  {
   "cell_type": "code",
   "execution_count": 49,
   "id": "cd859417",
   "metadata": {},
   "outputs": [
    {
     "name": "stdout",
     "output_type": "stream",
     "text": [
      "Created stars.csv\n"
     ]
    }
   ],
   "source": [
    "with open('stars.csv', 'w', newline='') as f:\n",
    "    writer = csv.writer(f)\n",
    "    \n",
    "    # Write header row\n",
    "    writer.writerow(['Name', 'RA', 'Dec', 'Magnitude'])\n",
    "    \n",
    "    # Write data rows\n",
    "    for star in star_data:\n",
    "        writer.writerow(star)\n",
    "\n",
    "print(\"Created stars.csv\")"
   ]
  },
  {
   "cell_type": "markdown",
   "id": "57411afb",
   "metadata": {},
   "source": [
    "Read CSV file back:"
   ]
  },
  {
   "cell_type": "code",
   "execution_count": 50,
   "id": "42b4f168",
   "metadata": {},
   "outputs": [
    {
     "name": "stdout",
     "output_type": "stream",
     "text": [
      "Columns: ['Name', 'RA', 'Dec', 'Magnitude']\n",
      "Star: HD 209458, RA: 330.795°\n",
      "Star: HD 189733, RA: 300.178°\n"
     ]
    }
   ],
   "source": [
    "with open('stars.csv', 'r') as f:\n",
    "    reader = csv.reader(f)\n",
    "    \n",
    "    # Read and skip header\n",
    "    header = next(reader)\n",
    "    print(f\"Columns: {header}\")\n",
    "    \n",
    "    # Read data rows\n",
    "    for row in reader:\n",
    "        print(f\"Star: {row[0]}, RA: {row[1]}°\")"
   ]
  },
  {
   "cell_type": "markdown",
   "id": "5445f1df",
   "metadata": {},
   "source": [
    "### Working with JSON Files\n",
    "\n",
    "JSON stands for \"JavaScript Object Notation\" but don't let the name fool you - it's used by all programming languages. JSON stores structured data in a human-readable format using dictionaries and lists (which we learned in Lecture 2). \n",
    " \n",
    "#### Why JSON Matters\n",
    " \n",
    "JSON has become the standard format for web APIs and data exchange, serving as the universal language of the internet. When you work with AI and Large Language Model APIs like GPT, Claude, and other AI services, you'll be communicating through JSON. It's also the go-to choice for configuration files that store settings for software and tools, and modern observatories rely on JSON for telescope control systems, commands, and logs. Perhaps most importantly, JSON enables seamless cross-platform data sharing, working equally well with Python, JavaScript, Java, and virtually every other programming language.\n",
    " \n",
    "The key advantage of JSON is that it's both human-readable and machine-parseable, making it perfect for both debugging and automation."
   ]
  },
  {
   "cell_type": "code",
   "execution_count": 51,
   "id": "1a7aa6e9",
   "metadata": {},
   "outputs": [],
   "source": [
    "import json\n",
    "\n",
    "# Create configuration dictionary (recall dictionaries from Lecture 2)\n",
    "config = {\n",
    "    'telescope': 'AAT',  # Anglo-Australian Telescope\n",
    "    'date': '2024-03-15',\n",
    "    'filters': ['g', 'r', 'i']  # Different color filters\n",
    "}"
   ]
  },
  {
   "cell_type": "markdown",
   "id": "bc096122",
   "metadata": {},
   "source": [
    "Write JSON file:\n",
    "\n",
    "The indent parameter makes the JSON human-readable by adding spaces and line breaks"
   ]
  },
  {
   "cell_type": "code",
   "execution_count": 52,
   "id": "ff54adf7",
   "metadata": {},
   "outputs": [
    {
     "name": "stdout",
     "output_type": "stream",
     "text": [
      "Saved configuration\n"
     ]
    }
   ],
   "source": [
    "with open('config.json', 'w') as f:\n",
    "    json.dump(config, f, indent=2)  # indent makes it readable\n",
    "    \n",
    "print(\"Saved configuration\")"
   ]
  },
  {
   "cell_type": "markdown",
   "id": "ff407d6b",
   "metadata": {},
   "source": [
    "Read JSON file:"
   ]
  },
  {
   "cell_type": "code",
   "execution_count": 53,
   "id": "e9f3c50b",
   "metadata": {},
   "outputs": [
    {
     "name": "stdout",
     "output_type": "stream",
     "text": [
      "Telescope: AAT\n",
      "Filters: ['g', 'r', 'i']\n"
     ]
    }
   ],
   "source": [
    "with open('config.json', 'r') as f:\n",
    "    loaded_config = json.load(f)\n",
    "    \n",
    "print(f\"Telescope: {loaded_config['telescope']}\")\n",
    "print(f\"Filters: {loaded_config['filters']}\")"
   ]
  },
  {
   "cell_type": "markdown",
   "id": "eca41797",
   "metadata": {},
   "source": [
    "JSON preserves data types - lists stay lists, numbers stay numbers. Text files turn everything into strings. This makes JSON ideal for complex data structures and API communication.\n",
    "\n",
    "### File Path Handling\n",
    "\n",
    "Different operating systems use different path formats. Windows uses backslashes `\\`, while Mac and Linux use forward slashes `/`. The `os` module handles these differences."
   ]
  },
  {
   "cell_type": "code",
   "execution_count": 54,
   "id": "03ca999c",
   "metadata": {},
   "outputs": [
    {
     "name": "stdout",
     "output_type": "stream",
     "text": [
      "Working in: /Users/yting\n"
     ]
    }
   ],
   "source": [
    "import os\n",
    "\n",
    "# Get current working directory\n",
    "current_dir = os.getcwd()  # getcwd = \"get current working directory\"\n",
    "print(f\"Working in: {current_dir}\")"
   ]
  },
  {
   "cell_type": "markdown",
   "id": "a99732aa",
   "metadata": {},
   "source": [
    "The `os.path` submodule provides tools for working with file paths:"
   ]
  },
  {
   "cell_type": "code",
   "execution_count": 55,
   "id": "abb8aee7",
   "metadata": {},
   "outputs": [
    {
     "name": "stdout",
     "output_type": "stream",
     "text": [
      "Photometry file found\n",
      "File size: 85 bytes\n"
     ]
    }
   ],
   "source": [
    "# Check if files exist\n",
    "if os.path.exists('photometry.txt'):\n",
    "    print(\"Photometry file found\")\n",
    "    \n",
    "    # Get file size\n",
    "    size = os.path.getsize('photometry.txt')\n",
    "    print(f\"File size: {size} bytes\")"
   ]
  },
  {
   "cell_type": "markdown",
   "id": "4143f126",
   "metadata": {},
   "source": [
    "Create directories safely:"
   ]
  },
  {
   "cell_type": "code",
   "execution_count": 56,
   "id": "b49af4e7",
   "metadata": {},
   "outputs": [],
   "source": [
    "if not os.path.exists('data'):\n",
    "    os.makedirs('data')  # Creates directory\n",
    "    print(\"Created data directory\")"
   ]
  },
  {
   "cell_type": "markdown",
   "id": "0d4da1d0",
   "metadata": {},
   "source": [
    "Build file paths that work on any system:"
   ]
  },
  {
   "cell_type": "code",
   "execution_count": 57,
   "id": "d9590958",
   "metadata": {},
   "outputs": [
    {
     "name": "stdout",
     "output_type": "stream",
     "text": [
      "Full path: data/observation.txt\n"
     ]
    }
   ],
   "source": [
    "data_dir = 'data'\n",
    "filename = 'observation.txt'\n",
    "full_path = os.path.join(data_dir, filename)\n",
    "print(f\"Full path: {full_path}\")"
   ]
  },
  {
   "cell_type": "markdown",
   "id": "e24cec9f",
   "metadata": {},
   "source": [
    "`os.path.join()` uses the correct separator (`/` or `\\`) for your operating system.\n",
    "\n",
    "### Listing Directory Contents\n",
    "\n",
    "Process multiple files in a directory:"
   ]
  },
  {
   "cell_type": "code",
   "execution_count": 58,
   "id": "82eac325",
   "metadata": {},
   "outputs": [
    {
     "name": "stdout",
     "output_type": "stream",
     "text": [
      "Found 65 files\n",
      "Found 3 text files\n"
     ]
    }
   ],
   "source": [
    "import os\n",
    "\n",
    "# List all files in current directory\n",
    "files = os.listdir('.')  # '.' means current directory\n",
    "print(f\"Found {len(files)} files\")\n",
    "\n",
    "# Filter for specific file types\n",
    "data_files = []\n",
    "for filename in files:\n",
    "    if filename.endswith('.txt'):\n",
    "        data_files.append(filename)\n",
    "        \n",
    "print(f\"Found {len(data_files)} text files\")"
   ]
  },
  {
   "cell_type": "markdown",
   "id": "fcd223d9",
   "metadata": {},
   "source": [
    "The `glob` module provides more powerful pattern matching:"
   ]
  },
  {
   "cell_type": "code",
   "execution_count": 59,
   "id": "e2f56db1",
   "metadata": {},
   "outputs": [
    {
     "name": "stdout",
     "output_type": "stream",
     "text": [
      "CSV files: ['stars.csv']\n"
     ]
    }
   ],
   "source": [
    "import glob\n",
    "\n",
    "# Find all CSV files\n",
    "csv_files = glob.glob('*.csv')\n",
    "print(f\"CSV files: {csv_files}\")\n",
    "\n",
    "# Find photometry files with pattern\n",
    "phot_files = glob.glob('*_phot_*.txt')\n",
    "for filename in phot_files:\n",
    "    print(f\"Processing {filename}\")"
   ]
  },
  {
   "cell_type": "markdown",
   "id": "8dfc6ce2",
   "metadata": {},
   "source": [
    "The `*` acts as a wildcard, matching any characters.\n",
    "\n",
    "## Practical Example: Building an Observing List\n",
    "\n",
    "Let's combine everything to build a practical tool for planning telescope observations.\n",
    "\n",
    "### Step 1: Create Our Target Catalog"
   ]
  },
  {
   "cell_type": "code",
   "execution_count": 60,
   "id": "faaf1dd6",
   "metadata": {},
   "outputs": [],
   "source": [
    "# List of astronomical objects to observe\n",
    "target_names = ['M31', 'M42', 'M13', 'Ring Nebula', 'Vega']\n",
    "target_ra = [0.712, 5.588, 16.695, 18.893, 18.616]  # Hours\n",
    "target_dec = [41.27, -5.39, 36.46, 33.03, 38.78]   # Degrees\n",
    "target_mag = [3.4, 4.0, 5.8, 8.8, 0.0]              # Magnitude"
   ]
  },
  {
   "cell_type": "markdown",
   "id": "f727c6da",
   "metadata": {},
   "source": [
    "\"M\" numbers refer to the Messier catalog - a list of bright nebulae, galaxies, and star clusters visible with small telescopes, compiled by Charles Messier in the 1700s.\n",
    "\n",
    "### Step 2: Set Observatory Location and Time"
   ]
  },
  {
   "cell_type": "code",
   "execution_count": 61,
   "id": "291057ab",
   "metadata": {},
   "outputs": [],
   "source": [
    "# Observatory location\n",
    "obs_latitude = 40.0    # degrees North\n",
    "obs_longitude = -110.0 # degrees East (negative = West)\n",
    "\n",
    "# Current time\n",
    "ut_hour = 3.0  # 3:00 AM Universal Time"
   ]
  },
  {
   "cell_type": "markdown",
   "id": "f71a69de",
   "metadata": {},
   "source": [
    "Calculate Local Sidereal Time - this tells us which right ascension is currently overhead:"
   ]
  },
  {
   "cell_type": "code",
   "execution_count": 62,
   "id": "3dd635d9",
   "metadata": {},
   "outputs": [
    {
     "name": "stdout",
     "output_type": "stream",
     "text": [
      "Local Sidereal Time: 19.7 hours\n"
     ]
    }
   ],
   "source": [
    "# Simplified LST calculation\n",
    "lst = (ut_hour + obs_longitude / 15.0) % 24\n",
    "print(f\"Local Sidereal Time: {lst:.1f} hours\")"
   ]
  },
  {
   "cell_type": "markdown",
   "id": "7a76d50a",
   "metadata": {},
   "source": [
    "The sky rotates 360° in 24 hours, so 15° per hour. LST tells us which part of the sky is visible now.\n",
    "\n",
    "### Step 3: Check Each Target's Visibility"
   ]
  },
  {
   "cell_type": "code",
   "execution_count": 63,
   "id": "0277bb40",
   "metadata": {},
   "outputs": [
    {
     "name": "stdout",
     "output_type": "stream",
     "text": [
      "\n",
      "Checking visibility:\n",
      "----------------------------------------\n"
     ]
    }
   ],
   "source": [
    "import math\n",
    "\n",
    "observable_targets = []\n",
    "min_altitude = 30.0  # Degrees above horizon\n",
    "\n",
    "print(\"\\nChecking visibility:\")\n",
    "print(\"-\" * 40)"
   ]
  },
  {
   "cell_type": "markdown",
   "id": "d6b3fd1b",
   "metadata": {},
   "source": [
    "Process each target:"
   ]
  },
  {
   "cell_type": "code",
   "execution_count": 64,
   "id": "f5dcee2e",
   "metadata": {},
   "outputs": [
    {
     "name": "stdout",
     "output_type": "stream",
     "text": [
      "✓ M31: 34.5° - Observable\n",
      "✗ M42: -45.5° - Too low\n",
      "✓ M13: 55.2° - Observable\n",
      "✓ Ring Nebula: 78.4° - Observable\n",
      "✓ Vega: 77.8° - Observable\n"
     ]
    }
   ],
   "source": [
    "for i in range(len(target_names)):\n",
    "    # Calculate hour angle (how far from meridian)\n",
    "    ha = lst - target_ra[i]\n",
    "    \n",
    "    # Keep hour angle between -12 and +12\n",
    "    if ha < -12:\n",
    "        ha += 24\n",
    "    elif ha > 12:\n",
    "        ha -= 24\n",
    "    \n",
    "    # Convert to radians for trigonometry\n",
    "    ha_rad = math.radians(ha * 15)  # Hours to degrees to radians\n",
    "    dec_rad = math.radians(target_dec[i])\n",
    "    lat_rad = math.radians(obs_latitude)\n",
    "    \n",
    "    # Calculate altitude using spherical trigonometry\n",
    "    sin_alt = (math.sin(dec_rad) * math.sin(lat_rad) + \n",
    "               math.cos(dec_rad) * math.cos(lat_rad) * math.cos(ha_rad))\n",
    "    alt_rad = math.asin(sin_alt)\n",
    "    altitude = math.degrees(alt_rad)\n",
    "    \n",
    "    # Check if high enough to observe\n",
    "    if altitude > min_altitude:\n",
    "        observable_targets.append(i)\n",
    "        print(f\"✓ {target_names[i]}: {altitude:.1f}° - Observable\")\n",
    "    else:\n",
    "        print(f\"✗ {target_names[i]}: {altitude:.1f}° - Too low\")"
   ]
  },
  {
   "cell_type": "markdown",
   "id": "45f6fe33",
   "metadata": {},
   "source": [
    "Objects below 30° altitude suffer from atmospheric extinction and turbulence, making good observations difficult.\n",
    "\n",
    "### Step 4: Create and Save the Observing List"
   ]
  },
  {
   "cell_type": "code",
   "execution_count": 65,
   "id": "4523568a",
   "metadata": {},
   "outputs": [
    {
     "name": "stdout",
     "output_type": "stream",
     "text": [
      "\n",
      "Saved observing list to observing_list_3UT.txt\n"
     ]
    }
   ],
   "source": [
    "filename = f\"observing_list_{ut_hour:.0f}UT.txt\"\n",
    "\n",
    "with open(filename, 'w') as f:\n",
    "    f.write(\"=\"*50 + \"\\n\")\n",
    "    f.write(\"OBSERVING LIST\\n\")\n",
    "    f.write(f\"Time: {ut_hour:.1f} UT (LST: {lst:.1f}h)\\n\")\n",
    "    f.write(f\"Location: {obs_latitude}°N, {obs_longitude}°E\\n\")\n",
    "    f.write(\"=\"*50 + \"\\n\\n\")\n",
    "    \n",
    "    if len(observable_targets) > 0:\n",
    "        f.write(\"Observable Targets:\\n\")\n",
    "        f.write(\"-\"*30 + \"\\n\")\n",
    "        \n",
    "        for idx in observable_targets:\n",
    "            f.write(f\"{target_names[idx]:<15} mag {target_mag[idx]:4.1f}\\n\")\n",
    "    else:\n",
    "        f.write(\"No targets observable at this time\\n\")\n",
    "\n",
    "print(f\"\\nSaved observing list to {filename}\")"
   ]
  },
  {
   "cell_type": "markdown",
   "id": "4fde35ae",
   "metadata": {},
   "source": [
    "The `<15` format means \"left-align in a field 15 characters wide\" - this creates neat columns.\n",
    "\n",
    "## Summary\n",
    "\n",
    "In this lecture, we have gone through the essential control structures and file operations for astronomical data processing:\n",
    "\n",
    "### Control Flow\n",
    "- **if/elif/else** - Making intelligent decisions based on data\n",
    "- **Logical operators** - Combining conditions with and/or/not\n",
    "- **in operator** - Testing membership in collections\n",
    "- **Ternary operator** - Concise conditional assignments\n",
    "\n",
    "### Loops for Data Processing\n",
    "- **for loops** - Processing collections of data\n",
    "- **range()** - Generating number sequences\n",
    "- **enumerate()** - Getting both indices and values\n",
    "- **zip()** - Pairing elements from multiple lists\n",
    "- **while loops** - Repeating until a condition is met\n",
    "- **break/continue** - Fine control over loop execution\n",
    "- **List comprehensions** - Concise data transformations\n",
    "\n",
    "### Robust Error Handling\n",
    "- **try/except** - Gracefully handling errors without crashing\n",
    "- **Multiple exceptions** - Different responses for different problems\n",
    "- **finally blocks** - Ensuring cleanup always happens\n",
    "- **Assertions** - Verifying assumptions\n",
    "\n",
    "### File Operations\n",
    "- **Text files** - Reading and writing observational data\n",
    "- **CSV files** - Working with tabular data\n",
    "- **JSON files** - Storing structured configurations and API communication\n",
    "- **File paths** - Cross-platform file handling with os module\n",
    "- **Directory operations** - Listing and processing multiple files\n",
    "- **glob patterns** - Finding files with wildcards\n",
    "\n",
    "These skills enable you to write programs that process real astronomical data, handle problems gracefully, and produce results other astronomers can use. The control structures orchestrate your analysis flow, while file operations connect your code to the vast world of astronomical data."
   ]
  }
 ],
 "metadata": {
  "jupytext": {
   "cell_metadata_filter": "-all",
   "main_language": "python",
   "notebook_metadata_filter": "-all"
  },
  "kernelspec": {
   "display_name": "base",
   "language": "python",
   "name": "python3"
  },
  "language_info": {
   "codemirror_mode": {
    "name": "ipython",
    "version": 3
   },
   "file_extension": ".py",
   "mimetype": "text/x-python",
   "name": "python",
   "nbconvert_exporter": "python",
   "pygments_lexer": "ipython3",
   "version": "3.13.5"
  }
 },
 "nbformat": 4,
 "nbformat_minor": 5
}
