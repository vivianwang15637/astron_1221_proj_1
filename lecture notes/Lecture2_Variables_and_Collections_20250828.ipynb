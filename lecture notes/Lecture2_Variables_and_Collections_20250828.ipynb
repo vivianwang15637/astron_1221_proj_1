{
 "cells": [
  {
   "cell_type": "markdown",
   "id": "0daa58f8",
   "metadata": {},
   "source": [
    "# Variables and Collections\n",
    "\n",
    "*Tutorial by Yuan-Sen Ting*\n",
    "\n",
    "*Astron 1221: Lecture 2*\n",
    "\n",
    "## Introduction\n",
    "\n",
    "In astronomy, we deal with diverse data types: brightness measurements from millions of stars, time series of variable objects, spectra with thousands of wavelength points, and catalogs with complex metadata. Python provides the foundation for handling all of this efficiently.\n",
    "\n",
    "This tutorial covers essential Python concepts you'll use throughout your astronomical career. We'll focus on the basic building blocks: storing data, working with numbers, organizing information, and understanding how Python manages memory. By the end of this lecture, you'll understand the fundamental data types and operations that form the foundation of all astronomical computing.\n",
    "\n",
    "## Your First Variables\n",
    "\n",
    "### Creating Variables\n",
    "\n",
    "Variables are like labeled containers for storing data. Think of them as boxes with names written on them. The `=` sign means \"store this value\" - it's not about mathematical equality, but about assignment:"
   ]
  },
  {
   "cell_type": "code",
   "execution_count": 1,
   "id": "a596aa01",
   "metadata": {},
   "outputs": [],
   "source": [
    "star_name = \"Sirius\"\n",
    "magnitude = -1.46\n",
    "distance_parsecs = 2.64"
   ]
  },
  {
   "cell_type": "markdown",
   "id": "6032dca9",
   "metadata": {},
   "source": [
    "Each line creates a container (variable) and puts a value inside it. The variable name goes on the left, the value on the right. Once stored, we can use these values by referring to their names.\n",
    "\n",
    "### How Python Knows the Type\n",
    "\n",
    "Python automatically determines what type of data you're storing. You don't need to tell Python \"this is a number\" or \"this is text\" - it figures it out from the value itself:"
   ]
  },
  {
   "cell_type": "code",
   "execution_count": 2,
   "id": "d7f3332e",
   "metadata": {},
   "outputs": [],
   "source": [
    "star_count = 1000        # Integer (whole number)\n",
    "temperature = 5778.5     # Float (decimal number)  \n",
    "star_name = \"Betelgeuse\" # String (text)"
   ]
  },
  {
   "cell_type": "markdown",
   "id": "921391a8",
   "metadata": {},
   "source": [
    "This automatic type detection makes Python very convenient for scientific computing. No need to declare types in advance - Python is smart enough to understand what you're giving it.\n",
    "\n",
    "### Variable Names in Astronomy\n",
    "\n",
    "Choosing good variable names is crucial in scientific computing. Your code should tell a story that other astronomers (including future you) can understand. Here's how to choose good names:"
   ]
  },
  {
   "cell_type": "code",
   "execution_count": 4,
   "id": "2717bf4e",
   "metadata": {},
   "outputs": [],
   "source": [
    "# Good astronomical variable names - self-explanatory\n",
    "right_ascension = 150.5  # degrees - celestial longitude\n",
    "declination = -30.2      # degrees - celestial latitude\n",
    "apparent_magnitude = 15.3  # brightness as seen from Earth\n",
    "absolute_magnitude = -21.5  # intrinsic brightness\n",
    "redshift = 0.05  # measure of distance for galaxies"
   ]
  },
  {
   "cell_type": "markdown",
   "id": "988a6a8d",
   "metadata": {},
   "source": [
    "Compare this to unclear names that require you to remember what they mean:"
   ]
  },
  {
   "cell_type": "code",
   "execution_count": 5,
   "id": "ab3bd161",
   "metadata": {},
   "outputs": [],
   "source": [
    "# Bad - unclear what these represent\n",
    "r = 150.5\n",
    "d = -30.2\n",
    "m = 15.3"
   ]
  },
  {
   "cell_type": "markdown",
   "id": "22c4e52c",
   "metadata": {},
   "source": [
    "The descriptive names immediately tell you what each number represents. When you're analyzing data from thousands of stars, this clarity becomes essential.\n",
    "\n",
    "Some naming guidelines for astronomy:\n",
    "- Use full words rather than abbreviations: `parallax` not `plx`\n",
    "- Include units in comments: `distance_parsecs = 50.2  # parsecs`\n",
    "- Be specific: `v_band_magnitude` not just `magnitude`\n",
    "- Use underscores to separate words: `proper_motion_ra` not `propermotionra`"
   ]
  },
  {
   "cell_type": "markdown",
   "id": "8558605a",
   "metadata": {},
   "source": [
    "### Constants and Naming Conventions\n",
    "\n",
    "Constants are values that never change during your program. In astronomy, these are often physical constants or survey parameters. The Python convention is to use ALL_CAPITAL_LETTERS for constants:"
   ]
  },
  {
   "cell_type": "code",
   "execution_count": 7,
   "id": "7b659593",
   "metadata": {},
   "outputs": [],
   "source": [
    "# Physical constants used in astronomy\n",
    "SPEED_OF_LIGHT = 299792458    # m/s\n",
    "SOLAR_MASS = 1.989e30         # kg\n",
    "PARSEC_TO_METERS = 3.086e16   # meters per parsec\n",
    "HUBBLE_CONSTANT = 70.0        # km/s/Mpc"
   ]
  },
  {
   "cell_type": "markdown",
   "id": "5dd38112",
   "metadata": {},
   "source": [
    "By using capital letters, you immediately know these values shouldn't change. This helps prevent bugs where you accidentally modify an important constant.\n",
    "\n",
    "## Working with Numbers\n",
    "\n",
    "### Basic Operations and Power\n",
    "\n",
    "Python handles mathematical operations with familiar symbols, plus one special operator for exponentiation:"
   ]
  },
  {
   "cell_type": "code",
   "execution_count": 8,
   "id": "31318823",
   "metadata": {},
   "outputs": [],
   "source": [
    "distance = 50.0 * 3.26  # Parsecs to light-years\n",
    "flux = 10 ** (-0.4 * magnitude)  # The ** means exponentiation"
   ]
  },
  {
   "cell_type": "markdown",
   "id": "22030442",
   "metadata": {},
   "source": [
    "The double asterisk `**` is Python's way of writing powers. So `10**2` equals 100, and `2**3` equals 8. This is essential for astronomical calculations where we often work with powers of 10.\n",
    "\n",
    "### Operator Precedence and Parentheses\n",
    "\n",
    "Python follows standard mathematical order of operations, but in complex astronomical formulas, always use parentheses to make your intent clear:"
   ]
  },
  {
   "cell_type": "code",
   "execution_count": 9,
   "id": "29f28a91",
   "metadata": {},
   "outputs": [
    {
     "name": "stdout",
     "output_type": "stream",
     "text": [
      "Without parentheses: 19.7\n",
      "With parentheses: 9.7\n"
     ]
    }
   ],
   "source": [
    "magnitude = 15.0\n",
    "extinction = 0.3  # Light absorption by interstellar dust\n",
    "distance_modulus = 5.0  # Related to distance\n",
    "\n",
    "# Without parentheses - follows standard order\n",
    "result1 = magnitude - extinction + distance_modulus\n",
    "print(f\"Without parentheses: {result1}\")  # 19.7\n",
    "\n",
    "# With parentheses to change order\n",
    "result2 = magnitude - (extinction + distance_modulus)\n",
    "print(f\"With parentheses: {result2}\")  # 9.7\n",
    "\n",
    "# Complex formula with clear parentheses\n",
    "flux = 10**(-0.4 * (magnitude - extinction))"
   ]
  },
  {
   "cell_type": "markdown",
   "id": "110e9bc3",
   "metadata": {},
   "source": [
    "Parentheses make your calculations explicit and prevent order-of-operations errors.\n",
    "\n",
    "### Import math for Advanced Functions\n",
    "\n",
    "Basic Python can add, subtract, multiply, and divide. For more advanced math, we need to import the `math` module - think of it as opening a more sophisticated calculator:"
   ]
  },
  {
   "cell_type": "code",
   "execution_count": 10,
   "id": "0343c1d1",
   "metadata": {},
   "outputs": [
    {
     "data": {
      "text/plain": [
       "0.7853981633974483"
      ]
     },
     "execution_count": 10,
     "metadata": {},
     "output_type": "execute_result"
    }
   ],
   "source": [
    "import math\n",
    "math.sqrt(16)          # 4.0\n",
    "math.log10(100)        # 2.0 (useful for magnitude calculations)\n",
    "math.radians(45)       # Convert degrees to radians"
   ]
  },
  {
   "cell_type": "markdown",
   "id": "438df05a",
   "metadata": {},
   "source": [
    "The word `import` loads a toolbox of pre-written functions. The `math.` prefix tells Python to use a function from that toolbox. Python keeps basic operations simple and lets you add complexity only when needed.\n",
    "\n",
    "### Mathematical Functions\n",
    "\n",
    "The `math` module provides functions for common astronomical calculations. Let's explore the most useful ones:"
   ]
  },
  {
   "cell_type": "code",
   "execution_count": 11,
   "id": "c03b20eb",
   "metadata": {},
   "outputs": [
    {
     "name": "stdout",
     "output_type": "stream",
     "text": [
      "Square root: 7.0710678118654755\n",
      "Natural log: 3.912023005428146\n",
      "Log base 10: 1.6989700043360187\n",
      "Absolute value: 25.7\n",
      "Rounded: 15.35\n",
      "Sine: 0.707\n",
      "Cosine: 0.707\n"
     ]
    }
   ],
   "source": [
    "distance = 50.0\n",
    "angle_deg = 45.0\n",
    "\n",
    "# Square roots - essential for distance calculations and error propagation\n",
    "print(f\"Square root: {math.sqrt(distance)}\")\n",
    "\n",
    "# Logarithms - crucial for magnitude calculations\n",
    "print(f\"Natural log: {math.log(distance)}\")\n",
    "print(f\"Log base 10: {math.log10(distance)}\")\n",
    "\n",
    "# Other useful functions\n",
    "print(f\"Absolute value: {abs(-25.7)}\")\n",
    "\n",
    "# Rounding for output\n",
    "print(f\"Rounded: {round(15.3456, 2)}\")  # 2 decimal places\n",
    "\n",
    "# Trigonometry - angles must be in radians\n",
    "angle_rad = math.radians(angle_deg)\n",
    "print(f\"Sine: {math.sin(angle_rad):.3f}\")\n",
    "print(f\"Cosine: {math.cos(angle_rad):.3f}\")"
   ]
  },
  {
   "cell_type": "markdown",
   "id": "205d6bb7",
   "metadata": {},
   "source": [
    "The `math.radians()` function converts degrees to radians, essential since Python's trig functions expect radians.\n",
    "\n",
    "## Importing Modules\n",
    "\n",
    "### Modules are Toolboxes\n",
    "\n",
    "Modules are collections of pre-written code that add functionality to Python. Think of them as specialized toolboxes - you wouldn't carry every tool you own everywhere, just the ones you need for the job:"
   ]
  },
  {
   "cell_type": "code",
   "execution_count": 12,
   "id": "dff8d452",
   "metadata": {},
   "outputs": [],
   "source": [
    "import math    # Mathematical functions\n",
    "import sys     # System functions"
   ]
  },
  {
   "cell_type": "markdown",
   "id": "d4ce8df9",
   "metadata": {},
   "source": [
    "Once imported, you access functions using dot notation:"
   ]
  },
  {
   "cell_type": "code",
   "execution_count": 13,
   "id": "b8319bc5",
   "metadata": {},
   "outputs": [
    {
     "data": {
      "text/plain": [
       "3.141592653589793"
      ]
     },
     "execution_count": 13,
     "metadata": {},
     "output_type": "execute_result"
    }
   ],
   "source": [
    "math.sqrt(16)  # Use sqrt from the math module\n",
    "math.pi        # Constants are available too!"
   ]
  },
  {
   "cell_type": "markdown",
   "id": "96dc0381",
   "metadata": {},
   "source": [
    "Python starts minimal - you add capabilities as needed by importing modules. This keeps programs efficient and clear about what tools they're using.\n",
    "\n",
    "## Special Values: None, NaN, inf\n",
    "\n",
    "### Real Data Has Missing Values\n",
    "\n",
    "Perfect data doesn't exist in astronomy. Detectors fail, weather interrupts observations, and some measurements are simply impossible. Python provides special values to handle these realities:"
   ]
  },
  {
   "cell_type": "code",
   "execution_count": 14,
   "id": "261d35a0",
   "metadata": {},
   "outputs": [],
   "source": [
    "redshift = None           # Not measured yet\n",
    "bad_mag = float('nan')    # Failed measurement (Not a Number)\n",
    "saturated = float('inf')  # Detector overflow (infinity)\n",
    "negative_inf = float('-inf')  # Negative infinity"
   ]
  },
  {
   "cell_type": "markdown",
   "id": "2fc4e778",
   "metadata": {},
   "source": [
    "Display these values to see how they look:"
   ]
  },
  {
   "cell_type": "code",
   "execution_count": 15,
   "id": "22aacb50",
   "metadata": {},
   "outputs": [
    {
     "name": "stdout",
     "output_type": "stream",
     "text": [
      "Good: 15.3\n",
      "Missing: nan\n",
      "Saturated: inf\n"
     ]
    }
   ],
   "source": [
    "print(f\"Good: {15.3}\")\n",
    "print(f\"Missing: {bad_mag}\")\n",
    "print(f\"Saturated: {saturated}\")"
   ]
  },
  {
   "cell_type": "markdown",
   "id": "190e5da0",
   "metadata": {},
   "source": [
    "### Testing for Special Values\n",
    "\n",
    "You can't test for NaN using `==` because NaN is defined to not equal anything, even itself! Use special functions instead:"
   ]
  },
  {
   "cell_type": "code",
   "execution_count": 16,
   "id": "120bf600",
   "metadata": {},
   "outputs": [
    {
     "name": "stdout",
     "output_type": "stream",
     "text": [
      "Is good_magnitude NaN? False\n",
      "Is missing_magnitude NaN? True\n",
      "Is saturated infinite? True\n"
     ]
    }
   ],
   "source": [
    "good_magnitude = 15.3\n",
    "missing_magnitude = float('nan')\n",
    "saturated = float('inf')\n",
    "\n",
    "print(f\"Is good_magnitude NaN? {math.isnan(good_magnitude)}\")  # False\n",
    "print(f\"Is missing_magnitude NaN? {math.isnan(missing_magnitude)}\")  # True\n",
    "print(f\"Is saturated infinite? {math.isinf(saturated)}\")  # True"
   ]
  },
  {
   "cell_type": "markdown",
   "id": "e076f1f8",
   "metadata": {},
   "source": [
    "These special values help track data quality issues throughout your analysis pipeline.\n",
    "\n",
    "### Working with None\n",
    "\n",
    "`None` is Python's way of representing \"nothing\" or \"missing data\". It's different from NaN because None can represent any type of missing information:"
   ]
  },
  {
   "cell_type": "code",
   "execution_count": 17,
   "id": "13a7ee96",
   "metadata": {},
   "outputs": [
    {
     "name": "stdout",
     "output_type": "stream",
     "text": [
      "Redshift: None\n",
      "Proper motion: None\n",
      "Parallax: 5.2\n",
      "Redshift is None: True\n",
      "Parallax is None: False\n"
     ]
    }
   ],
   "source": [
    "# Some measurements might not exist\n",
    "redshift = None\n",
    "proper_motion = None  # Star's motion across the sky\n",
    "parallax = 5.2  # This one was measured\n",
    "\n",
    "print(f\"Redshift: {redshift}\")\n",
    "print(f\"Proper motion: {proper_motion}\")\n",
    "print(f\"Parallax: {parallax}\")\n",
    "\n",
    "# Check for None using 'is'\n",
    "print(f\"Redshift is None: {redshift is None}\")  # True\n",
    "print(f\"Parallax is None: {parallax is None}\")  # False"
   ]
  },
  {
   "cell_type": "markdown",
   "id": "e9482f1b",
   "metadata": {},
   "source": [
    "Use `is None` rather than `== None` - it's more reliable and considered better Python style.\n",
    "\n",
    "## Strings: Text Data\n",
    "\n",
    "### Storing Text\n",
    "\n",
    "Strings are sequences of characters enclosed in quotes. They're perfect for storing names, IDs, and any text information:"
   ]
  },
  {
   "cell_type": "code",
   "execution_count": 18,
   "id": "95a560e9",
   "metadata": {},
   "outputs": [],
   "source": [
    "star_name = \"Alpha Centauri\"\n",
    "catalog_id = \"HD 128620\"\n",
    "notes = \"Closest star system\""
   ]
  },
  {
   "cell_type": "markdown",
   "id": "f0624e8e",
   "metadata": {},
   "source": [
    "Strings are fundamental because much of our astronomical metadata is text: object names, filter bands, telescope configurations, and observation notes.\n",
    "\n",
    "### String Properties\n",
    "\n",
    "Check string length and type:"
   ]
  },
  {
   "cell_type": "code",
   "execution_count": 19,
   "id": "7e503384",
   "metadata": {},
   "outputs": [
    {
     "name": "stdout",
     "output_type": "stream",
     "text": [
      "Length: 14 characters\n",
      "Type: <class 'str'>\n"
     ]
    }
   ],
   "source": [
    "star_name = \"Alpha Centauri\"\n",
    "print(f\"Length: {len(star_name)} characters\")  # 14 characters\n",
    "print(f\"Type: {type(star_name)}\")  # <class 'str'>"
   ]
  },
  {
   "cell_type": "markdown",
   "id": "c68702cb",
   "metadata": {},
   "source": [
    "The `len()` function tells us how many characters are in the string. This is our first encounter with `len()` - it works on any collection of items.\n",
    "\n",
    "### Common String Mistake\n",
    "\n",
    "Here's a critical distinction that trips up many beginners. These look similar but are completely different:"
   ]
  },
  {
   "cell_type": "code",
   "execution_count": 20,
   "id": "72a2d915",
   "metadata": {},
   "outputs": [],
   "source": [
    "magnitude_num = 15.3   # This is a number\n",
    "magnitude_str = \"15.3\" # This is text!\n",
    "\n",
    "# You can do math with the number:\n",
    "magnitude_num + 5      # Works: gives 20.3\n",
    "\n",
    "# But not with the string:\n",
    "# magnitude_str + 5    # Error! Can't add text and number\n",
    "\n",
    "# String multiplication repeats the string!\n",
    "distance = \"50\"\n",
    "result = distance * 3  # \"505050\" NOT 150!"
   ]
  },
  {
   "cell_type": "markdown",
   "id": "f3326024",
   "metadata": {},
   "source": [
    "The quotes make all the difference. With quotes, Python sees text. Without quotes, Python sees a number.\n",
    "\n",
    "## Type Checking and Conversion\n",
    "\n",
    "### Finding Out the Type\n",
    "\n",
    "When unsure about data types, ask Python directly using `type()`:"
   ]
  },
  {
   "cell_type": "code",
   "execution_count": 21,
   "id": "df9867af",
   "metadata": {},
   "outputs": [
    {
     "data": {
      "text/plain": [
       "int"
      ]
     },
     "execution_count": 21,
     "metadata": {},
     "output_type": "execute_result"
    }
   ],
   "source": [
    "type(15.3)     # <class 'float'>\n",
    "type(\"15.3\")   # <class 'str'>\n",
    "type(15)       # <class 'int'>"
   ]
  },
  {
   "cell_type": "markdown",
   "id": "f239b60c",
   "metadata": {},
   "source": [
    "This is especially useful when debugging - many errors come from unexpected data types.\n",
    "\n",
    "### Converting Between Types\n",
    "\n",
    "Data often arrives in the wrong format, especially when reading from files. Python provides conversion functions:"
   ]
  },
  {
   "cell_type": "code",
   "execution_count": 22,
   "id": "5330f936",
   "metadata": {},
   "outputs": [
    {
     "data": {
      "text/plain": [
       "15"
      ]
     },
     "execution_count": 22,
     "metadata": {},
     "output_type": "execute_result"
    }
   ],
   "source": [
    "# String to number\n",
    "magnitude_str = \"15.3\"\n",
    "magnitude_num = float(magnitude_str)  # Now it's 15.3 as a number\n",
    "\n",
    "# Number to string\n",
    "result = 15.3\n",
    "result_str = str(result)  # Now it's \"15.3\" as text\n",
    "\n",
    "# String to integer\n",
    "count_str = \"1000\"\n",
    "count_int = int(count_str)  # Now it's 1000 as an integer\n",
    "\n",
    "# Integer conversion truncates decimals\n",
    "int(15.9)  # 15 - decimal part removed!"
   ]
  },
  {
   "cell_type": "markdown",
   "id": "27cd55aa",
   "metadata": {},
   "source": [
    "Data read from files usually comes as strings, so conversion is essential before calculations.\n",
    "\n",
    "## The Print Function\n",
    "\n",
    "### Displaying Results\n",
    "\n",
    "The `print()` function is your window into what Python is doing. It displays values on screen:"
   ]
  },
  {
   "cell_type": "code",
   "execution_count": 23,
   "id": "813d319a",
   "metadata": {},
   "outputs": [
    {
     "name": "stdout",
     "output_type": "stream",
     "text": [
      "Sirius\n",
      "Sirius -1.46\n"
     ]
    }
   ],
   "source": [
    "star_name = \"Sirius\"\n",
    "print(star_name)  # Shows: Sirius\n",
    "\n",
    "magnitude = -1.46\n",
    "print(star_name, magnitude)  # Shows: Sirius -1.46"
   ]
  },
  {
   "cell_type": "markdown",
   "id": "ed05afa9",
   "metadata": {},
   "source": [
    "Using commas in print automatically adds spaces between items. But for complex output, we need something better...\n",
    "\n",
    "## F-strings: Formatted Output\n",
    "\n",
    "### Building Readable Output\n",
    "\n",
    "F-strings let you embed variables directly in text. Put an `f` before the quotes and wrap variables in curly braces:"
   ]
  },
  {
   "cell_type": "code",
   "execution_count": 24,
   "id": "ba974cae",
   "metadata": {},
   "outputs": [
    {
     "name": "stdout",
     "output_type": "stream",
     "text": [
      "The star Betelgeuse has magnitude 0.42\n"
     ]
    }
   ],
   "source": [
    "star_name = \"Betelgeuse\"\n",
    "magnitude = 0.42\n",
    "\n",
    "print(f\"The star {star_name} has magnitude {magnitude}\")\n",
    "# Output: The star Betelgeuse has magnitude 0.42"
   ]
  },
  {
   "cell_type": "markdown",
   "id": "c5258241",
   "metadata": {},
   "source": [
    "The `f` tells Python to look inside the string for `{}` and substitute variables. This creates much more readable output than trying to combine strings and numbers manually.\n",
    "\n",
    "## Formatting Numbers in F-strings\n",
    "\n",
    "### Controlling Decimal Places\n",
    "\n",
    "Real measurements have limited precision. F-strings let you control how numbers display:"
   ]
  },
  {
   "cell_type": "code",
   "execution_count": 25,
   "id": "1eecdbdd",
   "metadata": {},
   "outputs": [
    {
     "name": "stdout",
     "output_type": "stream",
     "text": [
      "Distance: 47.38 pc\n",
      "Flux: 1.23e-07\n",
      "Padded:    0.420\n"
     ]
    }
   ],
   "source": [
    "distance = 47.3821\n",
    "\n",
    "# Two decimal places\n",
    "print(f\"Distance: {distance:.2f} pc\")\n",
    "# Output: Distance: 47.38 pc\n",
    "\n",
    "# Scientific notation\n",
    "flux = 0.000000123\n",
    "print(f\"Flux: {flux:.2e}\")\n",
    "# Output: Flux: 1.23e-07\n",
    "\n",
    "# Field width for tables\n",
    "print(f\"Padded: {magnitude:8.3f}\")  # 8 characters wide, 3 decimals"
   ]
  },
  {
   "cell_type": "markdown",
   "id": "13384412",
   "metadata": {},
   "source": [
    "After the colon comes the format specification (with rounding):\n",
    "- `.2f` means \"floating point with 2 decimal places\"\n",
    "- `.2e` means \"scientific notation with 2 decimal places\"\n",
    "- `8.3f` means \"8 characters wide with 3 decimals\"\n",
    "\n",
    "This is essential for creating professional-looking output and data tables."
   ]
  },
  {
   "cell_type": "markdown",
   "id": "0d6b3ed3",
   "metadata": {},
   "source": [
    "## Python's Indexing System\n",
    "\n",
    "### Counting from Zero\n",
    "\n",
    "Python counts positions starting from 0, not 1. This might seem odd, but it's consistent and has mathematical advantages:"
   ]
  },
  {
   "cell_type": "code",
   "execution_count": 26,
   "id": "b0cce46a",
   "metadata": {},
   "outputs": [],
   "source": [
    "# Position:  0    1    2    3    4\n",
    "# Element:  1st  2nd  3rd  4th  5th"
   ]
  },
  {
   "cell_type": "markdown",
   "id": "1b361c5a",
   "metadata": {},
   "source": [
    "Think of positions as offsets from the beginning. The first element is at offset 0 (the very start), the second is at offset 1, and so on.\n",
    "\n",
    "### Negative Indices\n",
    "\n",
    "Python also lets you count backwards from the end using negative numbers:"
   ]
  },
  {
   "cell_type": "code",
   "execution_count": 27,
   "id": "a8ec90d4",
   "metadata": {},
   "outputs": [],
   "source": [
    "# Positive:   0    1    2    3    4\n",
    "# Element:   1st  2nd  3rd  4th  5th\n",
    "# Negative:  -5   -4   -3   -2   -1"
   ]
  },
  {
   "cell_type": "markdown",
   "id": "943d84bb",
   "metadata": {},
   "source": [
    "So `-1` always means \"last element\", `-2` means \"second to last\", and so on. This is incredibly useful when you don't know how long a sequence is but need the last few elements.\n",
    "\n",
    "## Indexing Strings\n",
    "\n",
    "### Accessing Individual Characters\n",
    "\n",
    "Apply indexing to extract specific characters from strings:"
   ]
  },
  {
   "cell_type": "code",
   "execution_count": 28,
   "id": "54eb18c5",
   "metadata": {},
   "outputs": [
    {
     "data": {
      "text/plain": [
       "'u'"
      ]
     },
     "execution_count": 28,
     "metadata": {},
     "output_type": "execute_result"
    }
   ],
   "source": [
    "star = \"Sirius\"\n",
    "star[0]   # 'S' - first character\n",
    "star[1]   # 'i' - second character\n",
    "star[-1]  # 's' - last character\n",
    "star[-2]  # 'u' - second to last"
   ]
  },
  {
   "cell_type": "markdown",
   "id": "ad78cb71",
   "metadata": {},
   "source": [
    "Each character has a position, and you access it using square brackets with the index.\n",
    "\n",
    "### String Slicing\n",
    "\n",
    "Extract portions of strings using slice notation `[start:stop]`:"
   ]
  },
  {
   "cell_type": "code",
   "execution_count": 29,
   "id": "815387ac",
   "metadata": {},
   "outputs": [
    {
     "data": {
      "text/plain": [
       "'209'"
      ]
     },
     "execution_count": 29,
     "metadata": {},
     "output_type": "execute_result"
    }
   ],
   "source": [
    "catalog = \"HD209458\"\n",
    "catalog[:2]   # 'HD' - first 2 chars\n",
    "catalog[2:]   # '209458' - from position 2 onward\n",
    "catalog[2:5]  # '209' - positions 2, 3, 4"
   ]
  },
  {
   "cell_type": "markdown",
   "id": "e9b762af",
   "metadata": {},
   "source": [
    "Key insight: `[start:stop]` goes from `start` up to but NOT including `stop`. This seems strange but makes the math work out nicely: the number of characters extracted is always `stop - start`.\n",
    "\n",
    "## String Methods\n",
    "\n",
    "### Length and Cleaning\n",
    "\n",
    "Find string length and remove unwanted whitespace:"
   ]
  },
  {
   "cell_type": "code",
   "execution_count": 30,
   "id": "10f3671b",
   "metadata": {},
   "outputs": [
    {
     "data": {
      "text/plain": [
       "4"
      ]
     },
     "execution_count": 30,
     "metadata": {},
     "output_type": "execute_result"
    }
   ],
   "source": [
    "messy = \"  VEGA  \"\n",
    "len(messy)         # 8 (includes the spaces!)\n",
    "clean = messy.strip()  # \"VEGA\" (spaces removed)\n",
    "len(clean)         # 4"
   ]
  },
  {
   "cell_type": "markdown",
   "id": "358749f8",
   "metadata": {},
   "source": [
    "The `strip()` method removes spaces, tabs, and newlines from both ends only - it does NOT remove spaces between words. This is essential when processing data files where extra spaces often creep in.\n",
    "\n",
    "### Case Conversion and Replacement\n",
    "\n",
    "Standardize string formats for consistency:"
   ]
  },
  {
   "cell_type": "code",
   "execution_count": 31,
   "id": "35add35b",
   "metadata": {},
   "outputs": [
    {
     "data": {
      "text/plain": [
       "'Alpha_Centauri'"
      ]
     },
     "execution_count": 31,
     "metadata": {},
     "output_type": "execute_result"
    }
   ],
   "source": [
    "name = \"Alpha Centauri\"\n",
    "name.lower()           # \"alpha centauri\"\n",
    "name.upper()           # \"ALPHA CENTAURI\"\n",
    "name.replace(\" \", \"_\") # \"Alpha_Centauri\""
   ]
  },
  {
   "cell_type": "markdown",
   "id": "1ff0b505",
   "metadata": {},
   "source": [
    "These methods don't change the original string - they create new ones. This is because strings are immutable (unchangeable). Since `strip()` only removes spaces from the beginning and end. To remove ALL spaces (including those between words), use `replace(' ', '')`.\n",
    "\n",
    "### String Split and Join\n",
    "\n",
    "The `split()` method breaks strings at specified characters:"
   ]
  },
  {
   "cell_type": "code",
   "execution_count": 32,
   "id": "0ecbbc8e",
   "metadata": {},
   "outputs": [
    {
     "name": "stdout",
     "output_type": "stream",
     "text": [
      "['10', '23', '45.6']\n"
     ]
    }
   ],
   "source": [
    "coordinates = \"10:23:45.6\"\n",
    "parts = coordinates.split(':')\n",
    "print(parts)  # ['10', '23', '45.6']"
   ]
  },
  {
   "cell_type": "markdown",
   "id": "3a51a5c3",
   "metadata": {},
   "source": [
    "The opposite is `join()` - it combines list elements into a string:"
   ]
  },
  {
   "cell_type": "code",
   "execution_count": 33,
   "id": "a3c0085c",
   "metadata": {},
   "outputs": [
    {
     "name": "stdout",
     "output_type": "stream",
     "text": [
      "15.3,14.8,15.1\n"
     ]
    }
   ],
   "source": [
    "values = ['15.3', '14.8', '15.1']\n",
    "csv_line = ','.join(values)\n",
    "print(csv_line)  # \"15.3,14.8,15.1\""
   ]
  },
  {
   "cell_type": "markdown",
   "id": "ccc539fd",
   "metadata": {},
   "source": [
    "These are essential for parsing and creating data files.\n",
    "\n",
    "### String Testing Methods\n",
    "\n",
    "Check string properties to validate data:"
   ]
  },
  {
   "cell_type": "code",
   "execution_count": 34,
   "id": "d9ae89b2",
   "metadata": {},
   "outputs": [
    {
     "data": {
      "text/plain": [
       "True"
      ]
     },
     "execution_count": 34,
     "metadata": {},
     "output_type": "execute_result"
    }
   ],
   "source": [
    "target = \"NGC1234\"  # NGC = New General Catalogue\n",
    "coords = \"10:23:45.6\"\n",
    "\n",
    "# Test beginning and end\n",
    "target.startswith('NGC')  # True\n",
    "target.endswith('34')     # True\n",
    "\n",
    "# Test character types\n",
    "target.isupper()          # False (has numbers too)\n",
    "target.isdigit()          # False (has letters too)\n",
    "\"1234\".isdigit()         # True (all digits)\n",
    "\n",
    "# Check for substring\n",
    "':' in coords            # True"
   ]
  },
  {
   "cell_type": "markdown",
   "id": "4f216728",
   "metadata": {},
   "source": [
    "These return boolean values for filtering and validation.\n",
    "\n",
    "### Building Filenames and IDs\n",
    "\n",
    "Combine strings to create standardized names:"
   ]
  },
  {
   "cell_type": "code",
   "execution_count": 35,
   "id": "c624705d",
   "metadata": {},
   "outputs": [
    {
     "name": "stdout",
     "output_type": "stream",
     "text": [
      "HD209458\n",
      "M31_2024-03-15_V.fits\n"
     ]
    }
   ],
   "source": [
    "# Using f-strings for complex names\n",
    "object_id = \"HD\"\n",
    "number = \"209458\"\n",
    "full_name = f\"{object_id}{number}\"\n",
    "print(full_name)  # \"HD209458\"\n",
    "\n",
    "# Create observation filenames\n",
    "observation_date = \"2024-03-15\"\n",
    "target = \"M31\"  # Andromeda Galaxy\n",
    "filter_name = \"V\"  # Visual band\n",
    "\n",
    "filename = f\"{target}_{observation_date}_{filter_name}.fits\"\n",
    "print(filename)  # \"M31_2024-03-15_V.fits\""
   ]
  },
  {
   "cell_type": "markdown",
   "id": "4bbdfc63",
   "metadata": {},
   "source": [
    "Systematic naming ensures your files are organized and easily identified.\n",
    "\n",
    "## Booleans\n",
    "\n",
    "### Why Booleans Matter\n",
    "\n",
    "So far we've stored numbers and text. But astronomy is full of yes/no questions:\n",
    "- Is this star bright enough to observe?\n",
    "- Does this measurement look valid?\n",
    "- Is this object in the northern sky?\n",
    "\n",
    "Booleans store these `True`/`False` decisions, and they're essential for filtering and analyzing data.\n",
    "\n",
    "## Boolean Values: True and False\n",
    "\n",
    "### Defining Booleans\n",
    "\n",
    "Create boolean variables using `True` and `False` (note the capital letters!):"
   ]
  },
  {
   "cell_type": "code",
   "execution_count": 37,
   "id": "5fc396a9",
   "metadata": {},
   "outputs": [],
   "source": [
    "is_bright = True\n",
    "is_variable = False  \n",
    "has_companion = True"
   ]
  },
  {
   "cell_type": "markdown",
   "id": "564b345b",
   "metadata": {},
   "source": [
    "These values help track binary properties of astronomical objects - characteristics that are either present or absent.\n",
    "\n",
    "## Creating Booleans with Comparisons\n",
    "\n",
    "### Comparison Operators\n",
    "\n",
    "Most booleans come from comparing values:"
   ]
  },
  {
   "cell_type": "code",
   "execution_count": 38,
   "id": "92273b98",
   "metadata": {},
   "outputs": [
    {
     "data": {
      "text/plain": [
       "True"
      ]
     },
     "execution_count": 38,
     "metadata": {},
     "output_type": "execute_result"
    }
   ],
   "source": [
    "magnitude = 15.3\n",
    "\n",
    "# Test different conditions\n",
    "magnitude < 10     # False - not brighter than 10\n",
    "magnitude > 20     # False - not fainter than 20\n",
    "magnitude == 15.3  # True - exactly 15.3"
   ]
  },
  {
   "cell_type": "markdown",
   "id": "f50c0f9a",
   "metadata": {},
   "source": [
    "### Critical Distinction: = vs ==\n",
    "\n",
    "This confuses many beginners:\n",
    "- Single `=` means \"store this value\" (assignment)\n",
    "- Double `==` means \"are these equal?\" (comparison)"
   ]
  },
  {
   "cell_type": "code",
   "execution_count": 39,
   "id": "a226b6da",
   "metadata": {},
   "outputs": [
    {
     "data": {
      "text/plain": [
       "True"
      ]
     },
     "execution_count": 39,
     "metadata": {},
     "output_type": "execute_result"
    }
   ],
   "source": [
    "magnitude = 15.3   # ASSIGNS 15.3 to magnitude\n",
    "magnitude == 15.3  # TESTS if magnitude equals 15.3"
   ]
  },
  {
   "cell_type": "markdown",
   "id": "9a908a07",
   "metadata": {},
   "source": [
    "Mixing these up is a common source of bugs!\n",
    "\n",
    "## Logical Operators: and, or, not\n",
    "\n",
    "### Combining Conditions\n",
    "\n",
    "Real astronomical queries often involve multiple criteria:"
   ]
  },
  {
   "cell_type": "code",
   "execution_count": 40,
   "id": "7151d279",
   "metadata": {},
   "outputs": [
    {
     "name": "stdout",
     "output_type": "stream",
     "text": [
      "True\n",
      "False\n",
      "True\n"
     ]
    }
   ],
   "source": [
    "magnitude = 11.5\n",
    "declination = 30.2  # Positive = northern sky\n",
    "\n",
    "# BOTH must be true (and)\n",
    "northern_and_bright = (declination > 0) and (magnitude < 12)\n",
    "print(northern_and_bright)  # True\n",
    "\n",
    "# AT LEAST ONE must be true (or)\n",
    "interesting = (magnitude < 5) or (declination > 80)\n",
    "print(interesting)  # False\n",
    "\n",
    "# Flip the result (not)\n",
    "not_too_faint = not (magnitude > 15)\n",
    "print(not_too_faint)  # True"
   ]
  },
  {
   "cell_type": "markdown",
   "id": "d6b963a0",
   "metadata": {},
   "source": [
    "These operators let you build complex selection criteria from simple comparisons.\n",
    "\n",
    "## Bitwise Operators: & and |\n",
    "\n",
    "### Similar but Different\n",
    "\n",
    "Bitwise operators look similar to `and`/`or` but have crucial differences:"
   ]
  },
  {
   "cell_type": "code",
   "execution_count": 41,
   "id": "09aba4ec",
   "metadata": {},
   "outputs": [],
   "source": [
    "# Requires parentheses around comparisons!\n",
    "bright = (magnitude < 12) & (declination > 0)\n",
    "special = (magnitude < 5) | (declination > 80)"
   ]
  },
  {
   "cell_type": "markdown",
   "id": "e53be3e4",
   "metadata": {},
   "source": [
    "Why learn both? When you work with NumPy arrays later, only `&` and `|` work element-wise. The parentheses are essential because `&` and `|` have different precedence than comparisons.\n",
    "\n",
    "## Lists: Storing Multiple Values\n",
    "\n",
    "### Creating Lists\n",
    "\n",
    "In astronomy, we rarely work with single numbers. Lists store sequences of related values:"
   ]
  },
  {
   "cell_type": "code",
   "execution_count": 42,
   "id": "f4027dd7",
   "metadata": {},
   "outputs": [],
   "source": [
    "magnitudes = [15.2, 15.3, 15.1, 15.4, 15.2]\n",
    "star_names = [\"Sirius\", \"Vega\", \"Betelgeuse\"]"
   ]
  },
  {
   "cell_type": "markdown",
   "id": "3b048bf3",
   "metadata": {},
   "source": [
    "Square brackets `[]` create lists. Items are separated by commas. Lists can hold any type of data, even mixed types.\n",
    "\n",
    "### Accessing List Elements\n",
    "\n",
    "Lists use the same zero-based indexing we learned:"
   ]
  },
  {
   "cell_type": "code",
   "execution_count": 43,
   "id": "efd9fa52",
   "metadata": {},
   "outputs": [
    {
     "name": "stdout",
     "output_type": "stream",
     "text": [
      "15.2\n",
      "15.2\n",
      "15.1\n"
     ]
    }
   ],
   "source": [
    "print(magnitudes[0])   # 15.2 - first observation\n",
    "print(magnitudes[-1])  # 15.2 - last observation\n",
    "print(magnitudes[2])   # 15.1 - third observation"
   ]
  },
  {
   "cell_type": "markdown",
   "id": "001905f6",
   "metadata": {},
   "source": [
    "Think of the index as telling Python how many positions to count from the start (or from the end if negative).\n",
    "\n",
    "## Lists are Mutable (Changeable)\n",
    "\n",
    "### Modifying Existing Elements\n",
    "\n",
    "Unlike strings, you can change list contents after creation:"
   ]
  },
  {
   "cell_type": "code",
   "execution_count": 44,
   "id": "48ebff0a",
   "metadata": {},
   "outputs": [
    {
     "name": "stdout",
     "output_type": "stream",
     "text": [
      "Original: [15.2, 15.3, 15.1]\n",
      "After change: [15.0, 15.3, 15.1]\n"
     ]
    }
   ],
   "source": [
    "observations = [15.2, 15.3, 15.1]\n",
    "print(f\"Original: {observations}\")\n",
    "\n",
    "observations[0] = 15.0  # Change first element\n",
    "print(f\"After change: {observations}\")"
   ]
  },
  {
   "cell_type": "markdown",
   "id": "98064e3c",
   "metadata": {},
   "source": [
    "This mutability makes lists perfect for accumulating data during observations or processing.\n",
    "\n",
    "### Adding Elements\n",
    "\n",
    "Grow lists dynamically as new data arrives:"
   ]
  },
  {
   "cell_type": "code",
   "execution_count": 45,
   "id": "22825a51",
   "metadata": {},
   "outputs": [
    {
     "name": "stdout",
     "output_type": "stream",
     "text": [
      "After append: [15.0, 15.3, 15.1, 15.4]\n"
     ]
    }
   ],
   "source": [
    "observations.append(15.4)  # Add to the end\n",
    "print(f\"After append: {observations}\")"
   ]
  },
  {
   "cell_type": "markdown",
   "id": "d60f6295",
   "metadata": {},
   "source": [
    "The `append()` method is how you build up lists one element at a time - essential for reading data files line by line.\n",
    "\n",
    "## List Methods\n",
    "\n",
    "### Insertion and Removal\n",
    "\n",
    "Control exactly where elements go and which ones to remove:"
   ]
  },
  {
   "cell_type": "code",
   "execution_count": 46,
   "id": "741db221",
   "metadata": {},
   "outputs": [
    {
     "name": "stdout",
     "output_type": "stream",
     "text": [
      "[15.2, 15.25, 15.3, 15.1]\n",
      "Deleted: 15.1\n",
      "Remaining: [15.2, 15.25, 15.3]\n"
     ]
    }
   ],
   "source": [
    "mags = [15.2, 15.3, 15.1]\n",
    "mags.insert(1, 15.25)  # Insert at position 1\n",
    "print(mags)  # [15.2, 15.25, 15.3, 15.1]\n",
    "\n",
    "deleted = mags.pop()   # Remove and return last element  \n",
    "print(f\"Deleted: {deleted}\")\n",
    "print(f\"Remaining: {mags}\")"
   ]
  },
  {
   "cell_type": "markdown",
   "id": "8bba9ed7",
   "metadata": {},
   "source": [
    "The `insert()` method takes two arguments: where to insert and what to insert. The `pop()` method both removes and returns an element, letting you save it if needed.\n",
    "\n",
    "## List Slicing and Functions\n",
    "\n",
    "### Extracting Portions\n",
    "\n",
    "Use slicing to analyze subsequences:"
   ]
  },
  {
   "cell_type": "code",
   "execution_count": 47,
   "id": "c6b9f16a",
   "metadata": {},
   "outputs": [],
   "source": [
    "mags = [10.5, 11.2, 9.8, 12.3, 10.7]\n",
    "first_three = mags[:3]   # [10.5, 11.2, 9.8]\n",
    "last_two = mags[-2:]     # [12.3, 10.7]"
   ]
  },
  {
   "cell_type": "markdown",
   "id": "4e0e4325",
   "metadata": {},
   "source": [
    "### Built-in Analysis Functions\n",
    "\n",
    "Python provides essential statistical functions:"
   ]
  },
  {
   "cell_type": "code",
   "execution_count": 48,
   "id": "053f2c29",
   "metadata": {},
   "outputs": [],
   "source": [
    "len(mags)   # 5 - count elements\n",
    "min(mags)   # 9.8 - brightest (smallest magnitude)\n",
    "max(mags)   # 12.3 - faintest\n",
    "sum(mags)   # 54.5 - total\n",
    "\n",
    "# Calculate average\n",
    "average = sum(mags) / len(mags)"
   ]
  },
  {
   "cell_type": "markdown",
   "id": "df190c92",
   "metadata": {},
   "source": [
    "Remember: in astronomy, smaller magnitude means brighter!\n",
    "\n",
    "## List Search and Sort\n",
    "\n",
    "### Finding Elements\n",
    "\n",
    "Locate and count specific values:"
   ]
  },
  {
   "cell_type": "code",
   "execution_count": 49,
   "id": "5ec36687",
   "metadata": {},
   "outputs": [],
   "source": [
    "mags = [10.5, 11.2, 9.8, 12.3, 9.8]\n",
    "\n",
    "mags.index(9.8)   # 2 - position of FIRST 9.8\n",
    "mags.count(9.8)   # 2 - number of times 9.8 appears\n",
    "mags.remove(9.8)  # Removes FIRST 9.8 only"
   ]
  },
  {
   "cell_type": "markdown",
   "id": "a9fd1624",
   "metadata": {},
   "source": [
    "### Sorting Without Destruction\n",
    "\n",
    "The `sorted()` function creates a new sorted list, preserving the original:"
   ]
  },
  {
   "cell_type": "code",
   "execution_count": 50,
   "id": "38fb673a",
   "metadata": {},
   "outputs": [
    {
     "name": "stdout",
     "output_type": "stream",
     "text": [
      "Original unchanged: [10.5, 11.2, 9.8, 12.3, 10.7]\n",
      "Sorted: [9.8, 10.5, 10.7, 11.2, 12.3]\n"
     ]
    }
   ],
   "source": [
    "original = [10.5, 11.2, 9.8, 12.3, 10.7]\n",
    "bright_to_faint = sorted(original)\n",
    "faint_to_bright = sorted(original, reverse=True)\n",
    "\n",
    "print(f\"Original unchanged: {original}\")\n",
    "print(f\"Sorted: {bright_to_faint}\")"
   ]
  },
  {
   "cell_type": "markdown",
   "id": "b104a32f",
   "metadata": {},
   "source": [
    "This preserves time-ordering while allowing magnitude-based analysis.\n",
    "\n",
    "## Lists: Reference vs Copy\n",
    "\n",
    "### The Hidden Danger\n",
    "\n",
    "This behavior surprises many beginners. Assignment doesn't copy lists - it creates another name for the SAME list:"
   ]
  },
  {
   "cell_type": "code",
   "execution_count": 51,
   "id": "d8e99de3",
   "metadata": {},
   "outputs": [
    {
     "name": "stdout",
     "output_type": "stream",
     "text": [
      "[99.9, 15.3, 15.1]\n"
     ]
    }
   ],
   "source": [
    "list1 = [15.2, 15.3, 15.1]\n",
    "list2 = list1  # NOT a copy - same list, different name!\n",
    "\n",
    "list2[0] = 99.9\n",
    "print(list1)  # [99.9, 15.3, 15.1] - list1 changed too!"
   ]
  },
  {
   "cell_type": "markdown",
   "id": "39c22f67",
   "metadata": {},
   "source": [
    "Both variables point to the same list in memory. Changing one changes both!\n",
    "\n",
    "### Creating True Copies\n",
    "\n",
    "Use `.copy()` when you need independent lists:"
   ]
  },
  {
   "cell_type": "code",
   "execution_count": 52,
   "id": "7c96f035",
   "metadata": {},
   "outputs": [
    {
     "name": "stdout",
     "output_type": "stream",
     "text": [
      "[15.2, 15.3, 15.1]\n",
      "[99.9, 15.3, 15.1]\n"
     ]
    }
   ],
   "source": [
    "list1 = [15.2, 15.3, 15.1]\n",
    "list2 = list1.copy()  # TRUE copy\n",
    "\n",
    "list2[0] = 99.9\n",
    "print(list1)  # [15.2, 15.3, 15.1] - unchanged!\n",
    "print(list2)  # [99.9, 15.3, 15.1] - only this changed"
   ]
  },
  {
   "cell_type": "markdown",
   "id": "961fc36f",
   "metadata": {},
   "source": [
    "Always use `.copy()` when you want to modify a list without affecting the original. This prevents subtle bugs that can be hard to track down.\n",
    "\n",
    "## Tuples: Immutable Sequences\n",
    "\n",
    "### Creating Unchangeable Sequences\n",
    "\n",
    "Tuples are like lists that can't be modified. Perfect for data that should stay constant:"
   ]
  },
  {
   "cell_type": "code",
   "execution_count": 53,
   "id": "20feca4c",
   "metadata": {},
   "outputs": [],
   "source": [
    "coords = (101.287, -16.716)  # RA and Dec in degrees\n",
    "star_info = (\"Vega\", 0.03, \"A0V\")  # name, magnitude, spectral type"
   ]
  },
  {
   "cell_type": "markdown",
   "id": "3be9f82f",
   "metadata": {},
   "source": [
    "Parentheses create tuples (though they're sometimes optional). Once created, the contents cannot change.\n",
    "\n",
    "### Accessing but Not Modifying\n",
    "\n",
    "Access tuple elements just like lists:"
   ]
  },
  {
   "cell_type": "code",
   "execution_count": 54,
   "id": "a7506c23",
   "metadata": {},
   "outputs": [
    {
     "name": "stdout",
     "output_type": "stream",
     "text": [
      "RA: 101.287, Dec: -16.716\n"
     ]
    }
   ],
   "source": [
    "ra = coords[0]\n",
    "dec = coords[1]\n",
    "print(f\"RA: {ra}, Dec: {dec}\")\n",
    "\n",
    "# But you cannot modify:\n",
    "# coords[0] = 102.0  # TypeError! Tuples are immutable"
   ]
  },
  {
   "cell_type": "markdown",
   "id": "f5f5eeb2",
   "metadata": {},
   "source": [
    "Use tuples for coordinate pairs, RGB colors, or any data that represents a fixed set of related values.\n",
    "\n",
    "## Tuple Unpacking\n",
    "\n",
    "### Elegant Value Extraction\n",
    "\n",
    "One of Python's most beautiful features - extract all tuple values at once:"
   ]
  },
  {
   "cell_type": "code",
   "execution_count": 55,
   "id": "7ec6888d",
   "metadata": {},
   "outputs": [
    {
     "name": "stdout",
     "output_type": "stream",
     "text": [
      "RA: 101.287, Dec: -16.716\n",
      "Vega: magnitude 0.03, type A0V\n"
     ]
    }
   ],
   "source": [
    "ra, dec = coords  # Unpack both values\n",
    "print(f\"RA: {ra}, Dec: {dec}\")\n",
    "\n",
    "# Works with any number of elements\n",
    "name, magnitude, spectral_type = star_info\n",
    "print(f\"{name}: magnitude {magnitude}, type {spectral_type}\")"
   ]
  },
  {
   "cell_type": "markdown",
   "id": "2b50662e",
   "metadata": {},
   "source": [
    "This makes code more readable by giving meaningful names to each component.\n",
    "\n",
    "### Multiple Assignment\n",
    "\n",
    "Tuples enable assigning multiple variables in one line:"
   ]
  },
  {
   "cell_type": "code",
   "execution_count": 56,
   "id": "3d7a32cb",
   "metadata": {},
   "outputs": [
    {
     "name": "stdout",
     "output_type": "stream",
     "text": [
      "Sirius: -1.46 mag at 2.64 pc\n"
     ]
    }
   ],
   "source": [
    "# Create multiple variables at once\n",
    "star_name, magnitude, distance = \"Sirius\", -1.46, 2.64\n",
    "print(f\"{star_name}: {magnitude} mag at {distance} pc\")"
   ]
  },
  {
   "cell_type": "markdown",
   "id": "c49f360c",
   "metadata": {},
   "source": [
    "This is actually creating a tuple on the right and unpacking it on the left.\n",
    "\n",
    "### Value Swapping Magic\n",
    "\n",
    "Tuple unpacking enables elegant variable swapping:"
   ]
  },
  {
   "cell_type": "code",
   "execution_count": 57,
   "id": "cb409850",
   "metadata": {},
   "outputs": [
    {
     "name": "stdout",
     "output_type": "stream",
     "text": [
      "Before: mag1=15.3, mag2=14.8\n",
      "After: mag1=14.8, mag2=15.3\n"
     ]
    }
   ],
   "source": [
    "mag1 = 15.3\n",
    "mag2 = 14.8\n",
    "print(f\"Before: mag1={mag1}, mag2={mag2}\")\n",
    "\n",
    "mag1, mag2 = mag2, mag1  # Swap in one line!\n",
    "print(f\"After: mag1={mag1}, mag2={mag2}\")"
   ]
  },
  {
   "cell_type": "markdown",
   "id": "61a2de7d",
   "metadata": {},
   "source": [
    "No temporary variable needed! Python creates a tuple on the right, then unpacks it on the left.\n",
    "\n",
    "## Dictionaries: Labeled Data\n",
    "\n",
    "### From Positions to Names\n",
    "\n",
    "Lists store data by position, but astronomical objects have named properties. Dictionaries use descriptive keys instead of numeric positions:"
   ]
  },
  {
   "cell_type": "code",
   "execution_count": 58,
   "id": "a863ebde",
   "metadata": {},
   "outputs": [],
   "source": [
    "star = {\n",
    "    \"name\": \"Betelgeuse\",\n",
    "    \"magnitude\": 0.42,\n",
    "    \"type\": \"M1-2Ia-Ib\"\n",
    "}"
   ]
  },
  {
   "cell_type": "markdown",
   "id": "01c46168",
   "metadata": {},
   "source": [
    "Curly braces `{}` create dictionaries. Each entry pairs a key (label) with a value (data).\n",
    "\n",
    "### Comparing Lists and Dictionaries\n",
    "\n",
    "Consider storing information about a star:"
   ]
  },
  {
   "cell_type": "code",
   "execution_count": 59,
   "id": "6e3c97cd",
   "metadata": {},
   "outputs": [
    {
     "name": "stdout",
     "output_type": "stream",
     "text": [
      "Betelgeuse\n",
      "Betelgeuse\n"
     ]
    }
   ],
   "source": [
    "# Using a list - hard to remember what each position means\n",
    "star_list = [\"Betelgeuse\", 88.793, 7.407, 0.42]  # name, RA, Dec, magnitude\n",
    "\n",
    "# Using a dictionary - self-documenting\n",
    "star_dict = {\n",
    "    'name': 'Betelgeuse',\n",
    "    'ra': 88.793,\n",
    "    'dec': 7.407,\n",
    "    'magnitude': 0.42\n",
    "}\n",
    "\n",
    "# Compare accessing data\n",
    "print(star_list[0])      # What's at position 0 again?\n",
    "print(star_dict['name'])  # Obviously the name!"
   ]
  },
  {
   "cell_type": "markdown",
   "id": "c175064c",
   "metadata": {},
   "source": [
    "Dictionaries make your code self-documenting.\n",
    "\n",
    "## Dictionary Keys and Values\n",
    "\n",
    "### Understanding Key-Value Pairs\n",
    "\n",
    "Each dictionary entry has two parts:"
   ]
  },
  {
   "cell_type": "code",
   "execution_count": 61,
   "id": "0f78230c",
   "metadata": {},
   "outputs": [],
   "source": [
    "# \"magnitude\": 0.42\n",
    "#    ↑         ↑\n",
    "#   KEY     VALUE"
   ]
  },
  {
   "cell_type": "markdown",
   "id": "4aa1b8e8",
   "metadata": {},
   "source": [
    "Access values using their keys:"
   ]
  },
  {
   "cell_type": "code",
   "execution_count": 62,
   "id": "9002a765",
   "metadata": {},
   "outputs": [
    {
     "name": "stdout",
     "output_type": "stream",
     "text": [
      "Betelgeuse\n",
      "0.42\n"
     ]
    }
   ],
   "source": [
    "print(star[\"name\"])       # \"Betelgeuse\"\n",
    "print(star[\"magnitude\"])  # 0.42\n",
    "\n",
    "# Modify values\n",
    "star[\"magnitude\"] = 0.45  # Betelgeuse is variable!\n",
    "\n",
    "# Add new key-value pairs\n",
    "star[\"distance\"] = 197    # parsecs"
   ]
  },
  {
   "cell_type": "markdown",
   "id": "1ee93f5e",
   "metadata": {},
   "source": [
    "Keys are like labels on filing folders - they tell you what's inside without having to remember positions.\n",
    "\n",
    "## Safe Dictionary Access\n",
    "\n",
    "### Handling Missing Keys\n",
    "\n",
    "Accessing a non-existent key causes an error. Use `.get()` for safe access with a default:"
   ]
  },
  {
   "cell_type": "code",
   "execution_count": 63,
   "id": "c6716760",
   "metadata": {},
   "outputs": [
    {
     "name": "stdout",
     "output_type": "stream",
     "text": [
      "unknown\n",
      "0.03\n"
     ]
    }
   ],
   "source": [
    "star = {\"name\": \"Vega\", \"mag\": 0.03}\n",
    "\n",
    "# This would error:\n",
    "# print(star[\"distance\"])  # KeyError!\n",
    "\n",
    "# Safe access with default\n",
    "distance = star.get(\"distance\", \"unknown\")\n",
    "print(distance)  # \"unknown\"\n",
    "\n",
    "# When key exists, get returns the actual value\n",
    "magnitude = star.get(\"mag\", 99)\n",
    "print(magnitude)  # 0.03 (not 99)"
   ]
  },
  {
   "cell_type": "markdown",
   "id": "aac8e717",
   "metadata": {},
   "source": [
    "The second argument to `.get()` is the default value returned if the key doesn't exist.\n",
    "\n",
    "### Checking for Keys\n",
    "\n",
    "Test if a key exists before using it:"
   ]
  },
  {
   "cell_type": "code",
   "execution_count": 64,
   "id": "01ebb665",
   "metadata": {},
   "outputs": [
    {
     "data": {
      "text/plain": [
       "False"
      ]
     },
     "execution_count": 64,
     "metadata": {},
     "output_type": "execute_result"
    }
   ],
   "source": [
    "\"mag\" in star       # True - key exists\n",
    "\"distance\" in star  # False - key doesn't exist"
   ]
  },
  {
   "cell_type": "markdown",
   "id": "b229751f",
   "metadata": {},
   "source": [
    "This returns a boolean you can use in if-statements (which you'll learn next lecture).\n",
    "\n",
    "## Dictionary Methods\n",
    "\n",
    "### Exploring Dictionary Structure\n",
    "\n",
    "Extract and analyze dictionary components:"
   ]
  },
  {
   "cell_type": "code",
   "execution_count": 65,
   "id": "d74b5b44",
   "metadata": {},
   "outputs": [
    {
     "data": {
      "text/plain": [
       "3"
      ]
     },
     "execution_count": 65,
     "metadata": {},
     "output_type": "execute_result"
    }
   ],
   "source": [
    "star = {\"name\": \"Vega\", \"mag\": 0.03, \"type\": \"A0V\"}\n",
    "\n",
    "list(star.keys())    # [\"name\", \"mag\", \"type\"]\n",
    "list(star.values())  # [\"Vega\", 0.03, \"A0V\"]\n",
    "list(star.items())   # [(\"name\", \"Vega\"), (\"mag\", 0.03), (\"type\", \"A0V\")]\n",
    "\n",
    "len(star)  # 3 - counts key-value pairs"
   ]
  },
  {
   "cell_type": "markdown",
   "id": "56c476f4",
   "metadata": {},
   "source": [
    "These methods help you understand and process dictionary contents programmatically.\n",
    "\n",
    "## Nested Dictionaries\n",
    "\n",
    "### Building Complex Catalogs\n",
    "\n",
    "Dictionaries can contain other dictionaries, perfect for star catalogs:"
   ]
  },
  {
   "cell_type": "code",
   "execution_count": 66,
   "id": "2e1445b1",
   "metadata": {},
   "outputs": [],
   "source": [
    "catalog = {\n",
    "    \"sirius\": {\n",
    "        \"mag\": -1.46,\n",
    "        \"dist\": 2.64,\n",
    "        \"type\": \"A1V\"\n",
    "    },\n",
    "    \"vega\": {\n",
    "        \"mag\": 0.03,\n",
    "        \"dist\": 7.68,\n",
    "        \"type\": \"A0V\"\n",
    "    }\n",
    "}\n",
    "\n",
    "# Access nested data with multiple brackets\n",
    "sirius_mag = catalog[\"sirius\"][\"mag\"]  # -1.46\n",
    "vega_dist = catalog[\"vega\"][\"dist\"]    # 7.68"
   ]
  },
  {
   "cell_type": "markdown",
   "id": "ac2dd34f",
   "metadata": {},
   "source": [
    "Each bracket level goes deeper into the structure. First bracket gets the star, second bracket gets the property.\n",
    "\n",
    "### Dictionary References\n",
    "\n",
    "Like lists, dictionaries use references:"
   ]
  },
  {
   "cell_type": "code",
   "execution_count": 67,
   "id": "435fe250",
   "metadata": {},
   "outputs": [
    {
     "name": "stdout",
     "output_type": "stream",
     "text": [
      "2\n"
     ]
    }
   ],
   "source": [
    "star = {\"name\": \"Vega\"}\n",
    "backup = star  # Reference, not copy!\n",
    "star[\"mag\"] = 0.03\n",
    "print(len(backup))  # 2 - backup changed too!"
   ]
  },
  {
   "cell_type": "markdown",
   "id": "30c59e21",
   "metadata": {},
   "source": [
    "Use `.copy()` for dictionaries too when you need independence.\n",
    "\n",
    "## Practical Examples\n",
    "\n",
    "### Example 1: Complete Coordinate Conversion\n",
    "\n",
    "Let's combine string processing, type conversion, and calculation to convert right ascension from hours:minutes:seconds to decimal degrees:"
   ]
  },
  {
   "cell_type": "code",
   "execution_count": 68,
   "id": "0b6af7fc",
   "metadata": {},
   "outputs": [
    {
     "name": "stdout",
     "output_type": "stream",
     "text": [
      "Converting 14:23:15.2 to decimal degrees\n",
      "Components: h=14, m=23, s=15.2\n",
      "Decimal hours: 14.387556\n",
      "Result: 215.8133 degrees\n"
     ]
    }
   ],
   "source": [
    "ra_hms = \"14:23:15.2\"\n",
    "print(f\"Converting {ra_hms} to decimal degrees\")\n",
    "\n",
    "# Split at colons and unpack\n",
    "h, m, s = ra_hms.split(':')\n",
    "print(f\"Components: h={h}, m={m}, s={s}\")\n",
    "\n",
    "# Convert strings to numbers\n",
    "hours = float(h)\n",
    "minutes = float(m)\n",
    "seconds = float(s)\n",
    "\n",
    "# Calculate decimal hours\n",
    "decimal_hours = hours + minutes/60 + seconds/3600\n",
    "print(f\"Decimal hours: {decimal_hours:.6f}\")\n",
    "\n",
    "# Convert to degrees (Earth rotates 360° in 24 hours)\n",
    "decimal_degrees = decimal_hours * 15\n",
    "print(f\"Result: {decimal_degrees:.4f} degrees\")"
   ]
  },
  {
   "cell_type": "markdown",
   "id": "9e4b2e61",
   "metadata": {},
   "source": [
    "This example integrates string methods, type conversion, arithmetic, and formatted output - all essential skills for processing astronomical data.\n",
    "\n",
    "### Example 2: Building and Analyzing a Star Catalog\n",
    "\n",
    "Create a multi-level data structure and extract statistics:"
   ]
  },
  {
   "cell_type": "code",
   "execution_count": 69,
   "id": "81828edc",
   "metadata": {},
   "outputs": [
    {
     "name": "stdout",
     "output_type": "stream",
     "text": [
      "Stars in catalog: ['sirius', 'vega', 'betelgeuse']\n",
      "Magnitudes: [-1.46, 0.03, 0.42]\n",
      "Brightest: sirius at magnitude -1.46\n",
      "Mean magnitude: -0.34\n",
      "Magnitude range: 1.88\n"
     ]
    }
   ],
   "source": [
    "stars = {\n",
    "    'sirius': {'mag': -1.46, 'distance_pc': 2.64, 'type': 'A1V'},\n",
    "    'vega': {'mag': 0.03, 'distance_pc': 7.68, 'type': 'A0V'},\n",
    "    'betelgeuse': {'mag': 0.42, 'distance_pc': 197, 'type': 'M1-2Ia-Ib'}\n",
    "}\n",
    "\n",
    "# Extract all star names\n",
    "star_names = list(stars.keys())\n",
    "print(f\"Stars in catalog: {star_names}\")\n",
    "\n",
    "# Build magnitude list\n",
    "magnitudes = []\n",
    "for name in star_names:\n",
    "    magnitudes.append(stars[name]['mag'])\n",
    "print(f\"Magnitudes: {magnitudes}\")\n",
    "\n",
    "# Find brightest (minimum magnitude)\n",
    "brightest_mag = min(magnitudes)\n",
    "brightest_idx = magnitudes.index(brightest_mag)\n",
    "brightest_star = star_names[brightest_idx]\n",
    "print(f\"Brightest: {brightest_star} at magnitude {brightest_mag}\")\n",
    "\n",
    "# Calculate statistics\n",
    "mean_mag = sum(magnitudes) / len(magnitudes)\n",
    "mag_range = max(magnitudes) - min(magnitudes)\n",
    "print(f\"Mean magnitude: {mean_mag:.2f}\")\n",
    "print(f\"Magnitude range: {mag_range:.2f}\")"
   ]
  },
  {
   "cell_type": "markdown",
   "id": "048c575b",
   "metadata": {},
   "source": [
    "This demonstrates how dictionaries, lists, and built-in functions work together to organize and analyze astronomical data.\n",
    "\n",
    "## Summary\n",
    "\n",
    "You've mastered the fundamental building blocks of Python for astronomy:\n",
    "\n",
    "### Core Data Types\n",
    "- **Numbers**: Integers for counts, floats for measurements\n",
    "- **Strings**: Text for names, IDs, and metadata\n",
    "- **Booleans**: True/False for filtering and logic\n",
    "- **None**: Representing missing or undefined data\n",
    "\n",
    "### Collections\n",
    "- **Lists**: Mutable sequences for time-series and observations\n",
    "- **Tuples**: Immutable sequences for coordinates and fixed data\n",
    "- **Dictionaries**: Key-value pairs for labeled properties\n",
    "\n",
    "### Key Concepts\n",
    "- **Zero-based indexing**: Counting from 0, negative indices from end\n",
    "- **Type conversion**: Moving between strings, numbers, and other types\n",
    "- **References vs copies**: Understanding when data is shared vs independent\n",
    "- **Safe access patterns**: Using `.get()` and checking for None\n",
    "\n",
    "### Essential Operations\n",
    "- **String methods**: split, strip, replace, join for text processing\n",
    "- **List methods**: append, insert, pop for data management\n",
    "- **Comparison operators**: Creating booleans with <, >, ==, !=\n",
    "- **Logical operators**: Combining conditions with and, or, not\n",
    "\n",
    "These fundamentals prepare you for Lecture 3, where you'll learn control structures (if/else statements and loops) and functions to automate complex astronomical analysis workflows."
   ]
  }
 ],
 "metadata": {
  "jupytext": {
   "cell_metadata_filter": "-all",
   "main_language": "python",
   "notebook_metadata_filter": "-all"
  },
  "kernelspec": {
   "display_name": "base",
   "language": "python",
   "name": "python3"
  },
  "language_info": {
   "codemirror_mode": {
    "name": "ipython",
    "version": 3
   },
   "file_extension": ".py",
   "mimetype": "text/x-python",
   "name": "python",
   "nbconvert_exporter": "python",
   "pygments_lexer": "ipython3",
   "version": "3.13.5"
  }
 },
 "nbformat": 4,
 "nbformat_minor": 5
}
